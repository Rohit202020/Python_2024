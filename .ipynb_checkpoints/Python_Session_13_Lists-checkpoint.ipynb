{
 "cells": [
  {
   "cell_type": "code",
   "execution_count": 1,
   "id": "cda2ea6d-fb6e-4fe6-bb20-7be815a521e5",
   "metadata": {},
   "outputs": [
    {
     "name": "stdout",
     "output_type": "stream",
     "text": [
      "30\n"
     ]
    }
   ],
   "source": [
    "a = 10\n",
    "b = 20\n",
    "c = a + b\n",
    "print(c)"
   ]
  },
  {
   "cell_type": "markdown",
   "id": "fdb3669e-6cd3-435d-98e1-6052fe574d61",
   "metadata": {},
   "source": [
    "- Representations\n",
    "\n",
    "- type\n",
    "\n",
    "- len\n",
    "\n",
    "- max\n",
    "\n",
    "- min\n",
    "\n",
    "- sorted\n",
    "\n",
    "- reversed\n",
    "\n",
    "- in\n",
    "\n",
    "- for loop in\n",
    "\n",
    "- index\n",
    "\n",
    "- for loop index\n",
    "\n",
    "- mutable\n",
    "\n",
    "- concatenation\n",
    "\n",
    "- slicing\n",
    "\n",
    "- methods"
   ]
  },
  {
   "cell_type": "code",
   "execution_count": 3,
   "id": "2ac3bc3b-8f9a-42ca-9683-0f22e4c3db31",
   "metadata": {},
   "outputs": [
    {
     "data": {
      "text/plain": [
       "[1, 2, 3, 4, 5]"
      ]
     },
     "execution_count": 3,
     "metadata": {},
     "output_type": "execute_result"
    }
   ],
   "source": [
    "l1 = [1,2,3,4,5]\n",
    "l1"
   ]
  },
  {
   "cell_type": "code",
   "execution_count": 3,
   "id": "2ad2dd1e-dad9-4209-8fed-0576976e1969",
   "metadata": {},
   "outputs": [
    {
     "data": {
      "text/plain": [
       "list"
      ]
     },
     "execution_count": 3,
     "metadata": {},
     "output_type": "execute_result"
    }
   ],
   "source": [
    "type(l1)"
   ]
  },
  {
   "cell_type": "markdown",
   "id": "726e5446-5dd1-4747-8922-b96ce3552b17",
   "metadata": {},
   "source": [
    "- Strings are represented with quotes\n",
    "\n",
    "- Lists are represented with square brackets"
   ]
  },
  {
   "cell_type": "code",
   "execution_count": null,
   "id": "71694dff-b08a-4816-98d7-db7664cd3bc4",
   "metadata": {},
   "outputs": [],
   "source": [
    "l1=[1,2,3,4]\n",
    "l2=['A','B','C','D']\n",
    "l3=[1,2,3,4,'A','B','C','D']\n",
    "l4=[1,2,3,'Apple','Ball','Cat',True,False]\n",
    "name='naresh it'\n",
    "l5=[name]\n",
    "l6=[100,100,100]\n",
    "l7=[100,'Apple',['A',2]]"
   ]
  },
  {
   "cell_type": "markdown",
   "id": "b89fd514-5117-4249-aba7-94ff26b6e097",
   "metadata": {},
   "source": [
    "- Lists are array of elements\n",
    "\n",
    "- List elements are heterogenous\n",
    "\n",
    "- All data types can be represented in a list\n",
    "\n",
    "- List elements allows duplicates\n",
    "\n",
    "- Lists in lists are possible\n",
    "\n",
    "- Variable assignment is also possible in the list"
   ]
  },
  {
   "cell_type": "markdown",
   "id": "a7ea281b-2a25-40d9-8812-bd9610cef579",
   "metadata": {},
   "source": [
    "- len\n",
    "\n",
    "- max\n",
    "\n",
    "- min\n",
    "\n",
    "- sorted\n",
    "\n",
    "- reversed"
   ]
  },
  {
   "cell_type": "markdown",
   "id": "baa84e77-493d-4550-9182-c6af37a8ff85",
   "metadata": {},
   "source": [
    "- Len"
   ]
  },
  {
   "cell_type": "code",
   "execution_count": 6,
   "id": "3d788f32-1599-4261-9982-4c4ac4c17454",
   "metadata": {},
   "outputs": [
    {
     "data": {
      "text/plain": [
       "4"
      ]
     },
     "execution_count": 6,
     "metadata": {},
     "output_type": "execute_result"
    }
   ],
   "source": [
    "l1 = ['A','B','C','D']\n",
    "len(l1)"
   ]
  },
  {
   "cell_type": "code",
   "execution_count": 8,
   "id": "ce160d8f-8d21-4647-afe2-fd7cbf5b08a0",
   "metadata": {},
   "outputs": [
    {
     "data": {
      "text/plain": [
       "5"
      ]
     },
     "execution_count": 8,
     "metadata": {},
     "output_type": "execute_result"
    }
   ],
   "source": [
    "l2 = [1,2,3,\"Apple\",\"Ball\"]\n",
    "len(l2)"
   ]
  },
  {
   "cell_type": "markdown",
   "id": "13751054-dcc1-4d88-97ff-7a42e5c21bd2",
   "metadata": {},
   "source": [
    "- Max"
   ]
  },
  {
   "cell_type": "code",
   "execution_count": 10,
   "id": "36bbdf3f-358d-4c8c-bdfe-919f002d8dbc",
   "metadata": {},
   "outputs": [
    {
     "data": {
      "text/plain": [
       "'D'"
      ]
     },
     "execution_count": 10,
     "metadata": {},
     "output_type": "execute_result"
    }
   ],
   "source": [
    "l1 = ['A','B','C','D']\n",
    "max(l1)"
   ]
  },
  {
   "cell_type": "markdown",
   "id": "5574792f-7344-4641-b7ef-4ff757991127",
   "metadata": {},
   "source": [
    "- Min"
   ]
  },
  {
   "cell_type": "code",
   "execution_count": 12,
   "id": "cb952f67-1038-4322-94b6-8fcf9fc2d0a4",
   "metadata": {},
   "outputs": [
    {
     "data": {
      "text/plain": [
       "'A'"
      ]
     },
     "execution_count": 12,
     "metadata": {},
     "output_type": "execute_result"
    }
   ],
   "source": [
    "l1 = ['A','B','C','D']\n",
    "min(l1)"
   ]
  },
  {
   "cell_type": "markdown",
   "id": "c751ccb1-eeb8-46bd-b8bd-a4bab09265f9",
   "metadata": {},
   "source": [
    "- Sorted"
   ]
  },
  {
   "cell_type": "code",
   "execution_count": 14,
   "id": "4844eeef-ebbf-4b8b-97a2-492ddb17a00c",
   "metadata": {},
   "outputs": [
    {
     "data": {
      "text/plain": [
       "['A', 'B', 'C', 'D']"
      ]
     },
     "execution_count": 14,
     "metadata": {},
     "output_type": "execute_result"
    }
   ],
   "source": [
    "l1 = ['A','B','C','D']\n",
    "sorted(l1)"
   ]
  },
  {
   "cell_type": "markdown",
   "id": "1ef49edb-a5f8-4a26-946b-66e22453f40c",
   "metadata": {},
   "source": [
    "- Reversed"
   ]
  },
  {
   "cell_type": "code",
   "execution_count": 24,
   "id": "16e17efe-177a-4589-9ec2-b1c9b20a0d22",
   "metadata": {},
   "outputs": [
    {
     "name": "stdout",
     "output_type": "stream",
     "text": [
      "D\n",
      "C\n",
      "B\n",
      "A\n"
     ]
    }
   ],
   "source": [
    "l1 = ['A','B','C','D']\n",
    "l = reversed(l1)\n",
    "for i in l:\n",
    "    print(i)"
   ]
  },
  {
   "cell_type": "code",
   "execution_count": 28,
   "id": "b02ded09-8e13-4f47-b8dc-9b1b00f0f6a6",
   "metadata": {},
   "outputs": [
    {
     "name": "stdout",
     "output_type": "stream",
     "text": [
      "3\n"
     ]
    }
   ],
   "source": [
    "l4 = [100,\"Apple\",[1,\"Ball\"]]\n",
    "print(len(l4))"
   ]
  },
  {
   "cell_type": "code",
   "execution_count": 30,
   "id": "6588d503-e58f-4fdc-bbc8-577e36d13e92",
   "metadata": {},
   "outputs": [
    {
     "ename": "TypeError",
     "evalue": "'>' not supported between instances of 'str' and 'int'",
     "output_type": "error",
     "traceback": [
      "\u001b[1;31m---------------------------------------------------------------------------\u001b[0m",
      "\u001b[1;31mTypeError\u001b[0m                                 Traceback (most recent call last)",
      "Cell \u001b[1;32mIn[30], line 2\u001b[0m\n\u001b[0;32m      1\u001b[0m l4 \u001b[38;5;241m=\u001b[39m [\u001b[38;5;241m100\u001b[39m,\u001b[38;5;124m\"\u001b[39m\u001b[38;5;124mApple\u001b[39m\u001b[38;5;124m\"\u001b[39m,[\u001b[38;5;241m1\u001b[39m,\u001b[38;5;124m\"\u001b[39m\u001b[38;5;124mBall\u001b[39m\u001b[38;5;124m\"\u001b[39m]]\n\u001b[1;32m----> 2\u001b[0m \u001b[38;5;28mprint\u001b[39m(\u001b[38;5;28mmax\u001b[39m(l4))\n",
      "\u001b[1;31mTypeError\u001b[0m: '>' not supported between instances of 'str' and 'int'"
     ]
    }
   ],
   "source": [
    "l4 = [100,\"Apple\",[1,\"Ball\"]]\n",
    "print(max(l4))"
   ]
  },
  {
   "cell_type": "code",
   "execution_count": 32,
   "id": "b426b743-8467-46a9-acaf-74a7facf5314",
   "metadata": {},
   "outputs": [
    {
     "ename": "TypeError",
     "evalue": "'<' not supported between instances of 'str' and 'int'",
     "output_type": "error",
     "traceback": [
      "\u001b[1;31m---------------------------------------------------------------------------\u001b[0m",
      "\u001b[1;31mTypeError\u001b[0m                                 Traceback (most recent call last)",
      "Cell \u001b[1;32mIn[32], line 2\u001b[0m\n\u001b[0;32m      1\u001b[0m l4 \u001b[38;5;241m=\u001b[39m [\u001b[38;5;241m100\u001b[39m,\u001b[38;5;124m\"\u001b[39m\u001b[38;5;124mApple\u001b[39m\u001b[38;5;124m\"\u001b[39m,[\u001b[38;5;241m1\u001b[39m,\u001b[38;5;124m\"\u001b[39m\u001b[38;5;124mBall\u001b[39m\u001b[38;5;124m\"\u001b[39m]]\n\u001b[1;32m----> 2\u001b[0m \u001b[38;5;28mprint\u001b[39m(\u001b[38;5;28mmin\u001b[39m(l4))\n",
      "\u001b[1;31mTypeError\u001b[0m: '<' not supported between instances of 'str' and 'int'"
     ]
    }
   ],
   "source": [
    "l4 = [100,\"Apple\",[1,\"Ball\"]]\n",
    "print(min(l4))"
   ]
  },
  {
   "cell_type": "code",
   "execution_count": 34,
   "id": "d3c927a0-8353-484d-899a-b44eb83824cd",
   "metadata": {},
   "outputs": [
    {
     "ename": "TypeError",
     "evalue": "'<' not supported between instances of 'str' and 'int'",
     "output_type": "error",
     "traceback": [
      "\u001b[1;31m---------------------------------------------------------------------------\u001b[0m",
      "\u001b[1;31mTypeError\u001b[0m                                 Traceback (most recent call last)",
      "Cell \u001b[1;32mIn[34], line 2\u001b[0m\n\u001b[0;32m      1\u001b[0m l4 \u001b[38;5;241m=\u001b[39m [\u001b[38;5;241m100\u001b[39m,\u001b[38;5;124m\"\u001b[39m\u001b[38;5;124mApple\u001b[39m\u001b[38;5;124m\"\u001b[39m,[\u001b[38;5;241m1\u001b[39m,\u001b[38;5;124m\"\u001b[39m\u001b[38;5;124mBall\u001b[39m\u001b[38;5;124m\"\u001b[39m]]\n\u001b[1;32m----> 2\u001b[0m \u001b[38;5;28mprint\u001b[39m(\u001b[38;5;28msorted\u001b[39m(l4))\n",
      "\u001b[1;31mTypeError\u001b[0m: '<' not supported between instances of 'str' and 'int'"
     ]
    }
   ],
   "source": [
    "l4 = [100,\"Apple\",[1,\"Ball\"]]\n",
    "print(sorted(l4))"
   ]
  },
  {
   "cell_type": "code",
   "execution_count": 38,
   "id": "dcd46191-8c67-4626-9b8f-97512debce8d",
   "metadata": {},
   "outputs": [
    {
     "name": "stdout",
     "output_type": "stream",
     "text": [
      "[1, 'Ball']\n",
      "Apple\n",
      "100\n"
     ]
    }
   ],
   "source": [
    "l4 = [100,\"Apple\",[1,\"Ball\"]]\n",
    "l5 = reversed(l4)\n",
    "for i in l5:\n",
    "    print(i)"
   ]
  },
  {
   "cell_type": "code",
   "execution_count": 40,
   "id": "f444941f-c43e-43c9-a4ea-3460b1baa4c3",
   "metadata": {},
   "outputs": [
    {
     "ename": "TypeError",
     "evalue": "'>' not supported between instances of 'str' and 'int'",
     "output_type": "error",
     "traceback": [
      "\u001b[1;31m---------------------------------------------------------------------------\u001b[0m",
      "\u001b[1;31mTypeError\u001b[0m                                 Traceback (most recent call last)",
      "Cell \u001b[1;32mIn[40], line 2\u001b[0m\n\u001b[0;32m      1\u001b[0m l2 \u001b[38;5;241m=\u001b[39m [\u001b[38;5;241m1\u001b[39m,\u001b[38;5;241m2\u001b[39m,\u001b[38;5;241m3\u001b[39m,\u001b[38;5;124m\"\u001b[39m\u001b[38;5;124mApple\u001b[39m\u001b[38;5;124m\"\u001b[39m,\u001b[38;5;124m\"\u001b[39m\u001b[38;5;124mBall\u001b[39m\u001b[38;5;124m\"\u001b[39m]\n\u001b[1;32m----> 2\u001b[0m \u001b[38;5;28mmax\u001b[39m(l2)\n",
      "\u001b[1;31mTypeError\u001b[0m: '>' not supported between instances of 'str' and 'int'"
     ]
    }
   ],
   "source": [
    "l2 = [1,2,3,\"Apple\",\"Ball\"]\n",
    "max(l2)"
   ]
  },
  {
   "cell_type": "code",
   "execution_count": 43,
   "id": "260a082c-2bdd-44d0-838d-465909058710",
   "metadata": {},
   "outputs": [
    {
     "data": {
      "text/plain": [
       "[[1, 'Ball'], 'Apple', 100]"
      ]
     },
     "execution_count": 43,
     "metadata": {},
     "output_type": "execute_result"
    }
   ],
   "source": [
    "l4 = [100,\"Apple\",[1,\"Ball\"]]\n",
    "list(reversed(l4))"
   ]
  },
  {
   "cell_type": "code",
   "execution_count": 45,
   "id": "0cc3e839-268a-4e34-bde8-fc32d945ddd8",
   "metadata": {},
   "outputs": [
    {
     "name": "stdout",
     "output_type": "stream",
     "text": [
      "aaditya\n",
      "bhanu\n"
     ]
    }
   ],
   "source": [
    "name = ['aditya','aaditya','bhanu']\n",
    "print(min(name))\n",
    "print(max(name))"
   ]
  },
  {
   "cell_type": "markdown",
   "id": "70d65d45-33c7-4e43-9ec2-de2c7a519192",
   "metadata": {},
   "source": [
    "**Index**"
   ]
  },
  {
   "cell_type": "code",
   "execution_count": 50,
   "id": "36505951-ef9d-4705-b2c5-75789e190f29",
   "metadata": {},
   "outputs": [
    {
     "data": {
      "text/plain": [
       "'Ball'"
      ]
     },
     "execution_count": 50,
     "metadata": {},
     "output_type": "execute_result"
    }
   ],
   "source": [
    "l4 = [100,\"Apple\",\"Cat\",\"Ball\",True,False]\n",
    "l4[3]"
   ]
  },
  {
   "cell_type": "code",
   "execution_count": 52,
   "id": "a02c77a4-9eeb-4281-bb0a-934e8e651666",
   "metadata": {},
   "outputs": [
    {
     "data": {
      "text/plain": [
       "False"
      ]
     },
     "execution_count": 52,
     "metadata": {},
     "output_type": "execute_result"
    }
   ],
   "source": [
    "l4[-1]"
   ]
  },
  {
   "cell_type": "code",
   "execution_count": 54,
   "id": "229844e2-cae5-402c-8b52-657ae71e6942",
   "metadata": {},
   "outputs": [
    {
     "data": {
      "text/plain": [
       "['Cat', 'Ball', True, False]"
      ]
     },
     "execution_count": 54,
     "metadata": {},
     "output_type": "execute_result"
    }
   ],
   "source": [
    "l4[2:6]"
   ]
  },
  {
   "cell_type": "code",
   "execution_count": 56,
   "id": "65d63c86-c7a3-4257-87c9-e505b1b43e97",
   "metadata": {},
   "outputs": [
    {
     "data": {
      "text/plain": [
       "2"
      ]
     },
     "execution_count": 56,
     "metadata": {},
     "output_type": "execute_result"
    }
   ],
   "source": [
    "l1 = [1,[2]]\n",
    "l1[1][0]"
   ]
  },
  {
   "cell_type": "code",
   "execution_count": 58,
   "id": "e11da06b-238f-4ecf-b186-11a65e9ee61c",
   "metadata": {},
   "outputs": [
    {
     "data": {
      "text/plain": [
       "3"
      ]
     },
     "execution_count": 58,
     "metadata": {},
     "output_type": "execute_result"
    }
   ],
   "source": [
    "l1 = [1,[2,3,4]]\n",
    "new = l1[1]\n",
    "new[1]"
   ]
  },
  {
   "cell_type": "code",
   "execution_count": 64,
   "id": "2b60c220-d5c9-4c8a-8080-c10ca674a626",
   "metadata": {},
   "outputs": [
    {
     "data": {
      "text/plain": [
       "6"
      ]
     },
     "execution_count": 64,
     "metadata": {},
     "output_type": "execute_result"
    }
   ],
   "source": [
    "l1 = [2,[3,4,[5,6]]]\n",
    "l1[1][2][1]"
   ]
  },
  {
   "cell_type": "code",
   "execution_count": 72,
   "id": "833779d2-5b00-412f-a4e3-1945cc5eb32c",
   "metadata": {},
   "outputs": [
    {
     "data": {
      "text/plain": [
       "'b'"
      ]
     },
     "execution_count": 72,
     "metadata": {},
     "output_type": "execute_result"
    }
   ],
   "source": [
    "l2 = [1,[2,['a','b']]]\n",
    "l2[1][1][1]"
   ]
  },
  {
   "cell_type": "code",
   "execution_count": 74,
   "id": "f6bb8f90-4795-4eed-9c5e-26437992704c",
   "metadata": {},
   "outputs": [
    {
     "data": {
      "text/plain": [
       "'b'"
      ]
     },
     "execution_count": 74,
     "metadata": {},
     "output_type": "execute_result"
    }
   ],
   "source": [
    "l3 = [1,2,['a','b']]\n",
    "l3[2][1]"
   ]
  },
  {
   "cell_type": "code",
   "execution_count": 83,
   "id": "181abbac-1cb0-41ba-b3e5-484573aca95a",
   "metadata": {},
   "outputs": [
    {
     "data": {
      "text/plain": [
       "'Apple'"
      ]
     },
     "execution_count": 83,
     "metadata": {},
     "output_type": "execute_result"
    }
   ],
   "source": [
    "l1 = [1,2,[3,[4,[5,[\"Apple\"]]]]]\n",
    "l1[2][1][1][1][0]"
   ]
  },
  {
   "cell_type": "code",
   "execution_count": 89,
   "id": "a5371706-b2dd-4d62-abfb-6a5bb72d5454",
   "metadata": {},
   "outputs": [
    {
     "data": {
      "text/plain": [
       "'Banana'"
      ]
     },
     "execution_count": 89,
     "metadata": {},
     "output_type": "execute_result"
    }
   ],
   "source": [
    "list1=['Apple',1,'Solapur',['cherry','papaya',70,[123,'Banana'],'tomato'],'python']   #get banana\n",
    "list1[3][3][1]"
   ]
  },
  {
   "cell_type": "code",
   "execution_count": 95,
   "id": "66469324-d433-470b-9620-1e01f8d99827",
   "metadata": {},
   "outputs": [
    {
     "data": {
      "text/plain": [
       "'Cherry'"
      ]
     },
     "execution_count": 95,
     "metadata": {},
     "output_type": "execute_result"
    }
   ],
   "source": [
    "list1=[[[[[[[1,'Cherry']]]]]]]\n",
    "list1[0][0][0][0][0][0][1]"
   ]
  },
  {
   "cell_type": "code",
   "execution_count": 113,
   "id": "967b77f1-c151-4ae3-aff6-d93be11b6802",
   "metadata": {},
   "outputs": [
    {
     "data": {
      "text/plain": [
       "'shmbaji'"
      ]
     },
     "execution_count": 113,
     "metadata": {},
     "output_type": "execute_result"
    }
   ],
   "source": [
    "list1=['MH',['Nagpur',['Orange',['likes',['king'],['shivaji',['Son',['shmbaji']]]]]]]\n",
    "list1[1][1][1][2][1][1][0]"
   ]
  },
  {
   "cell_type": "code",
   "execution_count": null,
   "id": "5fb81a0f-f8a2-4246-a14b-a6c4dba30cad",
   "metadata": {},
   "outputs": [],
   "source": []
  },
  {
   "cell_type": "code",
   "execution_count": 3,
   "id": "a9e5f610-4258-42dd-b557-4b3c472c652e",
   "metadata": {},
   "outputs": [
    {
     "name": "stdout",
     "output_type": "stream",
     "text": [
      "100\n",
      "Apple\n",
      "Cat\n",
      "Ball\n",
      "True\n",
      "False\n"
     ]
    }
   ],
   "source": [
    "l4 = [100,\"Apple\",\"Cat\",\"Ball\",True,False]\n",
    "for i in range(len(l4)):\n",
    "    print(l4[i])"
   ]
  },
  {
   "cell_type": "code",
   "execution_count": 7,
   "id": "80d77df0-58ed-49b5-ba42-45b122ec16b9",
   "metadata": {},
   "outputs": [
    {
     "name": "stdout",
     "output_type": "stream",
     "text": [
      "The positive index of 100 is 0\n",
      "The positive index of Apple is 1\n",
      "The positive index of Cat is 2\n",
      "The positive index of Ball is 3\n",
      "The positive index of True is 4\n",
      "The positive index of False is 5\n"
     ]
    }
   ],
   "source": [
    "l4 = [100,\"Apple\",\"Cat\",\"Ball\",True,False]\n",
    "for i in range(len(l4)):\n",
    "    print(f\"The positive index of {l4[i]} is {i}\")"
   ]
  },
  {
   "cell_type": "code",
   "execution_count": 9,
   "id": "66c3232c-e0f3-4a9d-a7fb-27d73f72f15e",
   "metadata": {},
   "outputs": [
    {
     "name": "stdout",
     "output_type": "stream",
     "text": [
      "The negative index of 100 is -6\n",
      "The negative index of Apple is -5\n",
      "The negative index of Cat is -4\n",
      "The negative index of Ball is -3\n",
      "The negative index of True is -2\n",
      "The negative index of False is -1\n"
     ]
    }
   ],
   "source": [
    "l4 = [100,\"Apple\",\"Cat\",\"Ball\",True,False]\n",
    "for i in range(len(l4)):\n",
    "    print(f\"The negative index of {l4[i]} is {i-len(l4)}\")"
   ]
  },
  {
   "cell_type": "markdown",
   "id": "44d8eaa3-066a-4aab-9ac3-869dbcc60847",
   "metadata": {},
   "source": [
    "**List Methods**"
   ]
  },
  {
   "cell_type": "code",
   "execution_count": 14,
   "id": "b15fc5ad-8ce7-43aa-a4e4-69de96182655",
   "metadata": {},
   "outputs": [
    {
     "data": {
      "text/plain": [
       "['__add__',\n",
       " '__class__',\n",
       " '__class_getitem__',\n",
       " '__contains__',\n",
       " '__delattr__',\n",
       " '__delitem__',\n",
       " '__dir__',\n",
       " '__doc__',\n",
       " '__eq__',\n",
       " '__format__',\n",
       " '__ge__',\n",
       " '__getattribute__',\n",
       " '__getitem__',\n",
       " '__getstate__',\n",
       " '__gt__',\n",
       " '__hash__',\n",
       " '__iadd__',\n",
       " '__imul__',\n",
       " '__init__',\n",
       " '__init_subclass__',\n",
       " '__iter__',\n",
       " '__le__',\n",
       " '__len__',\n",
       " '__lt__',\n",
       " '__mul__',\n",
       " '__ne__',\n",
       " '__new__',\n",
       " '__reduce__',\n",
       " '__reduce_ex__',\n",
       " '__repr__',\n",
       " '__reversed__',\n",
       " '__rmul__',\n",
       " '__setattr__',\n",
       " '__setitem__',\n",
       " '__sizeof__',\n",
       " '__str__',\n",
       " '__subclasshook__',\n",
       " 'append',\n",
       " 'clear',\n",
       " 'copy',\n",
       " 'count',\n",
       " 'extend',\n",
       " 'index',\n",
       " 'insert',\n",
       " 'pop',\n",
       " 'remove',\n",
       " 'reverse',\n",
       " 'sort']"
      ]
     },
     "execution_count": 14,
     "metadata": {},
     "output_type": "execute_result"
    }
   ],
   "source": [
    "dir([])"
   ]
  },
  {
   "cell_type": "markdown",
   "id": "c438b5f9-1a40-4996-8296-d292e8c38eef",
   "metadata": {},
   "source": [
    "- append\n",
    " \n",
    "- clear\n",
    " \n",
    "- copy\n",
    " \n",
    "- count\n",
    " \n",
    "- extend\n",
    " \n",
    "- index\n",
    " \n",
    "- insert\n",
    " \n",
    "- pop\n",
    " \n",
    "- remove\n",
    " \n",
    "- reverse\n",
    "\n",
    "- sort"
   ]
  },
  {
   "cell_type": "markdown",
   "id": "3f1d2196-7685-423d-8bd7-54521ff4aa12",
   "metadata": {},
   "source": [
    "**append**\n",
    "\n",
    "- adding elements in a list at last index\n",
    "\n",
    "- append method is very important\n",
    "\n",
    "- most of the time we will use append in the real time\n",
    "\n",
    "- When you add the value the original list will be overwrite"
   ]
  },
  {
   "cell_type": "code",
   "execution_count": 18,
   "id": "a59bbf8b-be92-40a9-b334-a2a33f44d3d3",
   "metadata": {},
   "outputs": [
    {
     "data": {
      "text/plain": [
       "['Apple', 'Ball', 'Cat']"
      ]
     },
     "execution_count": 18,
     "metadata": {},
     "output_type": "execute_result"
    }
   ],
   "source": [
    "l = [\"Apple\",\"Ball\",\"Cat\"]\n",
    "l"
   ]
  },
  {
   "cell_type": "code",
   "execution_count": 20,
   "id": "0bb2bb48-60f3-4945-862d-d45fb4d1de90",
   "metadata": {},
   "outputs": [
    {
     "data": {
      "text/plain": [
       "['Apple', 'Ball', 'Cat', 'Doll']"
      ]
     },
     "execution_count": 20,
     "metadata": {},
     "output_type": "execute_result"
    }
   ],
   "source": [
    "l.append(\"Doll\")\n",
    "l"
   ]
  },
  {
   "cell_type": "code",
   "execution_count": 22,
   "id": "922a0e73-54e2-45f6-9733-8a0eaace68a7",
   "metadata": {},
   "outputs": [
    {
     "data": {
      "text/plain": [
       "['Virat', 'Rohit', 'Hardik', 'Bumrah', 'Shami', 'Jadeja']"
      ]
     },
     "execution_count": 22,
     "metadata": {},
     "output_type": "execute_result"
    }
   ],
   "source": [
    "l2 = []\n",
    "l2.append(\"Virat\")\n",
    "l2.append(\"Rohit\")\n",
    "l2.append(\"Hardik\")\n",
    "l2.append(\"Bumrah\")\n",
    "l2.append(\"Shami\")\n",
    "l2.append(\"Jadeja\")\n",
    "l2"
   ]
  },
  {
   "cell_type": "markdown",
   "id": "30d10e2c-c7e1-4891-a844-4d659bec1fc9",
   "metadata": {},
   "source": [
    "**Append method is used to save the output in a list**"
   ]
  },
  {
   "cell_type": "code",
   "execution_count": 15,
   "id": "ff106ffc-f431-4d89-992a-fa79a8fa1b79",
   "metadata": {},
   "outputs": [
    {
     "name": "stdout",
     "output_type": "stream",
     "text": [
      "1\n",
      "4\n",
      "9\n",
      "16\n",
      "25\n"
     ]
    }
   ],
   "source": [
    "for i in range(1,6):\n",
    "    print(i*i)"
   ]
  },
  {
   "cell_type": "code",
   "execution_count": 13,
   "id": "bf72cd04-9ef0-4106-bce9-3e31904ebae7",
   "metadata": {},
   "outputs": [
    {
     "name": "stdout",
     "output_type": "stream",
     "text": [
      "[1, 4, 9, 16, 25]\n"
     ]
    }
   ],
   "source": [
    "square_list = []\n",
    "for i in range(1,6):\n",
    "    square_list.append(i*i)\n",
    "print(square_list)"
   ]
  },
  {
   "cell_type": "code",
   "execution_count": 37,
   "id": "ddba310a-c847-4390-8b0d-cde829f4611f",
   "metadata": {},
   "outputs": [
    {
     "name": "stdout",
     "output_type": "stream",
     "text": [
      "[1, 5, 9]\n"
     ]
    }
   ],
   "source": [
    "str1 = \"hai hai hai\"\n",
    "a_id = []\n",
    "for i in range(len(str1)):\n",
    "    if str1[i] == \"a\":\n",
    "        a_id.append(i)\n",
    "print(a_id)"
   ]
  },
  {
   "cell_type": "code",
   "execution_count": 45,
   "id": "ba5e88a4-5899-4b99-92f2-b613e6a953ce",
   "metadata": {},
   "outputs": [
    {
     "name": "stdout",
     "output_type": "stream",
     "text": [
      "['Mumbai', 'Chennai']\n"
     ]
    }
   ],
   "source": [
    "l1 = [\"Hyd\",\"Mumbai\",\"Chennai\",\"Ban\"]\n",
    "l2 = []\n",
    "for i in range(len(l1)):\n",
    "    if len(l1[i]) > 4:\n",
    "        l2.append(l1[i])\n",
    "print(l2)"
   ]
  },
  {
   "cell_type": "code",
   "execution_count": 1,
   "id": "b3a1d682-af0e-4527-a833-05dee962927c",
   "metadata": {},
   "outputs": [
    {
     "name": "stdin",
     "output_type": "stream",
     "text": [
      "What is the capital of India? delhi\n",
      "Who is the PM of India? narendra modi\n",
      "Who is the captain of Indian Cricket Team? Rohit Sharma\n"
     ]
    },
    {
     "name": "stdout",
     "output_type": "stream",
     "text": [
      "Your total score is: 3\n"
     ]
    }
   ],
   "source": [
    "qns_list = [\"What is the capital of India?\", \"Who is the PM of India?\", \"Who is the captain of Indian Cricket Team?\"]\n",
    "ans_list = [\"Delhi\",\"Narendra Modi\",\"Rohit Sharma\"]\n",
    "count = 0\n",
    "for i in range(len(qns_list)):\n",
    "    ans = input(qns_list[i])\n",
    "    if ans.lower() == ans_list[i].lower():\n",
    "        count += 1\n",
    "print(f\"Your total score is: {count}\")"
   ]
  },
  {
   "cell_type": "code",
   "execution_count": 3,
   "id": "4c06a1e0-b475-462c-8243-851b229a5ed4",
   "metadata": {},
   "outputs": [
    {
     "data": {
      "text/plain": [
       "['__add__',\n",
       " '__class__',\n",
       " '__class_getitem__',\n",
       " '__contains__',\n",
       " '__delattr__',\n",
       " '__delitem__',\n",
       " '__dir__',\n",
       " '__doc__',\n",
       " '__eq__',\n",
       " '__format__',\n",
       " '__ge__',\n",
       " '__getattribute__',\n",
       " '__getitem__',\n",
       " '__getstate__',\n",
       " '__gt__',\n",
       " '__hash__',\n",
       " '__iadd__',\n",
       " '__imul__',\n",
       " '__init__',\n",
       " '__init_subclass__',\n",
       " '__iter__',\n",
       " '__le__',\n",
       " '__len__',\n",
       " '__lt__',\n",
       " '__mul__',\n",
       " '__ne__',\n",
       " '__new__',\n",
       " '__reduce__',\n",
       " '__reduce_ex__',\n",
       " '__repr__',\n",
       " '__reversed__',\n",
       " '__rmul__',\n",
       " '__setattr__',\n",
       " '__setitem__',\n",
       " '__sizeof__',\n",
       " '__str__',\n",
       " '__subclasshook__',\n",
       " 'append',\n",
       " 'clear',\n",
       " 'copy',\n",
       " 'count',\n",
       " 'extend',\n",
       " 'index',\n",
       " 'insert',\n",
       " 'pop',\n",
       " 'remove',\n",
       " 'reverse',\n",
       " 'sort']"
      ]
     },
     "execution_count": 3,
     "metadata": {},
     "output_type": "execute_result"
    }
   ],
   "source": [
    "dir([])"
   ]
  },
  {
   "cell_type": "markdown",
   "id": "c15c739c-a5c4-4c21-84a8-584947a2641e",
   "metadata": {},
   "source": [
    "**Copy**"
   ]
  },
  {
   "cell_type": "code",
   "execution_count": 20,
   "id": "c373a10a-92d1-48a9-b2e4-9bbd630ecf42",
   "metadata": {},
   "outputs": [
    {
     "data": {
      "text/plain": [
       "[1, 2, 3, 4, 5, 100, 600, 800]"
      ]
     },
     "execution_count": 20,
     "metadata": {},
     "output_type": "execute_result"
    }
   ],
   "source": [
    "l1 = [1,2,3,4,5,100,600,800]\n",
    "l2 = l1.copy()\n",
    "l2"
   ]
  },
  {
   "cell_type": "code",
   "execution_count": 22,
   "id": "a5a774a4-afeb-428e-bcfd-2025503ea957",
   "metadata": {},
   "outputs": [
    {
     "data": {
      "text/plain": [
       "[1, 2, 3, 4, 5, 100, 600, 800]"
      ]
     },
     "execution_count": 22,
     "metadata": {},
     "output_type": "execute_result"
    }
   ],
   "source": [
    "l1"
   ]
  },
  {
   "cell_type": "code",
   "execution_count": 25,
   "id": "3dc4f473-7255-444a-abcf-bc9b568e6836",
   "metadata": {},
   "outputs": [
    {
     "data": {
      "text/plain": [
       "([1, 2, 3, 4, 5, 100, 600, 800], [1, 2, 3, 4, 5, 100, 600, 800])"
      ]
     },
     "execution_count": 25,
     "metadata": {},
     "output_type": "execute_result"
    }
   ],
   "source": [
    "l2,l1"
   ]
  },
  {
   "cell_type": "markdown",
   "id": "f0f09e22-7c6c-42a6-85fb-6ae353c05eef",
   "metadata": {},
   "source": [
    "**Clear**"
   ]
  },
  {
   "cell_type": "code",
   "execution_count": 15,
   "id": "08552dfd-a5bb-4021-a19a-e6d5365764b6",
   "metadata": {},
   "outputs": [
    {
     "data": {
      "text/plain": [
       "[]"
      ]
     },
     "execution_count": 15,
     "metadata": {},
     "output_type": "execute_result"
    }
   ],
   "source": [
    "l1 = [1,2,3,4,5,100,600,800]\n",
    "l1.clear()\n",
    "l1"
   ]
  },
  {
   "cell_type": "code",
   "execution_count": 27,
   "id": "10eae771-d9c3-47b2-ab13-44a470ffc555",
   "metadata": {},
   "outputs": [
    {
     "data": {
      "text/plain": [
       "[1, 2, 3, 4, 5, 100, 600, 800]"
      ]
     },
     "execution_count": 27,
     "metadata": {},
     "output_type": "execute_result"
    }
   ],
   "source": [
    "l2"
   ]
  },
  {
   "cell_type": "markdown",
   "id": "1022a08d-91e2-4b05-854d-02e157882154",
   "metadata": {},
   "source": [
    "**append-extend-concatenation-insert**"
   ]
  },
  {
   "cell_type": "code",
   "execution_count": 32,
   "id": "0b516c5d-d6ef-49d8-84f3-d28470da303c",
   "metadata": {},
   "outputs": [
    {
     "name": "stdout",
     "output_type": "stream",
     "text": [
      "[1, 2, 3, 4, ['A', 'B', 'C', 'D']]\n",
      "['A', 'B', 'C', 'D']\n"
     ]
    }
   ],
   "source": [
    "l1 = [1,2,3,4]\n",
    "l2 = [\"A\",\"B\",\"C\",\"D\"]\n",
    "l1.append(l2)\n",
    "print(l1)\n",
    "print(l2)"
   ]
  },
  {
   "cell_type": "code",
   "execution_count": 34,
   "id": "80b0cb2e-48c7-4e01-bbd7-4849d16accc4",
   "metadata": {},
   "outputs": [
    {
     "name": "stdout",
     "output_type": "stream",
     "text": [
      "[1, 2, 3, 4, 'A', 'B', 'C', 'D']\n",
      "['A', 'B', 'C', 'D']\n"
     ]
    }
   ],
   "source": [
    "l1 = [1,2,3,4]\n",
    "l2 = [\"A\",\"B\",\"C\",\"D\"]\n",
    "l1.extend(l2)\n",
    "print(l1)\n",
    "print(l2)"
   ]
  },
  {
   "cell_type": "code",
   "execution_count": 36,
   "id": "f9e66f1c-fa0c-481a-92d5-d860d212b267",
   "metadata": {},
   "outputs": [
    {
     "name": "stdout",
     "output_type": "stream",
     "text": [
      "[1, 2, 3, 4]\n",
      "['A', 'B', 'C', 'D', 1, 2, 3, 4]\n"
     ]
    }
   ],
   "source": [
    "l1 = [1,2,3,4]\n",
    "l2 = [\"A\",\"B\",\"C\",\"D\"]\n",
    "l2.extend(l1)\n",
    "print(l1)\n",
    "print(l2)"
   ]
  },
  {
   "cell_type": "code",
   "execution_count": 42,
   "id": "85d29faf-e7df-4e6c-8829-93a9e5229d00",
   "metadata": {},
   "outputs": [
    {
     "name": "stdout",
     "output_type": "stream",
     "text": [
      "[1, 2, 3, 4, 'A', 'B', 'C', 'D']\n",
      "[1, 2, 3, 4]\n",
      "['A', 'B', 'C', 'D']\n"
     ]
    }
   ],
   "source": [
    "l1 = [1,2,3,4]\n",
    "l2 = [\"A\",\"B\",\"C\",\"D\"]\n",
    "print(l1 + l2)\n",
    "print(l1)\n",
    "print(l2)"
   ]
  },
  {
   "cell_type": "code",
   "execution_count": 46,
   "id": "2726c377-f7a6-4814-9e1d-c54dea36f244",
   "metadata": {},
   "outputs": [
    {
     "data": {
      "text/plain": [
       "[1, 2, 3, 4, 'a', 'p', 'p', 'l', 'e']"
      ]
     },
     "execution_count": 46,
     "metadata": {},
     "output_type": "execute_result"
    }
   ],
   "source": [
    "l1 = [1,2,3,4]\n",
    "l1.extend(\"apple\")\n",
    "l1"
   ]
  },
  {
   "cell_type": "markdown",
   "id": "4135c5f9-7dc1-406d-9a82-059136ec2aba",
   "metadata": {},
   "source": [
    "- append just appends the value with base data type\n",
    "\n",
    "- extend concatenates the value,and the list will be overwrite with new values\n",
    "\n",
    "- extend can take any iterable format type i.e string,list,tuple\n",
    "\n",
    "- extend and concatenation both are same, but the list will not overwrite in concatenation"
   ]
  },
  {
   "cell_type": "markdown",
   "id": "fdc8f5f6-15ce-4e3d-9ce2-235c72674363",
   "metadata": {},
   "source": [
    "**Index**"
   ]
  },
  {
   "cell_type": "markdown",
   "id": "49615d41-842b-458b-81ec-606b9de271ed",
   "metadata": {},
   "source": [
    "- It is same like strings only"
   ]
  },
  {
   "cell_type": "code",
   "execution_count": 52,
   "id": "9489ba9b-9b93-4d7b-b0b7-622dafb34d0c",
   "metadata": {},
   "outputs": [
    {
     "data": {
      "text/plain": [
       "1"
      ]
     },
     "execution_count": 52,
     "metadata": {},
     "output_type": "execute_result"
    }
   ],
   "source": [
    "l1 = [1,2,3,4,10,20,30,40]\n",
    "l1.index(2)"
   ]
  },
  {
   "cell_type": "code",
   "execution_count": 60,
   "id": "d9b3220f-92ff-4d1e-bdea-f21c20de017a",
   "metadata": {},
   "outputs": [
    {
     "data": {
      "text/plain": [
       "(4, 7)"
      ]
     },
     "execution_count": 60,
     "metadata": {},
     "output_type": "execute_result"
    }
   ],
   "source": [
    "l1 = [1,2,3,4,\"Apple\",10,20,\"Apple\",30,40]\n",
    "i1 = l1.index(\"Apple\")\n",
    "i2 = l1.index(\"Apple\",i1+1)\n",
    "i1,i2"
   ]
  },
  {
   "cell_type": "code",
   "execution_count": 62,
   "id": "9c6ee7fe-b3b7-46f1-91fa-e5e2168e12e6",
   "metadata": {},
   "outputs": [
    {
     "data": {
      "text/plain": [
       "7"
      ]
     },
     "execution_count": 62,
     "metadata": {},
     "output_type": "execute_result"
    }
   ],
   "source": [
    "l1 = [1,2,3,4,\"Apple\",10,20,\"Apple\",30,40]\n",
    "l1.index(\"Apple\",5)"
   ]
  },
  {
   "cell_type": "markdown",
   "id": "2b95dae7-5354-4a1e-ab19-6845a43ad94d",
   "metadata": {},
   "source": [
    "**Insert**"
   ]
  },
  {
   "cell_type": "code",
   "execution_count": null,
   "id": "6b036ee9-9968-4853-a9f2-5c4955761e45",
   "metadata": {},
   "outputs": [],
   "source": []
  },
  {
   "cell_type": "code",
   "execution_count": 4,
   "id": "7d918150-d42e-419e-ae76-8410935491c2",
   "metadata": {},
   "outputs": [
    {
     "data": {
      "text/plain": [
       "[1, 2, 3, 'Banana', 'Apple', 4, 5, 6]"
      ]
     },
     "execution_count": 4,
     "metadata": {},
     "output_type": "execute_result"
    }
   ],
   "source": [
    "l1 = [1,2,3,\"Apple\",4,5,6]\n",
    "l1.insert(3,\"Banana\")\n",
    "l1"
   ]
  },
  {
   "cell_type": "code",
   "execution_count": 8,
   "id": "429756b9-767e-408b-b1d7-e16798503bb2",
   "metadata": {},
   "outputs": [
    {
     "data": {
      "text/plain": [
       "[1, 2, 3, 'Mango', 'Apple', 4, 5, 6]"
      ]
     },
     "execution_count": 8,
     "metadata": {},
     "output_type": "execute_result"
    }
   ],
   "source": [
    "l1 = [1,2,3,\"Apple\",4,5,6]\n",
    "i1 = l1.index(\"Apple\")\n",
    "l1.insert(i1,\"Mango\")\n",
    "l1"
   ]
  },
  {
   "cell_type": "code",
   "execution_count": 10,
   "id": "4d8a942d-95ab-44f6-be18-04ab45d22c71",
   "metadata": {},
   "outputs": [
    {
     "data": {
      "text/plain": [
       "[1, 2, 3, 'Apple', 4, 'Cherry', 5, 6]"
      ]
     },
     "execution_count": 10,
     "metadata": {},
     "output_type": "execute_result"
    }
   ],
   "source": [
    "l1 = [1,2,3,\"Apple\",4,5,6]\n",
    "i1 = l1.index(5)\n",
    "l1.insert(i1,\"Cherry\")\n",
    "l1"
   ]
  },
  {
   "cell_type": "code",
   "execution_count": 15,
   "id": "7c08f846-7e92-4b2b-ae4a-259df4f5e8f8",
   "metadata": {},
   "outputs": [
    {
     "data": {
      "text/plain": [
       "[1, 2, 3, 4, 'Apple', 10, 20, 'Cherry', 'Apple', 30, 40]"
      ]
     },
     "execution_count": 15,
     "metadata": {},
     "output_type": "execute_result"
    }
   ],
   "source": [
    "l1 = [1,2,3,4,\"Apple\",10,20,\"Apple\",30,40]\n",
    "i1 = l1.index(\"Apple\")\n",
    "i2 = l1.index(\"Apple\",i1+1)\n",
    "l1.insert(i2,\"Cherry\")\n",
    "l1"
   ]
  },
  {
   "cell_type": "markdown",
   "id": "06bb0232-1c3f-4757-a44e-bb2bfdbbcc10",
   "metadata": {},
   "source": [
    "**pop-remove-del**\n",
    "\n",
    "- pop will remove the items\n",
    "\n",
    "- pop also display the item which is being removed\n",
    "\n",
    "- pop will take one argument(index)\n",
    "\n",
    "- pop will remove the item based on index\n",
    "\n",
    "- if we dont provide any index, by default it will remove last index value\n",
    "\n",
    "- because the default index value is -1"
   ]
  },
  {
   "cell_type": "code",
   "execution_count": 18,
   "id": "dcbeca24-3d1b-456e-b782-67640896ae3b",
   "metadata": {},
   "outputs": [
    {
     "data": {
      "text/plain": [
       "[1, 2, 3, 4, 'Apple', 10, 20, 'Apple', 30]"
      ]
     },
     "execution_count": 18,
     "metadata": {},
     "output_type": "execute_result"
    }
   ],
   "source": [
    "l1 = [1,2,3,4,\"Apple\",10,20,\"Apple\",30,40]\n",
    "l1.pop()\n",
    "l1"
   ]
  },
  {
   "cell_type": "code",
   "execution_count": 27,
   "id": "a3cd0f60-fd4f-4151-8a1b-b6a7a6cf91df",
   "metadata": {},
   "outputs": [
    {
     "data": {
      "text/plain": [
       "[1, 2, 3, 4, 10, 20, 'Apple', 30, 40]"
      ]
     },
     "execution_count": 27,
     "metadata": {},
     "output_type": "execute_result"
    }
   ],
   "source": [
    "l1 = [1,2,3,4,\"Apple\",10,20,\"Apple\",30,40]\n",
    "i1 = l1.index(\"Apple\")\n",
    "l1.pop(i1)\n",
    "l1"
   ]
  },
  {
   "cell_type": "code",
   "execution_count": 25,
   "id": "cb2a8701-a009-4529-9e31-9bfd7c1a641a",
   "metadata": {},
   "outputs": [
    {
     "data": {
      "text/plain": [
       "[1, 2, 3, 4, 'Apple', 10, 20, 30, 40]"
      ]
     },
     "execution_count": 25,
     "metadata": {},
     "output_type": "execute_result"
    }
   ],
   "source": [
    "l1 = [1,2,3,4,\"Apple\",10,20,\"Apple\",30,40]\n",
    "i1 = l1.index(\"Apple\")\n",
    "i2 = l1.index(\"Apple\",i1+1)\n",
    "l1.pop(i2)\n",
    "l1"
   ]
  },
  {
   "cell_type": "code",
   "execution_count": 35,
   "id": "a6f86651-1cb5-4e5c-9e13-97c3d246b30e",
   "metadata": {},
   "outputs": [
    {
     "data": {
      "text/plain": [
       "[1, 2, 3, 4, 10, 20, 30, 40]"
      ]
     },
     "execution_count": 35,
     "metadata": {},
     "output_type": "execute_result"
    }
   ],
   "source": [
    "l1 = [1,2,3,4,\"Apple\",10,20,\"Apple\",30,40,]\n",
    "i1 = l1.index(\"Apple\")\n",
    "l1.pop(i1)\n",
    "i1 = l1.index(\"Apple\")\n",
    "l1.pop(i1)\n",
    "l1"
   ]
  },
  {
   "cell_type": "code",
   "execution_count": 39,
   "id": "c20e9b56-8f33-4009-9bba-ee88ce7e1ef8",
   "metadata": {},
   "outputs": [
    {
     "data": {
      "text/plain": [
       "[1, 2, 3, 4, 10, 20, 30, 40]"
      ]
     },
     "execution_count": 39,
     "metadata": {},
     "output_type": "execute_result"
    }
   ],
   "source": [
    "l1 = [1,2,3,4,\"Apple\",10,20,\"Apple\",30,40,\"Apple\"]\n",
    "i1 = l1.index(\"Apple\")\n",
    "l1.pop(i1)\n",
    "i1 = l1.index(\"Apple\")\n",
    "l1.pop(i1)\n",
    "i1 = l1.index(\"Apple\")\n",
    "l1.pop(i1)\n",
    "l1"
   ]
  },
  {
   "cell_type": "code",
   "execution_count": 97,
   "id": "33e1986b-0700-4e42-b4fe-467bea8efa43",
   "metadata": {},
   "outputs": [
    {
     "data": {
      "text/plain": [
       "'hi how are you i am good thank you'"
      ]
     },
     "execution_count": 97,
     "metadata": {},
     "output_type": "execute_result"
    }
   ],
   "source": [
    "str = \"hi apple how are you apple i am good apple thank you apple\"\n",
    "# o/p -- hi how are you i am good thank you\n",
    "l1 = str.split(\" \")\n",
    "count = l1.count(\"apple\")\n",
    "for i in range(count):\n",
    "    i1 = l1.index(\"apple\")\n",
    "    l1.pop(i1)\n",
    "\" \".join(l1)"
   ]
  },
  {
   "cell_type": "markdown",
   "id": "2588c5c1-53cd-41b8-843c-00cbfd03d9b0",
   "metadata": {},
   "source": [
    "- pop will take the index\n",
    "\n",
    "- remove will take the value\n",
    "\n",
    "- remove will delete the first occurence of the element"
   ]
  },
  {
   "cell_type": "code",
   "execution_count": 104,
   "id": "e1df441c-6a4e-4148-8fa3-128a21f9ace3",
   "metadata": {},
   "outputs": [
    {
     "data": {
      "text/plain": [
       "[1, 2, 3, 4, 10, 20, 30, 40, 'Apple']"
      ]
     },
     "execution_count": 104,
     "metadata": {},
     "output_type": "execute_result"
    }
   ],
   "source": [
    "l1 = [1,2,3,4,\"Apple\",10,20,\"Apple\",30,40,\"Apple\"]\n",
    "l1.remove(\"Apple\")\n",
    "l1.remove(\"Apple\")\n",
    "l1"
   ]
  },
  {
   "cell_type": "code",
   "execution_count": 106,
   "id": "bddd3b10-2012-420c-b5f0-ea6bba2f1fd2",
   "metadata": {},
   "outputs": [
    {
     "data": {
      "text/plain": [
       "'hi how are you i am good thank you'"
      ]
     },
     "execution_count": 106,
     "metadata": {},
     "output_type": "execute_result"
    }
   ],
   "source": [
    "str = \"hi apple how are you apple i am good apple thank you apple\"\n",
    "# o/p -- hi how are you i am good thank you\n",
    "l1 = str.split(\" \")\n",
    "count = l1.count(\"apple\")\n",
    "for i in range(count):\n",
    "    l1.remove(\"apple\")\n",
    "\" \".join(l1)"
   ]
  },
  {
   "cell_type": "markdown",
   "id": "16ae5fe2-c4de-406c-9d8b-57ec6c2bdbb4",
   "metadata": {},
   "source": [
    "- del is a keyword"
   ]
  },
  {
   "cell_type": "code",
   "execution_count": 109,
   "id": "09714998-46a9-438c-a7c5-3c2425ff9eab",
   "metadata": {},
   "outputs": [
    {
     "data": {
      "text/plain": [
       "[1, 2, 3, 4, 10, 20, 'Apple', 30, 40]"
      ]
     },
     "execution_count": 109,
     "metadata": {},
     "output_type": "execute_result"
    }
   ],
   "source": [
    "l1 = [1,2,3,4,\"Apple\",10,20,\"Apple\",30,40,]\n",
    "del(l1[4])\n",
    "l1"
   ]
  },
  {
   "cell_type": "markdown",
   "id": "f6d298a7-d578-4fee-b658-36a05af4c089",
   "metadata": {},
   "source": [
    "- append / extend / insert / concatenation\n",
    "\n",
    "- pop / remove / del\n",
    "\n",
    "- sort / sorted\n",
    "\n",
    "- reverse / reversed\n",
    "\n",
    "- count / index"
   ]
  },
  {
   "cell_type": "code",
   "execution_count": null,
   "id": "a8acc3b2-6bf2-4f47-a717-ccc799bae7ca",
   "metadata": {},
   "outputs": [],
   "source": []
  }
 ],
 "metadata": {
  "kernelspec": {
   "display_name": "Python 3 (ipykernel)",
   "language": "python",
   "name": "python3"
  },
  "language_info": {
   "codemirror_mode": {
    "name": "ipython",
    "version": 3
   },
   "file_extension": ".py",
   "mimetype": "text/x-python",
   "name": "python",
   "nbconvert_exporter": "python",
   "pygments_lexer": "ipython3",
   "version": "3.11.7"
  }
 },
 "nbformat": 4,
 "nbformat_minor": 5
}
