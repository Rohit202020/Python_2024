{
 "cells": [
  {
   "cell_type": "markdown",
   "id": "03980f89-e3bd-40f1-90b7-74ba3531918e",
   "metadata": {},
   "source": [
    "- Integer data type = int\n",
    "- Float data type = float\n",
    "- String data type = str\n",
    "- Boolean data type = bool"
   ]
  },
  {
   "cell_type": "markdown",
   "id": "7643d34e-63b8-46cb-bf53-8a6eba46642d",
   "metadata": {},
   "source": [
    "## TYPE CASTING"
   ]
  },
  {
   "cell_type": "markdown",
   "id": "16de5def-8754-4631-90f0-a862e018dac6",
   "metadata": {},
   "source": [
    "- Convert one data type to another data type is called as type casting.\n",
    "- Which means we can convert -\n",
    "  - Integer to all other [str, float, bool]\n",
    "  - String to all other [int, float, bool]\n",
    "  - Float to all other [int, str, bool]\n",
    "  - Boolean to all other [int, str, float]"
   ]
  },
  {
   "cell_type": "markdown",
   "id": "abbc1c70-4961-4d0d-b6f5-e83d65ba4022",
   "metadata": {},
   "source": [
    "INTEGER TO OTHER DATA TYPES"
   ]
  },
  {
   "cell_type": "code",
   "execution_count": 4,
   "id": "5c278adc-d48b-45d1-8a9c-684cd82e397c",
   "metadata": {},
   "outputs": [
    {
     "data": {
      "text/plain": [
       "int"
      ]
     },
     "execution_count": 4,
     "metadata": {},
     "output_type": "execute_result"
    }
   ],
   "source": [
    "num = 100\n",
    "type(num)"
   ]
  },
  {
   "cell_type": "code",
   "execution_count": 5,
   "id": "662d5a66-9f27-4361-b030-890ba4af4382",
   "metadata": {},
   "outputs": [
    {
     "data": {
      "text/plain": [
       "float"
      ]
     },
     "execution_count": 5,
     "metadata": {},
     "output_type": "execute_result"
    }
   ],
   "source": [
    "float_num = float(num)\n",
    "type(float_num)"
   ]
  },
  {
   "cell_type": "code",
   "execution_count": 6,
   "id": "61b70d36-041e-41a8-bad0-47bc928f6722",
   "metadata": {},
   "outputs": [
    {
     "data": {
      "text/plain": [
       "'100'"
      ]
     },
     "execution_count": 6,
     "metadata": {},
     "output_type": "execute_result"
    }
   ],
   "source": [
    "str_num = str(num)\n",
    "str_num"
   ]
  },
  {
   "cell_type": "code",
   "execution_count": 7,
   "id": "f634f8a6-4bac-49da-8e80-c62c2b519eb0",
   "metadata": {},
   "outputs": [
    {
     "data": {
      "text/plain": [
       "str"
      ]
     },
     "execution_count": 7,
     "metadata": {},
     "output_type": "execute_result"
    }
   ],
   "source": [
    "type(str_num)"
   ]
  },
  {
   "cell_type": "code",
   "execution_count": 8,
   "id": "99fc71a8-f826-45b7-8071-7081ed4faaaf",
   "metadata": {},
   "outputs": [
    {
     "data": {
      "text/plain": [
       "bool"
      ]
     },
     "execution_count": 8,
     "metadata": {},
     "output_type": "execute_result"
    }
   ],
   "source": [
    "type(bool(num))"
   ]
  },
  {
   "cell_type": "code",
   "execution_count": 9,
   "id": "d86198be-e995-415f-9414-fe3ab3e71a12",
   "metadata": {},
   "outputs": [
    {
     "data": {
      "text/plain": [
       "True"
      ]
     },
     "execution_count": 9,
     "metadata": {},
     "output_type": "execute_result"
    }
   ],
   "source": [
    "bool(num)"
   ]
  },
  {
   "cell_type": "code",
   "execution_count": 10,
   "id": "1b3f4fd0-f278-49bf-9b14-a6477bda8a5b",
   "metadata": {},
   "outputs": [
    {
     "data": {
      "text/plain": [
       "(200.0, '200', True)"
      ]
     },
     "execution_count": 10,
     "metadata": {},
     "output_type": "execute_result"
    }
   ],
   "source": [
    "float(200), str(200), bool(200)"
   ]
  },
  {
   "cell_type": "code",
   "execution_count": 11,
   "id": "da071288-d22d-45e3-9779-b2895a8457df",
   "metadata": {},
   "outputs": [
    {
     "data": {
      "text/plain": [
       "False"
      ]
     },
     "execution_count": 11,
     "metadata": {},
     "output_type": "execute_result"
    }
   ],
   "source": [
    "bool(0)"
   ]
  },
  {
   "cell_type": "markdown",
   "id": "1f28fb86-79b5-4f31-83a3-119069120a31",
   "metadata": {},
   "source": [
    "#### NOTE\n",
    "- Integer = 0, then only boolean conversion becomes false\n",
    "- Otherwise for any positive or negative number it will always be true"
   ]
  },
  {
   "cell_type": "markdown",
   "id": "5f768eff-3d33-462c-853c-de038cd0e5f5",
   "metadata": {},
   "source": [
    "FLOAT TO OTHER DATA TYPES"
   ]
  },
  {
   "cell_type": "code",
   "execution_count": 15,
   "id": "ea319c72-e776-40fe-b84d-069e6d073b7f",
   "metadata": {},
   "outputs": [
    {
     "data": {
      "text/plain": [
       "True"
      ]
     },
     "execution_count": 15,
     "metadata": {},
     "output_type": "execute_result"
    }
   ],
   "source": [
    "int(200.5)\n",
    "str(200.5)\n",
    "bool(200.5)"
   ]
  },
  {
   "cell_type": "code",
   "execution_count": 16,
   "id": "671549fb-b8e2-449f-9334-aa63ae914b30",
   "metadata": {},
   "outputs": [
    {
     "data": {
      "text/plain": [
       "(200, '200.5', True)"
      ]
     },
     "execution_count": 16,
     "metadata": {},
     "output_type": "execute_result"
    }
   ],
   "source": [
    "int(200.5), str(200.5), bool(200.5)"
   ]
  },
  {
   "cell_type": "code",
   "execution_count": 17,
   "id": "d8c26ff8-906a-4b37-b166-1dee586310ec",
   "metadata": {},
   "outputs": [
    {
     "data": {
      "text/plain": [
       "(200, '200.5', False)"
      ]
     },
     "execution_count": 17,
     "metadata": {},
     "output_type": "execute_result"
    }
   ],
   "source": [
    "int(200.5), str(200.5), bool(0.0)"
   ]
  },
  {
   "cell_type": "markdown",
   "id": "371d9e2d-1c88-494c-adde-72709bb1470d",
   "metadata": {},
   "source": [
    "STRING TO ANOTHER DATA TYPES"
   ]
  },
  {
   "cell_type": "code",
   "execution_count": 18,
   "id": "cb201482-f9a3-4de4-b035-64083f64bde5",
   "metadata": {},
   "outputs": [],
   "source": [
    "# case-1\n",
    "str = 'apple'\n",
    "# case-2\n",
    "str1 = '10'\n",
    "# case-3\n",
    "str2 = '10.5'"
   ]
  },
  {
   "cell_type": "code",
   "execution_count": null,
   "id": "9c894754-8029-489f-a4fb-2ffc95885c0e",
   "metadata": {},
   "outputs": [],
   "source": [
    "int('apple')     # error\n",
    "float('apple')   # error\n",
    "bool('apple')    # no error"
   ]
  },
  {
   "cell_type": "code",
   "execution_count": null,
   "id": "b4e10b3f-c8c8-4447-a40f-c6e6e2bffe8c",
   "metadata": {},
   "outputs": [],
   "source": [
    "int('10')        # 10\n",
    "float('10')      # 10.0\n",
    "bool('10')       # True"
   ]
  },
  {
   "cell_type": "code",
   "execution_count": null,
   "id": "5c9751ce-0461-4408-8248-0b04d2ef5462",
   "metadata": {},
   "outputs": [],
   "source": [
    "int('10.5')      # error\n",
    "float('10.5')    # 10.5\n",
    "bool('10.5')     # True"
   ]
  },
  {
   "cell_type": "code",
   "execution_count": null,
   "id": "1f18016c-b4cd-477c-a4af-941d40ad25d3",
   "metadata": {},
   "outputs": [],
   "source": [
    "int('10')        # pass\n",
    "int('10.5')      # Fail\n",
    "float('10')      # pass\n",
    "float('10.5')    # pass"
   ]
  },
  {
   "cell_type": "markdown",
   "id": "5bf552e3-8e65-4f89-9ce7-ac7429ec0cc6",
   "metadata": {},
   "source": [
    "- Float is the boss\n",
    "- FLoat of any value either it is integer in string or float in string will always work\n",
    "- But integer will work only for integer in string format\n",
    "- Integer type casting will fail for float in string format"
   ]
  },
  {
   "cell_type": "markdown",
   "id": "4c16a529-5b45-489f-9017-a39be1c9d235",
   "metadata": {},
   "source": [
    "- Empty string of boolean gives false\n",
    "- False means nothing either 0 or empty string"
   ]
  },
  {
   "cell_type": "markdown",
   "id": "da1d6f54-5d07-4b9f-879c-bf76f4770241",
   "metadata": {},
   "source": [
    "BOOLEAN TO ANOTHER DATA TYPES"
   ]
  },
  {
   "cell_type": "code",
   "execution_count": 35,
   "id": "113d448c-2739-4b0d-a5d6-50d5d5b0bc4e",
   "metadata": {},
   "outputs": [
    {
     "data": {
      "text/plain": [
       "1"
      ]
     },
     "execution_count": 35,
     "metadata": {},
     "output_type": "execute_result"
    }
   ],
   "source": [
    "int(True)"
   ]
  },
  {
   "cell_type": "code",
   "execution_count": 36,
   "id": "aa0e7603-e02a-4911-b437-27a8891e920c",
   "metadata": {},
   "outputs": [
    {
     "data": {
      "text/plain": [
       "1.0"
      ]
     },
     "execution_count": 36,
     "metadata": {},
     "output_type": "execute_result"
    }
   ],
   "source": [
    "float(True)"
   ]
  },
  {
   "cell_type": "code",
   "execution_count": null,
   "id": "e16147d3-f83f-426e-be25-faaed19d2b4c",
   "metadata": {},
   "outputs": [],
   "source": [
    "############### Int to Other ###############\n",
    "float(100)\n",
    "str(100)\n",
    "bool(100)\n",
    "############### Float to Other ###############\n",
    "int(100.0)\n",
    "str(100.0)\n",
    "bool(100.0)\n",
    "bool(0)\n",
    "############### Str to Other ###############\n",
    "int('apple')      # error\n",
    "float('apple')    # error\n",
    "bool('apple')     # no error\n",
    "\n",
    "int('10')         # 10\n",
    "float('10')       # 10.0\n",
    "bool('10')        # True\n",
    "\n",
    "int('10.5')       # error\n",
    "float('10.5')     # 10.5\n",
    "bool('10.5')      # True\n",
    "\n",
    "bool('')\n",
    "############### Bool to Other ###############\n",
    "int(False)\n",
    "float(False)\n",
    "str(False)\n",
    "\n",
    "int(True)\n",
    "float(True)\n",
    "str(True)"
   ]
  },
  {
   "cell_type": "code",
   "execution_count": null,
   "id": "9e1479d4-9c48-4232-a3de-ecff5793275f",
   "metadata": {},
   "outputs": [],
   "source": []
  },
  {
   "cell_type": "code",
   "execution_count": null,
   "id": "f0585eba-ebe2-42cc-88d0-7f4833143536",
   "metadata": {},
   "outputs": [],
   "source": []
  }
 ],
 "metadata": {
  "kernelspec": {
   "display_name": "Python 3 (ipykernel)",
   "language": "python",
   "name": "python3"
  },
  "language_info": {
   "codemirror_mode": {
    "name": "ipython",
    "version": 3
   },
   "file_extension": ".py",
   "mimetype": "text/x-python",
   "name": "python",
   "nbconvert_exporter": "python",
   "pygments_lexer": "ipython3",
   "version": "3.11.7"
  }
 },
 "nbformat": 4,
 "nbformat_minor": 5
}
