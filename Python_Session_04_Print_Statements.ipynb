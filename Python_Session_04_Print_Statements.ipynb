{
 "cells": [
  {
   "cell_type": "code",
   "execution_count": 2,
   "id": "61a2af76-939c-4646-a06f-570ad7fd22e1",
   "metadata": {},
   "outputs": [
    {
     "name": "stdout",
     "output_type": "stream",
     "text": [
      "10\n"
     ]
    }
   ],
   "source": [
    "print(10)"
   ]
  },
  {
   "cell_type": "code",
   "execution_count": 3,
   "id": "864689d4-9aa2-4875-b2bc-74fea12b2d05",
   "metadata": {},
   "outputs": [
    {
     "name": "stdout",
     "output_type": "stream",
     "text": [
      "Python\n"
     ]
    }
   ],
   "source": [
    "print('Python')"
   ]
  },
  {
   "cell_type": "code",
   "execution_count": 4,
   "id": "53d961ae-6208-4632-beed-e9eeda1a3b97",
   "metadata": {},
   "outputs": [
    {
     "name": "stdout",
     "output_type": "stream",
     "text": [
      "10 20 30\n"
     ]
    }
   ],
   "source": [
    "print(10,20,30)"
   ]
  },
  {
   "cell_type": "code",
   "execution_count": 5,
   "id": "a7bf022e-591b-40e4-8f08-0cb2267af359",
   "metadata": {},
   "outputs": [
    {
     "name": "stdout",
     "output_type": "stream",
     "text": [
      "10 20 30 Rohit True\n"
     ]
    }
   ],
   "source": [
    "print(10,20,30,\"Rohit\", True)"
   ]
  },
  {
   "cell_type": "code",
   "execution_count": 6,
   "id": "6bfb5d28-81ac-4a3f-aa15-8cc6b5445942",
   "metadata": {},
   "outputs": [
    {
     "name": "stdout",
     "output_type": "stream",
     "text": [
      "10 20\n"
     ]
    }
   ],
   "source": [
    "n1 = 10\n",
    "n2 = 20\n",
    "print(n1, n2)"
   ]
  },
  {
   "cell_type": "code",
   "execution_count": 7,
   "id": "c8deba94-f825-4de2-8d74-cdc2363aa2af",
   "metadata": {},
   "outputs": [
    {
     "name": "stdout",
     "output_type": "stream",
     "text": [
      "The addition of 10 and 20 is 30\n"
     ]
    }
   ],
   "source": [
    "a = 10\n",
    "b = 20\n",
    "add = a + b\n",
    "print(f\"The addition of {a} and {b} is {add}\")"
   ]
  },
  {
   "cell_type": "code",
   "execution_count": 8,
   "id": "e70448d6-a430-4054-a1ad-1b022e42d05e",
   "metadata": {},
   "outputs": [
    {
     "name": "stdout",
     "output_type": "stream",
     "text": [
      "The addition of 100 and 200 is 300\n"
     ]
    }
   ],
   "source": [
    "a = 100\n",
    "b = 200\n",
    "c = a + b\n",
    "print(\"The addition of {} and {} is {}\".format(a,b,c))"
   ]
  },
  {
   "cell_type": "code",
   "execution_count": 9,
   "id": "2be5e4a6-c40b-4194-9031-2d9bf927c9d7",
   "metadata": {},
   "outputs": [
    {
     "name": "stdout",
     "output_type": "stream",
     "text": [
      "Your name is Rohit, your age is 21 and you belong to Nagpur city\n"
     ]
    }
   ],
   "source": [
    "# Read your name\n",
    "# Read your age\n",
    "# Read your city\n",
    "Name = \"Rohit\"\n",
    "Age = 21\n",
    "City = \"Nagpur\"\n",
    "print(\"Your name is {}, your age is {} and you belong to {} city\".format(Name,Age,City))"
   ]
  },
  {
   "cell_type": "code",
   "execution_count": 10,
   "id": "68bdfee7-f873-4b9e-a293-30d3363d69c7",
   "metadata": {},
   "outputs": [
    {
     "name": "stdout",
     "output_type": "stream",
     "text": [
      "My name is Rohit, my role in this comapny is DS and my dream company is Google\n"
     ]
    }
   ],
   "source": [
    "# Employee Name\n",
    "# Employee Role\n",
    "# Dream Company\n",
    "Emp_name = \"Rohit\"\n",
    "Emp_role = \"DS\"\n",
    "Dream_Company = \"Google\"\n",
    "print(\"My name is {}, my role in this comapny is {} and my dream company is {}\".format(Emp_name,Emp_role,Dream_Company))"
   ]
  },
  {
   "cell_type": "code",
   "execution_count": 11,
   "id": "149af2d3-f240-4e83-8243-77d94b071cbc",
   "metadata": {},
   "outputs": [
    {
     "name": "stdout",
     "output_type": "stream",
     "text": [
      "The addition of 100 and 200 is 300\n"
     ]
    }
   ],
   "source": [
    "a = 100\n",
    "b = 200\n",
    "c = a + b\n",
    "print(f\"The addition of {a} and {b} is {c}\")"
   ]
  },
  {
   "cell_type": "code",
   "execution_count": 13,
   "id": "9287d107-e4de-4c5e-baf0-d3b282dae371",
   "metadata": {},
   "outputs": [
    {
     "name": "stdout",
     "output_type": "stream",
     "text": [
      "My name is Rohit,I am 21 years old and I am from Nagpur\n"
     ]
    }
   ],
   "source": [
    "Name = \"Rohit\"\n",
    "Age = 21\n",
    "City = \"Nagpur\"\n",
    "print(f\"My name is {Name},I am {Age} years old and I am from {City}\")"
   ]
  },
  {
   "cell_type": "code",
   "execution_count": 14,
   "id": "ad2d2faf-882d-4c94-bf57-b714c6d91ce1",
   "metadata": {},
   "outputs": [
    {
     "name": "stdout",
     "output_type": "stream",
     "text": [
      "The average of 100 and 200 is 150.0\n",
      "The average of 100 and 200 is 150.0\n"
     ]
    }
   ],
   "source": [
    "num1 = 100\n",
    "num2 = 200\n",
    "average = (num1+num2)/2\n",
    "print(\"The average of {} and {} is {}\".format(num1,num2,average))\n",
    "print(f\"The average of {num1} and {num2} is {average}\")"
   ]
  },
  {
   "cell_type": "code",
   "execution_count": 15,
   "id": "6c8babb5-af37-411a-81ad-5dc86aa1619f",
   "metadata": {},
   "outputs": [
    {
     "name": "stdout",
     "output_type": "stream",
     "text": [
      "The area of circle is : 7850.0\n"
     ]
    }
   ],
   "source": [
    "# Take the radius of circle\n",
    "# Take the pi value i.e 3.14\n",
    "# Find the area of circle i.e ---> pi*r*r\n",
    "\n",
    "r = 50\n",
    "pi = 3.14\n",
    "Area = (pi*r*r)\n",
    "print(f\"The area of circle is : {Area}\")"
   ]
  },
  {
   "cell_type": "code",
   "execution_count": 16,
   "id": "b5953f8d-ed05-4887-ae69-413051edf638",
   "metadata": {},
   "outputs": [
    {
     "name": "stdout",
     "output_type": "stream",
     "text": [
      "The area of triangle is : 100.0\n"
     ]
    }
   ],
   "source": [
    "# Take the base of traingle\n",
    "# Take the height of the traingle\n",
    "# Area of the traingle = 1/2*base*height\n",
    "\n",
    "base = 10\n",
    "height = 20\n",
    "Area = (1/2*base*height)\n",
    "print(f\"The area of triangle is : {Area}\")"
   ]
  },
  {
   "cell_type": "code",
   "execution_count": 19,
   "id": "f0a67920-c701-44b4-a319-5e25c537bd8f",
   "metadata": {},
   "outputs": [
    {
     "name": "stdout",
     "output_type": "stream",
     "text": [
      "Total bill after adding the tip is : 1100.0\n"
     ]
    }
   ],
   "source": [
    "# Take the bill_amount = 1000\n",
    "# Take the tip_percentage = 10\n",
    "# Calculate tip_amount\n",
    "# Calculate the total bill\n",
    "# Print the total bill\n",
    "\n",
    "bill_amount = 1000\n",
    "tip_percentage = 10\n",
    "total_tip = bill_amount + (bill_amount*tip_percentage/100)\n",
    "total_bill = total_tip\n",
    "print(f\"Total bill after adding the tip is : {total_bill}\")"
   ]
  },
  {
   "cell_type": "markdown",
   "id": "5f52a26f-f2bc-47d0-9c19-792bf3d2cabf",
   "metadata": {},
   "source": [
    "## End Keyword"
   ]
  },
  {
   "cell_type": "markdown",
   "id": "092699f3-b90c-48f3-b064-c57e3ec05c50",
   "metadata": {},
   "source": [
    "- Combining multiple print statements in a single line"
   ]
  },
  {
   "cell_type": "code",
   "execution_count": 20,
   "id": "262d6133-b0fb-4029-886b-3ffefd61ded0",
   "metadata": {},
   "outputs": [
    {
     "name": "stdout",
     "output_type": "stream",
     "text": [
      "10 20\n"
     ]
    }
   ],
   "source": [
    "print(10, end= \" \")\n",
    "print(20)"
   ]
  },
  {
   "cell_type": "code",
   "execution_count": 23,
   "id": "fa73ebd1-e7c2-4d8f-bac1-09a39aee503d",
   "metadata": {},
   "outputs": [
    {
     "name": "stdout",
     "output_type": "stream",
     "text": [
      "10,20,30,40\n"
     ]
    }
   ],
   "source": [
    "print(10, end = \",\")\n",
    "print(20, end = \",\")\n",
    "print(30, end = \",\")\n",
    "print(40)"
   ]
  },
  {
   "cell_type": "markdown",
   "id": "22ceef21-c6cd-4cc2-bd2f-bf742df83c2b",
   "metadata": {},
   "source": [
    "## Seperate Keyword"
   ]
  },
  {
   "cell_type": "code",
   "execution_count": 24,
   "id": "37997a97-3146-46d7-afb3-c714643871a6",
   "metadata": {},
   "outputs": [
    {
     "name": "stdout",
     "output_type": "stream",
     "text": [
      "10 20 30 40\n"
     ]
    }
   ],
   "source": [
    "print(10, 20, 30, 40, sep = \" \")"
   ]
  },
  {
   "cell_type": "code",
   "execution_count": 25,
   "id": "6808e7b5-a389-4e30-8168-678afec23c1e",
   "metadata": {},
   "outputs": [
    {
     "name": "stdout",
     "output_type": "stream",
     "text": [
      "10---->20---->30\n"
     ]
    }
   ],
   "source": [
    "print(10,20,30,sep=\"---->\")"
   ]
  },
  {
   "cell_type": "code",
   "execution_count": null,
   "id": "b08e39e2-8122-488e-903b-4f9b818af1dc",
   "metadata": {},
   "outputs": [],
   "source": []
  }
 ],
 "metadata": {
  "kernelspec": {
   "display_name": "Python 3 (ipykernel)",
   "language": "python",
   "name": "python3"
  },
  "language_info": {
   "codemirror_mode": {
    "name": "ipython",
    "version": 3
   },
   "file_extension": ".py",
   "mimetype": "text/x-python",
   "name": "python",
   "nbconvert_exporter": "python",
   "pygments_lexer": "ipython3",
   "version": "3.11.7"
  }
 },
 "nbformat": 4,
 "nbformat_minor": 5
}
