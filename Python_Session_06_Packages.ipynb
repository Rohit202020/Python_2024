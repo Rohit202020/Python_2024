{
 "cells": [
  {
   "cell_type": "markdown",
   "id": "1995c00b-8833-4399-90cd-4b6d09052d4c",
   "metadata": {},
   "source": [
    "Let's assume that our friend is a coder.\n",
    "\n",
    "He created an addition program\n",
    "\n",
    "He feels that he has only created an addition program\n",
    "\n",
    "He wants to give this program to every one ===== Package\n",
    "\n",
    "He went to anaconda organization\n",
    "\n",
    "He makes a deal\n",
    "\n",
    "Who ever will installed anaconda then my package will also get downloaded automatically.\n",
    "    \n",
    "Thats why when you are downloading anaconda a green color pop comes\n",
    "Which means so many packages are tied with anaconda, downloading in your local laptop"
   ]
  },
  {
   "cell_type": "markdown",
   "id": "f9d4cb1c-5bcb-4f56-9b1c-33ab532fc265",
   "metadata": {},
   "source": [
    "## IMPORT"
   ]
  },
  {
   "cell_type": "code",
   "execution_count": null,
   "id": "6aa069a6-4d26-47fe-b016-cbcfa47a4072",
   "metadata": {},
   "outputs": [],
   "source": [
    "# Syntax\n",
    "# import <package_name>"
   ]
  },
  {
   "cell_type": "code",
   "execution_count": 1,
   "id": "b91b1cdf-6685-43a0-8aa4-21f3fae106c4",
   "metadata": {},
   "outputs": [],
   "source": [
    "# Package Name = random\n",
    "import random"
   ]
  },
  {
   "cell_type": "code",
   "execution_count": 2,
   "id": "c3471753-299d-45ca-80dc-06564a60d291",
   "metadata": {},
   "outputs": [],
   "source": [
    "# Package Name = time\n",
    "import time"
   ]
  },
  {
   "cell_type": "code",
   "execution_count": 3,
   "id": "03c08486-e7b5-47ed-b7cb-d42f4adf7b03",
   "metadata": {},
   "outputs": [],
   "source": [
    "# Package Name = math\n",
    "import math"
   ]
  },
  {
   "cell_type": "code",
   "execution_count": 4,
   "id": "589f46d2-8397-4fbe-922f-f34ad87d8aac",
   "metadata": {},
   "outputs": [],
   "source": [
    "# Package Name = streamlit\n",
    "import streamlit"
   ]
  },
  {
   "cell_type": "code",
   "execution_count": 5,
   "id": "c620b2d1-64fd-4469-b5e0-7ff385672cdf",
   "metadata": {},
   "outputs": [
    {
     "ename": "ModuleNotFoundError",
     "evalue": "No module named 'cv2'",
     "output_type": "error",
     "traceback": [
      "\u001b[1;31m---------------------------------------------------------------------------\u001b[0m",
      "\u001b[1;31mModuleNotFoundError\u001b[0m                       Traceback (most recent call last)",
      "Cell \u001b[1;32mIn[5], line 1\u001b[0m\n\u001b[1;32m----> 1\u001b[0m \u001b[38;5;28;01mimport\u001b[39;00m \u001b[38;5;21;01mcv2\u001b[39;00m\n",
      "\u001b[1;31mModuleNotFoundError\u001b[0m: No module named 'cv2'"
     ]
    }
   ],
   "source": [
    "import cv2"
   ]
  },
  {
   "cell_type": "markdown",
   "id": "bea9a9cc-f76a-4ac0-bd43-c4f215323e65",
   "metadata": {},
   "source": [
    "Package and module both are same"
   ]
  },
  {
   "cell_type": "code",
   "execution_count": 6,
   "id": "e85f3e79-29b4-49c2-8489-374ced1a7027",
   "metadata": {},
   "outputs": [
    {
     "data": {
      "text/plain": [
       "['BPF',\n",
       " 'LOG4',\n",
       " 'NV_MAGICCONST',\n",
       " 'RECIP_BPF',\n",
       " 'Random',\n",
       " 'SG_MAGICCONST',\n",
       " 'SystemRandom',\n",
       " 'TWOPI',\n",
       " '_ONE',\n",
       " '_Sequence',\n",
       " '_Set',\n",
       " '__all__',\n",
       " '__builtins__',\n",
       " '__cached__',\n",
       " '__doc__',\n",
       " '__file__',\n",
       " '__loader__',\n",
       " '__name__',\n",
       " '__package__',\n",
       " '__spec__',\n",
       " '_accumulate',\n",
       " '_acos',\n",
       " '_bisect',\n",
       " '_ceil',\n",
       " '_cos',\n",
       " '_e',\n",
       " '_exp',\n",
       " '_floor',\n",
       " '_index',\n",
       " '_inst',\n",
       " '_isfinite',\n",
       " '_log',\n",
       " '_os',\n",
       " '_pi',\n",
       " '_random',\n",
       " '_repeat',\n",
       " '_sha512',\n",
       " '_sin',\n",
       " '_sqrt',\n",
       " '_test',\n",
       " '_test_generator',\n",
       " '_urandom',\n",
       " '_warn',\n",
       " 'betavariate',\n",
       " 'choice',\n",
       " 'choices',\n",
       " 'expovariate',\n",
       " 'gammavariate',\n",
       " 'gauss',\n",
       " 'getrandbits',\n",
       " 'getstate',\n",
       " 'lognormvariate',\n",
       " 'normalvariate',\n",
       " 'paretovariate',\n",
       " 'randbytes',\n",
       " 'randint',\n",
       " 'random',\n",
       " 'randrange',\n",
       " 'sample',\n",
       " 'seed',\n",
       " 'setstate',\n",
       " 'shuffle',\n",
       " 'triangular',\n",
       " 'uniform',\n",
       " 'vonmisesvariate',\n",
       " 'weibullvariate']"
      ]
     },
     "execution_count": 6,
     "metadata": {},
     "output_type": "execute_result"
    }
   ],
   "source": [
    "import random\n",
    "dir(random)"
   ]
  },
  {
   "cell_type": "markdown",
   "id": "c0acc994-0146-4b80-a98d-15d7989ce1a0",
   "metadata": {},
   "source": [
    "This all are the methods that comes under package \"random\""
   ]
  },
  {
   "cell_type": "code",
   "execution_count": 7,
   "id": "ad084da6-1a96-4b89-a3e7-d8af412a4040",
   "metadata": {},
   "outputs": [],
   "source": [
    "# Syntax:\n",
    "# <package_name>.<method_name>\n",
    "# package_name = random\n",
    "# method_name = randint"
   ]
  },
  {
   "cell_type": "code",
   "execution_count": 8,
   "id": "0f9eb966-b32a-406a-86da-89396d52f0a4",
   "metadata": {},
   "outputs": [
    {
     "name": "stdout",
     "output_type": "stream",
     "text": [
      "Help on method randint in module random:\n",
      "\n",
      "randint(a, b) method of random.Random instance\n",
      "    Return random integer in range [a, b], including both end points.\n",
      "\n"
     ]
    }
   ],
   "source": [
    "# help(package_name.method_name)\n",
    "# Help will give the understanding of how a method will work\n",
    "\n",
    "# Here i want to know what the randint method will do\n",
    "help(random.randint)"
   ]
  },
  {
   "cell_type": "code",
   "execution_count": 16,
   "id": "62e0a30d-0d18-44f1-843b-e20509f3ae6f",
   "metadata": {},
   "outputs": [
    {
     "data": {
      "text/plain": [
       "8"
      ]
     },
     "execution_count": 16,
     "metadata": {},
     "output_type": "execute_result"
    }
   ],
   "source": [
    "random.randint(1,10)"
   ]
  },
  {
   "cell_type": "code",
   "execution_count": 18,
   "id": "588560ff-8816-4fc5-a62f-0f4ce9adbaf6",
   "metadata": {},
   "outputs": [
    {
     "data": {
      "text/plain": [
       "['BPF',\n",
       " 'LOG4',\n",
       " 'NV_MAGICCONST',\n",
       " 'RECIP_BPF',\n",
       " 'Random',\n",
       " 'SG_MAGICCONST',\n",
       " 'SystemRandom',\n",
       " 'TWOPI',\n",
       " '_ONE',\n",
       " '_Sequence',\n",
       " '_Set',\n",
       " '__all__',\n",
       " '__builtins__',\n",
       " '__cached__',\n",
       " '__doc__',\n",
       " '__file__',\n",
       " '__loader__',\n",
       " '__name__',\n",
       " '__package__',\n",
       " '__spec__',\n",
       " '_accumulate',\n",
       " '_acos',\n",
       " '_bisect',\n",
       " '_ceil',\n",
       " '_cos',\n",
       " '_e',\n",
       " '_exp',\n",
       " '_floor',\n",
       " '_index',\n",
       " '_inst',\n",
       " '_isfinite',\n",
       " '_log',\n",
       " '_os',\n",
       " '_pi',\n",
       " '_random',\n",
       " '_repeat',\n",
       " '_sha512',\n",
       " '_sin',\n",
       " '_sqrt',\n",
       " '_test',\n",
       " '_test_generator',\n",
       " '_urandom',\n",
       " '_warn',\n",
       " 'betavariate',\n",
       " 'choice',\n",
       " 'choices',\n",
       " 'expovariate',\n",
       " 'gammavariate',\n",
       " 'gauss',\n",
       " 'getrandbits',\n",
       " 'getstate',\n",
       " 'lognormvariate',\n",
       " 'normalvariate',\n",
       " 'paretovariate',\n",
       " 'randbytes',\n",
       " 'randint',\n",
       " 'random',\n",
       " 'randrange',\n",
       " 'sample',\n",
       " 'seed',\n",
       " 'setstate',\n",
       " 'shuffle',\n",
       " 'triangular',\n",
       " 'uniform',\n",
       " 'vonmisesvariate',\n",
       " 'weibullvariate']"
      ]
     },
     "execution_count": 18,
     "metadata": {},
     "output_type": "execute_result"
    }
   ],
   "source": [
    "# step-1: import <package_name>\n",
    "# step-2: dir(<package_name>)\n",
    "# step-3: help(<package_name>.<method_name>)\n",
    "# package_name: random\n",
    "import random\n",
    "dir(random)"
   ]
  },
  {
   "cell_type": "code",
   "execution_count": 19,
   "id": "96fb58fb-8544-480e-820e-8c02481278e9",
   "metadata": {},
   "outputs": [
    {
     "data": {
      "text/plain": [
       "0.11059335561595818"
      ]
     },
     "execution_count": 19,
     "metadata": {},
     "output_type": "execute_result"
    }
   ],
   "source": [
    "random.random()"
   ]
  },
  {
   "cell_type": "code",
   "execution_count": null,
   "id": "aba1c5b9-e751-4a3e-a73b-10ee2190ccad",
   "metadata": {},
   "outputs": [],
   "source": []
  },
  {
   "cell_type": "markdown",
   "id": "cac9f081-58a0-4846-a3f3-195469813ec8",
   "metadata": {},
   "source": [
    "## Package Name : Math\n",
    "- Methods - pi,\n",
    "            sqrt,\n",
    "            sin"
   ]
  },
  {
   "cell_type": "code",
   "execution_count": 20,
   "id": "97944311-5f26-48f7-8588-12fd6414584b",
   "metadata": {},
   "outputs": [],
   "source": [
    "import math"
   ]
  },
  {
   "cell_type": "code",
   "execution_count": 21,
   "id": "822d8548-c9c8-428a-b974-88f4d0f6dbaa",
   "metadata": {},
   "outputs": [
    {
     "data": {
      "text/plain": [
       "['__doc__',\n",
       " '__loader__',\n",
       " '__name__',\n",
       " '__package__',\n",
       " '__spec__',\n",
       " 'acos',\n",
       " 'acosh',\n",
       " 'asin',\n",
       " 'asinh',\n",
       " 'atan',\n",
       " 'atan2',\n",
       " 'atanh',\n",
       " 'cbrt',\n",
       " 'ceil',\n",
       " 'comb',\n",
       " 'copysign',\n",
       " 'cos',\n",
       " 'cosh',\n",
       " 'degrees',\n",
       " 'dist',\n",
       " 'e',\n",
       " 'erf',\n",
       " 'erfc',\n",
       " 'exp',\n",
       " 'exp2',\n",
       " 'expm1',\n",
       " 'fabs',\n",
       " 'factorial',\n",
       " 'floor',\n",
       " 'fmod',\n",
       " 'frexp',\n",
       " 'fsum',\n",
       " 'gamma',\n",
       " 'gcd',\n",
       " 'hypot',\n",
       " 'inf',\n",
       " 'isclose',\n",
       " 'isfinite',\n",
       " 'isinf',\n",
       " 'isnan',\n",
       " 'isqrt',\n",
       " 'lcm',\n",
       " 'ldexp',\n",
       " 'lgamma',\n",
       " 'log',\n",
       " 'log10',\n",
       " 'log1p',\n",
       " 'log2',\n",
       " 'modf',\n",
       " 'nan',\n",
       " 'nextafter',\n",
       " 'perm',\n",
       " 'pi',\n",
       " 'pow',\n",
       " 'prod',\n",
       " 'radians',\n",
       " 'remainder',\n",
       " 'sin',\n",
       " 'sinh',\n",
       " 'sqrt',\n",
       " 'tan',\n",
       " 'tanh',\n",
       " 'tau',\n",
       " 'trunc',\n",
       " 'ulp']"
      ]
     },
     "execution_count": 21,
     "metadata": {},
     "output_type": "execute_result"
    }
   ],
   "source": [
    "dir(math)"
   ]
  },
  {
   "cell_type": "code",
   "execution_count": 22,
   "id": "eede73f2-5515-4a6d-aefd-92723f15f608",
   "metadata": {},
   "outputs": [
    {
     "name": "stdout",
     "output_type": "stream",
     "text": [
      "Help on built-in function sqrt in module math:\n",
      "\n",
      "sqrt(x, /)\n",
      "    Return the square root of x.\n",
      "\n"
     ]
    }
   ],
   "source": [
    "help(math.sqrt)"
   ]
  },
  {
   "cell_type": "code",
   "execution_count": 23,
   "id": "73219314-6fe1-42f8-80d4-2ee38def4852",
   "metadata": {},
   "outputs": [
    {
     "data": {
      "text/plain": [
       "5.0"
      ]
     },
     "execution_count": 23,
     "metadata": {},
     "output_type": "execute_result"
    }
   ],
   "source": [
    "math.sqrt(25)"
   ]
  },
  {
   "cell_type": "code",
   "execution_count": 24,
   "id": "aa4d487f-115b-426d-98fa-606cbee26a66",
   "metadata": {},
   "outputs": [
    {
     "name": "stdout",
     "output_type": "stream",
     "text": [
      "Help on built-in function pow in module math:\n",
      "\n",
      "pow(x, y, /)\n",
      "    Return x**y (x to the power of y).\n",
      "\n"
     ]
    }
   ],
   "source": [
    "help(math.pow)"
   ]
  },
  {
   "cell_type": "code",
   "execution_count": 25,
   "id": "96570397-7232-40ab-a721-27ce6a0c48ed",
   "metadata": {},
   "outputs": [
    {
     "data": {
      "text/plain": [
       "125.0"
      ]
     },
     "execution_count": 25,
     "metadata": {},
     "output_type": "execute_result"
    }
   ],
   "source": [
    "math.pow(5,3)"
   ]
  },
  {
   "cell_type": "code",
   "execution_count": 26,
   "id": "027109e2-d3b3-4c48-9ac0-a6342dab9408",
   "metadata": {},
   "outputs": [
    {
     "name": "stdout",
     "output_type": "stream",
     "text": [
      "Help on built-in function sin in module math:\n",
      "\n",
      "sin(x, /)\n",
      "    Return the sine of x (measured in radians).\n",
      "\n"
     ]
    }
   ],
   "source": [
    "help(math.sin)"
   ]
  },
  {
   "cell_type": "code",
   "execution_count": 27,
   "id": "e4c3a5af-06da-4e6b-890c-8682a7bc3558",
   "metadata": {},
   "outputs": [
    {
     "data": {
      "text/plain": [
       "-0.5440211108893698"
      ]
     },
     "execution_count": 27,
     "metadata": {},
     "output_type": "execute_result"
    }
   ],
   "source": [
    "math.sin(10)"
   ]
  },
  {
   "cell_type": "code",
   "execution_count": 28,
   "id": "658b266d-e530-4a00-b47c-b9ef556aab68",
   "metadata": {},
   "outputs": [
    {
     "data": {
      "text/plain": [
       "<function math.sqrt(x, /)>"
      ]
     },
     "execution_count": 28,
     "metadata": {},
     "output_type": "execute_result"
    }
   ],
   "source": [
    "math.sqrt"
   ]
  },
  {
   "cell_type": "markdown",
   "id": "42807316-c8d5-4961-ad37-dcccce9ca95e",
   "metadata": {},
   "source": [
    "- Function means we are forgetting brackets\n",
    "- We need to keep brackets\n",
    "- Bound method also means forgetting the brackets only\n",
    "- Not callable means remove bracket\n",
    "- Whenever you see slash don't provide variable name directly give the value"
   ]
  },
  {
   "cell_type": "markdown",
   "id": "1acef8fe-30fc-4f82-a47b-be2bf73f295b",
   "metadata": {},
   "source": [
    "## Package Name : Keyword"
   ]
  },
  {
   "cell_type": "code",
   "execution_count": 29,
   "id": "1c570cb1-62c7-4bb2-b14f-813e16e83302",
   "metadata": {},
   "outputs": [],
   "source": [
    "import keyword"
   ]
  },
  {
   "cell_type": "code",
   "execution_count": 30,
   "id": "08a23188-efe1-4cd8-880e-9fa6cb76cb9d",
   "metadata": {},
   "outputs": [
    {
     "data": {
      "text/plain": [
       "['False',\n",
       " 'None',\n",
       " 'True',\n",
       " 'and',\n",
       " 'as',\n",
       " 'assert',\n",
       " 'async',\n",
       " 'await',\n",
       " 'break',\n",
       " 'class',\n",
       " 'continue',\n",
       " 'def',\n",
       " 'del',\n",
       " 'elif',\n",
       " 'else',\n",
       " 'except',\n",
       " 'finally',\n",
       " 'for',\n",
       " 'from',\n",
       " 'global',\n",
       " 'if',\n",
       " 'import',\n",
       " 'in',\n",
       " 'is',\n",
       " 'lambda',\n",
       " 'nonlocal',\n",
       " 'not',\n",
       " 'or',\n",
       " 'pass',\n",
       " 'raise',\n",
       " 'return',\n",
       " 'try',\n",
       " 'while',\n",
       " 'with',\n",
       " 'yield']"
      ]
     },
     "execution_count": 30,
     "metadata": {},
     "output_type": "execute_result"
    }
   ],
   "source": [
    "keyword.kwlist"
   ]
  },
  {
   "cell_type": "code",
   "execution_count": 31,
   "id": "0ebe40c2-3880-49c9-97c0-9f401afd9e4d",
   "metadata": {},
   "outputs": [
    {
     "data": {
      "text/plain": [
       "35"
      ]
     },
     "execution_count": 31,
     "metadata": {},
     "output_type": "execute_result"
    }
   ],
   "source": [
    "len(keyword.kwlist)"
   ]
  },
  {
   "cell_type": "code",
   "execution_count": 32,
   "id": "47164eca-2351-4dd1-aa9c-635a4c3b4a5f",
   "metadata": {},
   "outputs": [],
   "source": [
    "# step-1:\n",
    "# import <package_name>\n",
    "\n",
    "# step-2:\n",
    "# dir(<package_name>)\n",
    "# methods will display\n",
    "\n",
    "# step-3:\n",
    "# help(<package_name>.<method_name>)\n",
    "\n",
    "# step-4:\n",
    "# <package_name>.<method_name>() # 99%"
   ]
  },
  {
   "cell_type": "code",
   "execution_count": 33,
   "id": "8c9b2e0f-73e1-4fe2-9128-968b0a005f47",
   "metadata": {},
   "outputs": [],
   "source": [
    "import math"
   ]
  },
  {
   "cell_type": "code",
   "execution_count": 34,
   "id": "9db0f8e6-5384-419e-be47-d2fd2e765131",
   "metadata": {},
   "outputs": [
    {
     "data": {
      "text/plain": [
       "3.141592653589793"
      ]
     },
     "execution_count": 34,
     "metadata": {},
     "output_type": "execute_result"
    }
   ],
   "source": [
    "math.pi"
   ]
  },
  {
   "cell_type": "markdown",
   "id": "979f2ed8-72cd-4c32-be0b-bc02686fe81f",
   "metadata": {},
   "source": [
    "- () : function or methods\n",
    "- Only functions or methods are callable\n",
    "- If something says not callable means , it is not a function\n",
    "- It is not a function means, you need to remove bracket\n",
    "- Bound method means ==== add the brackets\n",
    "- Function ======= add the brackets\n",
    "- Not callable ==== remove the brackets"
   ]
  },
  {
   "cell_type": "markdown",
   "id": "454e687c-18f1-4242-a556-55cb90efdd22",
   "metadata": {},
   "source": [
    "## Package name : Time"
   ]
  },
  {
   "cell_type": "code",
   "execution_count": 36,
   "id": "41ffebf0-a3d8-4c60-a386-49e3608e53e7",
   "metadata": {},
   "outputs": [
    {
     "name": "stdout",
     "output_type": "stream",
     "text": [
      "Father: Hello\n",
      "Daughter: Hi papa how are you\n",
      "Father: Do you have school today\n",
      "Daughter: No papa I have a holiday\n"
     ]
    }
   ],
   "source": [
    "import time\n",
    "print(\"Father: Hello\")\n",
    "time.sleep(2)\n",
    "print(\"Daughter: Hi papa how are you\")\n",
    "time.sleep(2)\n",
    "print(\"Father: Do you have school today\")\n",
    "time.sleep(2)\n",
    "print(\"Daughter: No papa I have a holiday\")"
   ]
  },
  {
   "cell_type": "markdown",
   "id": "2f5e1c7e-0e6c-4f51-af26-0b8d9e20a40a",
   "metadata": {},
   "source": [
    "Computer vision is used in image operations, video operations.\n",
    "We call it as opencv.\n",
    "Package name: cv2"
   ]
  },
  {
   "cell_type": "code",
   "execution_count": 37,
   "id": "73a191b2-c768-4f8b-a740-e42f21cb1e44",
   "metadata": {},
   "outputs": [
    {
     "ename": "ModuleNotFoundError",
     "evalue": "No module named 'cv2'",
     "output_type": "error",
     "traceback": [
      "\u001b[1;31m---------------------------------------------------------------------------\u001b[0m",
      "\u001b[1;31mModuleNotFoundError\u001b[0m                       Traceback (most recent call last)",
      "Cell \u001b[1;32mIn[37], line 1\u001b[0m\n\u001b[1;32m----> 1\u001b[0m \u001b[38;5;28;01mimport\u001b[39;00m \u001b[38;5;21;01mcv2\u001b[39;00m\n",
      "\u001b[1;31mModuleNotFoundError\u001b[0m: No module named 'cv2'"
     ]
    }
   ],
   "source": [
    "import cv2"
   ]
  },
  {
   "cell_type": "markdown",
   "id": "61c01fe3-99c8-43b7-b26c-b691057e4ff5",
   "metadata": {},
   "source": [
    "- Whenever module not found we need to install it\n",
    "- Here our package name is cv2\n",
    "- 99% the installation will be like this"
   ]
  },
  {
   "cell_type": "markdown",
   "id": "2663d7f7-59ec-4c9b-8a0b-2450967a9eca",
   "metadata": {},
   "source": [
    "Pip Install"
   ]
  },
  {
   "cell_type": "markdown",
   "id": "80fcd1cf-e2bf-4582-9b87-b809b17db2b8",
   "metadata": {},
   "source": [
    "- Some packages installation name will be different and python import name will be different\n",
    "- In order to install the packages we need internet\n",
    "- If internet problem occures while installing we will get http error"
   ]
  },
  {
   "cell_type": "markdown",
   "id": "62f0d4c3-a069-4dcc-9328-28b156a4eb13",
   "metadata": {},
   "source": [
    "#### Note"
   ]
  },
  {
   "cell_type": "markdown",
   "id": "957b189e-1cbe-43e8-8b52-44475ee56b1c",
   "metadata": {},
   "source": [
    "pip freeze is the command to know the already existing packages in our laptop"
   ]
  },
  {
   "cell_type": "code",
   "execution_count": 39,
   "id": "43fce8dd-1ebc-4f8e-a604-798d2372e423",
   "metadata": {},
   "outputs": [],
   "source": [
    "import numpy"
   ]
  },
  {
   "cell_type": "code",
   "execution_count": 40,
   "id": "78eeaa2a-2d28-417a-a871-c4b1372adb31",
   "metadata": {},
   "outputs": [
    {
     "data": {
      "text/plain": [
       "<module 'numpy' from 'C:\\\\Users\\\\User\\\\anaconda3\\\\Lib\\\\site-packages\\\\numpy\\\\__init__.py'>"
      ]
     },
     "execution_count": 40,
     "metadata": {},
     "output_type": "execute_result"
    }
   ],
   "source": [
    "numpy"
   ]
  },
  {
   "cell_type": "code",
   "execution_count": 41,
   "id": "dc88cca0-3b0c-40d8-bbc1-5a5f0d7549dd",
   "metadata": {},
   "outputs": [
    {
     "name": "stdout",
     "output_type": "stream",
     "text": [
      "30\n"
     ]
    }
   ],
   "source": [
    "# hard coding: static\n",
    "# we are fixing the values\n",
    "\n",
    "number1=10\n",
    "number2=20\n",
    "add=number1+number2\n",
    "print(add)"
   ]
  },
  {
   "cell_type": "code",
   "execution_count": 42,
   "id": "04109782-4bd6-4ffc-8339-bc19aa6130ab",
   "metadata": {},
   "outputs": [
    {
     "name": "stdin",
     "output_type": "stream",
     "text": [
      "enter the number 1: 11\n",
      "enter the number 2: 11\n"
     ]
    },
    {
     "name": "stdout",
     "output_type": "stream",
     "text": [
      "22\n"
     ]
    }
   ],
   "source": [
    "# dynamic coding\n",
    "\n",
    "number1=eval(input(\"enter the number 1:\"))\n",
    "number2=eval(input(\"enter the number 2:\"))\n",
    "add=number1+number2\n",
    "print(add)"
   ]
  },
  {
   "cell_type": "code",
   "execution_count": 43,
   "id": "3f67ac45-3e5f-418f-8c68-b9b1309a855f",
   "metadata": {},
   "outputs": [
    {
     "name": "stdout",
     "output_type": "stream",
     "text": [
      "the addition of 78 and 144 is 222\n"
     ]
    }
   ],
   "source": [
    "# We can take the numbers randomly also\n",
    "\n",
    "import random\n",
    "number1=random.randint(1,100)\n",
    "number2=random.randint(100,200)\n",
    "add=number1+number2\n",
    "print(f\"the addition of {number1} and {number2} is {add}\")"
   ]
  },
  {
   "cell_type": "markdown",
   "id": "de12b828-bbd9-404c-9aec-36787aaedabe",
   "metadata": {},
   "source": [
    "#### How we can pass the numbers\n",
    "- Hard Coding\n",
    "- Using Keyboard\n",
    "- Using random package, by taking numbers randomly"
   ]
  },
  {
   "cell_type": "code",
   "execution_count": 44,
   "id": "b7d33c52-a290-49d6-81c9-c57d7f1ef418",
   "metadata": {},
   "outputs": [
    {
     "name": "stdout",
     "output_type": "stream",
     "text": [
      "30\n"
     ]
    },
    {
     "name": "stdin",
     "output_type": "stream",
     "text": [
      "enter the number 1: 100\n",
      "enter the number 2: 122\n"
     ]
    },
    {
     "name": "stdout",
     "output_type": "stream",
     "text": [
      "222\n",
      "the addition of 84 and 137 is 221\n"
     ]
    }
   ],
   "source": [
    "############################################################\n",
    "# HARD CODING\n",
    "number1=10\n",
    "number2=20\n",
    "add=number1+number2\n",
    "print(add)\n",
    "#############################################################\n",
    "# USING KEYBOARD\n",
    "number1=eval(input(\"enter the number 1:\"))\n",
    "number2=eval(input(\"enter the number 2:\"))\n",
    "add=number1+number2\n",
    "print(add)\n",
    "##############################################################\n",
    "# USING RANDOM PACKAGE\n",
    "import random\n",
    "number1=random.randint(1,100)\n",
    "number2=random.randint(100,200)\n",
    "add=number1+number2\n",
    "print(f\"the addition of {number1} and {number2} is {add}\")"
   ]
  },
  {
   "cell_type": "code",
   "execution_count": 45,
   "id": "cd4ef5d4-7dd7-43c6-a431-054d0750ac2e",
   "metadata": {},
   "outputs": [],
   "source": [
    "# In the entire notebook\n",
    "# If you import packages\n",
    "# No need to import every time\n",
    "# Just verify if the line is executed or not\n",
    "# All the packages will be imported at the starting"
   ]
  },
  {
   "cell_type": "markdown",
   "id": "1407acbb-f9b8-45b7-bfad-645c86e7eddb",
   "metadata": {},
   "source": [
    "#### Round"
   ]
  },
  {
   "cell_type": "code",
   "execution_count": 46,
   "id": "25eb1d37-a894-4030-939d-4a1e5c77c6e4",
   "metadata": {},
   "outputs": [
    {
     "data": {
      "text/plain": [
       "23"
      ]
     },
     "execution_count": 46,
     "metadata": {},
     "output_type": "execute_result"
    }
   ],
   "source": [
    "avg=22.666666666666668\n",
    "round(avg)"
   ]
  },
  {
   "cell_type": "code",
   "execution_count": 47,
   "id": "dabffd42-203e-466d-8688-1dbe3d3b2269",
   "metadata": {},
   "outputs": [
    {
     "data": {
      "text/plain": [
       "22.667"
      ]
     },
     "execution_count": 47,
     "metadata": {},
     "output_type": "execute_result"
    }
   ],
   "source": [
    "avg=22.666666666666668\n",
    "round(avg,3)"
   ]
  },
  {
   "cell_type": "code",
   "execution_count": 49,
   "id": "cca4bb9d-34bc-47d3-b947-d24496f16544",
   "metadata": {},
   "outputs": [
    {
     "name": "stdin",
     "output_type": "stream",
     "text": [
      "enter n2: 100\n"
     ]
    },
    {
     "name": "stdout",
     "output_type": "stream",
     "text": [
      "The avergae of 10,100 and 77 is: 62.33\n"
     ]
    }
   ],
   "source": [
    "# FIRST WAY\n",
    "n1=10\n",
    "n2=eval(input(\"enter n2:\"))\n",
    "n3=random.randint(1,100)\n",
    "avg=(n1+n2+n3)/3\n",
    "avg1=round(avg,2)\n",
    "print(f\"The avergae of {n1},{n2} and {n3} is: {avg1}\")"
   ]
  },
  {
   "cell_type": "code",
   "execution_count": 50,
   "id": "457aa70e-3ec2-422e-8a81-01234d788c66",
   "metadata": {},
   "outputs": [
    {
     "name": "stdin",
     "output_type": "stream",
     "text": [
      "enter n2: 1\n"
     ]
    },
    {
     "name": "stdout",
     "output_type": "stream",
     "text": [
      "The avergae of 10,1 and 86 is: 62.33\n"
     ]
    }
   ],
   "source": [
    "# SECOND WAY\n",
    "n1=10\n",
    "n2=eval(input(\"enter n2:\"))\n",
    "n3=random.randint(1,100)\n",
    "avg=round((n1+n2+n3)/3,2)\n",
    "print(f\"The avergae of {n1},{n2} and {n3} is: {avg1}\")"
   ]
  },
  {
   "cell_type": "code",
   "execution_count": null,
   "id": "e40c9de2-c272-4fc3-a179-e44e153b162b",
   "metadata": {},
   "outputs": [],
   "source": []
  }
 ],
 "metadata": {
  "kernelspec": {
   "display_name": "Python 3 (ipykernel)",
   "language": "python",
   "name": "python3"
  },
  "language_info": {
   "codemirror_mode": {
    "name": "ipython",
    "version": 3
   },
   "file_extension": ".py",
   "mimetype": "text/x-python",
   "name": "python",
   "nbconvert_exporter": "python",
   "pygments_lexer": "ipython3",
   "version": "3.11.7"
  }
 },
 "nbformat": 4,
 "nbformat_minor": 5
}
