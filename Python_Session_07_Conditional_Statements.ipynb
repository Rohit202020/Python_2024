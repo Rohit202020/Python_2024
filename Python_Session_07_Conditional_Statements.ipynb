{
 "cells": [
  {
   "cell_type": "markdown",
   "id": "60414a74-c07e-4587-8530-d249cec34a95",
   "metadata": {},
   "source": [
    "## Conditional statements\n",
    "\n",
    "- Conditional statements means we want to run the code lines based on condition.\n",
    "- If rain comes I will not go to school other wise I will go to school.\n",
    "- Rain is there will effect one process.\n",
    "- Rain is not there will effect another process\n",
    "- Different conditional statements are:\n",
    "     - if\n",
    "     - elif\n",
    "     - else"
   ]
  },
  {
   "cell_type": "markdown",
   "id": "cb1e8813-50b8-4c83-af02-f4e5b2a9db17",
   "metadata": {},
   "source": [
    "## if"
   ]
  },
  {
   "cell_type": "code",
   "execution_count": null,
   "id": "bf9db02d-5c18-4dd4-925b-07497f5fbe3b",
   "metadata": {},
   "outputs": [],
   "source": [
    "# syntax: \n",
    "if <condition>:\n",
    "   <codeline1>\n",
    "   <codeline2>"
   ]
  },
  {
   "cell_type": "markdown",
   "id": "27f6b31d-2418-4c42-8a8c-6af263752c19",
   "metadata": {},
   "source": [
    "- Whenever any line start with keyword(green) at the end of the line we have colon(:)\n",
    "- Whenever we have a colon(:) the next lines starts with some gap\n",
    "- And this gap is called as indentation\n",
    "- How many lines we are maintaining gap (indentation) that all comes under one areaines"
   ]
  },
  {
   "cell_type": "markdown",
   "id": "8f97839a-d3eb-4521-a349-e8c0ca6a9f0e",
   "metadata": {},
   "source": [
    "- if is a conditional statement , it will check the condition is True or False\n",
    "- if that condition will be True then only it will get entered inside the if area\n",
    "  and execute those code lines\n",
    "- if that condition will be False, then it will not get entered inside the if area\n",
    "  and it will not be executed"
   ]
  },
  {
   "cell_type": "code",
   "execution_count": 2,
   "id": "7e6d0fbd-43bc-4b6e-a6b6-301d911405bf",
   "metadata": {},
   "outputs": [
    {
     "name": "stdout",
     "output_type": "stream",
     "text": [
      "Hello\n"
     ]
    }
   ],
   "source": [
    "if 100>10:\n",
    "    print(\"Hello\")"
   ]
  },
  {
   "cell_type": "markdown",
   "id": "e47910f6-fe17-4f1b-8257-315f41a1e9f6",
   "metadata": {},
   "source": [
    "#### Mistake 1"
   ]
  },
  {
   "cell_type": "markdown",
   "id": "eb270dee-419e-4aa9-8295-27f21ea2b5da",
   "metadata": {},
   "source": [
    "- INDENTATION"
   ]
  },
  {
   "cell_type": "code",
   "execution_count": 3,
   "id": "771ce651-f79d-405d-afb3-37251c332359",
   "metadata": {},
   "outputs": [
    {
     "ename": "IndentationError",
     "evalue": "expected an indented block after 'if' statement on line 1 (2877297396.py, line 2)",
     "output_type": "error",
     "traceback": [
      "\u001b[1;36m  Cell \u001b[1;32mIn[3], line 2\u001b[1;36m\u001b[0m\n\u001b[1;33m    print(\"Hello\")\u001b[0m\n\u001b[1;37m    ^\u001b[0m\n\u001b[1;31mIndentationError\u001b[0m\u001b[1;31m:\u001b[0m expected an indented block after 'if' statement on line 1\n"
     ]
    }
   ],
   "source": [
    "if 100>10:\n",
    "print(\"Hello\")"
   ]
  },
  {
   "cell_type": "code",
   "execution_count": 4,
   "id": "ca4f2a16-4fb5-451e-807f-6f298ca797b9",
   "metadata": {},
   "outputs": [
    {
     "name": "stdout",
     "output_type": "stream",
     "text": [
      "Hello\n"
     ]
    }
   ],
   "source": [
    "if 100>10:\n",
    "    print(\"Hello\")\n",
    "# Indentation requires 4 spaces"
   ]
  },
  {
   "cell_type": "code",
   "execution_count": null,
   "id": "f9d81daa-b7fd-4e51-8694-a7aa3d055a8f",
   "metadata": {},
   "outputs": [],
   "source": []
  },
  {
   "cell_type": "markdown",
   "id": "8cdf5bed-6f4c-45ea-ad66-4dffbf379b11",
   "metadata": {},
   "source": [
    "#### Mistake 2"
   ]
  },
  {
   "cell_type": "markdown",
   "id": "c1b03ce4-b9ec-4515-866c-c54f08a62158",
   "metadata": {},
   "source": [
    "- COLON(:)"
   ]
  },
  {
   "cell_type": "code",
   "execution_count": 5,
   "id": "3e8ed0ae-07c1-4e94-a13c-4b5e37e78a8c",
   "metadata": {},
   "outputs": [
    {
     "ename": "SyntaxError",
     "evalue": "expected ':' (2167152035.py, line 1)",
     "output_type": "error",
     "traceback": [
      "\u001b[1;36m  Cell \u001b[1;32mIn[5], line 1\u001b[1;36m\u001b[0m\n\u001b[1;33m    if 100>10\u001b[0m\n\u001b[1;37m             ^\u001b[0m\n\u001b[1;31mSyntaxError\u001b[0m\u001b[1;31m:\u001b[0m expected ':'\n"
     ]
    }
   ],
   "source": [
    "if 100>10\n",
    "    print(\"Hello\")"
   ]
  },
  {
   "cell_type": "code",
   "execution_count": null,
   "id": "5e70e9c1-986a-4ccc-9631-d76fdfbacb13",
   "metadata": {},
   "outputs": [],
   "source": []
  },
  {
   "cell_type": "markdown",
   "id": "201720d8-cf41-4e60-b9dd-9d7a367c1baa",
   "metadata": {},
   "source": [
    "#### Mistake 3"
   ]
  },
  {
   "cell_type": "markdown",
   "id": "6255e164-1270-48be-90b3-bbb2ef3dae11",
   "metadata": {},
   "source": [
    "- if will always expect a condition"
   ]
  },
  {
   "cell_type": "code",
   "execution_count": 6,
   "id": "6f77272b-22e8-4a86-b6f3-36dc53bed5ad",
   "metadata": {},
   "outputs": [
    {
     "ename": "SyntaxError",
     "evalue": "invalid syntax (4239199863.py, line 1)",
     "output_type": "error",
     "traceback": [
      "\u001b[1;36m  Cell \u001b[1;32mIn[6], line 1\u001b[1;36m\u001b[0m\n\u001b[1;33m    if:\u001b[0m\n\u001b[1;37m      ^\u001b[0m\n\u001b[1;31mSyntaxError\u001b[0m\u001b[1;31m:\u001b[0m invalid syntax\n"
     ]
    }
   ],
   "source": [
    "if:\n",
    "    print(\"Hello\")"
   ]
  },
  {
   "cell_type": "code",
   "execution_count": null,
   "id": "b56af482-cbac-4ab7-a63c-367f00cb8872",
   "metadata": {},
   "outputs": [],
   "source": []
  },
  {
   "cell_type": "markdown",
   "id": "37a9e727-0563-43a9-b75a-f0c75a888b93",
   "metadata": {},
   "source": [
    "#### Mistake 4 "
   ]
  },
  {
   "cell_type": "markdown",
   "id": "f440f25b-ca60-47b8-8091-60b0a8b322f6",
   "metadata": {},
   "source": [
    "- MISSING BRACKETS"
   ]
  },
  {
   "cell_type": "code",
   "execution_count": 7,
   "id": "c6ce3f17-8a97-4154-b43b-626a88428517",
   "metadata": {},
   "outputs": [
    {
     "ename": "SyntaxError",
     "evalue": "Missing parentheses in call to 'print'. Did you mean print(...)? (1044898628.py, line 2)",
     "output_type": "error",
     "traceback": [
      "\u001b[1;36m  Cell \u001b[1;32mIn[7], line 2\u001b[1;36m\u001b[0m\n\u001b[1;33m    print \"Hello\"\u001b[0m\n\u001b[1;37m    ^\u001b[0m\n\u001b[1;31mSyntaxError\u001b[0m\u001b[1;31m:\u001b[0m Missing parentheses in call to 'print'. Did you mean print(...)?\n"
     ]
    }
   ],
   "source": [
    "if 100>10:\n",
    "    print \"Hello\""
   ]
  },
  {
   "cell_type": "code",
   "execution_count": null,
   "id": "8746ca36-0621-434c-a19c-269c8bff7f38",
   "metadata": {},
   "outputs": [],
   "source": []
  },
  {
   "cell_type": "markdown",
   "id": "02279aea-f137-4f61-980e-4f858a22d7b1",
   "metadata": {},
   "source": [
    "#### Mistake 5 "
   ]
  },
  {
   "cell_type": "markdown",
   "id": "3a27e82d-5622-4f11-aac5-d18579684d78",
   "metadata": {},
   "source": [
    "- Never assign a variable to a print statement\n",
    "- We use print statement to see the answer"
   ]
  },
  {
   "cell_type": "code",
   "execution_count": 8,
   "id": "3b8aa5b9-b1d5-4796-9bb4-8e511bbfae92",
   "metadata": {},
   "outputs": [
    {
     "name": "stdout",
     "output_type": "stream",
     "text": [
      "Hello\n"
     ]
    }
   ],
   "source": [
    "if 100>10:\n",
    "    name = print(\"Hello\")"
   ]
  },
  {
   "cell_type": "code",
   "execution_count": null,
   "id": "b8239821-71ad-4a9b-ada4-d900c5fb1799",
   "metadata": {},
   "outputs": [],
   "source": []
  },
  {
   "cell_type": "markdown",
   "id": "09fef003-37de-4271-bb98-f3a922329e3e",
   "metadata": {},
   "source": [
    "#### Mistake 6"
   ]
  },
  {
   "cell_type": "markdown",
   "id": "5e42f55a-c9fa-44e3-bc26-42acdea86673",
   "metadata": {},
   "source": [
    "- All types of syntax error\n",
    "- Spelling mistakes"
   ]
  },
  {
   "cell_type": "code",
   "execution_count": 10,
   "id": "8b318b35-e0ea-41fd-a9f9-aa081b83e711",
   "metadata": {},
   "outputs": [
    {
     "name": "stdout",
     "output_type": "stream",
     "text": [
      "hello\n",
      "good morning\n"
     ]
    }
   ],
   "source": [
    "if 100>10:\n",
    "    print(\"hello\")\n",
    "    print('good morning')"
   ]
  },
  {
   "cell_type": "code",
   "execution_count": 12,
   "id": "b011c3db-a8f8-455a-bbd9-54b70b18f43c",
   "metadata": {},
   "outputs": [
    {
     "name": "stdout",
     "output_type": "stream",
     "text": [
      "hello\n",
      "good morning\n",
      "okay\n",
      "bye\n"
     ]
    }
   ],
   "source": [
    "if 100>10:\n",
    "    print(\"hello\")\n",
    "    print('good morning')\n",
    "#########################################\n",
    "print(\"okay\")\n",
    "print(\"bye\")\n",
    "# step-1: if 100>10 if True\n",
    "# step-2: hello\n",
    "# step-3: good morning\n",
    "# step-4: okay\n",
    "# step-5: bye"
   ]
  },
  {
   "cell_type": "code",
   "execution_count": 13,
   "id": "a1ec5207-bbe0-4b47-9b46-3a1ce816fe43",
   "metadata": {},
   "outputs": [
    {
     "name": "stdout",
     "output_type": "stream",
     "text": [
      "10\n",
      "20\n",
      "hello\n",
      "good mornig\n",
      "okay\n",
      "bye\n"
     ]
    }
   ],
   "source": [
    "print(10)\n",
    "print(20)\n",
    "##################################\n",
    "if 100>10:\n",
    "    print(\"hello\")\n",
    "    print('good mornig')\n",
    "####################################\n",
    "print(\"okay\")\n",
    "print(\"bye\")"
   ]
  },
  {
   "cell_type": "code",
   "execution_count": null,
   "id": "60d085f0-450e-4932-bb17-0d7604c44703",
   "metadata": {},
   "outputs": [],
   "source": []
  },
  {
   "cell_type": "markdown",
   "id": "615e4c12-9a70-40f7-93e6-9ce92837d78e",
   "metadata": {},
   "source": [
    "## if-else"
   ]
  },
  {
   "cell_type": "markdown",
   "id": "32ec2593-8710-41bc-b7ac-3cbba2346a63",
   "metadata": {},
   "source": [
    "- if requires condition\n",
    "- If that condition is True, then it will execute if block\n",
    "- Otherwise it can directly go to the else block\n",
    "- So else block does not require any condition"
   ]
  },
  {
   "cell_type": "code",
   "execution_count": null,
   "id": "c3e05921-1e6d-4c33-8e38-ef271519409a",
   "metadata": {},
   "outputs": [],
   "source": [
    "# syntax\n",
    "if <condtion>:\n",
    "    <code line>\n",
    "else:\n",
    "    <code line>"
   ]
  },
  {
   "cell_type": "code",
   "execution_count": 14,
   "id": "4fb1c38d-0351-43a0-9a47-8f8d6e199fab",
   "metadata": {},
   "outputs": [
    {
     "name": "stdout",
     "output_type": "stream",
     "text": [
      "good condition is correct\n"
     ]
    }
   ],
   "source": [
    "if 100>10:\n",
    "    print(\"good condition is correct\")\n",
    "else:\n",
    "    print(\"not good condition is wrong\")"
   ]
  },
  {
   "cell_type": "code",
   "execution_count": 15,
   "id": "518e72a2-4361-43f9-99dd-52ae766d0a56",
   "metadata": {},
   "outputs": [
    {
     "name": "stdout",
     "output_type": "stream",
     "text": [
      "not good condition is wrong\n"
     ]
    }
   ],
   "source": [
    "if 100<10:\n",
    "    print(\"good condition is correct\")\n",
    "else:\n",
    "    print(\"not good condition is wrong\")"
   ]
  },
  {
   "cell_type": "code",
   "execution_count": 16,
   "id": "05526234-1bfb-499d-b4d5-67bb45ac09a0",
   "metadata": {},
   "outputs": [
    {
     "name": "stdout",
     "output_type": "stream",
     "text": [
      "hello\n",
      "good condition is correct\n",
      "bye\n"
     ]
    }
   ],
   "source": [
    "print(\"hello\")\n",
    "if 100>10:\n",
    "    print(\"good condition is correct\")\n",
    "else:\n",
    "    print(\"not good condition is wrong\")\n",
    "print(\"bye\")"
   ]
  },
  {
   "cell_type": "code",
   "execution_count": 18,
   "id": "50988290-0779-442f-82f3-629c533e10ac",
   "metadata": {},
   "outputs": [
    {
     "name": "stdout",
     "output_type": "stream",
     "text": [
      "10\n",
      "0\n",
      "10\n",
      "0.0\n"
     ]
    },
    {
     "ename": "ZeroDivisionError",
     "evalue": "division by zero",
     "output_type": "error",
     "traceback": [
      "\u001b[1;31m---------------------------------------------------------------------------\u001b[0m",
      "\u001b[1;31mZeroDivisionError\u001b[0m                         Traceback (most recent call last)",
      "Cell \u001b[1;32mIn[18], line 10\u001b[0m\n\u001b[0;32m      8\u001b[0m d\u001b[38;5;241m=\u001b[39mb\u001b[38;5;241m/\u001b[39ma     \u001b[38;5;66;03m# 0/10 = 0\u001b[39;00m\n\u001b[0;32m      9\u001b[0m \u001b[38;5;28mprint\u001b[39m(d)\n\u001b[1;32m---> 10\u001b[0m e\u001b[38;5;241m=\u001b[39ma\u001b[38;5;241m/\u001b[39mb     \u001b[38;5;66;03m# 10/0= any number /0 means error\u001b[39;00m\n\u001b[0;32m     11\u001b[0m \u001b[38;5;28mprint\u001b[39m(e)\n",
      "\u001b[1;31mZeroDivisionError\u001b[0m: division by zero"
     ]
    }
   ],
   "source": [
    "if True:\n",
    "    a=10\n",
    "    b=0\n",
    "    print(a)  # 10\n",
    "    print(b)  # 0\n",
    "    c=a+b\n",
    "    print(c)  # 10+0=10\n",
    "    d=b/a     # 0/10 = 0\n",
    "    print(d)\n",
    "    e=a/b     # 10/0= any number /0 means error\n",
    "    print(e)"
   ]
  },
  {
   "cell_type": "code",
   "execution_count": null,
   "id": "83c7720f-cf4f-48d8-9385-2c997fc7d755",
   "metadata": {},
   "outputs": [],
   "source": []
  },
  {
   "cell_type": "markdown",
   "id": "588e9b31-d185-46d9-a6e0-4eaf2a073376",
   "metadata": {},
   "source": [
    "## elif"
   ]
  },
  {
   "cell_type": "markdown",
   "id": "e7db3db6-1abf-47db-8895-fd5d0a7d71f8",
   "metadata": {},
   "source": [
    "- Till now we have seen one condition problem\n",
    "- Which means if that condition is True will get one answer\n",
    "- if that condition is False then will get another answer\n",
    "- How about if we have more than 2 conditions\n",
    "- if-elif-else:\n",
    "   - two conditions means 3 results\n",
    "   - if has one condition\n",
    "   - elif has second condition\n",
    "   - if both are false then the result will be in else block"
   ]
  },
  {
   "cell_type": "code",
   "execution_count": null,
   "id": "0c9d65b7-82bb-4696-8c9a-22294f979464",
   "metadata": {},
   "outputs": [],
   "source": [
    "# Syntax: \n",
    "if <condition>:\n",
    "    <statements>\n",
    "elif <condition>:\n",
    "    <statements>\n",
    "else:\n",
    "    <statement>\n",
    "if-else (1)\n",
    "if-elif-else(2)\n",
    "if-elif-elif-else(3)"
   ]
  },
  {
   "cell_type": "code",
   "execution_count": 19,
   "id": "6e214463-1fc0-4793-a8e2-141bca2d9379",
   "metadata": {},
   "outputs": [
    {
     "name": "stdin",
     "output_type": "stream",
     "text": [
      "enter the number: 6\n"
     ]
    },
    {
     "name": "stdout",
     "output_type": "stream",
     "text": [
      "enter the valid number\n"
     ]
    }
   ],
   "source": [
    "# wap ask the user enter number\n",
    "# if number equal to 1 then print one\n",
    "# if number equal to 2 then print two\n",
    "# if number equal to 3 then print three\n",
    "# otherwise print enter a valid number\n",
    "\n",
    "num=eval(input(\"enter the number:\"))\n",
    "if num==1:\n",
    "    print(\"one\")\n",
    "elif num==2:\n",
    "    print(\"two\")\n",
    "elif num==3:\n",
    "    print(\"three\")\n",
    "else:\n",
    "    print(\"enter the valid number\")"
   ]
  },
  {
   "cell_type": "code",
   "execution_count": null,
   "id": "c9cc6fc9-4f65-45dc-a206-47a9ace5890e",
   "metadata": {},
   "outputs": [],
   "source": []
  },
  {
   "cell_type": "code",
   "execution_count": 6,
   "id": "b4a28a13-805d-4e5f-8910-b15d126bfe9a",
   "metadata": {},
   "outputs": [
    {
     "name": "stdin",
     "output_type": "stream",
     "text": [
      "Enter first number:  20\n",
      "Enter second number:  20\n"
     ]
    },
    {
     "name": "stdout",
     "output_type": "stream",
     "text": [
      "Enter 1 for addition\n",
      "Enter 2 for Multiplication\n",
      "Enter 3 for Subtraction\n",
      "Enter 4 for Division\n"
     ]
    },
    {
     "name": "stdin",
     "output_type": "stream",
     "text": [
      "Enter which operation do you want to perform:  1\n"
     ]
    },
    {
     "name": "stdout",
     "output_type": "stream",
     "text": [
      "The addition of 20 and 20 is : 40\n"
     ]
    }
   ],
   "source": [
    "num1 = eval(input(\"Enter first number: \"))\n",
    "num2 = eval(input(\"Enter second number: \"))\n",
    "print(\"Enter 1 for addition\")\n",
    "print(\"Enter 2 for Multiplication\")\n",
    "print(\"Enter 3 for Subtraction\")\n",
    "print(\"Enter 4 for Division\")\n",
    "Operation = input(\"Enter which operation do you want to perform: \")\n",
    "if Operation == '1':\n",
    "    print(f\"The addition of {num1} and {num2} is : {num1+num2}\")\n",
    "elif Operation == '2':\n",
    "    print(f\"The multiplication of {num1} and {num2} is : {num1*num2}\")\n",
    "elif Operation == '3':\n",
    "    print(f\"The subtraction of {num1} and {num2} is : {num1-num2}\")\n",
    "elif Operation == '4':\n",
    "    print(f\"The division of {num1} and {num2} is : {num1/num2}\")\n",
    "else:\n",
    "    print(\"Enter a valid number and operation\")"
   ]
  },
  {
   "cell_type": "code",
   "execution_count": null,
   "id": "1179ef72-3d75-4c28-82a2-53f1d14f868c",
   "metadata": {},
   "outputs": [],
   "source": []
  },
  {
   "cell_type": "code",
   "execution_count": 10,
   "id": "4093502d-1fdc-4106-b8ae-1a5057ef7b09",
   "metadata": {},
   "outputs": [
    {
     "name": "stdin",
     "output_type": "stream",
     "text": [
      "Enter your gender:  Male\n",
      "Enter your age:  35\n"
     ]
    },
    {
     "name": "stdout",
     "output_type": "stream",
     "text": [
      "Your are a middle age man\n"
     ]
    }
   ],
   "source": [
    "gender = input(\"Enter your gender: \")\n",
    "if gender == 'Male':\n",
    "    age = eval(input(\"Enter your age: \"))\n",
    "    if age >= 60:\n",
    "        print(\"You are a senior citizen\")\n",
    "    elif age >= 30:\n",
    "        print(\"Your are a middle age man\")\n",
    "    elif age >= 15:\n",
    "        print(\"You are a young man\")\n",
    "    else:\n",
    "        print(\"You are a boy\")\n",
    "elif gender == 'Female':\n",
    "    age = eval(input(\"Enter your age: \"))\n",
    "    if age >= 60:\n",
    "        print(\"You are a senior citizen\")\n",
    "    elif age >= 30:\n",
    "        print(\"Your are a middle age woman\")\n",
    "    elif age >= 15:\n",
    "        print(\"You are a young woman\")\n",
    "    else:\n",
    "        print(\"You are a girl\")\n",
    "else:\n",
    "    print(\"Enter a valid gender\")"
   ]
  },
  {
   "cell_type": "code",
   "execution_count": null,
   "id": "124a1861-88de-4ec3-85aa-6c02b3923f54",
   "metadata": {},
   "outputs": [],
   "source": []
  },
  {
   "cell_type": "code",
   "execution_count": 14,
   "id": "fa202f9c-9dc4-4759-aea6-592a1436bb89",
   "metadata": {},
   "outputs": [
    {
     "name": "stdin",
     "output_type": "stream",
     "text": [
      "Enter a number:  -1\n"
     ]
    },
    {
     "name": "stdout",
     "output_type": "stream",
     "text": [
      "Negative\n"
     ]
    }
   ],
   "source": [
    "num = eval(input(\"Enter a number: \"))\n",
    "if num >= 0:\n",
    "    if num == 0:\n",
    "        print(\"Zero\")\n",
    "    else:\n",
    "        print(\"Positive\")\n",
    "else:\n",
    "    print(\"Negative\")"
   ]
  },
  {
   "cell_type": "code",
   "execution_count": null,
   "id": "ebd18e49-3e07-40b6-9230-14243e62c45d",
   "metadata": {},
   "outputs": [],
   "source": []
  }
 ],
 "metadata": {
  "kernelspec": {
   "display_name": "Python 3 (ipykernel)",
   "language": "python",
   "name": "python3"
  },
  "language_info": {
   "codemirror_mode": {
    "name": "ipython",
    "version": 3
   },
   "file_extension": ".py",
   "mimetype": "text/x-python",
   "name": "python",
   "nbconvert_exporter": "python",
   "pygments_lexer": "ipython3",
   "version": "3.11.7"
  }
 },
 "nbformat": 4,
 "nbformat_minor": 5
}
