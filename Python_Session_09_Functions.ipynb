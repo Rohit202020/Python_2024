{
 "cells": [
  {
   "cell_type": "markdown",
   "id": "faeeabc1-8087-483b-8f14-61f20832eebf",
   "metadata": {},
   "source": [
    "## Functions ##\n",
    "- Fuctions is a block of code which we can use many times"
   ]
  },
  {
   "cell_type": "code",
   "execution_count": null,
   "id": "cd1a9760-c164-469e-85bc-7a632583318b",
   "metadata": {},
   "outputs": [],
   "source": [
    "# Syntax: \n",
    "def function_name():\n",
    "    codelines"
   ]
  },
  {
   "cell_type": "markdown",
   "id": "e2f2eb35-c6f3-4b63-b7c8-558b2ecfb074",
   "metadata": {},
   "source": [
    "#### Functions without arguments"
   ]
  },
  {
   "cell_type": "code",
   "execution_count": 1,
   "id": "c6ea98c5-8d9d-4bba-b5a8-9e8afa94df04",
   "metadata": {},
   "outputs": [
    {
     "name": "stdout",
     "output_type": "stream",
     "text": [
      "num1 is: 10\n",
      "num2 is: 20\n",
      "The addition of 10 and 20 is : 30\n"
     ]
    }
   ],
   "source": [
    "def addition():\n",
    "    num1 = 10\n",
    "    print(\"num1 is:\",num1)\n",
    "    num2 = 20\n",
    "    print(\"num2 is:\",num2)\n",
    "    add = num1 + num2\n",
    "    print(f\"The addition of {num1} and {num2} is : {add}\")\n",
    "addition()"
   ]
  },
  {
   "cell_type": "markdown",
   "id": "42a2b172-f1ab-4a32-ab75-f5af2d2c2f3d",
   "metadata": {},
   "source": [
    "## NOTE\n",
    "- Function name can be anything\n",
    "- Same rules are applied in functions as compared to variable rules\n",
    "- Whenever you create a function take a look at the indentation properly\n",
    "- Start with a keyword, end with a colon and the start the codes with proper indentation\n",
    "- Brackets means functions\n",
    "- Never miss the brackets whenever you call the function\n",
    "- If you want to execute the code we need to call the function\n",
    "- While you are calling the function if you see function or bound method it means you missed the brackets"
   ]
  },
  {
   "cell_type": "markdown",
   "id": "ebfa262b-2fac-4f54-b92d-09f83e4b35e2",
   "metadata": {},
   "source": [
    "#### Whenever we define a function it will never throw an error unless we call the function"
   ]
  },
  {
   "cell_type": "code",
   "execution_count": 2,
   "id": "386131a8-b33f-4204-94d2-047b24a857cc",
   "metadata": {},
   "outputs": [],
   "source": [
    "def addition1():\n",
    "    num1=10\n",
    "    print(\"num1 is:\",num1)\n",
    "    num2=20\n",
    "    print(\"num2 is:\",num2)\n",
    "    add=num111+num2\n",
    "    print(f\"the addition of {num1} and {num2} is: {add}\")"
   ]
  },
  {
   "cell_type": "code",
   "execution_count": 3,
   "id": "91ad36f7-7758-412f-8929-dec7bcc577ab",
   "metadata": {},
   "outputs": [
    {
     "name": "stdout",
     "output_type": "stream",
     "text": [
      "num1 is: 10\n",
      "num2 is: 20\n"
     ]
    },
    {
     "ename": "NameError",
     "evalue": "name 'num111' is not defined",
     "output_type": "error",
     "traceback": [
      "\u001b[1;31m---------------------------------------------------------------------------\u001b[0m",
      "\u001b[1;31mNameError\u001b[0m                                 Traceback (most recent call last)",
      "Cell \u001b[1;32mIn[3], line 5\u001b[0m\n\u001b[0;32m      3\u001b[0m num2\u001b[38;5;241m=\u001b[39m\u001b[38;5;241m20\u001b[39m\n\u001b[0;32m      4\u001b[0m \u001b[38;5;28mprint\u001b[39m(\u001b[38;5;124m\"\u001b[39m\u001b[38;5;124mnum2 is:\u001b[39m\u001b[38;5;124m\"\u001b[39m,num2)\n\u001b[1;32m----> 5\u001b[0m add\u001b[38;5;241m=\u001b[39mnum111\u001b[38;5;241m+\u001b[39mnum2\n\u001b[0;32m      6\u001b[0m \u001b[38;5;28mprint\u001b[39m(\u001b[38;5;124mf\u001b[39m\u001b[38;5;124m\"\u001b[39m\u001b[38;5;124mthe addition of \u001b[39m\u001b[38;5;132;01m{\u001b[39;00mnum1\u001b[38;5;132;01m}\u001b[39;00m\u001b[38;5;124m and \u001b[39m\u001b[38;5;132;01m{\u001b[39;00mnum2\u001b[38;5;132;01m}\u001b[39;00m\u001b[38;5;124m is: \u001b[39m\u001b[38;5;132;01m{\u001b[39;00madd\u001b[38;5;132;01m}\u001b[39;00m\u001b[38;5;124m\"\u001b[39m)\n",
      "\u001b[1;31mNameError\u001b[0m: name 'num111' is not defined"
     ]
    }
   ],
   "source": [
    "num1=10\n",
    "print(\"num1 is:\",num1)\n",
    "num2=20\n",
    "print(\"num2 is:\",num2)\n",
    "add=num111+num2\n",
    "print(f\"the addition of {num1} and {num2} is: {add}\")"
   ]
  },
  {
   "cell_type": "code",
   "execution_count": null,
   "id": "0325e234-d703-439d-b95c-25bb3a2672ae",
   "metadata": {},
   "outputs": [],
   "source": []
  },
  {
   "cell_type": "markdown",
   "id": "e73844c0-47f7-4ce6-a90c-f04ec6e6931c",
   "metadata": {},
   "source": [
    "#### Functions with Arguments"
   ]
  },
  {
   "cell_type": "markdown",
   "id": "63dafe03-39d0-488d-ae42-a32f1f4750f5",
   "metadata": {},
   "source": [
    "- First we will have to look at how many variables are arguments are present\n",
    "- In that how many input and output variables are present\n",
    "- Input variables means which a user can define\n",
    "- Output variables means the output which is given by python\n",
    "- We can use only input variables as arguments inside the function"
   ]
  },
  {
   "cell_type": "code",
   "execution_count": 1,
   "id": "969bbaf3-9984-43cd-a435-0bfe564c821b",
   "metadata": {},
   "outputs": [
    {
     "name": "stdout",
     "output_type": "stream",
     "text": [
      "The addition of 20 and 30 is: 50\n"
     ]
    }
   ],
   "source": [
    "def addition(num1,num2):\n",
    "    add = num1 + num2\n",
    "    print(f\"The addition of {num1} and {num2} is: {add}\")\n",
    "addition(20,30)"
   ]
  },
  {
   "cell_type": "code",
   "execution_count": 2,
   "id": "1e38a069-202f-462d-b743-41b937f8a3ee",
   "metadata": {},
   "outputs": [
    {
     "name": "stdout",
     "output_type": "stream",
     "text": [
      "The average of 10,20,30 is: 20.0\n"
     ]
    }
   ],
   "source": [
    "# Average Problem\n",
    "def average(x,y,z):\n",
    "    avg = (x+y+z)/3\n",
    "    print(f\"The average of {x},{y},{z} is: {avg}\")\n",
    "average(10,20,30)"
   ]
  },
  {
   "cell_type": "code",
   "execution_count": null,
   "id": "ac256f91-731e-462b-8635-d4365df865d0",
   "metadata": {},
   "outputs": [],
   "source": []
  },
  {
   "cell_type": "markdown",
   "id": "8507d4a4-0e26-4045-8f8d-1eef19b14972",
   "metadata": {},
   "source": [
    "#### Default Arguments"
   ]
  },
  {
   "cell_type": "markdown",
   "id": "e24f91d2-d7f9-4459-bee9-2052a51b4715",
   "metadata": {},
   "source": [
    "- Default arguments are always given at last"
   ]
  },
  {
   "cell_type": "code",
   "execution_count": 3,
   "id": "a5576edc-ea8a-4390-9462-21cfbcd1dcf2",
   "metadata": {},
   "outputs": [
    {
     "name": "stdin",
     "output_type": "stream",
     "text": [
      "Enter your bill amount:  2000\n",
      "Enter the amount of tip you want to give in percent:  40\n"
     ]
    },
    {
     "name": "stdout",
     "output_type": "stream",
     "text": [
      "Your total bill after adding the tip is: 2800.0\n"
     ]
    }
   ],
   "source": [
    "# Without Arguments\n",
    "def Bill():\n",
    "    bill_amount = eval(input(\"Enter your bill amount: \"))\n",
    "    tip_percent = eval(input(\"Enter the amount of tip you want to give in percent: \"))\n",
    "    total_bill = bill_amount + bill_amount*tip_percent/100\n",
    "    print(f\"Your total bill after adding the tip is: {total_bill}\")\n",
    "Bill()"
   ]
  },
  {
   "cell_type": "code",
   "execution_count": 4,
   "id": "7decbdbc-a365-4509-8c15-90487374431c",
   "metadata": {},
   "outputs": [
    {
     "name": "stdout",
     "output_type": "stream",
     "text": [
      "Your total bill after adding the tip is: 2400.0\n"
     ]
    }
   ],
   "source": [
    "# With Arguments\n",
    "def Bill(bill_amount,tip_percent=20):\n",
    "    total_bill = bill_amount + bill_amount*tip_percent/100\n",
    "    print(f\"Your total bill after adding the tip is: {total_bill}\")\n",
    "Bill(2000)"
   ]
  },
  {
   "cell_type": "code",
   "execution_count": null,
   "id": "4e5be38f-1acf-435c-abe3-a10b894e0cb7",
   "metadata": {},
   "outputs": [],
   "source": []
  },
  {
   "cell_type": "code",
   "execution_count": null,
   "id": "1da96783-b4ca-496f-8ff4-b50e96117bdd",
   "metadata": {},
   "outputs": [],
   "source": [
    "average1(num1,num2,num3=40)          # Works\n",
    "average1(num1,num2=50,num3)          # Fail\n",
    "average1(num1=100,num2,num3)         # Fail\n",
    "average1(num1,num2=50,num3=40)       # Works\n",
    "average1(num1=100,num2,num3=40)      # Fail\n",
    "average1(num1=100,num2=50,num3)      # Fail\n",
    "average1(num1=100,num2=50,num3=40)   # Works"
   ]
  },
  {
   "cell_type": "code",
   "execution_count": null,
   "id": "d12ebb1d-1faf-45a9-aae0-177ddec7f225",
   "metadata": {},
   "outputs": [],
   "source": []
  },
  {
   "cell_type": "code",
   "execution_count": 1,
   "id": "cb5c01f7-c019-4ead-a77e-1800cd44a4a1",
   "metadata": {},
   "outputs": [
    {
     "name": "stdin",
     "output_type": "stream",
     "text": [
      "Enter first number:  20\n",
      "Enter second number:  30\n",
      "Enter third number:  40\n"
     ]
    },
    {
     "name": "stdout",
     "output_type": "stream",
     "text": [
      "The average of 20, 30, 40 is: 30.0\n"
     ]
    }
   ],
   "source": [
    "def average():\n",
    "    num1 = eval(input(\"Enter first number: \"))\n",
    "    num2 = eval(input(\"Enter second number: \"))\n",
    "    num3 = eval(input(\"Enter third number: \"))\n",
    "    avg = (num1 + num2 + num3)/3\n",
    "    print(f\"The average of {num1}, {num2}, {num3} is: {avg}\")\n",
    "average()"
   ]
  },
  {
   "cell_type": "code",
   "execution_count": null,
   "id": "ca95e2be-5b56-46d0-8664-8a46128ac8d4",
   "metadata": {},
   "outputs": [],
   "source": []
  },
  {
   "cell_type": "code",
   "execution_count": 2,
   "id": "1db2d925-8568-4fc0-96ed-b2c3dd20d09f",
   "metadata": {},
   "outputs": [
    {
     "name": "stdin",
     "output_type": "stream",
     "text": [
      "Enter the radius of circle:  10\n"
     ]
    },
    {
     "name": "stdout",
     "output_type": "stream",
     "text": [
      "The area of circle is: 314.0\n"
     ]
    }
   ],
   "source": [
    "def area_circle():\n",
    "    radius = eval(input(\"Enter the radius of circle: \"))\n",
    "    pi = 3.14\n",
    "    Area = pi*radius*radius\n",
    "    print(f\"The area of circle is: {Area}\")\n",
    "area_circle()"
   ]
  },
  {
   "cell_type": "code",
   "execution_count": null,
   "id": "836819bc-b0ab-4e37-9e4c-d8877300dbde",
   "metadata": {},
   "outputs": [],
   "source": []
  },
  {
   "cell_type": "code",
   "execution_count": 3,
   "id": "8deb3e24-f077-4d32-bcea-1db4f21a02d0",
   "metadata": {},
   "outputs": [
    {
     "name": "stdin",
     "output_type": "stream",
     "text": [
      "Enter your bill amount:  2000\n",
      "Enter the amount of tip you want to give in percent:  10\n"
     ]
    },
    {
     "name": "stdout",
     "output_type": "stream",
     "text": [
      "Your total bill after adding the tip is: 2200.0\n"
     ]
    }
   ],
   "source": [
    "def Bill():\n",
    "    bill_amount = eval(input(\"Enter your bill amount: \"))\n",
    "    tip_percent = eval(input(\"Enter the amount of tip you want to give in percent: \"))\n",
    "    total_bill = bill_amount + bill_amount*tip_percent/100\n",
    "    print(f\"Your total bill after adding the tip is: {total_bill}\")\n",
    "Bill()"
   ]
  },
  {
   "cell_type": "code",
   "execution_count": null,
   "id": "3c30831a-d5b0-4aae-aacd-6902600f1905",
   "metadata": {},
   "outputs": [],
   "source": []
  },
  {
   "cell_type": "code",
   "execution_count": 4,
   "id": "16a1eb52-acb4-4ef5-b506-16d4f2ed4a0e",
   "metadata": {},
   "outputs": [
    {
     "name": "stdin",
     "output_type": "stream",
     "text": [
      "Enter the base of triangle:  10\n",
      "Enter the height of triangle:  20\n"
     ]
    },
    {
     "name": "stdout",
     "output_type": "stream",
     "text": [
      "The area of triangle is: 100.0\n"
     ]
    }
   ],
   "source": [
    "def area_triangle():\n",
    "    base = eval(input(\"Enter the base of triangle: \"))\n",
    "    height = eval(input(\"Enter the height of triangle: \"))\n",
    "    Area = 1/2*base*height\n",
    "    print(f\"The area of triangle is: {Area}\")\n",
    "area_triangle()"
   ]
  },
  {
   "cell_type": "code",
   "execution_count": null,
   "id": "149227c5-64f2-4278-8a79-9018896ff434",
   "metadata": {},
   "outputs": [],
   "source": []
  },
  {
   "cell_type": "code",
   "execution_count": 5,
   "id": "d356e314-2d25-425b-b670-a315b0dccd97",
   "metadata": {},
   "outputs": [
    {
     "name": "stdin",
     "output_type": "stream",
     "text": [
      "Enter the length of rectangle:  10\n",
      "Enter the breadth of rectangle:  20\n"
     ]
    },
    {
     "name": "stdout",
     "output_type": "stream",
     "text": [
      "The area of rectangle is: 200\n"
     ]
    }
   ],
   "source": [
    "def area_rectangle():\n",
    "    length = eval(input(\"Enter the length of rectangle: \"))\n",
    "    breadth = eval(input(\"Enter the breadth of rectangle: \"))\n",
    "    Area = length*breadth\n",
    "    print(f\"The area of rectangle is: {Area}\")\n",
    "area_rectangle()"
   ]
  },
  {
   "cell_type": "code",
   "execution_count": null,
   "id": "7cdbc2b7-829f-4718-90eb-293e33f5db15",
   "metadata": {},
   "outputs": [],
   "source": []
  },
  {
   "cell_type": "code",
   "execution_count": 6,
   "id": "e7dc85be-4614-46f1-8e97-bd3a984f117c",
   "metadata": {},
   "outputs": [
    {
     "name": "stdout",
     "output_type": "stream",
     "text": [
      "The average of 10, 20, 30 is: 20.0\n"
     ]
    }
   ],
   "source": [
    "def average(num1,num2,num3):\n",
    "    avg = (num1 + num2 + num3)/3\n",
    "    print(f\"The average of {num1}, {num2}, {num3} is: {avg}\")\n",
    "average(10,20,30)"
   ]
  },
  {
   "cell_type": "code",
   "execution_count": null,
   "id": "5c65e52e-2821-45f5-ade6-419da31e7ef5",
   "metadata": {},
   "outputs": [],
   "source": []
  },
  {
   "cell_type": "code",
   "execution_count": 7,
   "id": "507c9ee0-7743-46ca-b05c-371216ec54e5",
   "metadata": {},
   "outputs": [
    {
     "name": "stdout",
     "output_type": "stream",
     "text": [
      "The area of triangle is: 100.0\n"
     ]
    }
   ],
   "source": [
    "def area_triangle(base,height):\n",
    "    Area = 1/2*base*height\n",
    "    print(f\"The area of triangle is: {Area}\")\n",
    "area_triangle(10,20)"
   ]
  },
  {
   "cell_type": "code",
   "execution_count": null,
   "id": "eddb50f0-0c61-4c72-b975-43ad9da51520",
   "metadata": {},
   "outputs": [],
   "source": []
  },
  {
   "cell_type": "markdown",
   "id": "b792d405-2736-42b6-868d-155d4f47406d",
   "metadata": {},
   "source": [
    "## Local Variables and Global Variables"
   ]
  },
  {
   "cell_type": "markdown",
   "id": "2f0b9e15-3f6d-495c-bf69-d979965b9b5c",
   "metadata": {},
   "source": [
    "- Local variable means : the variables which are inside the function call\n",
    "\n",
    "- Global variable means: the variables which are outside the function call\n",
    "\n",
    "- Once you define the variables outside means, you can use those variables anywhere\n",
    "\n",
    "- You can use global variables inside function also, but you can not use local variables outside the function"
   ]
  },
  {
   "cell_type": "code",
   "execution_count": 7,
   "id": "91521adf-fdfa-43a9-8f7d-5532c4e7ec21",
   "metadata": {},
   "outputs": [
    {
     "name": "stdout",
     "output_type": "stream",
     "text": [
      "Multiplication of 20 and 30 is: 600\n"
     ]
    }
   ],
   "source": [
    "def multiplication():\n",
    "    a = 20\n",
    "    b = 30\n",
    "    multiply = a*b\n",
    "    print(f\"Multiplication of {a} and {b} is: {multiply}\")\n",
    "multiplication()\n",
    "# Here a,b are local variables\n",
    "# We cannot use these values outside the function"
   ]
  },
  {
   "cell_type": "code",
   "execution_count": null,
   "id": "75192408-d389-4bf2-94b2-3c85ec2a45f1",
   "metadata": {},
   "outputs": [],
   "source": []
  },
  {
   "cell_type": "code",
   "execution_count": 8,
   "id": "8a67d97f-192f-4c26-af7c-f12be5c53e47",
   "metadata": {},
   "outputs": [
    {
     "name": "stdout",
     "output_type": "stream",
     "text": [
      "Multiplication of 40 and 10 is: 400\n"
     ]
    }
   ],
   "source": [
    "x = 40\n",
    "y = 10\n",
    "def multiplication():\n",
    "    multiply = x*y\n",
    "    print(f\"Multiplication of {x} and {y} is: {multiply}\")\n",
    "multiplication()\n",
    "# Here x,y are global variables\n",
    "# We can use these values inside the function as well as outside the function"
   ]
  },
  {
   "cell_type": "code",
   "execution_count": 9,
   "id": "e2f24cb7-f45a-476a-9119-fcdf70e20221",
   "metadata": {},
   "outputs": [
    {
     "data": {
      "text/plain": [
       "40"
      ]
     },
     "execution_count": 9,
     "metadata": {},
     "output_type": "execute_result"
    }
   ],
   "source": [
    "x"
   ]
  },
  {
   "cell_type": "code",
   "execution_count": 10,
   "id": "1cca17af-5cd7-41f0-a491-70e034fee60a",
   "metadata": {},
   "outputs": [
    {
     "data": {
      "text/plain": [
       "10"
      ]
     },
     "execution_count": 10,
     "metadata": {},
     "output_type": "execute_result"
    }
   ],
   "source": [
    "y"
   ]
  },
  {
   "cell_type": "code",
   "execution_count": null,
   "id": "87d25a8f-972f-4aff-a259-18f741078299",
   "metadata": {},
   "outputs": [],
   "source": []
  },
  {
   "cell_type": "code",
   "execution_count": 1,
   "id": "cefc2437-464a-4406-9e65-2dbace05c387",
   "metadata": {},
   "outputs": [
    {
     "name": "stdout",
     "output_type": "stream",
     "text": [
      "100 200 300\n"
     ]
    }
   ],
   "source": [
    "n1=10\n",
    "def addition():\n",
    "    n1=100\n",
    "    n2=200\n",
    "    n3=n1+n2\n",
    "    print(n1,n2,n3)\n",
    "addition()"
   ]
  },
  {
   "cell_type": "markdown",
   "id": "5aa305f6-ab43-4658-81a9-ce1e84b22323",
   "metadata": {},
   "source": [
    "## NOTE\n",
    "- If you give same variable as global and local, then make sure that variable should not be used as value inside the function"
   ]
  },
  {
   "cell_type": "code",
   "execution_count": 2,
   "id": "4344dcd7-bdd3-45bc-af4e-831875965d89",
   "metadata": {},
   "outputs": [
    {
     "name": "stdout",
     "output_type": "stream",
     "text": [
      "10 200 210\n",
      "210\n",
      "200\n"
     ]
    }
   ],
   "source": [
    "n11 = 10\n",
    "def addition():\n",
    "    global n33,n22\n",
    "    n22 = 200\n",
    "    n33 = n11 + n22\n",
    "    print(n11,n22,n33)\n",
    "addition()\n",
    "print(n33)\n",
    "print(n22)\n",
    "# step-1: n11 = 10\n",
    "# step-2: define the function\n",
    "# step-3: call the function\n",
    "# step-4: run the function\n",
    "# n11 is global variable passing inside the function (yes)\n",
    "# n22 = 200 + n11 = 200 + 10 = 210\n",
    "# n33 = 10 + 210 = 220\n",
    "# print(10,210,220)"
   ]
  },
  {
   "cell_type": "markdown",
   "id": "8d8f0065-bc20-436d-bba9-6b9cd378f118",
   "metadata": {},
   "source": [
    "**global**\n",
    "- global keyword is used to take the local variable value outside the function"
   ]
  },
  {
   "cell_type": "code",
   "execution_count": 5,
   "id": "f822053c-b1a9-4877-bcb0-6e0cb856a445",
   "metadata": {},
   "outputs": [
    {
     "name": "stdout",
     "output_type": "stream",
     "text": [
      "Hello\n"
     ]
    },
    {
     "data": {
      "text/plain": [
       "200"
      ]
     },
     "execution_count": 5,
     "metadata": {},
     "output_type": "execute_result"
    }
   ],
   "source": [
    "value = 100\n",
    "def greet():\n",
    "    global value \n",
    "    value = 200\n",
    "    print(\"Hello\")\n",
    "greet()\n",
    "value"
   ]
  },
  {
   "cell_type": "code",
   "execution_count": 6,
   "id": "476f4369-6570-4fb9-93a6-0b13e96b679f",
   "metadata": {},
   "outputs": [
    {
     "data": {
      "text/plain": [
       "200"
      ]
     },
     "execution_count": 6,
     "metadata": {},
     "output_type": "execute_result"
    }
   ],
   "source": [
    "value"
   ]
  },
  {
   "cell_type": "code",
   "execution_count": 7,
   "id": "3bb7565e-5cec-485e-98e3-7f4cad71c3f8",
   "metadata": {},
   "outputs": [
    {
     "name": "stdout",
     "output_type": "stream",
     "text": [
      "10 200 210\n",
      "n33: 210\n"
     ]
    }
   ],
   "source": [
    "n11=10\n",
    "def addition():\n",
    "    global n33,n22\n",
    "    n22=200\n",
    "    n33=n11+n22\n",
    "    print(n11,n22,n33)\n",
    "addition()\n",
    "print(\"n33:\",n33)"
   ]
  },
  {
   "cell_type": "markdown",
   "id": "c3bc6c71-b3d6-4c82-9ea3-1429f760d4ff",
   "metadata": {},
   "source": [
    "- Outside the function is called as global variable\n",
    "\n",
    "- Inside the function is called as local variable\n",
    "\n",
    "- Local variables cannot be used outside the function\n",
    "\n",
    "- If we want to use the local varoiables outside the function then we will have to use **global** keyword "
   ]
  },
  {
   "cell_type": "code",
   "execution_count": null,
   "id": "63760452-eda1-4f8b-9e1a-f9fb5cb8457e",
   "metadata": {},
   "outputs": [],
   "source": []
  },
  {
   "cell_type": "markdown",
   "id": "d34fb66b-eb43-4d45-a419-fcf7d56d4afe",
   "metadata": {},
   "source": [
    "## Return\n",
    "\n",
    "- We can also use the local variables or function outputs outside the function using return statement\n",
    "\n",
    "- Print is different\n",
    "\n",
    "- Return is different\n",
    "\n",
    "- Print is only used to print the values\n",
    "\n",
    "- The printed values can only be seen but cannot be used\n",
    "\n",
    "- If we want to use that value outside the function then we will use return statement"
   ]
  },
  {
   "cell_type": "code",
   "execution_count": 10,
   "id": "5cf2e63e-2c68-4f03-bf3b-8e087d74c88f",
   "metadata": {},
   "outputs": [
    {
     "name": "stdout",
     "output_type": "stream",
     "text": [
      "The average of 10,20,30 is: 20.0\n"
     ]
    }
   ],
   "source": [
    "def average():\n",
    "    num1 = 10\n",
    "    num2 = 20\n",
    "    num3 = 30\n",
    "    avg = (num1+num2+num3)/3\n",
    "    return(avg)\n",
    "Avg = average()\n",
    "# We need to store the value which is returned by the function in another variable, so we used \"Avg\""
   ]
  },
  {
   "cell_type": "code",
   "execution_count": 13,
   "id": "e2136c63-4a65-4d35-b035-face2d346817",
   "metadata": {},
   "outputs": [],
   "source": [
    "def Average():\n",
    "    Num1 = 100\n",
    "    Num2 = 200\n",
    "    Num3 = 300\n",
    "    average = (Num1+Num2+Num3)/3\n",
    "    return(average,Num3)\n",
    "avg,n3 = Average()\n",
    "# Each value which we are returning needs to be stored into a specific variable"
   ]
  },
  {
   "cell_type": "code",
   "execution_count": 14,
   "id": "c9958ef3-acc7-41d8-a0b8-7236636550ad",
   "metadata": {},
   "outputs": [
    {
     "data": {
      "text/plain": [
       "200.0"
      ]
     },
     "execution_count": 14,
     "metadata": {},
     "output_type": "execute_result"
    }
   ],
   "source": [
    "avg"
   ]
  },
  {
   "cell_type": "code",
   "execution_count": 15,
   "id": "8722fe2d-4c19-4986-b50f-07b52f15341b",
   "metadata": {},
   "outputs": [
    {
     "data": {
      "text/plain": [
       "300"
      ]
     },
     "execution_count": 15,
     "metadata": {},
     "output_type": "execute_result"
    }
   ],
   "source": [
    "n3"
   ]
  },
  {
   "cell_type": "code",
   "execution_count": 16,
   "id": "c00774fd-2ae3-40e5-9ec5-f6cd86fbae7f",
   "metadata": {},
   "outputs": [],
   "source": [
    "def sub():\n",
    "    a = 30\n",
    "    b = 20\n",
    "    subb = a-b\n",
    "    return(subb,b)\n",
    "subb,b = sub()"
   ]
  },
  {
   "cell_type": "code",
   "execution_count": 17,
   "id": "5f5da33f-31da-496f-a624-7328c1c4980d",
   "metadata": {},
   "outputs": [
    {
     "data": {
      "text/plain": [
       "10"
      ]
     },
     "execution_count": 17,
     "metadata": {},
     "output_type": "execute_result"
    }
   ],
   "source": [
    "subb"
   ]
  },
  {
   "cell_type": "code",
   "execution_count": 18,
   "id": "a8f00118-3347-475b-9700-dabe6adcf8f1",
   "metadata": {},
   "outputs": [
    {
     "data": {
      "text/plain": [
       "20"
      ]
     },
     "execution_count": 18,
     "metadata": {},
     "output_type": "execute_result"
    }
   ],
   "source": [
    "b"
   ]
  },
  {
   "cell_type": "markdown",
   "id": "7404d6a1-9089-44af-bbc5-416774b4d5ed",
   "metadata": {},
   "source": [
    "## Unbound local errors"
   ]
  },
  {
   "cell_type": "code",
   "execution_count": 21,
   "id": "d872a85a-a53b-4b2b-ade7-db11bcbfff30",
   "metadata": {},
   "outputs": [
    {
     "name": "stdout",
     "output_type": "stream",
     "text": [
      "inside function: 100\n",
      "outside function: 10\n"
     ]
    }
   ],
   "source": [
    "num=10                               # gv\n",
    "def fun1():\n",
    "    num1=100                         # lv\n",
    "    print(\"inside function:\",num1)   # print(100)\n",
    "    \n",
    "fun1()\n",
    "print(\"outside function:\",num)\n"
   ]
  },
  {
   "cell_type": "code",
   "execution_count": 22,
   "id": "de8ef561-5b14-4159-856d-83a36b55eaac",
   "metadata": {},
   "outputs": [
    {
     "ename": "UnboundLocalError",
     "evalue": "cannot access local variable 'num2' where it is not associated with a value",
     "output_type": "error",
     "traceback": [
      "\u001b[1;31m---------------------------------------------------------------------------\u001b[0m",
      "\u001b[1;31mUnboundLocalError\u001b[0m                         Traceback (most recent call last)",
      "Cell \u001b[1;32mIn[22], line 5\u001b[0m\n\u001b[0;32m      3\u001b[0m     \u001b[38;5;28mprint\u001b[39m(num2)\n\u001b[0;32m      4\u001b[0m     num2\u001b[38;5;241m=\u001b[39m\u001b[38;5;241m100\u001b[39m          \u001b[38;5;66;03m# lv\u001b[39;00m\n\u001b[1;32m----> 5\u001b[0m fun2()\n",
      "Cell \u001b[1;32mIn[22], line 3\u001b[0m, in \u001b[0;36mfun2\u001b[1;34m()\u001b[0m\n\u001b[0;32m      2\u001b[0m \u001b[38;5;28;01mdef\u001b[39;00m \u001b[38;5;21mfun2\u001b[39m():\n\u001b[1;32m----> 3\u001b[0m     \u001b[38;5;28mprint\u001b[39m(num2)\n\u001b[0;32m      4\u001b[0m     num2\u001b[38;5;241m=\u001b[39m\u001b[38;5;241m100\u001b[39m\n",
      "\u001b[1;31mUnboundLocalError\u001b[0m: cannot access local variable 'num2' where it is not associated with a value"
     ]
    }
   ],
   "source": [
    "num2=10               # gv\n",
    "def fun2():\n",
    "    print(num2)\n",
    "    num2=100          # lv\n",
    "fun2()\n",
    "# Unbound error will come\n",
    "# local variable and global variable both names are same\n",
    "# you are trying to access local variable before assign"
   ]
  },
  {
   "cell_type": "markdown",
   "id": "d4e7e299-4611-425a-bfe5-f464c16c9d9d",
   "metadata": {},
   "source": [
    "## No Error\n",
    "\n",
    "- No local variables have same name as global variables\n",
    "\n",
    "- We are initialising local variable name same as global variable name,but:\n",
    "\n",
    "        - We are using local variable after initialization"
   ]
  },
  {
   "cell_type": "markdown",
   "id": "f58685d0-13b4-487f-b3de-b215c59fdd89",
   "metadata": {},
   "source": [
    "## Error\n",
    "\n",
    "- We are initialising local variable name same as global variable name, but:\n",
    "\n",
    "     - We are using local variable before initialization"
   ]
  },
  {
   "cell_type": "code",
   "execution_count": 23,
   "id": "c7163e9b-fee7-47be-8319-c4e6b53571eb",
   "metadata": {},
   "outputs": [
    {
     "name": "stdout",
     "output_type": "stream",
     "text": [
      "1500\n"
     ]
    },
    {
     "ename": "UnboundLocalError",
     "evalue": "cannot access local variable 'c' where it is not associated with a value",
     "output_type": "error",
     "traceback": [
      "\u001b[1;31m---------------------------------------------------------------------------\u001b[0m",
      "\u001b[1;31mUnboundLocalError\u001b[0m                         Traceback (most recent call last)",
      "Cell \u001b[1;32mIn[23], line 19\u001b[0m\n\u001b[0;32m     17\u001b[0m     d\u001b[38;5;241m=\u001b[39m\u001b[38;5;241m800\u001b[39m\n\u001b[0;32m     18\u001b[0m     \u001b[38;5;28mprint\u001b[39m(add1)\n\u001b[1;32m---> 19\u001b[0m add32()\n",
      "Cell \u001b[1;32mIn[23], line 15\u001b[0m, in \u001b[0;36madd32\u001b[1;34m()\u001b[0m\n\u001b[0;32m     14\u001b[0m \u001b[38;5;28;01mdef\u001b[39;00m \u001b[38;5;21madd32\u001b[39m():\n\u001b[1;32m---> 15\u001b[0m     add1\u001b[38;5;241m=\u001b[39mc\u001b[38;5;241m+\u001b[39md\n\u001b[0;32m     16\u001b[0m     c\u001b[38;5;241m=\u001b[39m\u001b[38;5;241m700\u001b[39m\n\u001b[0;32m     17\u001b[0m     d\u001b[38;5;241m=\u001b[39m\u001b[38;5;241m800\u001b[39m\n",
      "\u001b[1;31mUnboundLocalError\u001b[0m: cannot access local variable 'c' where it is not associated with a value"
     ]
    }
   ],
   "source": [
    "# This function is having no error\n",
    "a1=100\n",
    "b1=200\n",
    "def add12():\n",
    "    c=700\n",
    "    d=800\n",
    "    add1=c+d\n",
    "    print(add1)\n",
    "add12()\n",
    "\n",
    "# This function will cause an error\n",
    "a1=100\n",
    "b1=200\n",
    "def add32():\n",
    "    add1=c+d\n",
    "    c=700\n",
    "    d=800\n",
    "    print(add1)\n",
    "add32()"
   ]
  },
  {
   "cell_type": "markdown",
   "id": "96cc310f-a01b-4019-826a-34aa53b888df",
   "metadata": {},
   "source": [
    "## Functions In Functions"
   ]
  },
  {
   "cell_type": "code",
   "execution_count": 25,
   "id": "d935cac8-768d-4ae7-9456-05a0215045ea",
   "metadata": {},
   "outputs": [
    {
     "name": "stdout",
     "output_type": "stream",
     "text": [
      "Hello\n",
      "Hii\n"
     ]
    }
   ],
   "source": [
    "def greet1():\n",
    "    print(\"Hello\")\n",
    "\n",
    "def greet2():\n",
    "    print(\"Hii\")\\\n",
    "\n",
    "greet1()\n",
    "greet2()"
   ]
  },
  {
   "cell_type": "code",
   "execution_count": 26,
   "id": "2d20c0f7-1326-4fb0-a6a5-86f3d565b2cc",
   "metadata": {},
   "outputs": [
    {
     "name": "stdout",
     "output_type": "stream",
     "text": [
      "hello good morning\n",
      "Good night!\n"
     ]
    }
   ],
   "source": [
    "def greet2():\n",
    "    print('Good night!')\n",
    "def greet1():\n",
    "    print('hello good morning')\n",
    "    greet2()\n",
    "\n",
    "greet1()"
   ]
  },
  {
   "cell_type": "code",
   "execution_count": null,
   "id": "ccfda898-781e-4988-8b4d-76c16dcc0ac6",
   "metadata": {},
   "outputs": [],
   "source": []
  },
  {
   "cell_type": "code",
   "execution_count": null,
   "id": "fb537b58-5519-46fd-ade2-af2ef302c938",
   "metadata": {},
   "outputs": [],
   "source": [
    "# Create a main function name : calculator\n",
    "# Inside main function\n",
    "# Print some statements\n",
    "# option1: addition,\n",
    "# option2: sub,\n",
    "# option 3: mul,\n",
    "# option 4: div\n",
    "# option = eval(input('1-4'))\n",
    "# a value\n",
    "# b value\n",
    "# if option == 1:\n",
    "# call add function\n",
    "# elif option == 2:\n",
    "# call sub function\n",
    "# ekif option == 3:\n",
    "# call mul function\n",
    "# elif option == 4:\n",
    "# call div function"
   ]
  },
  {
   "cell_type": "code",
   "execution_count": 6,
   "id": "590b9578-66d7-4be1-a7ca-394115e82d25",
   "metadata": {},
   "outputs": [
    {
     "name": "stdout",
     "output_type": "stream",
     "text": [
      "Enter 1 for Addition\n",
      "Enter 2 for Subtraction\n",
      "Enter 3 for Multiplication\n",
      "Enter 4 for Division\n"
     ]
    },
    {
     "name": "stdin",
     "output_type": "stream",
     "text": [
      "Enter which operation do you want to perform:  3\n",
      "Enter the value of a :  12\n",
      "Enter the value of b :  5\n"
     ]
    },
    {
     "name": "stdout",
     "output_type": "stream",
     "text": [
      "The multiplication of 12 and 5 is: 60\n"
     ]
    }
   ],
   "source": [
    "def add(a,b):\n",
    "    print(f\"The addition of {a} and {b} is: {a+b}\")\n",
    "\n",
    "def sub(a,b):\n",
    "    print(f\"The subtraction of {a} and {b} is: {a-b}\")\n",
    "\n",
    "def mul(a,b):\n",
    "    print(f\"The multiplication of {a} and {b} is: {a*b}\")\n",
    "\n",
    "def div(a,b):\n",
    "    print(f\"The division of {a} and {b} is: {a/b}\")\n",
    "\n",
    "def calculator():\n",
    "    print(\"Enter 1 for Addition\")\n",
    "    print(\"Enter 2 for Subtraction\")\n",
    "    print(\"Enter 3 for Multiplication\")\n",
    "    print(\"Enter 4 for Division\")\n",
    "    Option = eval(input(\"Enter which operation do you want to perform: \"))\n",
    "    a = eval(input(\"Enter the value of a : \"))\n",
    "    b = eval(input(\"Enter the value of b : \"))\n",
    "    if Option == 1:\n",
    "        add(a,b)\n",
    "    elif Option == 2:\n",
    "        sub(a,b)\n",
    "    elif Option == 3:\n",
    "        mul(a,b)\n",
    "    elif Option == 4:\n",
    "        div(a,b)\n",
    "    else:\n",
    "        print(\"Enter a valid operation to perform: \")\n",
    "\n",
    "calculator()"
   ]
  },
  {
   "cell_type": "code",
   "execution_count": 1,
   "id": "ecf8166e-f6b3-461e-b2ac-112ea221766f",
   "metadata": {},
   "outputs": [
    {
     "name": "stdout",
     "output_type": "stream",
     "text": [
      "Hai\n"
     ]
    }
   ],
   "source": [
    "a = \"78\"\n",
    "if type(a) == type(\"\"):\n",
    "    print(\"Hai\")\n",
    "else:\n",
    "    print(\"Bye\")"
   ]
  },
  {
   "cell_type": "code",
   "execution_count": 5,
   "id": "0f89b478-21eb-4d65-b8fa-9bb689efdc62",
   "metadata": {},
   "outputs": [
    {
     "name": "stdout",
     "output_type": "stream",
     "text": [
      "true\n"
     ]
    }
   ],
   "source": [
    "a,b,c = 0,10,20\n",
    "if a and b or c:\n",
    "    print(\"true\")\n",
    "else:\n",
    "    print(\"false\")"
   ]
  },
  {
   "cell_type": "code",
   "execution_count": 9,
   "id": "e77fb70e-a3c0-44fd-9466-e1cbf7086668",
   "metadata": {},
   "outputs": [
    {
     "name": "stdout",
     "output_type": "stream",
     "text": [
      "Name:  ROhit\n",
      "Age:  21\n",
      "City:  nagpur\n"
     ]
    }
   ],
   "source": [
    "def person(name,age,city):\n",
    "    print(\"Name: \",name)\n",
    "    print(\"Age: \",age)\n",
    "    print(\"City: \",city)\n",
    "person(name = \"ROhit\",city = \"nagpur\", age = 21)"
   ]
  },
  {
   "cell_type": "code",
   "execution_count": 11,
   "id": "67eb435c-b0ec-4a2e-bbba-7448ec039f98",
   "metadata": {},
   "outputs": [
    {
     "name": "stdout",
     "output_type": "stream",
     "text": [
      "*****\n",
      "*   *\n",
      "*   *\n",
      "*   *\n",
      "*****\n"
     ]
    }
   ],
   "source": [
    "a = 5\n",
    "for i in range(a):\n",
    "    if i == 0 or (i == a-1):\n",
    "        print(\"*\" * a)\n",
    "    else:\n",
    "        print(\"*\" + \" \"*(a-2) + \"*\")"
   ]
  },
  {
   "cell_type": "code",
   "execution_count": 13,
   "id": "829331c5-4cba-4c1d-a1f5-3b00e28ca369",
   "metadata": {},
   "outputs": [
    {
     "name": "stdout",
     "output_type": "stream",
     "text": [
      "48.0\n"
     ]
    }
   ],
   "source": [
    "add = 0\n",
    "text = \"Abc123\"\n",
    "for char in text:\n",
    "    if char.isupper():\n",
    "        add /= 2\n",
    "    elif char.islower():\n",
    "        add += 3\n",
    "    elif char.isdigit():\n",
    "        add *= 2\n",
    "print(add)"
   ]
  },
  {
   "cell_type": "code",
   "execution_count": 17,
   "id": "4453e2d9-866d-43f4-b945-ef04e7f6a5ec",
   "metadata": {},
   "outputs": [
    {
     "name": "stdout",
     "output_type": "stream",
     "text": [
      "5\n",
      "6\n",
      "7\n",
      "8\n"
     ]
    }
   ],
   "source": [
    "i = 5\n",
    "while True:\n",
    "    if i % 0O11 == 0:\n",
    "        break\n",
    "    print(i)\n",
    "    i += 1"
   ]
  },
  {
   "cell_type": "code",
   "execution_count": 19,
   "id": "d4a1183f-5bcb-4c30-bf48-913dab5f0a69",
   "metadata": {},
   "outputs": [
    {
     "data": {
      "text/plain": [
       "9"
      ]
     },
     "execution_count": 19,
     "metadata": {},
     "output_type": "execute_result"
    }
   ],
   "source": [
    "0O11"
   ]
  },
  {
   "cell_type": "code",
   "execution_count": 21,
   "id": "83a6781d-2655-47f9-bbf8-8dbbfb4ed7a9",
   "metadata": {},
   "outputs": [
    {
     "data": {
      "text/plain": [
       "False"
      ]
     },
     "execution_count": 21,
     "metadata": {},
     "output_type": "execute_result"
    }
   ],
   "source": [
    "5 % 9 == 0"
   ]
  },
  {
   "cell_type": "code",
   "execution_count": 23,
   "id": "cd737ef1-8df1-424f-99b9-5aa82c920517",
   "metadata": {},
   "outputs": [
    {
     "name": "stdout",
     "output_type": "stream",
     "text": [
      "('c', 3)\n",
      "('a', 2)\n",
      "('F', 1)\n",
      "done\n"
     ]
    }
   ],
   "source": [
    "d = {\"F\":1,\"a\":2,\"c\":3}\n",
    "while d:\n",
    "    print(d.popitem())\n",
    "print(\"done\")"
   ]
  },
  {
   "cell_type": "code",
   "execution_count": 25,
   "id": "6af32d22-6fca-46e3-a649-04660e833013",
   "metadata": {},
   "outputs": [
    {
     "name": "stdout",
     "output_type": "stream",
     "text": [
      "Count:  0\n",
      "After Continue\n",
      "Count:  1\n",
      "After Continue\n",
      "Count:  2\n",
      "Count:  3\n",
      "After Continue\n",
      "Count:  4\n",
      "After Continue\n"
     ]
    }
   ],
   "source": [
    "count = 0\n",
    "while count < 5:\n",
    "    print(\"Count: \",count)\n",
    "    count += 1\n",
    "    if count == 3:\n",
    "        continue\n",
    "    print(\"After Continue\")"
   ]
  },
  {
   "cell_type": "code",
   "execution_count": null,
   "id": "468752f1-d588-46ea-9bc8-9fa2438066fd",
   "metadata": {},
   "outputs": [],
   "source": []
  }
 ],
 "metadata": {
  "kernelspec": {
   "display_name": "Python 3 (ipykernel)",
   "language": "python",
   "name": "python3"
  },
  "language_info": {
   "codemirror_mode": {
    "name": "ipython",
    "version": 3
   },
   "file_extension": ".py",
   "mimetype": "text/x-python",
   "name": "python",
   "nbconvert_exporter": "python",
   "pygments_lexer": "ipython3",
   "version": "3.11.7"
  }
 },
 "nbformat": 4,
 "nbformat_minor": 5
}
