{
 "cells": [
  {
   "cell_type": "markdown",
   "id": "1067594d-c887-4445-998a-5678a4083a8b",
   "metadata": {},
   "source": [
    "**Loops**\n",
    "\n",
    "- Iterate a piece of code untill the condition satisfy\n",
    "\n",
    "- We can run a code normally\n",
    "\n",
    "- We can run a code by using function wrapper(functions)\n",
    "\n",
    "- We can run a code multiple times (loops)\n",
    "\n",
    "- We can run a code by using condition (conditions)"
   ]
  },
  {
   "cell_type": "code",
   "execution_count": 1,
   "id": "58d08b0e-f989-4771-938b-d76a9691aab0",
   "metadata": {},
   "outputs": [
    {
     "name": "stdout",
     "output_type": "stream",
     "text": [
      "30\n"
     ]
    }
   ],
   "source": [
    "a = 10\n",
    "b = 20\n",
    "c = a + b\n",
    "print(c)"
   ]
  },
  {
   "cell_type": "code",
   "execution_count": 2,
   "id": "170cc514-9298-4d6c-9fb2-dfe1ddbd7291",
   "metadata": {},
   "outputs": [
    {
     "name": "stdout",
     "output_type": "stream",
     "text": [
      "30\n"
     ]
    }
   ],
   "source": [
    "if True:\n",
    "    a = 10\n",
    "    b = 20\n",
    "    c = a + b\n",
    "    print(c)"
   ]
  },
  {
   "cell_type": "code",
   "execution_count": 3,
   "id": "e50508d1-ce27-4936-a1ed-346f3a99c8c0",
   "metadata": {},
   "outputs": [
    {
     "name": "stdout",
     "output_type": "stream",
     "text": [
      "30\n"
     ]
    }
   ],
   "source": [
    "def add():\n",
    "    a = 10\n",
    "    b = 20\n",
    "    c = a + b\n",
    "    print(c)\n",
    "add()"
   ]
  },
  {
   "cell_type": "markdown",
   "id": "5fe23d28-78cc-472a-82cf-25df24b9155b",
   "metadata": {},
   "source": [
    "- For loop\n",
    "- While loop\n",
    "- Any loop\n",
    "  - Intial point to start the loop\n",
    "  - Increment or decrement\n",
    "  - Condition to stop the loop"
   ]
  },
  {
   "cell_type": "markdown",
   "id": "e7d2258c-91ed-43e3-b0a1-a800617ae429",
   "metadata": {},
   "source": [
    "**For Loop**"
   ]
  },
  {
   "cell_type": "markdown",
   "id": "50c2d13f-810e-4469-8a05-d071c6b7bc29",
   "metadata": {},
   "source": [
    "#### Pattern - 1\n",
    "\n",
    "range(stop)"
   ]
  },
  {
   "cell_type": "code",
   "execution_count": null,
   "id": "e7e1d9c5-6c71-47f7-af5e-06ab72696cb4",
   "metadata": {},
   "outputs": [],
   "source": [
    "# Syntax: \n",
    "for i in range(<values>):\n",
    "    # Start with your code"
   ]
  },
  {
   "cell_type": "markdown",
   "id": "2d40718a-336f-4688-91a8-e3a205a8970f",
   "metadata": {},
   "source": [
    "- When ever you see the word range it belongs to math family\n",
    "- Inside range we need to provide one value ex: range(3)\n",
    "- If you provide only one value:\n",
    "    - Start value = 0\n",
    "    - Increment = +1\n",
    "    - Last = stop-1\n",
    "- range(3)\n",
    "    - Start value = 0\n",
    "    - Increment = 1\n",
    "    - Last = 3-1 = 2\n",
    "    - answers are : 0 1 2"
   ]
  },
  {
   "cell_type": "markdown",
   "id": "c0f7fa25-f2b7-4b46-a20d-1fc6ff23d0c1",
   "metadata": {},
   "source": [
    "**NOTE** : In Python the index always start with zero"
   ]
  },
  {
   "cell_type": "code",
   "execution_count": 6,
   "id": "7285e53f-a3b4-44e1-b610-99a511d68119",
   "metadata": {},
   "outputs": [
    {
     "name": "stdout",
     "output_type": "stream",
     "text": [
      "0\n",
      "1\n",
      "2\n"
     ]
    }
   ],
   "source": [
    "for i in range(3):\n",
    "    print(i)"
   ]
  },
  {
   "cell_type": "code",
   "execution_count": 8,
   "id": "df5896b3-1878-4b5b-9040-e08d67a59501",
   "metadata": {},
   "outputs": [
    {
     "name": "stdout",
     "output_type": "stream",
     "text": [
      "Hello\n",
      "Hello\n",
      "Hello\n",
      "Hello\n",
      "Hello\n"
     ]
    }
   ],
   "source": [
    "# I want to print \"Hello\" 5 times\n",
    "for i in range(5):\n",
    "    print(\"Hello\")"
   ]
  },
  {
   "cell_type": "code",
   "execution_count": 1,
   "id": "14667f7e-b4c0-44a0-93de-937dabb284c2",
   "metadata": {},
   "outputs": [
    {
     "name": "stdout",
     "output_type": "stream",
     "text": [
      "16 is even number\n"
     ]
    }
   ],
   "source": [
    "import random\n",
    "num1 = random.randint(1,100)\n",
    "if num1%2 == 0:\n",
    "    print(f\"{num1} is even number\")\n",
    "else:\n",
    "    print(f\"{num1} is odd number\")"
   ]
  },
  {
   "cell_type": "code",
   "execution_count": 9,
   "id": "366129e2-44d0-4b56-bd4b-57e7184574b0",
   "metadata": {},
   "outputs": [
    {
     "name": "stdout",
     "output_type": "stream",
     "text": [
      "11 is odd number\n",
      "87 is odd number\n",
      "61 is odd number\n",
      "72 is even number\n",
      "34 is even number\n"
     ]
    }
   ],
   "source": [
    "# for example\n",
    "# take a random number between 1 to 100\n",
    "# print it is a even number and odd number\n",
    "# you need to generate 5 random number\n",
    "import random\n",
    "for i in range(5):\n",
    "    num1 = random.randint(1,100)\n",
    "    if num1%2 == 0:\n",
    "        print(f\"{num1} is even number\")\n",
    "    else:\n",
    "        print(f\"{num1} is odd number\")"
   ]
  },
  {
   "cell_type": "code",
   "execution_count": 3,
   "id": "ffc588c0-feff-44bc-9883-35def12ee284",
   "metadata": {},
   "outputs": [
    {
     "name": "stdout",
     "output_type": "stream",
     "text": [
      "0\n",
      "1\n",
      "2\n",
      "3\n",
      "4\n",
      "5\n",
      "6\n",
      "7\n",
      "8\n",
      "9\n"
     ]
    }
   ],
   "source": [
    "for i in range(10):\n",
    "    print(i)"
   ]
  },
  {
   "cell_type": "code",
   "execution_count": 10,
   "id": "0afd1c72-d0ce-476f-a3da-39b894e82e30",
   "metadata": {},
   "outputs": [
    {
     "name": "stdout",
     "output_type": "stream",
     "text": [
      "0 1 2 3 4 5 6 7 8 9 "
     ]
    }
   ],
   "source": [
    "for i in range(10):\n",
    "    print(i,end = \" \")"
   ]
  },
  {
   "cell_type": "code",
   "execution_count": 11,
   "id": "2c703f4d-7abc-4416-beda-747b43d56cae",
   "metadata": {},
   "outputs": [],
   "source": [
    "# sep : will seperate multiple values in same print staement\n",
    "# end : combine the multiple print statements"
   ]
  },
  {
   "cell_type": "markdown",
   "id": "1fe3c92a-8276-4344-85ef-78f916acd661",
   "metadata": {},
   "source": [
    "**Pattern - 2**\n",
    "\n",
    "range(start,stop)"
   ]
  },
  {
   "cell_type": "markdown",
   "id": "f8a8b4a1-113c-4636-9b65-8eea76be56db",
   "metadata": {},
   "source": [
    "- range(10,20)\n",
    "    - start value= 10\n",
    "    - increment= 1\n",
    "    - last = stop-1 = 20-1=19\n",
    "    - ans: 10 11 12 13 14 15 16 17 18 19"
   ]
  },
  {
   "cell_type": "code",
   "execution_count": 12,
   "id": "d5deb6a3-5350-4a46-8719-7ddfce7cef6d",
   "metadata": {},
   "outputs": [
    {
     "name": "stdout",
     "output_type": "stream",
     "text": [
      "10 11 12 13 14 15 16 17 18 19 "
     ]
    }
   ],
   "source": [
    "for i in range(10,20):\n",
    "    print(i,end = \" \")"
   ]
  },
  {
   "cell_type": "code",
   "execution_count": 14,
   "id": "06232941-ba76-41a0-a71a-a9204fcdcd74",
   "metadata": {},
   "outputs": [
    {
     "name": "stdout",
     "output_type": "stream",
     "text": [
      "400 441 484 529 576 625 "
     ]
    }
   ],
   "source": [
    "# Wap Ask the user to print the square of numbers between 20-25\n",
    "\n",
    "for i in range(20,26):\n",
    "    square = i**2\n",
    "    print(square,end = \" \")"
   ]
  },
  {
   "cell_type": "code",
   "execution_count": 13,
   "id": "2ac504d8-f5b4-496e-98d4-b18cb7dfdf73",
   "metadata": {
    "scrolled": true
   },
   "outputs": [
    {
     "name": "stdout",
     "output_type": "stream",
     "text": [
      "10 is even number\n",
      "11 is odd  number\n",
      "12 is even number\n",
      "13 is odd  number\n",
      "14 is even number\n",
      "15 is odd  number\n",
      "16 is even number\n",
      "17 is odd  number\n",
      "18 is even number\n",
      "19 is odd  number\n",
      "20 is even number\n"
     ]
    }
   ],
   "source": [
    "# Wap ask the user to print whether the number is even or odd between 10-20\n",
    "\n",
    "for i in range(10,21):\n",
    "    if i%2 == 0:\n",
    "        print(f\"{i} is even number\")\n",
    "    else:\n",
    "        print(f\"{i} is odd  number\")"
   ]
  },
  {
   "cell_type": "code",
   "execution_count": null,
   "id": "b1be8acd-b417-4bf4-b34d-dcae3f60850d",
   "metadata": {},
   "outputs": [],
   "source": []
  },
  {
   "cell_type": "code",
   "execution_count": 2,
   "id": "e502f29a-9c2b-4725-b637-ac0ea9b7938c",
   "metadata": {},
   "outputs": [
    {
     "name": "stdin",
     "output_type": "stream",
     "text": [
      "Enter a number:  22\n"
     ]
    },
    {
     "name": "stdout",
     "output_type": "stream",
     "text": [
      "The square of 22 is 484\n"
     ]
    },
    {
     "name": "stdin",
     "output_type": "stream",
     "text": [
      "Enter a number:  3\n"
     ]
    },
    {
     "name": "stdout",
     "output_type": "stream",
     "text": [
      "The square of 3 is 9\n"
     ]
    },
    {
     "name": "stdin",
     "output_type": "stream",
     "text": [
      "Enter a number:  9\n"
     ]
    },
    {
     "name": "stdout",
     "output_type": "stream",
     "text": [
      "The square of 9 is 81\n"
     ]
    }
   ],
   "source": [
    "# Q).Wap ask the user print the square of the number between 20 to 25 three times\n",
    "for i in range(3):\n",
    "    num = eval(input(\"Enter a number: \"))\n",
    "    print(f\"The square of {num} is {num*num}\")"
   ]
  },
  {
   "cell_type": "code",
   "execution_count": null,
   "id": "1a83fad3-1814-4145-96be-36dccfb6adaf",
   "metadata": {},
   "outputs": [],
   "source": []
  },
  {
   "cell_type": "code",
   "execution_count": 3,
   "id": "62fab7d9-8e42-428f-825a-5f717fe6df4c",
   "metadata": {},
   "outputs": [
    {
     "name": "stdout",
     "output_type": "stream",
     "text": [
      "14 x 1 = 14\n",
      "14 x 2 = 28\n",
      "14 x 3 = 42\n",
      "14 x 4 = 56\n",
      "14 x 5 = 70\n",
      "14 x 6 = 84\n",
      "14 x 7 = 98\n",
      "14 x 8 = 112\n",
      "14 x 9 = 126\n",
      "14 x 10 = 140\n"
     ]
    }
   ],
   "source": [
    "# Q). Print the 14th table\n",
    "for i in range(1,11):\n",
    "    num = 14\n",
    "    print(f\"{num} x {i} = {num*i}\")\n",
    "    i += 1"
   ]
  },
  {
   "cell_type": "code",
   "execution_count": null,
   "id": "a8c4edeb-e1c6-4337-a72c-08f9fd25791b",
   "metadata": {},
   "outputs": [],
   "source": []
  },
  {
   "cell_type": "code",
   "execution_count": 7,
   "id": "cd46d24f-925e-44f1-a29a-2fcd26c3016f",
   "metadata": {},
   "outputs": [
    {
     "name": "stdin",
     "output_type": "stream",
     "text": [
      "Enter the number which you want factorial of:  75\n"
     ]
    },
    {
     "name": "stdout",
     "output_type": "stream",
     "text": [
      "1 is the factorial of 75\n",
      "3 is the factorial of 75\n",
      "5 is the factorial of 75\n",
      "15 is the factorial of 75\n",
      "25 is the factorial of 75\n",
      "75 is the factorial of 75\n"
     ]
    }
   ],
   "source": [
    "# Q). Find the factorial of number \n",
    "num = eval(input(\"Enter the number which you want factorial of: \"))\n",
    "for i in range(1,num+1):\n",
    "    if num%i == 0:\n",
    "        print(f\"{i} is the factorial of {num}\")\n",
    "    else: \n",
    "        i += 1"
   ]
  },
  {
   "cell_type": "code",
   "execution_count": null,
   "id": "ce22b562-9016-43c3-b0d8-89d5c721d7cc",
   "metadata": {},
   "outputs": [],
   "source": []
  },
  {
   "cell_type": "code",
   "execution_count": 23,
   "id": "2f135abc-7581-4afe-9c9c-f56cd3128c42",
   "metadata": {},
   "outputs": [
    {
     "name": "stdout",
     "output_type": "stream",
     "text": [
      "0+1 = 1\n",
      "1+2 = 3\n",
      "3+3 = 6\n",
      "6+4 = 10\n",
      "10+5 = 15\n",
      "15+6 = 21\n",
      "21+7 = 28\n",
      "28+8 = 36\n",
      "36+9 = 45\n",
      "45+10 = 55\n"
     ]
    }
   ],
   "source": [
    "# Q). Write the sum of first 10 natural numbers\n",
    "summ = 0\n",
    "for i in range(1,11):\n",
    "    summ = summ + i\n",
    "    print(f\"{summ-i}+{i} = {summ}\")"
   ]
  },
  {
   "cell_type": "markdown",
   "id": "566282ee-5238-43d5-a19b-68e13eb509dc",
   "metadata": {},
   "source": [
    "**Summation Wrapper**"
   ]
  },
  {
   "cell_type": "markdown",
   "id": "7d65e53f-6f9c-479b-be77-97714cb1f83c",
   "metadata": {},
   "source": [
    "- Initially we need to keep summ = 0\n",
    "\n",
    "- Make sure that you do not use **sum**\n",
    "\n",
    "- Because sum is a keyword\n",
    "\n",
    "- Inside for loop : summ = summ + i"
   ]
  },
  {
   "cell_type": "code",
   "execution_count": 1,
   "id": "ed6eb829-e3ba-49b0-8462-4e51ec77c70e",
   "metadata": {},
   "outputs": [
    {
     "name": "stdout",
     "output_type": "stream",
     "text": [
      "0+1=1\n",
      "1+2=3\n",
      "3+3=6\n",
      "6+4=10\n",
      "10+5=15\n",
      "15+6=21\n",
      "21+7=28\n",
      "28+8=36\n",
      "36+9=45\n",
      "45+10=55\n"
     ]
    }
   ],
   "source": [
    "summ=0\n",
    "for i in range(1,11):\n",
    "    val=summ\n",
    "    summ=summ+i\n",
    "    print(f\"{val}+{i}={summ}\")"
   ]
  },
  {
   "cell_type": "markdown",
   "id": "034f693b-a4a3-4b1f-b485-f6ef8a0eb6d2",
   "metadata": {},
   "source": [
    "**NOTE**\n",
    "\n",
    "- If we print our statement outside the for loop, then the last answer will be printed"
   ]
  },
  {
   "cell_type": "code",
   "execution_count": 3,
   "id": "24d63467-69d3-40a8-8442-e9d92ead5dbc",
   "metadata": {},
   "outputs": [
    {
     "name": "stdin",
     "output_type": "stream",
     "text": [
      "Enter the number: 10\n"
     ]
    },
    {
     "name": "stdout",
     "output_type": "stream",
     "text": [
      "5.5\n"
     ]
    }
   ],
   "source": [
    "# Q) Average first 1 to 10 numbers\n",
    "# avg= summation of all the numbers/total number\n",
    "# Wap to find the average of ' N ' numbers in Python.\n",
    "summ=0\n",
    "N=eval(input('Enter the number:'))\n",
    "for i in range(1,N+1):\n",
    "    summ=summ+i\n",
    "print(summ/N)"
   ]
  },
  {
   "cell_type": "code",
   "execution_count": null,
   "id": "1b260eba-3bd8-46e8-9382-de6434ff5088",
   "metadata": {},
   "outputs": [],
   "source": []
  },
  {
   "cell_type": "markdown",
   "id": "2f3aee58-d0d9-49fb-a5a5-3cc075e8e37b",
   "metadata": {},
   "source": [
    "**Counter Wrapper**\n",
    "\n",
    "- Before for loop initialise with count = 0\n",
    "\n",
    "- Inside for loop, count = count + 1\n",
    "\n",
    "- Counter only increases by 1 only"
   ]
  },
  {
   "cell_type": "code",
   "execution_count": 33,
   "id": "7fb1dd9a-65b3-4370-980f-b1997aa84518",
   "metadata": {},
   "outputs": [
    {
     "name": "stdin",
     "output_type": "stream",
     "text": [
      "Enter the number which you want factorial of:  100\n"
     ]
    },
    {
     "name": "stdout",
     "output_type": "stream",
     "text": [
      "Total their are 9 numbers as a factorial of 100\n"
     ]
    }
   ],
   "source": [
    "# Q). Find the factorial of number \n",
    "count = 0\n",
    "num = eval(input(\"Enter the number which you want factorial of: \"))\n",
    "for i in range(1,num+1):\n",
    "    if num%i == 0:\n",
    "        count = count + 1\n",
    "print(f\"Total their are {count} numbers as a factorial of {num}\")"
   ]
  },
  {
   "cell_type": "code",
   "execution_count": null,
   "id": "fca88814-664e-48f6-9f0a-dda7af6f4363",
   "metadata": {},
   "outputs": [],
   "source": []
  },
  {
   "cell_type": "code",
   "execution_count": 41,
   "id": "27ea6258-2e8d-4109-b144-1ded9949b9a7",
   "metadata": {},
   "outputs": [
    {
     "name": "stdout",
     "output_type": "stream",
     "text": [
      "5\n"
     ]
    },
    {
     "name": "stdin",
     "output_type": "stream",
     "text": [
      "Guess a number between 1 to 10:  5\n"
     ]
    },
    {
     "name": "stdout",
     "output_type": "stream",
     "text": [
      "You Won\n"
     ]
    }
   ],
   "source": [
    "# Q). Get a random number between 1 to 10\n",
    "#     Ask the user to enter a number \n",
    "#     If num1 == num2 , print \"You Won\"\n",
    "#     Else , print \"You Fail\"\n",
    "#     Give three chances\n",
    "\n",
    "import random\n",
    "num1 = random.randint(1,10)\n",
    "num2 = eval(input(\"Guess a number between 1 to 10: \"))\n",
    "for i in range(3):\n",
    "    if num1 == num2:\n",
    "        print(f\"You Won\")\n",
    "        break\n",
    "    else:\n",
    "        print(\"You Fail\")"
   ]
  },
  {
   "cell_type": "code",
   "execution_count": null,
   "id": "b35f23d7-427d-4b1a-a5e4-83ae828f312f",
   "metadata": {},
   "outputs": [],
   "source": []
  },
  {
   "cell_type": "code",
   "execution_count": 5,
   "id": "8df1e98e-70e9-42c1-9edc-9b10bfe2bb52",
   "metadata": {},
   "outputs": [
    {
     "name": "stdout",
     "output_type": "stream",
     "text": [
      "10\n"
     ]
    },
    {
     "name": "stdin",
     "output_type": "stream",
     "text": [
      "enter the number between 1 to 10: 9\n"
     ]
    },
    {
     "name": "stdout",
     "output_type": "stream",
     "text": [
      "Fail\n",
      "9\n"
     ]
    },
    {
     "name": "stdin",
     "output_type": "stream",
     "text": [
      "enter the number between 1 to 10: 8\n"
     ]
    },
    {
     "name": "stdout",
     "output_type": "stream",
     "text": [
      "Fail\n",
      "1\n"
     ]
    },
    {
     "name": "stdin",
     "output_type": "stream",
     "text": [
      "enter the number between 1 to 10: 10\n"
     ]
    },
    {
     "name": "stdout",
     "output_type": "stream",
     "text": [
      "Fail\n"
     ]
    }
   ],
   "source": [
    "# Case-2: whenever you won the code should stop\n",
    "import random\n",
    "for i in range(3):\n",
    "    num1=random.randint(1,10)\n",
    "    print(num1)\n",
    "    num2=eval(input('enter the number between 1 to 10:'))\n",
    "    if num1==num2:\n",
    "        print('won')\n",
    "        break\n",
    "    else:\n",
    "        print('Fail')"
   ]
  },
  {
   "cell_type": "code",
   "execution_count": 8,
   "id": "294166ae-13c4-49f2-947d-fa65a2267ea6",
   "metadata": {},
   "outputs": [
    {
     "name": "stdin",
     "output_type": "stream",
     "text": [
      "Guess a number between 1 to 10:  8\n"
     ]
    },
    {
     "name": "stdout",
     "output_type": "stream",
     "text": [
      "You have 2 chances left\n"
     ]
    },
    {
     "name": "stdin",
     "output_type": "stream",
     "text": [
      "Enter again: 5\n"
     ]
    },
    {
     "name": "stdout",
     "output_type": "stream",
     "text": [
      "You have 1 chances left\n"
     ]
    },
    {
     "name": "stdin",
     "output_type": "stream",
     "text": [
      "Enter again: 3\n"
     ]
    },
    {
     "name": "stdout",
     "output_type": "stream",
     "text": [
      "Try again after 24 hours\n"
     ]
    }
   ],
   "source": [
    "# Case-3:\n",
    "# Suppose I want to give 4 chances\n",
    "# Every time you fail I want to display\n",
    "# Number of chances left\n",
    "# If all the chances you are used\n",
    "# Try again after 24 hours\n",
    "# If you win\n",
    "\n",
    "import random\n",
    "num1 = random.randint(1,10)\n",
    "num2 = eval(input(\"Guess a number between 1 to 10: \"))\n",
    "chance = 3\n",
    "for i in range(3):\n",
    "    if num1 == num2:\n",
    "        print(f\"You Won\")\n",
    "        break\n",
    "    else:\n",
    "        chance -= 1\n",
    "        if chance == 0:\n",
    "            print(\"Try again after 24 hours\")\n",
    "        else:\n",
    "            print(f\"You have {chance} chances left\")\n",
    "            eval(input(\"Enter again:\"))\n",
    "        "
   ]
  },
  {
   "cell_type": "code",
   "execution_count": null,
   "id": "1db536b0-2da1-4060-a5b1-529d54f0c94c",
   "metadata": {},
   "outputs": [],
   "source": []
  },
  {
   "cell_type": "code",
   "execution_count": 9,
   "id": "4c172077-ee7b-42b8-a219-8c6cd298eba1",
   "metadata": {},
   "outputs": [
    {
     "name": "stdout",
     "output_type": "stream",
     "text": [
      "55\n",
      "64\n",
      "7\n",
      "59\n",
      "9\n",
      "The total even count is: 1\n",
      "The total odd count is: 4\n",
      "The sum of even numbers are: 64\n",
      "The sum of odd numbers are: 130\n"
     ]
    }
   ],
   "source": [
    "# wap ask the user to get 5 random numbers\n",
    "# Find it is an even number or odd number\n",
    "# also count how many even numbers are there\n",
    "# and count how many odd numbers are there\n",
    "\n",
    "def odd_even():\n",
    "    import random\n",
    "    even_count = 0\n",
    "    odd_count = 0\n",
    "    even_sum = 0\n",
    "    odd_sum = 0\n",
    "    for num in range(5):\n",
    "        num = random.randint(1,100)\n",
    "        if num%2 == 0:\n",
    "            print(num)\n",
    "            even_count += 1\n",
    "            even_sum += num\n",
    "        else:\n",
    "            print(num)\n",
    "            odd_count += 1\n",
    "            odd_sum += num\n",
    "    print(f\"The total even count is: {even_count}\")\n",
    "    print(f\"The total odd count is: {odd_count}\")\n",
    "    print(f\"The sum of even numbers are: {even_sum}\")\n",
    "    print(f\"The sum of odd numbers are: {odd_sum}\")\n",
    "odd_even()"
   ]
  },
  {
   "cell_type": "code",
   "execution_count": 11,
   "id": "35795e74-d07e-4b88-948f-d47a5901c357",
   "metadata": {},
   "outputs": [
    {
     "name": "stdout",
     "output_type": "stream",
     "text": [
      "66\n",
      "28\n",
      "18\n",
      "17\n",
      "56\n",
      "The total even count is: 4\n",
      "The total odd count is: 1\n",
      "The sum of even numbers are: 168\n",
      "The sum of odd numbers are: 17\n"
     ]
    }
   ],
   "source": [
    "# wap ask the user get 5 random numbers\n",
    "# Find it is an even number or odd number\n",
    "# also count how many even numbers are there\n",
    "# and count how many odd numbers are there\n",
    "# I want the summ of even numbers\n",
    "# I want the summ of odd numbers\n",
    "def odd_even1():\n",
    "    import random\n",
    "    even_count = 0\n",
    "    odd_count = 0\n",
    "    even_sum = 0\n",
    "    odd_sum = 0\n",
    "    for num in range(5):\n",
    "        num = random.randint(1,100)\n",
    "        if num%2 == 0:\n",
    "            print(num)\n",
    "            even_count += 1\n",
    "            even_sum += num\n",
    "        else:\n",
    "            print(num)\n",
    "            odd_count += 1\n",
    "            odd_sum += num\n",
    "    return(even_count, even_sum, odd_count, odd_sum)\n",
    "\n",
    "even_count, even_sum, odd_count, odd_sum = odd_even1()\n",
    "print(f\"The total even count is: {even_count}\")\n",
    "print(f\"The total odd count is: {odd_count}\")\n",
    "print(f\"The sum of even numbers are: {even_sum}\")\n",
    "print(f\"The sum of odd numbers are: {odd_sum}\")"
   ]
  },
  {
   "cell_type": "code",
   "execution_count": null,
   "id": "0e3fd5e9-7223-4d73-b7a1-510bffc73aca",
   "metadata": {},
   "outputs": [],
   "source": []
  },
  {
   "cell_type": "markdown",
   "id": "ad19e471-0951-48b2-bbd9-4be19a3052bb",
   "metadata": {},
   "source": [
    "**in Operator**"
   ]
  },
  {
   "cell_type": "code",
   "execution_count": 13,
   "id": "2eab3b23-c50f-42a5-bd7b-5fc75e44b815",
   "metadata": {},
   "outputs": [
    {
     "data": {
      "text/plain": [
       "True"
      ]
     },
     "execution_count": 13,
     "metadata": {},
     "output_type": "execute_result"
    }
   ],
   "source": [
    "string1 = \"Python\"\n",
    "\"P\" in string1\n",
    "\"y\" in string1\n",
    "\"t\" in string1"
   ]
  },
  {
   "cell_type": "code",
   "execution_count": 14,
   "id": "aac875be-8e32-4750-9be3-efdaa0684542",
   "metadata": {},
   "outputs": [
    {
     "name": "stdout",
     "output_type": "stream",
     "text": [
      "P\n",
      "y\n",
      "t\n",
      "h\n",
      "o\n",
      "n\n"
     ]
    }
   ],
   "source": [
    "for i in string1:\n",
    "    print(i)"
   ]
  },
  {
   "cell_type": "markdown",
   "id": "1da8414e-c542-4229-9b39-6327db49716f",
   "metadata": {},
   "source": [
    "**Difference between in operator and range operator**\n",
    "    \n",
    "- range belongs to math family\n",
    "    \n",
    "- inside we need to keep numbers only\n",
    "    \n",
    "- whenever if we want to iterate through a english letters we need to choose in operator\n",
    "    \n",
    "- range means Numbers\n",
    "    \n",
    "- in means strings"
   ]
  },
  {
   "cell_type": "code",
   "execution_count": 15,
   "id": "287c3048-cad7-41ec-8343-ec3df9087a83",
   "metadata": {},
   "outputs": [
    {
     "data": {
      "text/plain": [
       "True"
      ]
     },
     "execution_count": 15,
     "metadata": {},
     "output_type": "execute_result"
    }
   ],
   "source": [
    "'p'>'P'"
   ]
  },
  {
   "cell_type": "markdown",
   "id": "e8377257-eb61-4f2f-ba64-0a0715fc425d",
   "metadata": {},
   "source": [
    "- How will a machine understand every english letter or special characters?\n",
    "\n",
    "- Machine languages are always considerd as numbers\n",
    "\n",
    "- Every non numeric value is assigned with a number\n",
    "\n",
    "- ASCII: American Standard code for Information Interchange\n",
    "                               \n",
    "- A : 65, a:97"
   ]
  },
  {
   "cell_type": "markdown",
   "id": "4306a401-0042-4b59-90e3-91bf85dcac0f",
   "metadata": {},
   "source": [
    "**ord-char**"
   ]
  },
  {
   "cell_type": "code",
   "execution_count": null,
   "id": "e5a27e50-35a6-4c9e-b1c1-0ca7dc8a75d2",
   "metadata": {},
   "outputs": [],
   "source": [
    "A === 65 === 0b1000001"
   ]
  },
  {
   "cell_type": "code",
   "execution_count": 16,
   "id": "a64f57fd-7266-47a4-b4cc-6aa7d14b3c44",
   "metadata": {},
   "outputs": [
    {
     "data": {
      "text/plain": [
       "(65, 97)"
      ]
     },
     "execution_count": 16,
     "metadata": {},
     "output_type": "execute_result"
    }
   ],
   "source": [
    "ord('A'),ord('a')"
   ]
  },
  {
   "cell_type": "code",
   "execution_count": 17,
   "id": "1bcb9648-08b4-4b14-b4a4-b1eca626f652",
   "metadata": {},
   "outputs": [
    {
     "data": {
      "text/plain": [
       "(112, 80)"
      ]
     },
     "execution_count": 17,
     "metadata": {},
     "output_type": "execute_result"
    }
   ],
   "source": [
    "ord('p'),ord('P')"
   ]
  },
  {
   "cell_type": "code",
   "execution_count": 18,
   "id": "877a0166-cee1-448d-b091-f690f7ac670b",
   "metadata": {},
   "outputs": [
    {
     "data": {
      "text/plain": [
       "True"
      ]
     },
     "execution_count": 18,
     "metadata": {},
     "output_type": "execute_result"
    }
   ],
   "source": [
    "'p' > 'P'       # 112>80"
   ]
  },
  {
   "cell_type": "code",
   "execution_count": 19,
   "id": "2dd50e66-35f3-42d4-87f0-396cf4471b70",
   "metadata": {},
   "outputs": [
    {
     "data": {
      "text/plain": [
       "('p', 'Z', 'T', 'F')"
      ]
     },
     "execution_count": 19,
     "metadata": {},
     "output_type": "execute_result"
    }
   ],
   "source": [
    "chr(112),chr(90),chr(84),chr(70)"
   ]
  },
  {
   "cell_type": "code",
   "execution_count": 33,
   "id": "edc8f158-1d7e-4d3a-86b8-a0d609a9e616",
   "metadata": {},
   "outputs": [
    {
     "name": "stdout",
     "output_type": "stream",
     "text": [
      "The ASCII of p is 112\n",
      "The ASCII of y is 121\n",
      "The ASCII of t is 116\n",
      "The ASCII of h is 104\n",
      "The ASCII of o is 111\n",
      "The ASCII of n is 110\n"
     ]
    }
   ],
   "source": [
    "# I want string1 : 'python'\n",
    "# print all ascii numbers for 'python'\n",
    "for i in \"python\":\n",
    "    print(f\"The ASCII of {i} is {ord(i)}\")"
   ]
  },
  {
   "cell_type": "code",
   "execution_count": 22,
   "id": "def0d5c1-bd48-49c5-8bf0-b3470491ca3f",
   "metadata": {},
   "outputs": [
    {
     "name": "stdout",
     "output_type": "stream",
     "text": [
      "The sum of ASCII is: 674\n"
     ]
    }
   ],
   "source": [
    "ascii_sum = 0\n",
    "for i in \"python\":\n",
    "    ascii_sum = ascii_sum + ord(i)\n",
    "print(f\"The sum of ASCII is: {ascii_sum}\")"
   ]
  },
  {
   "cell_type": "code",
   "execution_count": null,
   "id": "21a89987-70a5-4622-bad1-045522da001a",
   "metadata": {},
   "outputs": [],
   "source": [
    "# Package called : string\n",
    "# import the package\n",
    "# apply the dir\n",
    "# there are some methods \n",
    "# in that one method will give capital letters\n",
    "# step-1: import <package_name>\n",
    "# step-2: dir(<pacakge_name>)\n",
    "# step-3: Identify the methods"
   ]
  },
  {
   "cell_type": "code",
   "execution_count": 35,
   "id": "5aa9dacf-c740-4460-9f38-ed9b28f51be9",
   "metadata": {},
   "outputs": [
    {
     "data": {
      "text/plain": [
       "['Formatter',\n",
       " 'Template',\n",
       " '_ChainMap',\n",
       " '__all__',\n",
       " '__builtins__',\n",
       " '__cached__',\n",
       " '__doc__',\n",
       " '__file__',\n",
       " '__loader__',\n",
       " '__name__',\n",
       " '__package__',\n",
       " '__spec__',\n",
       " '_re',\n",
       " '_sentinel_dict',\n",
       " '_string',\n",
       " 'ascii_letters',\n",
       " 'ascii_lowercase',\n",
       " 'ascii_uppercase',\n",
       " 'capwords',\n",
       " 'digits',\n",
       " 'hexdigits',\n",
       " 'octdigits',\n",
       " 'printable',\n",
       " 'punctuation',\n",
       " 'whitespace']"
      ]
     },
     "execution_count": 35,
     "metadata": {},
     "output_type": "execute_result"
    }
   ],
   "source": [
    "import string\n",
    "dir(string)"
   ]
  },
  {
   "cell_type": "code",
   "execution_count": 37,
   "id": "b019b4bb-22cc-4112-926f-aefc4b407deb",
   "metadata": {},
   "outputs": [
    {
     "data": {
      "text/plain": [
       "'ABCDEFGHIJKLMNOPQRSTUVWXYZ'"
      ]
     },
     "execution_count": 37,
     "metadata": {},
     "output_type": "execute_result"
    }
   ],
   "source": [
    "string.ascii_uppercase"
   ]
  },
  {
   "cell_type": "code",
   "execution_count": 42,
   "id": "5aadb400-02c7-48d1-963f-9e84e8ab7c84",
   "metadata": {},
   "outputs": [
    {
     "data": {
      "text/plain": [
       "'abcdefghijklmnopqrstuvwxyz'"
      ]
     },
     "execution_count": 42,
     "metadata": {},
     "output_type": "execute_result"
    }
   ],
   "source": [
    "string.ascii_lowercase"
   ]
  },
  {
   "cell_type": "code",
   "execution_count": 39,
   "id": "d97d8ea5-4bea-46d7-9057-d71206de5834",
   "metadata": {},
   "outputs": [
    {
     "name": "stdout",
     "output_type": "stream",
     "text": [
      "The ASCII of A is 65\n",
      "The ASCII of B is 66\n",
      "The ASCII of C is 67\n",
      "The ASCII of D is 68\n",
      "The ASCII of E is 69\n",
      "The ASCII of F is 70\n",
      "The ASCII of G is 71\n",
      "The ASCII of H is 72\n",
      "The ASCII of I is 73\n",
      "The ASCII of J is 74\n",
      "The ASCII of K is 75\n",
      "The ASCII of L is 76\n",
      "The ASCII of M is 77\n",
      "The ASCII of N is 78\n",
      "The ASCII of O is 79\n",
      "The ASCII of P is 80\n",
      "The ASCII of Q is 81\n",
      "The ASCII of R is 82\n",
      "The ASCII of S is 83\n",
      "The ASCII of T is 84\n",
      "The ASCII of U is 85\n",
      "The ASCII of V is 86\n",
      "The ASCII of W is 87\n",
      "The ASCII of X is 88\n",
      "The ASCII of Y is 89\n",
      "The ASCII of Z is 90\n"
     ]
    }
   ],
   "source": [
    "# I want to know all ascii number from A to Z\n",
    "import string\n",
    "for i in string.ascii_uppercase:\n",
    "    print(f\"The ASCII of {i} is {ord(i)}\")"
   ]
  },
  {
   "cell_type": "code",
   "execution_count": 41,
   "id": "7ee098c1-59ec-49f8-9479-f1730956c7df",
   "metadata": {},
   "outputs": [
    {
     "name": "stdout",
     "output_type": "stream",
     "text": [
      "The ASCII of a is 97\n",
      "The ASCII of b is 98\n",
      "The ASCII of c is 99\n",
      "The ASCII of d is 100\n",
      "The ASCII of e is 101\n",
      "The ASCII of f is 102\n",
      "The ASCII of g is 103\n",
      "The ASCII of h is 104\n",
      "The ASCII of i is 105\n",
      "The ASCII of j is 106\n",
      "The ASCII of k is 107\n",
      "The ASCII of l is 108\n",
      "The ASCII of m is 109\n",
      "The ASCII of n is 110\n",
      "The ASCII of o is 111\n",
      "The ASCII of p is 112\n",
      "The ASCII of q is 113\n",
      "The ASCII of r is 114\n",
      "The ASCII of s is 115\n",
      "The ASCII of t is 116\n",
      "The ASCII of u is 117\n",
      "The ASCII of v is 118\n",
      "The ASCII of w is 119\n",
      "The ASCII of x is 120\n",
      "The ASCII of y is 121\n",
      "The ASCII of z is 122\n"
     ]
    }
   ],
   "source": [
    "import string\n",
    "for i in string.ascii_lowercase:\n",
    "    print(f\"The ASCII of {i} is {ord(i)}\")"
   ]
  },
  {
   "cell_type": "code",
   "execution_count": 43,
   "id": "1df3e49d-1d7c-4d17-867a-3f412e474b03",
   "metadata": {},
   "outputs": [
    {
     "name": "stdout",
     "output_type": "stream",
     "text": [
      "The ASCII of ! is 33\n",
      "The ASCII of \" is 34\n",
      "The ASCII of # is 35\n",
      "The ASCII of $ is 36\n",
      "The ASCII of % is 37\n",
      "The ASCII of & is 38\n",
      "The ASCII of ' is 39\n",
      "The ASCII of ( is 40\n",
      "The ASCII of ) is 41\n",
      "The ASCII of * is 42\n",
      "The ASCII of + is 43\n",
      "The ASCII of , is 44\n",
      "The ASCII of - is 45\n",
      "The ASCII of . is 46\n",
      "The ASCII of / is 47\n",
      "The ASCII of : is 58\n",
      "The ASCII of ; is 59\n",
      "The ASCII of < is 60\n",
      "The ASCII of = is 61\n",
      "The ASCII of > is 62\n",
      "The ASCII of ? is 63\n",
      "The ASCII of @ is 64\n",
      "The ASCII of [ is 91\n",
      "The ASCII of \\ is 92\n",
      "The ASCII of ] is 93\n",
      "The ASCII of ^ is 94\n",
      "The ASCII of _ is 95\n",
      "The ASCII of ` is 96\n",
      "The ASCII of { is 123\n",
      "The ASCII of | is 124\n",
      "The ASCII of } is 125\n",
      "The ASCII of ~ is 126\n"
     ]
    }
   ],
   "source": [
    "import string\n",
    "for i in string.punctuation:\n",
    "    print(f\"The ASCII of {i} is {ord(i)}\")"
   ]
  },
  {
   "cell_type": "code",
   "execution_count": 25,
   "id": "25091a91-55bf-453f-88b0-ee8a4d6e53b1",
   "metadata": {},
   "outputs": [
    {
     "name": "stdout",
     "output_type": "stream",
     "text": [
      "The ASCII of a is 97\n",
      "The ASCII of b is 98\n",
      "The ASCII of c is 99\n",
      "The ASCII of d is 100\n",
      "The ASCII of e is 101\n",
      "The ASCII of f is 102\n",
      "The ASCII of g is 103\n",
      "The ASCII of h is 104\n",
      "The ASCII of i is 105\n",
      "The ASCII of j is 106\n",
      "The ASCII of k is 107\n",
      "The ASCII of l is 108\n",
      "The ASCII of m is 109\n",
      "The ASCII of n is 110\n",
      "The ASCII of o is 111\n",
      "The ASCII of p is 112\n",
      "The ASCII of q is 113\n",
      "The ASCII of r is 114\n",
      "The ASCII of s is 115\n",
      "The ASCII of t is 116\n",
      "The ASCII of u is 117\n",
      "The ASCII of v is 118\n",
      "The ASCII of w is 119\n",
      "The ASCII of x is 120\n",
      "The ASCII of y is 121\n",
      "The ASCII of z is 122\n",
      "The ASCII of A is 65\n",
      "The ASCII of B is 66\n",
      "The ASCII of C is 67\n",
      "The ASCII of D is 68\n",
      "The ASCII of E is 69\n",
      "The ASCII of F is 70\n",
      "The ASCII of G is 71\n",
      "The ASCII of H is 72\n",
      "The ASCII of I is 73\n",
      "The ASCII of J is 74\n",
      "The ASCII of K is 75\n",
      "The ASCII of L is 76\n",
      "The ASCII of M is 77\n",
      "The ASCII of N is 78\n",
      "The ASCII of O is 79\n",
      "The ASCII of P is 80\n",
      "The ASCII of Q is 81\n",
      "The ASCII of R is 82\n",
      "The ASCII of S is 83\n",
      "The ASCII of T is 84\n",
      "The ASCII of U is 85\n",
      "The ASCII of V is 86\n",
      "The ASCII of W is 87\n",
      "The ASCII of X is 88\n",
      "The ASCII of Y is 89\n",
      "The ASCII of Z is 90\n"
     ]
    }
   ],
   "source": [
    "import string\n",
    "for i in string.ascii_letters:\n",
    "    print(f\"The ASCII of {i} is {ord(i)}\")"
   ]
  },
  {
   "cell_type": "code",
   "execution_count": 27,
   "id": "3537cfa7-6ed6-4572-b69f-2daf589c5795",
   "metadata": {},
   "outputs": [
    {
     "name": "stdout",
     "output_type": "stream",
     "text": [
      "3078 == ఆ\n",
      "3079 == ఇ\n",
      "3080 == ఈ\n",
      "3081 == ఉ\n",
      "3082 == ఊ\n",
      "3083 == ఋ\n",
      "3084 == ఌ\n",
      "3085 == ఍\n",
      "3086 == ఎ\n",
      "3087 == ఏ\n",
      "3088 == ఐ\n",
      "3089 == ఑\n",
      "3090 == ఒ\n",
      "3091 == ఓ\n",
      "3092 == ఔ\n",
      "3093 == క\n",
      "3094 == ఖ\n",
      "3095 == గ\n",
      "3096 == ఘ\n",
      "3097 == ఙ\n",
      "3098 == చ\n",
      "3099 == ఛ\n",
      "3100 == జ\n",
      "3101 == ఝ\n",
      "3102 == ఞ\n",
      "3103 == ట\n",
      "3104 == ఠ\n",
      "3105 == డ\n",
      "3106 == ఢ\n",
      "3107 == ణ\n",
      "3108 == త\n",
      "3109 == థ\n",
      "3110 == ద\n",
      "3111 == ధ\n",
      "3112 == న\n",
      "3113 == ఩\n",
      "3114 == ప\n",
      "3115 == ఫ\n",
      "3116 == బ\n",
      "3117 == భ\n",
      "3118 == మ\n",
      "3119 == య\n",
      "3120 == ర\n",
      "3121 == ఱ\n",
      "3122 == ల\n",
      "3123 == ళ\n",
      "3124 == ఴ\n",
      "3125 == వ\n",
      "3126 == శ\n",
      "3127 == ష\n",
      "3128 == స\n",
      "3129 == హ\n",
      "3130 == ఺\n",
      "3131 == ఻\n",
      "3132 == ఼\n",
      "3133 == ఽ\n",
      "3134 == ా\n",
      "3135 == ి\n",
      "3136 == ీ\n",
      "3137 == ు\n",
      "3138 == ూ\n",
      "3139 == ృ\n",
      "3140 == ౄ\n",
      "3141 == ౅\n",
      "3142 == ె\n",
      "3143 == ే\n",
      "3144 == ై\n",
      "3145 == ౉\n",
      "3146 == ొ\n",
      "3147 == ో\n",
      "3148 == ౌ\n",
      "3149 == ్\n",
      "3150 == ౎\n",
      "3151 == ౏\n",
      "3152 == ౐\n",
      "3153 == ౑\n",
      "3154 == ౒\n",
      "3155 == ౓\n",
      "3156 == ౔\n",
      "3157 == ౕ\n",
      "3158 == ౖ\n",
      "3159 == ౗\n",
      "3160 == ౘ\n",
      "3161 == ౙ\n",
      "3162 == ౚ\n",
      "3163 == ౛\n",
      "3164 == ౜\n",
      "3165 == ౝ\n",
      "3166 == ౞\n",
      "3167 == ౟\n",
      "3168 == ౠ\n",
      "3169 == ౡ\n",
      "3170 == ౢ\n",
      "3171 == ౣ\n",
      "3172 == ౤\n",
      "3173 == ౥\n",
      "3174 == ౦\n",
      "3175 == ౧\n",
      "3176 == ౨\n",
      "3177 == ౩\n"
     ]
    }
   ],
   "source": [
    "for i in range(3078,3178):\n",
    "    print(f\"{i} == {chr(i)}\")"
   ]
  },
  {
   "cell_type": "code",
   "execution_count": null,
   "id": "c0ec1604-fc03-4b39-8b55-dfe0b57f2570",
   "metadata": {},
   "outputs": [],
   "source": []
  }
 ],
 "metadata": {
  "kernelspec": {
   "display_name": "Python 3 (ipykernel)",
   "language": "python",
   "name": "python3"
  },
  "language_info": {
   "codemirror_mode": {
    "name": "ipython",
    "version": 3
   },
   "file_extension": ".py",
   "mimetype": "text/x-python",
   "name": "python",
   "nbconvert_exporter": "python",
   "pygments_lexer": "ipython3",
   "version": "3.11.7"
  }
 },
 "nbformat": 4,
 "nbformat_minor": 5
}
