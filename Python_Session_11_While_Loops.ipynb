{
 "cells": [
  {
   "cell_type": "markdown",
   "id": "0bb7806a-4141-4a5f-af21-0050bf1dc43c",
   "metadata": {},
   "source": [
    "**While Loop**\n",
    "\n",
    "- If we want to run an infinite iteration we will choose while loop\n",
    "\n",
    "- Every loop we need three things\n",
    "\n",
    "    - Initial Point (Starting Point)\n",
    "\n",
    "    - Increment or Decrement\n",
    "\n",
    "    - Condition (Stop Point)"
   ]
  },
  {
   "cell_type": "code",
   "execution_count": 1,
   "id": "9ffadc6a-e6cb-4c37-8f86-bf469d0a89c2",
   "metadata": {},
   "outputs": [
    {
     "name": "stdout",
     "output_type": "stream",
     "text": [
      "1\n",
      "3\n",
      "5\n",
      "7\n",
      "9\n"
     ]
    }
   ],
   "source": [
    "for i in range(1,10,2):\n",
    "    print(i)"
   ]
  },
  {
   "cell_type": "markdown",
   "id": "7fa404f7-95d1-4a60-bda5-1fe8a2e77548",
   "metadata": {},
   "source": [
    "- In for loop all the three things are mentioned in a single line : range(start,stop,step)\n",
    "\n",
    "- In while loop we will use these three things in three different lines"
   ]
  },
  {
   "cell_type": "code",
   "execution_count": null,
   "id": "ef71b9d6-3d4e-40f2-80ec-1cb9a9294bb0",
   "metadata": {},
   "outputs": [],
   "source": [
    "<start point>\n",
    "while <how to stop>:\n",
    "    codeline1\n",
    "    codeline2\n",
    "    <increment or decrement>"
   ]
  },
  {
   "cell_type": "code",
   "execution_count": null,
   "id": "47b85bda-e7da-4212-b6ac-6d54fadfeb07",
   "metadata": {},
   "outputs": [],
   "source": [
    "if <condition>:\n",
    "    #########"
   ]
  },
  {
   "cell_type": "code",
   "execution_count": 2,
   "id": "c5a4017d-4251-41cc-9b87-4651c2e5ea50",
   "metadata": {},
   "outputs": [
    {
     "name": "stdout",
     "output_type": "stream",
     "text": [
      "1 2 3 4 5 6 7 8 9 "
     ]
    }
   ],
   "source": [
    "for i in range(1,10):\n",
    "    print(i,end = \" \")"
   ]
  },
  {
   "cell_type": "code",
   "execution_count": null,
   "id": "17f4cfee-9160-432a-afc3-3199786664ec",
   "metadata": {},
   "outputs": [],
   "source": [
    "# start point :  i = 0\n",
    "# while <condition to stop>:\n",
    "# i = i + 1"
   ]
  },
  {
   "cell_type": "markdown",
   "id": "29c6cfb9-20ad-4e4c-9399-3d3447a66cd4",
   "metadata": {},
   "source": [
    "- Correct entry and correct exit is very necessary in while loop"
   ]
  },
  {
   "cell_type": "code",
   "execution_count": 2,
   "id": "7ed066d3-f6a1-4857-b051-b239f63df43f",
   "metadata": {},
   "outputs": [
    {
     "name": "stdout",
     "output_type": "stream",
     "text": [
      "1 2 3 4 5 6 7 8 9 10 "
     ]
    }
   ],
   "source": [
    "i = 1\n",
    "while i<11:\n",
    "    print(i,end = \" \")\n",
    "    i += 1\n",
    "\n",
    "# step-1: i = 1 while 1 < 2   True  print(1) i=1+1 i=2\n",
    "# step-2: i = 2 while 2 < 2   True  print(2) i=2+1 i=3"
   ]
  },
  {
   "cell_type": "code",
   "execution_count": 5,
   "id": "e15960d8-28a1-490e-96ad-0b84891d3faa",
   "metadata": {},
   "outputs": [
    {
     "name": "stdout",
     "output_type": "stream",
     "text": [
      "I love Python,Hello\n",
      "I love Python,Hello\n"
     ]
    }
   ],
   "source": [
    "i = 1\n",
    "while i<3:\n",
    "    print(\"I love Python\", end = \",\")\n",
    "    print(\"Hello\")\n",
    "    i += 1\n",
    "\n",
    "# Step:1 = "
   ]
  },
  {
   "cell_type": "code",
   "execution_count": null,
   "id": "0ea2c18c-4b83-4e0e-8608-e6dcb879155b",
   "metadata": {},
   "outputs": [],
   "source": []
  },
  {
   "cell_type": "code",
   "execution_count": 6,
   "id": "d32de3f5-23bd-44ba-acc1-ce71b8f8ea1e",
   "metadata": {},
   "outputs": [],
   "source": [
    "i = 1\n",
    "while i == 10:\n",
    "    print(i)\n",
    "    i += 1\n",
    "# This code will not run as the given condition is false"
   ]
  },
  {
   "cell_type": "code",
   "execution_count": null,
   "id": "668743fc-c231-465d-b24e-79c78a427d44",
   "metadata": {},
   "outputs": [],
   "source": []
  },
  {
   "cell_type": "code",
   "execution_count": null,
   "id": "fb55cf10-ab5f-411c-a195-30c3e8be53cb",
   "metadata": {},
   "outputs": [],
   "source": [
    "# Infinite Loop\n",
    "i = 1\n",
    "while i<11:\n",
    "    print(i)\n",
    "    i -= 1"
   ]
  },
  {
   "cell_type": "code",
   "execution_count": null,
   "id": "43013adf-0914-4de2-bea9-5671eaa11cd3",
   "metadata": {},
   "outputs": [],
   "source": []
  },
  {
   "cell_type": "code",
   "execution_count": 9,
   "id": "d2f6f607-f2cd-4fde-9857-de63ab2263c4",
   "metadata": {},
   "outputs": [
    {
     "name": "stdout",
     "output_type": "stream",
     "text": [
      "20 19 18 17 16 15 14 13 12 11 10 9 8 7 6 5 4 3 2 1 "
     ]
    }
   ],
   "source": [
    "# 20 to 1\n",
    "i = 20\n",
    "while i>=1:\n",
    "    print(i,end=\" \")\n",
    "    i -= 1"
   ]
  },
  {
   "cell_type": "code",
   "execution_count": null,
   "id": "9c898a23-9f32-4c33-9b56-92130a7e0067",
   "metadata": {},
   "outputs": [],
   "source": []
  },
  {
   "cell_type": "code",
   "execution_count": 3,
   "id": "a556f61b-84cc-464f-a07c-8ff7f6df488b",
   "metadata": {},
   "outputs": [
    {
     "name": "stdout",
     "output_type": "stream",
     "text": [
      "1 0 -1 -2 -3 -4 -5 -6 -7 -8 -9 "
     ]
    }
   ],
   "source": [
    "i=1\n",
    "while i<11:\n",
    "    print(i,end=' ')\n",
    "    i=i-1\n",
    "    if i==-10:\n",
    "        break"
   ]
  },
  {
   "cell_type": "code",
   "execution_count": null,
   "id": "1af6eae1-e4fe-47b0-b39a-01fda6d1cb73",
   "metadata": {},
   "outputs": [],
   "source": []
  },
  {
   "cell_type": "code",
   "execution_count": 8,
   "id": "d2c0d3fa-f8c5-426a-80ed-5eff62b222dc",
   "metadata": {},
   "outputs": [
    {
     "name": "stdout",
     "output_type": "stream",
     "text": [
      "-20 -19 -18 -17 -16 -15 -14 -13 -12 -11 -10 -9 -8 -7 -6 -5 -4 -3 -2 -1 0 "
     ]
    }
   ],
   "source": [
    "# -20 to 0\n",
    "i = -20\n",
    "while i <= 0:\n",
    "    print(i,end=' ')\n",
    "    i += 1"
   ]
  },
  {
   "cell_type": "code",
   "execution_count": null,
   "id": "21ee93d8-b380-48ab-814b-7ba6792d360a",
   "metadata": {},
   "outputs": [],
   "source": []
  },
  {
   "cell_type": "code",
   "execution_count": 11,
   "id": "574401ed-5694-4163-8c53-cb3ae547134a",
   "metadata": {},
   "outputs": [
    {
     "name": "stdout",
     "output_type": "stream",
     "text": [
      "1 2 3 4 5 6 7 8 9 10 "
     ]
    }
   ],
   "source": [
    "i = 1\n",
    "while True:\n",
    "    print(i,end = \" \")\n",
    "    i += 1\n",
    "    if i == 11:\n",
    "        break"
   ]
  },
  {
   "cell_type": "code",
   "execution_count": 13,
   "id": "1cd1798f-99af-4636-b915-86f2e4cfa0b8",
   "metadata": {},
   "outputs": [
    {
     "name": "stdout",
     "output_type": "stream",
     "text": [
      "20 19 18 17 16 15 14 13 12 11 10 9 8 7 6 5 4 3 2 1 "
     ]
    }
   ],
   "source": [
    "# 20 to 1\n",
    "i = 20\n",
    "while True:\n",
    "    print(i,end=\" \")\n",
    "    i -= 1\n",
    "    if i == 0:\n",
    "        break"
   ]
  },
  {
   "cell_type": "code",
   "execution_count": 14,
   "id": "22a5b4e3-fa6c-4545-8d58-75a2b4251ae0",
   "metadata": {},
   "outputs": [
    {
     "name": "stdout",
     "output_type": "stream",
     "text": [
      "-20 -19 -18 -17 -16 -15 -14 -13 -12 -11 -10 -9 -8 -7 -6 -5 -4 -3 -2 -1 0 "
     ]
    }
   ],
   "source": [
    "# -20 to 0\n",
    "i = -20\n",
    "while True:\n",
    "    print(i,end=' ')\n",
    "    i += 1\n",
    "    if i == 1:\n",
    "        break"
   ]
  },
  {
   "cell_type": "code",
   "execution_count": null,
   "id": "105fe824-a969-42d0-9620-91fdc8f3eef2",
   "metadata": {},
   "outputs": [],
   "source": []
  },
  {
   "cell_type": "markdown",
   "id": "d2b61f11-b8b4-44f7-a59e-c4c7b8c47f7d",
   "metadata": {},
   "source": [
    "**True**"
   ]
  },
  {
   "cell_type": "markdown",
   "id": "05e8cc7c-a44e-4265-9e6d-08b38f8c19b5",
   "metadata": {},
   "source": [
    "- If we don't know any valid condition to enter inside the loop then we use **True**\n",
    "\n",
    "- True will give entry pass irrespective of the condition\n",
    "\n",
    "- But if we want to come out of the loop then we will need to apply if condition and break inside the while loop\n",
    "\n",
    "- If you don't apply break then it will become an infinite loop"
   ]
  },
  {
   "cell_type": "code",
   "execution_count": 17,
   "id": "49468579-12d1-4fca-b759-c701c1ace20e",
   "metadata": {},
   "outputs": [
    {
     "name": "stdout",
     "output_type": "stream",
     "text": [
      "96 is even\n",
      "17 is odd\n",
      "66 is even\n"
     ]
    }
   ],
   "source": [
    "import random \n",
    "i = 1\n",
    "while i < 4:\n",
    "    num = random.randint(1,100)\n",
    "    if num % 2 == 0:\n",
    "        print(f'{num} is even')\n",
    "    else:\n",
    "        print(f'{num} is odd')\n",
    "    i += 1"
   ]
  },
  {
   "cell_type": "code",
   "execution_count": null,
   "id": "0dfdd738-dbc9-4d32-8d75-1c1842f3bf82",
   "metadata": {},
   "outputs": [],
   "source": []
  },
  {
   "cell_type": "code",
   "execution_count": null,
   "id": "40240388-fb12-4019-8734-42423a47ff47",
   "metadata": {},
   "outputs": [],
   "source": []
  }
 ],
 "metadata": {
  "kernelspec": {
   "display_name": "Python 3 (ipykernel)",
   "language": "python",
   "name": "python3"
  },
  "language_info": {
   "codemirror_mode": {
    "name": "ipython",
    "version": 3
   },
   "file_extension": ".py",
   "mimetype": "text/x-python",
   "name": "python",
   "nbconvert_exporter": "python",
   "pygments_lexer": "ipython3",
   "version": "3.11.7"
  }
 },
 "nbformat": 4,
 "nbformat_minor": 5
}
