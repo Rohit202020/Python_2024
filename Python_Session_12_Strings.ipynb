{
 "cells": [
  {
   "cell_type": "markdown",
   "id": "37fab716-7080-4c40-80e3-af769f248840",
   "metadata": {},
   "source": [
    "**Initialization**"
   ]
  },
  {
   "cell_type": "code",
   "execution_count": 1,
   "id": "12434dc2-b626-4be1-8be5-5c023940d4c8",
   "metadata": {},
   "outputs": [
    {
     "data": {
      "text/plain": [
       "'Python'"
      ]
     },
     "execution_count": 1,
     "metadata": {},
     "output_type": "execute_result"
    }
   ],
   "source": [
    "str1 = \"Python\"\n",
    "str1"
   ]
  },
  {
   "cell_type": "code",
   "execution_count": 2,
   "id": "afc87ac2-e708-461a-81a3-36c6739693f8",
   "metadata": {},
   "outputs": [
    {
     "data": {
      "text/plain": [
       "'Python'"
      ]
     },
     "execution_count": 2,
     "metadata": {},
     "output_type": "execute_result"
    }
   ],
   "source": [
    "str2 = 'Python'\n",
    "str2"
   ]
  },
  {
   "cell_type": "code",
   "execution_count": 3,
   "id": "a49b247d-c89d-415d-a7ae-e244f2c4cc6e",
   "metadata": {},
   "outputs": [
    {
     "name": "stdout",
     "output_type": "stream",
     "text": [
      "Python\n"
     ]
    }
   ],
   "source": [
    "print(str1)"
   ]
  },
  {
   "cell_type": "markdown",
   "id": "3dbf43c8-9d14-41d9-9cdd-efeaa3e84090",
   "metadata": {},
   "source": [
    "**Triple Quotes**"
   ]
  },
  {
   "cell_type": "code",
   "execution_count": 4,
   "id": "ea2decf5-dba1-48ac-831c-bdf7060b73c0",
   "metadata": {},
   "outputs": [
    {
     "data": {
      "text/plain": [
       "'Hi How are you\\n          I am good'"
      ]
     },
     "execution_count": 4,
     "metadata": {},
     "output_type": "execute_result"
    }
   ],
   "source": [
    "str3 = \"\"\"Hi How are you\n",
    "          I am good\"\"\"\n",
    "str3"
   ]
  },
  {
   "cell_type": "code",
   "execution_count": 5,
   "id": "52e52f7e-23bf-4072-bba5-e969a3583d0f",
   "metadata": {},
   "outputs": [
    {
     "name": "stdout",
     "output_type": "stream",
     "text": [
      "Hi How are you\n",
      "          I am good\n"
     ]
    }
   ],
   "source": [
    "print(str3)"
   ]
  },
  {
   "cell_type": "markdown",
   "id": "e3930e9e-4b18-43d4-a006-a1e3369daeca",
   "metadata": {},
   "source": [
    "**NOTE**\n",
    "\n",
    "- If we input our variable in single qoutes or double quotes then by default python will take that in single quotes\n",
    "\n",
    "- If we print the strings we will see the answer without quotes\n",
    "\n",
    "- Triple quotes are used for doc strings\n",
    "\n",
    "- In order to convey the information about coding part we use doc string\n",
    "\n",
    "- Anything inside single quotes or double quotes in python are considered as strings"
   ]
  },
  {
   "cell_type": "markdown",
   "id": "1d6c1bde-3c4a-4714-a369-0d1bd4e33e18",
   "metadata": {},
   "source": [
    "**type**"
   ]
  },
  {
   "cell_type": "code",
   "execution_count": 6,
   "id": "31beef8a-43e9-440d-903d-a77f270dd4ac",
   "metadata": {},
   "outputs": [
    {
     "data": {
      "text/plain": [
       "str"
      ]
     },
     "execution_count": 6,
     "metadata": {},
     "output_type": "execute_result"
    }
   ],
   "source": [
    "type(str1)"
   ]
  },
  {
   "cell_type": "code",
   "execution_count": null,
   "id": "365c5af5-0292-4fac-b17f-a1d3d7e2075b",
   "metadata": {},
   "outputs": [],
   "source": [
    "str4 = '10'          # Integer value in the form of string\n",
    "str5 = '10.4'        # Float value in the form of string\n",
    "str6 = 'True'        # Boolean value in the form of string\n",
    "str7 = \"123abc\"      # Alphanumeric value in the form of string"
   ]
  },
  {
   "cell_type": "markdown",
   "id": "50897f11-ceae-4e50-afc1-005688133056",
   "metadata": {},
   "source": [
    "**len**"
   ]
  },
  {
   "cell_type": "code",
   "execution_count": 3,
   "id": "5d0b37b4-4522-4be2-ab7c-d1d937b046ea",
   "metadata": {},
   "outputs": [
    {
     "name": "stdout",
     "output_type": "stream",
     "text": [
      "5\n"
     ]
    }
   ],
   "source": [
    "Name = \"Virat\"\n",
    "print(len(Name))"
   ]
  },
  {
   "cell_type": "markdown",
   "id": "a89c7b0c-7726-4945-b635-939a17f3622a",
   "metadata": {},
   "source": [
    "**max and min**"
   ]
  },
  {
   "cell_type": "code",
   "execution_count": 1,
   "id": "d982db11-f361-478c-932a-8ac8177c5fac",
   "metadata": {},
   "outputs": [
    {
     "data": {
      "text/plain": [
       "'t'"
      ]
     },
     "execution_count": 1,
     "metadata": {},
     "output_type": "execute_result"
    }
   ],
   "source": [
    "name = \"Rohit\"\n",
    "max(name)"
   ]
  },
  {
   "cell_type": "code",
   "execution_count": 2,
   "id": "068059fe-f9e5-45f2-8c9b-752128f9f220",
   "metadata": {},
   "outputs": [
    {
     "data": {
      "text/plain": [
       "'R'"
      ]
     },
     "execution_count": 2,
     "metadata": {},
     "output_type": "execute_result"
    }
   ],
   "source": [
    "min(name)"
   ]
  },
  {
   "cell_type": "code",
   "execution_count": 5,
   "id": "d6aa424c-1deb-431d-9ca0-9bb4fde36b73",
   "metadata": {},
   "outputs": [
    {
     "data": {
      "text/plain": [
       "(82, 111, 104, 105, 116)"
      ]
     },
     "execution_count": 5,
     "metadata": {},
     "output_type": "execute_result"
    }
   ],
   "source": [
    "ord('R'),ord('o'),ord('h'),ord('i'),ord('t')"
   ]
  },
  {
   "cell_type": "code",
   "execution_count": 7,
   "id": "7a95db03-369d-4187-b73f-a8f57ea56fba",
   "metadata": {},
   "outputs": [
    {
     "name": "stdout",
     "output_type": "stream",
     "text": [
      "t\n",
      "C\n"
     ]
    }
   ],
   "source": [
    "Hobby = \"Cricket\"\n",
    "print(max(Hobby))\n",
    "print(min(Hobby))"
   ]
  },
  {
   "cell_type": "markdown",
   "id": "84696f97-817b-4227-926a-0a4c9cb32192",
   "metadata": {},
   "source": [
    "**Keywords vs Methods**"
   ]
  },
  {
   "cell_type": "code",
   "execution_count": null,
   "id": "41cfbd64-a4f9-4734-a0ff-d7895762af93",
   "metadata": {},
   "outputs": [],
   "source": [
    "# This all are keywords\n",
    "\n",
    "type(<>)\n",
    "print(<>)\n",
    "len(<>)\n",
    "max(<>)\n",
    "min(<>)\n",
    "eval(<>)\n",
    "input(<>)\n",
    "sum(<>)"
   ]
  },
  {
   "cell_type": "code",
   "execution_count": null,
   "id": "38337fbb-2b2e-425a-b90f-8666b1fabe01",
   "metadata": {},
   "outputs": [],
   "source": [
    "# Inorder to use method we need to call packages\n",
    "\n",
    "import random\n",
    "random.randint()\n",
    "\n",
    "import math\n",
    "math.sqrt()\n",
    "\n",
    "import time\n",
    "time.sleep()"
   ]
  },
  {
   "cell_type": "markdown",
   "id": "087511cc-f71d-4644-9e62-664f6ef52c71",
   "metadata": {},
   "source": [
    "**sum**"
   ]
  },
  {
   "cell_type": "code",
   "execution_count": 7,
   "id": "9cd720c8-2e56-482c-a715-0a043b225933",
   "metadata": {},
   "outputs": [
    {
     "ename": "TypeError",
     "evalue": "unsupported operand type(s) for +: 'int' and 'str'",
     "output_type": "error",
     "traceback": [
      "\u001b[1;31m---------------------------------------------------------------------------\u001b[0m",
      "\u001b[1;31mTypeError\u001b[0m                                 Traceback (most recent call last)",
      "Cell \u001b[1;32mIn[7], line 2\u001b[0m\n\u001b[0;32m      1\u001b[0m str1 \u001b[38;5;241m=\u001b[39m \u001b[38;5;124m\"\u001b[39m\u001b[38;5;124mpython\u001b[39m\u001b[38;5;124m\"\u001b[39m\n\u001b[1;32m----> 2\u001b[0m \u001b[38;5;28msum\u001b[39m(str1)\n",
      "\u001b[1;31mTypeError\u001b[0m: unsupported operand type(s) for +: 'int' and 'str'"
     ]
    }
   ],
   "source": [
    "str1 = \"python\"\n",
    "sum(str1)"
   ]
  },
  {
   "cell_type": "code",
   "execution_count": 8,
   "id": "0c0796a6-28b8-4f7c-9c4a-7baa1670bec9",
   "metadata": {},
   "outputs": [
    {
     "data": {
      "text/plain": [
       "21"
      ]
     },
     "execution_count": 8,
     "metadata": {},
     "output_type": "execute_result"
    }
   ],
   "source": [
    "sum([1,2,3,4,5,6])"
   ]
  },
  {
   "cell_type": "markdown",
   "id": "724c3186-b98e-4207-b583-0532645f133d",
   "metadata": {},
   "source": [
    "**sorted**"
   ]
  },
  {
   "cell_type": "code",
   "execution_count": 8,
   "id": "91d8e618-cc5e-4e15-a84c-edfefa6fea11",
   "metadata": {},
   "outputs": [
    {
     "data": {
      "text/plain": [
       "['h', 'n', 'o', 'p', 't', 'y']"
      ]
     },
     "execution_count": 8,
     "metadata": {},
     "output_type": "execute_result"
    }
   ],
   "source": [
    "sorted('python')                             # Ascending Order"
   ]
  },
  {
   "cell_type": "code",
   "execution_count": 10,
   "id": "f0607ea5-42ac-4007-82c6-5293e9bdc655",
   "metadata": {},
   "outputs": [
    {
     "data": {
      "text/plain": [
       "['y', 't', 'p', 'o', 'n', 'h']"
      ]
     },
     "execution_count": 10,
     "metadata": {},
     "output_type": "execute_result"
    }
   ],
   "source": [
    "sorted('python',reverse = True)              # Descending Order"
   ]
  },
  {
   "cell_type": "markdown",
   "id": "648d1dc4-0010-4bc4-88de-aa3bd993e17c",
   "metadata": {},
   "source": [
    "- sorted gives ascending order based on ASCII numbers\n",
    "\n",
    "- sorted is kind of a function\n",
    "\n",
    "- Every function we have arguments\n",
    "\n",
    "- In that one defualt argument is reverse = False\n",
    "\n",
    "- By defualt sorted output gives ascending order\n",
    "\n",
    "- We can change the order, by providing reverse = True\n",
    "\n",
    "- If we do not mention, it will give the default answer"
   ]
  },
  {
   "cell_type": "code",
   "execution_count": 9,
   "id": "c91c6eb9-cbab-4f0e-88b4-50210bdb2d1a",
   "metadata": {},
   "outputs": [
    {
     "data": {
      "text/plain": [
       "0j"
      ]
     },
     "execution_count": 9,
     "metadata": {},
     "output_type": "execute_result"
    }
   ],
   "source": [
    "complex()"
   ]
  },
  {
   "cell_type": "code",
   "execution_count": 10,
   "id": "a24197cc-e5f9-47ae-9509-9332db25bdb9",
   "metadata": {},
   "outputs": [
    {
     "data": {
      "text/plain": [
       "(10+20j)"
      ]
     },
     "execution_count": 10,
     "metadata": {},
     "output_type": "execute_result"
    }
   ],
   "source": [
    "complex(10,20)"
   ]
  },
  {
   "cell_type": "code",
   "execution_count": null,
   "id": "4869795f-a06b-4c6d-9bd4-ff7e1b1b13f6",
   "metadata": {},
   "outputs": [],
   "source": []
  },
  {
   "cell_type": "code",
   "execution_count": 11,
   "id": "4127e200-710c-49dd-bef5-3c03a709276a",
   "metadata": {},
   "outputs": [
    {
     "ename": "TypeError",
     "evalue": "sorted expected 1 argument, got 0",
     "output_type": "error",
     "traceback": [
      "\u001b[1;31m---------------------------------------------------------------------------\u001b[0m",
      "\u001b[1;31mTypeError\u001b[0m                                 Traceback (most recent call last)",
      "Cell \u001b[1;32mIn[11], line 1\u001b[0m\n\u001b[1;32m----> 1\u001b[0m \u001b[38;5;28msorted\u001b[39m(iterable\u001b[38;5;241m=\u001b[39m\u001b[38;5;124m'\u001b[39m\u001b[38;5;124mpyton\u001b[39m\u001b[38;5;124m'\u001b[39m)\n",
      "\u001b[1;31mTypeError\u001b[0m: sorted expected 1 argument, got 0"
     ]
    }
   ],
   "source": [
    "sorted(iterable='pyton')"
   ]
  },
  {
   "cell_type": "code",
   "execution_count": 13,
   "id": "cb8e9866-b62d-4f6f-a9f5-43f1114883c4",
   "metadata": {},
   "outputs": [
    {
     "data": {
      "text/plain": [
       "18"
      ]
     },
     "execution_count": 13,
     "metadata": {},
     "output_type": "execute_result"
    }
   ],
   "source": [
    "import random\n",
    "random.randint(a = 10, b = 20)"
   ]
  },
  {
   "cell_type": "code",
   "execution_count": null,
   "id": "e66dd932-7f99-4732-9e1a-7f6e10fe9fb2",
   "metadata": {},
   "outputs": [],
   "source": [
    "function()             # Answer\n",
    "function(a,b)          # This might give error if we don't provide the value of a and b\n",
    "function(a=10,b=20)    # Answer"
   ]
  },
  {
   "cell_type": "code",
   "execution_count": null,
   "id": "3e05c236-9989-4e0d-973e-8dc0c4983e86",
   "metadata": {},
   "outputs": [],
   "source": []
  },
  {
   "cell_type": "markdown",
   "id": "7ad51a49-8384-41ee-84e8-8c32ed4181d5",
   "metadata": {},
   "source": [
    "**NOTE**\n",
    "\n",
    "- We have arguments before / and after slash\n",
    "\n",
    "- We can use the arguments after / only\n",
    "\n",
    "- For example, sorted has two arguments one iterable and another one is reverse\n",
    "\n",
    "- Iterable is mentioned before / symbol\n",
    "\n",
    "- Reverse is mentioned after / symbol\n",
    "\n",
    "- So we can only use reverse argument name when we are doing the work\n",
    "\n",
    "- We cannot use iterable argument name\n",
    "\n",
    "- Instead of using iterable argument name we can directly provide the value over there"
   ]
  },
  {
   "cell_type": "markdown",
   "id": "d5f88c5c-dfdb-4077-b047-b09d1c544e3a",
   "metadata": {},
   "source": [
    "**reversed**"
   ]
  },
  {
   "cell_type": "code",
   "execution_count": 2,
   "id": "17c28624-c8c8-4e6e-b375-9fcb170c9724",
   "metadata": {},
   "outputs": [
    {
     "data": {
      "text/plain": [
       "<reversed at 0x2548129b430>"
      ]
     },
     "execution_count": 2,
     "metadata": {},
     "output_type": "execute_result"
    }
   ],
   "source": [
    "reversed('python')"
   ]
  },
  {
   "cell_type": "markdown",
   "id": "f1722d83-7436-4b0a-8f2d-403960b0e424",
   "metadata": {},
   "source": [
    "- Here reversed function has already performed its work\n",
    "\n",
    "- Our output is stored in the memory location\n",
    "\n",
    "- For accessing our output using the reversed function we will have to use for loop every time"
   ]
  },
  {
   "cell_type": "code",
   "execution_count": 3,
   "id": "3c6cea86-8897-4ad2-b359-6e8c901de514",
   "metadata": {},
   "outputs": [
    {
     "name": "stdout",
     "output_type": "stream",
     "text": [
      "f\n",
      "e\n",
      "d\n",
      "c\n",
      "b\n",
      "a\n"
     ]
    }
   ],
   "source": [
    "str1 = \"abcdef\"\n",
    "output = reversed(str1)\n",
    "for i in output:\n",
    "    print(i)"
   ]
  },
  {
   "cell_type": "code",
   "execution_count": 4,
   "id": "c9a23e01-ccba-4553-810b-ed5f099797b3",
   "metadata": {},
   "outputs": [
    {
     "data": {
      "text/plain": [
       "['a', 'e', 'h', 'n', 'r', 's']"
      ]
     },
     "execution_count": 4,
     "metadata": {},
     "output_type": "execute_result"
    }
   ],
   "source": [
    "# sorted()\n",
    "# It will provide the values either in ascending or descending order\n",
    "sorted('naresh') # Ascending or Descending\n",
    "# when I run directly it will give one answer\n",
    "# the function has a default behaviour: ascending\n",
    "# How this default mentioned\n",
    "# we need to understand about arguments"
   ]
  },
  {
   "cell_type": "code",
   "execution_count": 6,
   "id": "dc758d40-38d0-417f-9a37-c9bccca390fe",
   "metadata": {},
   "outputs": [
    {
     "data": {
      "text/plain": [
       "['s', 'r', 'n', 'h', 'e', 'a']"
      ]
     },
     "execution_count": 6,
     "metadata": {},
     "output_type": "execute_result"
    }
   ],
   "source": [
    "sorted(\"naresh\",reverse = True)     # Descending order"
   ]
  },
  {
   "cell_type": "code",
   "execution_count": 8,
   "id": "1068e9ac-cc97-453f-9ca8-e39272551a3e",
   "metadata": {},
   "outputs": [
    {
     "name": "stdout",
     "output_type": "stream",
     "text": [
      "h\n",
      "s\n",
      "e\n",
      "r\n",
      "a\n",
      "n\n"
     ]
    }
   ],
   "source": [
    "for i in reversed(\"naresh\"):\n",
    "    print(i)"
   ]
  },
  {
   "cell_type": "code",
   "execution_count": 9,
   "id": "25c50090-f8da-40aa-b32d-64230d5da431",
   "metadata": {},
   "outputs": [
    {
     "data": {
      "text/plain": [
       "[2, 4, 7, 9, 10, 90]"
      ]
     },
     "execution_count": 9,
     "metadata": {},
     "output_type": "execute_result"
    }
   ],
   "source": [
    "sorted([10,4,90,7,2,9])"
   ]
  },
  {
   "cell_type": "code",
   "execution_count": 10,
   "id": "98b1d3a1-fba2-4c35-9924-d3f64275135b",
   "metadata": {},
   "outputs": [
    {
     "data": {
      "text/plain": [
       "[90, 10, 9, 7, 4, 2]"
      ]
     },
     "execution_count": 10,
     "metadata": {},
     "output_type": "execute_result"
    }
   ],
   "source": [
    "sorted([10,4,90,7,2,9], reverse = True)"
   ]
  },
  {
   "cell_type": "code",
   "execution_count": null,
   "id": "0605e396-c1b4-4d22-9ed8-acf3ab1b1acb",
   "metadata": {},
   "outputs": [],
   "source": []
  },
  {
   "cell_type": "markdown",
   "id": "bcf69e9b-3481-440e-b697-c1245817749e",
   "metadata": {},
   "source": [
    "**in**"
   ]
  },
  {
   "cell_type": "code",
   "execution_count": 12,
   "id": "4295d60a-fbe5-4aee-9563-8c8cdcf12dad",
   "metadata": {},
   "outputs": [
    {
     "data": {
      "text/plain": [
       "True"
      ]
     },
     "execution_count": 12,
     "metadata": {},
     "output_type": "execute_result"
    }
   ],
   "source": [
    "str1 = \"rohit\"\n",
    "'i' in str1"
   ]
  },
  {
   "cell_type": "markdown",
   "id": "bfcb3d6e-2e61-43c9-8e31-4f6eab03fbb8",
   "metadata": {},
   "source": [
    "**NOTE**\n",
    "\n",
    "- in operator directly access the letters"
   ]
  },
  {
   "cell_type": "code",
   "execution_count": null,
   "id": "0b213a41-19e3-4d30-8c0c-2fc7797a918f",
   "metadata": {},
   "outputs": [],
   "source": []
  },
  {
   "cell_type": "code",
   "execution_count": 13,
   "id": "e3ab8f51-d386-4c6b-b3c5-6f32600c9787",
   "metadata": {},
   "outputs": [
    {
     "name": "stdout",
     "output_type": "stream",
     "text": [
      "The total count of \"a\" in string is 2\n"
     ]
    }
   ],
   "source": [
    "# Q1) WAP ask the user count how many 'a' are present in a given string\n",
    "\n",
    "# IDEA:::::\n",
    "# str1 ='hai rohit how are you'\n",
    "# Idea: counter wrapper\n",
    "# step-1: count=0\n",
    "# step-2: using for loop in operator iterate through given string\n",
    "# step-3: apply the if condition, whenever the letter equal to 'a'\n",
    "# step-4: count = count+1\n",
    "count = 0\n",
    "str1 = \"hai rohit how are you\"\n",
    "for i in str1:\n",
    "    if i == 'a':\n",
    "        count += 1\n",
    "\n",
    "print(f\"The total count of \\\"a\\\" in string is {count}\")"
   ]
  },
  {
   "cell_type": "code",
   "execution_count": null,
   "id": "3d5fffca-2178-42c3-9c70-cb67e5c34c8a",
   "metadata": {},
   "outputs": [],
   "source": []
  },
  {
   "cell_type": "code",
   "execution_count": 14,
   "id": "2d554255-6d68-4907-9b02-40793eebc401",
   "metadata": {},
   "outputs": [
    {
     "name": "stdout",
     "output_type": "stream",
     "text": [
      "The total number of vowels present in string are 9\n"
     ]
    }
   ],
   "source": [
    "# Q2) WAP ask the find how many vowels are there in a given string\n",
    "str2 = \"hai rohit how are you\"\n",
    "count = 0\n",
    "str3 = \"aeiou\"\n",
    "for i in str2:\n",
    "     if i in str3:\n",
    "        count += 1\n",
    "\n",
    "print(f\"The total number of vowels present in string are {count}\")"
   ]
  },
  {
   "cell_type": "code",
   "execution_count": null,
   "id": "9f964ffb-8ba9-44b9-926f-c48a752899b0",
   "metadata": {},
   "outputs": [],
   "source": []
  },
  {
   "cell_type": "code",
   "execution_count": 27,
   "id": "f2e408a2-1554-410f-a6fb-023a6af62ab4",
   "metadata": {},
   "outputs": [
    {
     "name": "stdout",
     "output_type": "stream",
     "text": [
      "The total number of unique vowels in the string are: 5\n"
     ]
    }
   ],
   "source": [
    "# Q3) Home work qn\n",
    "# str1='hai naresh how are you'\n",
    "# Repetaed vowels are there\n",
    "# We dont want repeted vowels\n",
    "# Count the vowels avoid the repetation: Unique vowels\n",
    "\n",
    "str1 = \"haii rohit how are you\"\n",
    "str2 = \" \"\n",
    "str3 = \"aeiou\"\n",
    "count = 0\n",
    "for i in str1:\n",
    "    if i in str3 and i not in str2:\n",
    "        str2 += i\n",
    "        count += 1\n",
    "print(f\"The total number of unique vowels in the string are: {count}\")"
   ]
  },
  {
   "cell_type": "code",
   "execution_count": null,
   "id": "e16409b8-e6f2-4af1-a4ff-259f9dbe196d",
   "metadata": {},
   "outputs": [],
   "source": []
  },
  {
   "cell_type": "markdown",
   "id": "302419c5-0c8f-40cc-88d3-4bb7856af1e4",
   "metadata": {},
   "source": [
    "**How to update the empty strings**"
   ]
  },
  {
   "cell_type": "code",
   "execution_count": 30,
   "id": "7a52daca-f4ff-4d09-8636-d92f795917da",
   "metadata": {},
   "outputs": [
    {
     "name": "stdout",
     "output_type": "stream",
     "text": [
      " python\n"
     ]
    }
   ],
   "source": [
    "s1 = 'python'\n",
    "s2 = ' '\n",
    "for i in s1:\n",
    "    s2 = s2 + i       # Concatenation\n",
    "print(s2)"
   ]
  },
  {
   "cell_type": "markdown",
   "id": "6678f732-1539-4650-b453-b9b28c9cc6fb",
   "metadata": {},
   "source": [
    "**Concatenation**"
   ]
  },
  {
   "cell_type": "code",
   "execution_count": 31,
   "id": "e8326d09-a6e4-4538-88ea-68918251269f",
   "metadata": {},
   "outputs": [
    {
     "data": {
      "text/plain": [
       "'Hellobye'"
      ]
     },
     "execution_count": 31,
     "metadata": {},
     "output_type": "execute_result"
    }
   ],
   "source": [
    "s1 = 'Hello'\n",
    "s2 = 'bye'\n",
    "s1+s2"
   ]
  },
  {
   "cell_type": "code",
   "execution_count": 33,
   "id": "fc71dfe2-58d1-4c49-ae68-e6012b99c088",
   "metadata": {},
   "outputs": [
    {
     "data": {
      "text/plain": [
       "'hello bye'"
      ]
     },
     "execution_count": 33,
     "metadata": {},
     "output_type": "execute_result"
    }
   ],
   "source": [
    "s1 = \"hello \"\n",
    "s2 = \"bye\"\n",
    "s1 + s2"
   ]
  },
  {
   "cell_type": "code",
   "execution_count": 34,
   "id": "6a421980-08c6-4626-9c7b-22b6838d2a8e",
   "metadata": {},
   "outputs": [
    {
     "data": {
      "text/plain": [
       "'hi how are you'"
      ]
     },
     "execution_count": 34,
     "metadata": {},
     "output_type": "execute_result"
    }
   ],
   "source": [
    "s3 = \"hi\"\n",
    "s4 = \" how are you\"\n",
    "s3 + s4"
   ]
  },
  {
   "cell_type": "code",
   "execution_count": null,
   "id": "15937a2f-033f-4c74-a7ec-7363002bbe11",
   "metadata": {},
   "outputs": [],
   "source": [
    "# s1*s2 : can't multiply sequence by non-int of type 'str'\n",
    "# s1-s2 : unsupported operand type(s) for -: 'str' and 'str'\n",
    "# s1/s2 : unsupported operand type(s) for /: 'str' and 'str'"
   ]
  },
  {
   "cell_type": "code",
   "execution_count": null,
   "id": "8f49247e-e85b-430b-98b8-1bd24017ee48",
   "metadata": {},
   "outputs": [],
   "source": []
  },
  {
   "cell_type": "markdown",
   "id": "7ebd3a8c-3620-4e2b-83f3-fb23f12d3e7c",
   "metadata": {},
   "source": [
    "**index**"
   ]
  },
  {
   "cell_type": "markdown",
   "id": "4047378a-a41e-4625-b5d6-837c3aa68c53",
   "metadata": {},
   "source": [
    "- Index means a number attached to a letter\n",
    "\n",
    "- In python index starts with zero\n",
    "\n",
    "- We have two directions\n",
    "\n",
    "    - Positive direction\n",
    "\n",
    "        - Positive numbers starts with zero\n",
    "\n",
    "    - Negative direction\n",
    "\n",
    "        - Negative numbers starts with -1 , applicable to last letter"
   ]
  },
  {
   "cell_type": "code",
   "execution_count": null,
   "id": "ba4dba34-e9ae-4f68-a025-493955cd35a0",
   "metadata": {},
   "outputs": [],
   "source": [
    "s1='python'\n",
    " p  y  t  h  o  n\n",
    "-6 -5 -4 -3 -2 -1 === > negative\n",
    "\n",
    "p y t h o n\n",
    "0 1 2 3 4 5 === > postive"
   ]
  },
  {
   "cell_type": "code",
   "execution_count": 35,
   "id": "447a5c0a-9654-4bb2-a702-6a884cb613ec",
   "metadata": {},
   "outputs": [
    {
     "data": {
      "text/plain": [
       "('p', 'y', 't', 'h', 'o', 'n')"
      ]
     },
     "execution_count": 35,
     "metadata": {},
     "output_type": "execute_result"
    }
   ],
   "source": [
    "s1='python'\n",
    "s1[0],s1[1],s1[2],s1[3],s1[4],s1[5]"
   ]
  },
  {
   "cell_type": "markdown",
   "id": "49ac212d-bf74-452c-aff9-a69ced02d94f",
   "metadata": {},
   "source": [
    "**mutable-immutable**"
   ]
  },
  {
   "cell_type": "markdown",
   "id": "5da28ea4-493c-4068-8a71-0914541fcf36",
   "metadata": {},
   "source": [
    "- mutable : can be changed\n",
    "\n",
    "    - we can change using indexing\n",
    "\n",
    "- immutable : cannot be changed\n",
    "\n",
    "    - we cannot change using indexing"
   ]
  },
  {
   "cell_type": "markdown",
   "id": "515a0986-e9c6-4048-bc60-fe848a5e108f",
   "metadata": {},
   "source": [
    "# Strings are Immutable #"
   ]
  },
  {
   "cell_type": "code",
   "execution_count": null,
   "id": "93995136-98ad-4a8f-8a94-1747cae60c7e",
   "metadata": {},
   "outputs": [],
   "source": [
    "s = 'welcome'\n",
    "s[2] = 'L'\n",
    "#######################################\n",
    "l = [1,2,3,4]\n",
    "l[1] = 3\n",
    "l"
   ]
  },
  {
   "cell_type": "markdown",
   "id": "d24f5523-93ee-4201-9ff0-94a13e985242",
   "metadata": {},
   "source": [
    "- range belongs to which family?\n",
    "\n",
    "    - math family\n",
    "\n",
    "\n",
    "- inside range bracket what should we need to provide?\n",
    "\n",
    "    - number\n",
    "\n",
    "\n",
    "- how many numbers we need to provide?\n",
    "\n",
    "    - number of letter: len(string)\n",
    "\n",
    "\n",
    "- how to access the letter using number\n",
    "\n",
    "    - by using index"
   ]
  },
  {
   "cell_type": "code",
   "execution_count": null,
   "id": "b3caa5d2-2792-402f-866f-fa2e770aff4f",
   "metadata": {},
   "outputs": [],
   "source": []
  },
  {
   "cell_type": "code",
   "execution_count": 5,
   "id": "76deb784-568f-433b-875d-6ab81f4385a9",
   "metadata": {},
   "outputs": [
    {
     "name": "stdout",
     "output_type": "stream",
     "text": [
      "W\n",
      "e\n",
      "l\n",
      "c\n",
      "o\n",
      "m\n",
      "e\n"
     ]
    }
   ],
   "source": [
    "# Print each letter using for loop range function\n",
    "s = \"Welcome\"\n",
    "for i in range(7):\n",
    "    print(s[i])"
   ]
  },
  {
   "cell_type": "code",
   "execution_count": null,
   "id": "aedb28b2-a8cd-492e-a4fe-7016a9f00d8b",
   "metadata": {},
   "outputs": [],
   "source": []
  },
  {
   "cell_type": "code",
   "execution_count": 3,
   "id": "bbaa0b02-7a22-43bd-942b-07409c651e8e",
   "metadata": {},
   "outputs": [
    {
     "name": "stdout",
     "output_type": "stream",
     "text": [
      "p\n",
      "y\n",
      "t\n",
      "h\n",
      "o\n",
      "n\n"
     ]
    }
   ],
   "source": [
    "x = \"python\"\n",
    "for i in x:\n",
    "    print(i)"
   ]
  },
  {
   "cell_type": "code",
   "execution_count": 6,
   "id": "71b4b8f3-658e-4bf5-967d-665ab5c24041",
   "metadata": {},
   "outputs": [
    {
     "name": "stdout",
     "output_type": "stream",
     "text": [
      "v\n",
      "i\n",
      "r\n",
      "a\n",
      "t\n"
     ]
    }
   ],
   "source": [
    "y = 'virat'\n",
    "for i in range(len(y)):\n",
    "    print(y[i])"
   ]
  },
  {
   "cell_type": "code",
   "execution_count": null,
   "id": "7cfaefdb-1ce5-401d-8292-1f8db647dbb8",
   "metadata": {},
   "outputs": [],
   "source": []
  },
  {
   "cell_type": "code",
   "execution_count": 8,
   "id": "e6c3d846-4051-46a4-bc57-d0d106ab4462",
   "metadata": {},
   "outputs": [
    {
     "name": "stdout",
     "output_type": "stream",
     "text": [
      "w : 0\n",
      "e : 1\n",
      "l : 2\n",
      "c : 3\n",
      "o : 4\n",
      "m : 5\n",
      "e : 6\n"
     ]
    }
   ],
   "source": [
    "s = \"welcome\"\n",
    "for i in range(len(s)):\n",
    "    print(f\"{s[i]} : {i}\")"
   ]
  },
  {
   "cell_type": "code",
   "execution_count": null,
   "id": "a5874990-4d21-489d-8b81-9280fc5380c0",
   "metadata": {},
   "outputs": [],
   "source": []
  },
  {
   "cell_type": "code",
   "execution_count": 15,
   "id": "8c640fb6-a495-4693-9d73-fc05193d9d66",
   "metadata": {},
   "outputs": [
    {
     "name": "stdout",
     "output_type": "stream",
     "text": [
      "s : -9\n",
      "i : -8\n",
      "t : -7\n",
      "u : -6\n",
      "a : -5\n",
      "t : -4\n",
      "i : -3\n",
      "o : -2\n",
      "n : -1\n"
     ]
    }
   ],
   "source": [
    "x = \"situation\"\n",
    "for i in range(len(x)):\n",
    "    print(f\"{x[i]} : {i-len(x)}\")"
   ]
  },
  {
   "cell_type": "code",
   "execution_count": null,
   "id": "9f397512-546f-417c-9668-01fccbe4ebae",
   "metadata": {},
   "outputs": [],
   "source": []
  },
  {
   "cell_type": "code",
   "execution_count": 64,
   "id": "87c7d362-712c-43d1-8dd3-39d1a7ef44ee",
   "metadata": {},
   "outputs": [
    {
     "name": "stdout",
     "output_type": "stream",
     "text": [
      "The positive index for w is 0 and the negative index is -7\n",
      "The positive index for e is 1 and the negative index is -6\n",
      "The positive index for l is 2 and the negative index is -5\n",
      "The positive index for c is 3 and the negative index is -4\n",
      "The positive index for o is 4 and the negative index is -3\n",
      "The positive index for m is 5 and the negative index is -2\n",
      "The positive index for e is 6 and the negative index is -1\n"
     ]
    }
   ],
   "source": [
    "# Q) wap ask the user iterate using a string\n",
    "# string='welcome'\n",
    "# the positive index is 0 and the negtaive index -7 for w\n",
    "s = \"welcome\"\n",
    "for i in range(len(s)):\n",
    "    print(f\"The positive index for {s[i]} is {i} and the negative index is {i-len(s)}\")"
   ]
  },
  {
   "cell_type": "code",
   "execution_count": null,
   "id": "84972d23-0b80-4e50-9256-e3b388eb3d9f",
   "metadata": {},
   "outputs": [],
   "source": []
  },
  {
   "cell_type": "code",
   "execution_count": 17,
   "id": "22e65a3c-7762-4a65-aba5-e9a9b43fdfe2",
   "metadata": {},
   "outputs": [
    {
     "name": "stdout",
     "output_type": "stream",
     "text": [
      "a is at 1 index\n",
      "a is at 8 index\n",
      "a is at 18 index\n"
     ]
    }
   ],
   "source": [
    "s = \"hai how are you i am good\"\n",
    "for i in range(len(s)):\n",
    "    if s[i] == \"a\":\n",
    "        print(f\"a is at {i} index\")"
   ]
  },
  {
   "cell_type": "code",
   "execution_count": null,
   "id": "b2121d24-3a5e-4b31-91ef-520f888307c7",
   "metadata": {},
   "outputs": [],
   "source": []
  },
  {
   "cell_type": "code",
   "execution_count": 19,
   "id": "6381e927-e4fa-420a-aeec-a26e76155d56",
   "metadata": {},
   "outputs": [
    {
     "name": "stdout",
     "output_type": "stream",
     "text": [
      "The total number of a's in string are 3\n"
     ]
    }
   ],
   "source": [
    "s = \"hai how are you i am good\"\n",
    "count = 0\n",
    "for i in range(len(s)):\n",
    "    if s[i] == \"a\":\n",
    "        count += 1\n",
    "print(f\"The total number of a's in string are {count}\")"
   ]
  },
  {
   "cell_type": "code",
   "execution_count": null,
   "id": "4e1db366-674b-4d1f-9933-e71ef0944420",
   "metadata": {},
   "outputs": [],
   "source": []
  },
  {
   "cell_type": "code",
   "execution_count": 20,
   "id": "8b05e089-0f41-4659-be13-b04f0b18fade",
   "metadata": {},
   "outputs": [
    {
     "name": "stdout",
     "output_type": "stream",
     "text": [
      "The total sum of all indexes of a is 27\n"
     ]
    }
   ],
   "source": [
    "s = \"hai how are you i am good\"\n",
    "summ = 0\n",
    "for i in range(len(s)):\n",
    "    if s[i] == \"a\":\n",
    "        summ = summ + i\n",
    "print(f\"The total sum of all indexes of a is {summ}\")"
   ]
  },
  {
   "cell_type": "code",
   "execution_count": null,
   "id": "1ded80ea-e940-4ec3-b3ec-fc1c33fd7282",
   "metadata": {},
   "outputs": [],
   "source": []
  },
  {
   "cell_type": "code",
   "execution_count": 24,
   "id": "c680a145-c2f7-42d9-9557-ac3a74085103",
   "metadata": {},
   "outputs": [
    {
     "name": "stdout",
     "output_type": "stream",
     "text": [
      "The total number of vowels present in the string are 11\n"
     ]
    }
   ],
   "source": [
    "s = \"hai how are you i am good\"\n",
    "s1 = \"aeiou\"\n",
    "count = 0\n",
    "for i in range(len(s)):\n",
    "    if s[i] in s1:\n",
    "        count += 1\n",
    "print(f\"The total number of vowels present in the string are {count}\")"
   ]
  },
  {
   "cell_type": "code",
   "execution_count": null,
   "id": "8b2bc4d5-e43e-47ad-9ffe-d8faa4b9c624",
   "metadata": {},
   "outputs": [],
   "source": []
  },
  {
   "cell_type": "code",
   "execution_count": null,
   "id": "0ec1dc23-a2ec-49cb-8e4d-be0ed924f628",
   "metadata": {},
   "outputs": [],
   "source": [
    "# Q14) string1='ola ola ola'\n",
    "# Number of ola = 3\n",
    "# Q15) string1='hello hello hello how how how how are you'\n",
    "# What is the most repeated word : how\n",
    "# Q16) string1='hellooooo how aree u'\n",
    "# what is the maximum length of word: helloooo\n",
    "# what is the minimum length of word: u\n",
    "# Q17) with out using sorted then sort the letters"
   ]
  },
  {
   "cell_type": "code",
   "execution_count": 4,
   "id": "b3977c7f-1368-4867-a5cd-350460bc47be",
   "metadata": {},
   "outputs": [
    {
     "name": "stdout",
     "output_type": "stream",
     "text": [
      "The total count of ola in the string is 3\n"
     ]
    }
   ],
   "source": [
    "# Q14) string1 ='ola ola ola'\n",
    "# Number of ola = 3\n",
    "\n",
    "# FIRST METHOD\n",
    "str1 = \"ola ola ola\"\n",
    "count = 0\n",
    "for i in range(len(str1)):\n",
    "    if str1[i:i+3] == \"ola\":\n",
    "        count += 1\n",
    "print(f\"The total count of ola in the string is {count}\")"
   ]
  },
  {
   "cell_type": "code",
   "execution_count": 9,
   "id": "3869342b-8e6a-4e08-8a58-899cf9fa3e7c",
   "metadata": {},
   "outputs": [
    {
     "name": "stdout",
     "output_type": "stream",
     "text": [
      "The word \"ola\" is repeated 3 times in the string\n"
     ]
    }
   ],
   "source": [
    "# SECOND METHOD\n",
    "str1 = \"ola ola ola\"\n",
    "word = \"ola\"\n",
    "str2 = \" \"\n",
    "count = 0\n",
    "for i in range(len(str1)):\n",
    "    if str1[i] not in str2:\n",
    "        if str1[i] in word:\n",
    "            str2 += str1[i]\n",
    "            count += 1\n",
    "print(f\"The word \\\"ola\\\" is repeated {count} times in the string\")"
   ]
  },
  {
   "cell_type": "code",
   "execution_count": null,
   "id": "4130c518-6c99-409e-bade-07e3b3dd660a",
   "metadata": {},
   "outputs": [],
   "source": []
  },
  {
   "cell_type": "markdown",
   "id": "8dc955dd-1abc-4e79-975f-e2f6b0e66018",
   "metadata": {},
   "source": [
    "**Slice**"
   ]
  },
  {
   "cell_type": "markdown",
   "id": "80642fe0-fd59-4228-b3d5-640d3d59efa1",
   "metadata": {},
   "source": [
    "- We can cut into pieces\n",
    "\n",
    "- Similar to range function\n",
    "\n",
    "- Start,stop,step is used here also"
   ]
  },
  {
   "cell_type": "code",
   "execution_count": null,
   "id": "edf6bd89-41a0-42ef-b887-61c5e6e5cca7",
   "metadata": {},
   "outputs": [],
   "source": [
    "str1 = \"hi how are you\"\n",
    "-14  -13  -12  -11  -10  -9  -8  -7  -6  -5  -4  -3  -2  -1 \n",
    "h     i         h    o    w       a   r   e       y   o   u\n",
    "0     1    2    3    4    5    6   7   8   9  10  11  12  13 "
   ]
  },
  {
   "cell_type": "markdown",
   "id": "c6dadc96-b81f-4afa-be6e-ebb99a83b0ee",
   "metadata": {},
   "source": [
    "$Pattern-1$"
   ]
  },
  {
   "cell_type": "markdown",
   "id": "07648cf9-e75e-4f20-82e2-936465580ede",
   "metadata": {},
   "source": [
    "**str1[start]:**"
   ]
  },
  {
   "cell_type": "markdown",
   "id": "3cf1a4e4-a9a6-4b38-970e-7e992a283945",
   "metadata": {},
   "source": [
    "- By default, start value will be start only\n",
    "\n",
    "- Last value is not mentioned so it will automatically go till the last value\n",
    "\n",
    "- Step is not mentioned means that it will go in a positive direction and the increment will be by 1"
   ]
  },
  {
   "cell_type": "code",
   "execution_count": 8,
   "id": "1c0ed59b-0c3a-4b4f-8624-2d619c9d5bab",
   "metadata": {},
   "outputs": [
    {
     "data": {
      "text/plain": [
       "'w are you'"
      ]
     },
     "execution_count": 8,
     "metadata": {},
     "output_type": "execute_result"
    }
   ],
   "source": [
    "str1[5:]"
   ]
  },
  {
   "cell_type": "code",
   "execution_count": 2,
   "id": "62c6414c-5d40-4128-86b5-21b442d506b4",
   "metadata": {},
   "outputs": [
    {
     "data": {
      "text/plain": [
       "' you'"
      ]
     },
     "execution_count": 2,
     "metadata": {},
     "output_type": "execute_result"
    }
   ],
   "source": [
    "str1 = \"hi how are you\"\n",
    "str1[10:]"
   ]
  },
  {
   "cell_type": "code",
   "execution_count": 3,
   "id": "fcc1b06d-0bfc-4034-94a1-59c8eb884dd2",
   "metadata": {},
   "outputs": [
    {
     "data": {
      "text/plain": [
       "'e you'"
      ]
     },
     "execution_count": 3,
     "metadata": {},
     "output_type": "execute_result"
    }
   ],
   "source": [
    "str1[-5:]"
   ]
  },
  {
   "cell_type": "code",
   "execution_count": 10,
   "id": "0dace98e-a90d-44f0-b419-f4c5f254965a",
   "metadata": {},
   "outputs": [
    {
     "data": {
      "text/plain": [
       "('ow are you', 'ow are you')"
      ]
     },
     "execution_count": 10,
     "metadata": {},
     "output_type": "execute_result"
    }
   ],
   "source": [
    "str1[4:],str1[-10:]           # Both will give same answer"
   ]
  },
  {
   "cell_type": "code",
   "execution_count": 12,
   "id": "aab936f2-3788-467f-bcba-b7dc9175fa48",
   "metadata": {},
   "outputs": [
    {
     "data": {
      "text/plain": [
       "'u'"
      ]
     },
     "execution_count": 12,
     "metadata": {},
     "output_type": "execute_result"
    }
   ],
   "source": [
    "str1[13:]"
   ]
  },
  {
   "cell_type": "code",
   "execution_count": 13,
   "id": "198f4adb-4e53-4837-aa44-4e2abbb17c7e",
   "metadata": {},
   "outputs": [
    {
     "data": {
      "text/plain": [
       "'u'"
      ]
     },
     "execution_count": 13,
     "metadata": {},
     "output_type": "execute_result"
    }
   ],
   "source": [
    "str1[-1:]"
   ]
  },
  {
   "cell_type": "code",
   "execution_count": null,
   "id": "0fcaea48-3cf4-4d7c-8101-599d3c307a26",
   "metadata": {},
   "outputs": [],
   "source": []
  },
  {
   "cell_type": "markdown",
   "id": "da6ed150-d914-471f-aae0-efb2a18e4b71",
   "metadata": {},
   "source": [
    "$Pattern-2$"
   ]
  },
  {
   "cell_type": "markdown",
   "id": "f707cc9a-d1e2-46ad-bb50-af97b14579ae",
   "metadata": {},
   "source": [
    "**str1[start:stop]**"
   ]
  },
  {
   "cell_type": "markdown",
   "id": "cc824be8-31b7-4599-9abb-f6d6f483449f",
   "metadata": {},
   "source": [
    "- Start value means by default start only\n",
    "\n",
    "- Step is not mentioned which means it will go in the positive diection with an increment of 1\n",
    "\n",
    "- stop is the last element which is last = stop - 1 "
   ]
  },
  {
   "cell_type": "code",
   "execution_count": null,
   "id": "a866355e-7222-46bb-9a8e-c1a170ee2272",
   "metadata": {},
   "outputs": [],
   "source": [
    "str1 = \"hi how are you\"\n",
    "-14  -13  -12  -11  -10  -9  -8  -7  -6  -5  -4  -3  -2  -1 \n",
    "h     i         h    o    w       a   r   e       y   o   u\n",
    "0     1    2    3    4    5    6   7   8   9  10  11  12  13 "
   ]
  },
  {
   "cell_type": "code",
   "execution_count": null,
   "id": "02d98e85-9490-49ea-ac2f-af0ec34bf857",
   "metadata": {},
   "outputs": [],
   "source": [
    "str1 = \"hi how are you\""
   ]
  },
  {
   "cell_type": "code",
   "execution_count": 15,
   "id": "30563250-8a3e-4e8c-b474-72fe0a35e6a3",
   "metadata": {},
   "outputs": [
    {
     "data": {
      "text/plain": [
       "'w are you'"
      ]
     },
     "execution_count": 15,
     "metadata": {},
     "output_type": "execute_result"
    }
   ],
   "source": [
    "str1[5:14]\n",
    "# start = 5\n",
    "# stop = last - 1 = 14 - 1 = 13"
   ]
  },
  {
   "cell_type": "code",
   "execution_count": null,
   "id": "98136a06-ee13-42d7-a625-f88d80f48a89",
   "metadata": {},
   "outputs": [],
   "source": [
    "str1 = \"hi how are you\"\n",
    "-14  -13  -12  -11  -10  -9  -8  -7  -6  -5  -4  -3  -2  -1 \n",
    "h     i         h    o    w       a   r   e       y   o   u\n",
    "0     1    2    3    4    5    6   7   8   9  10  11  12  13 \n",
    "\n",
    "str1[5:14]      # Answer\n",
    "str1[-5:14]     # Answer\n",
    "str1[5:-14]     # No Answer\n",
    "str1[-5:-14]    # No Answer"
   ]
  },
  {
   "cell_type": "markdown",
   "id": "5d3f622d-ae32-44d1-a0e8-fabf681304ae",
   "metadata": {},
   "source": [
    "**Truncation Behaviour**\n",
    "\n",
    "- Whenever the string range is limited but we provide an unlimited number\n",
    "\n",
    "- String will always run till the range that we have\n",
    "\n",
    "- In the above example we have our range only till 14 letters\n",
    "\n",
    "- If we provide the end value as 500, then 500 will truncate till 14"
   ]
  },
  {
   "cell_type": "code",
   "execution_count": 16,
   "id": "d530615d-c6bb-4e53-92c3-ed5d66ab28fa",
   "metadata": {},
   "outputs": [
    {
     "data": {
      "text/plain": [
       "' how are you'"
      ]
     },
     "execution_count": 16,
     "metadata": {},
     "output_type": "execute_result"
    }
   ],
   "source": [
    "str1[2:500]"
   ]
  },
  {
   "cell_type": "code",
   "execution_count": null,
   "id": "807e858c-7a3c-438f-8d74-893cd83fe759",
   "metadata": {},
   "outputs": [],
   "source": [
    "str1[5:500]        # Answer\n",
    "str1[-500:500]     # Answer\n",
    "str1[-1:500]       # Answer\n",
    "str1[500:]         # No answer\n",
    "str1[-500:-100]    # No answer"
   ]
  },
  {
   "cell_type": "markdown",
   "id": "c3f73b54-1b1d-438c-8032-69a3f1b53dbc",
   "metadata": {},
   "source": [
    "$Pattern-3$"
   ]
  },
  {
   "cell_type": "markdown",
   "id": "2e1bda86-a94e-4dc9-a680-60a8ba991afd",
   "metadata": {},
   "source": [
    "**str1[start:stop:step]**"
   ]
  },
  {
   "cell_type": "markdown",
   "id": "2a5e9f65-0ea6-46cd-b6a0-aa29ffb820e8",
   "metadata": {},
   "source": [
    "- Start value means start only\n",
    "\n",
    "- If the step value is positive,then\n",
    "    - last value = stop - 1\n",
    "\n",
    "- If the step value is negative,then\n",
    "    - last value = stop + 1"
   ]
  },
  {
   "cell_type": "code",
   "execution_count": null,
   "id": "cb99129d-7de2-4003-92a6-f937ff5a4d2e",
   "metadata": {},
   "outputs": [],
   "source": [
    "str1 = \"hi how are you\"\n",
    "-14  -13  -12  -11  -10  -9  -8  -7  -6  -5  -4  -3  -2  -1 \n",
    "h     i         h    o    w       a   r   e       y   o   u\n",
    "0     1    2    3    4    5    6   7   8   9  10  11  12  13 "
   ]
  },
  {
   "cell_type": "code",
   "execution_count": 17,
   "id": "35dec233-1432-491b-9f69-473821a951c9",
   "metadata": {},
   "outputs": [
    {
     "data": {
      "text/plain": [
       "'ihwae'"
      ]
     },
     "execution_count": 17,
     "metadata": {},
     "output_type": "execute_result"
    }
   ],
   "source": [
    "str1 = \"hi how are you\"\n",
    "str1[-13:11:2]"
   ]
  },
  {
   "cell_type": "code",
   "execution_count": 19,
   "id": "d7113c4b-96f2-4f9c-a6b9-b76d4a45750f",
   "metadata": {},
   "outputs": [
    {
     "data": {
      "text/plain": [
       "'i'"
      ]
     },
     "execution_count": 19,
     "metadata": {},
     "output_type": "execute_result"
    }
   ],
   "source": [
    "str1[-13:2:2]"
   ]
  },
  {
   "cell_type": "code",
   "execution_count": null,
   "id": "caca10a6-e12c-4c59-aa65-2a329ad942e7",
   "metadata": {},
   "outputs": [],
   "source": []
  },
  {
   "cell_type": "markdown",
   "id": "341a7017-51c6-4b22-8edb-700013edd28e",
   "metadata": {},
   "source": [
    "**Methods**\n",
    "\n",
    "- Strings, lists, tuple, dictionary every data type has its own methods\n",
    "\n",
    "- We have already seen that packages have different methods\n",
    "\n",
    "- For example: random package = random.randint method\n",
    "\n",
    "- In the same way string also has methods\n",
    "\n",
    "- In order to see the methods of packages we were importing package and applying dir\n",
    "\n",
    "- Same process will be followed in string also"
   ]
  },
  {
   "cell_type": "code",
   "execution_count": 20,
   "id": "ee9723ea-18a3-41fb-926e-13f90c6ac006",
   "metadata": {},
   "outputs": [
    {
     "data": {
      "text/plain": [
       "['__add__',\n",
       " '__class__',\n",
       " '__contains__',\n",
       " '__delattr__',\n",
       " '__dir__',\n",
       " '__doc__',\n",
       " '__eq__',\n",
       " '__format__',\n",
       " '__ge__',\n",
       " '__getattribute__',\n",
       " '__getitem__',\n",
       " '__getnewargs__',\n",
       " '__getstate__',\n",
       " '__gt__',\n",
       " '__hash__',\n",
       " '__init__',\n",
       " '__init_subclass__',\n",
       " '__iter__',\n",
       " '__le__',\n",
       " '__len__',\n",
       " '__lt__',\n",
       " '__mod__',\n",
       " '__mul__',\n",
       " '__ne__',\n",
       " '__new__',\n",
       " '__reduce__',\n",
       " '__reduce_ex__',\n",
       " '__repr__',\n",
       " '__rmod__',\n",
       " '__rmul__',\n",
       " '__setattr__',\n",
       " '__sizeof__',\n",
       " '__str__',\n",
       " '__subclasshook__',\n",
       " 'capitalize',\n",
       " 'casefold',\n",
       " 'center',\n",
       " 'count',\n",
       " 'encode',\n",
       " 'endswith',\n",
       " 'expandtabs',\n",
       " 'find',\n",
       " 'format',\n",
       " 'format_map',\n",
       " 'index',\n",
       " 'isalnum',\n",
       " 'isalpha',\n",
       " 'isascii',\n",
       " 'isdecimal',\n",
       " 'isdigit',\n",
       " 'isidentifier',\n",
       " 'islower',\n",
       " 'isnumeric',\n",
       " 'isprintable',\n",
       " 'isspace',\n",
       " 'istitle',\n",
       " 'isupper',\n",
       " 'join',\n",
       " 'ljust',\n",
       " 'lower',\n",
       " 'lstrip',\n",
       " 'maketrans',\n",
       " 'partition',\n",
       " 'removeprefix',\n",
       " 'removesuffix',\n",
       " 'replace',\n",
       " 'rfind',\n",
       " 'rindex',\n",
       " 'rjust',\n",
       " 'rpartition',\n",
       " 'rsplit',\n",
       " 'rstrip',\n",
       " 'split',\n",
       " 'splitlines',\n",
       " 'startswith',\n",
       " 'strip',\n",
       " 'swapcase',\n",
       " 'title',\n",
       " 'translate',\n",
       " 'upper',\n",
       " 'zfill']"
      ]
     },
     "execution_count": 20,
     "metadata": {},
     "output_type": "execute_result"
    }
   ],
   "source": [
    "dir(\" \")"
   ]
  },
  {
   "cell_type": "markdown",
   "id": "527a9174-0b48-4852-b67b-f184a573e248",
   "metadata": {},
   "source": [
    "**Upper**"
   ]
  },
  {
   "cell_type": "code",
   "execution_count": null,
   "id": "d1eace3c-6dc7-4cc0-abe9-f96ca4d65c05",
   "metadata": {},
   "outputs": [],
   "source": [
    "str1 = \"hi how are you\""
   ]
  },
  {
   "cell_type": "code",
   "execution_count": 21,
   "id": "dcbeec33-fb45-4fa1-8773-9b10e29fe868",
   "metadata": {},
   "outputs": [
    {
     "data": {
      "text/plain": [
       "str"
      ]
     },
     "execution_count": 21,
     "metadata": {},
     "output_type": "execute_result"
    }
   ],
   "source": [
    "type(str1)"
   ]
  },
  {
   "cell_type": "code",
   "execution_count": 22,
   "id": "13addb0a-226d-40cc-ba02-0ce45ff7f1e0",
   "metadata": {},
   "outputs": [
    {
     "data": {
      "text/plain": [
       "<function str.upper()>"
      ]
     },
     "execution_count": 22,
     "metadata": {},
     "output_type": "execute_result"
    }
   ],
   "source": [
    "str1.upper"
   ]
  },
  {
   "cell_type": "code",
   "execution_count": 23,
   "id": "2c321ea7-36ff-4533-8b38-5631982c6aa3",
   "metadata": {},
   "outputs": [
    {
     "name": "stdout",
     "output_type": "stream",
     "text": [
      "Help on built-in function upper:\n",
      "\n",
      "upper() method of builtins.str instance\n",
      "    Return a copy of the string converted to uppercase.\n",
      "\n"
     ]
    }
   ],
   "source": [
    "help(str1.upper)"
   ]
  },
  {
   "cell_type": "code",
   "execution_count": 24,
   "id": "1c74ba10-8619-4482-9ccd-4e5c890b216e",
   "metadata": {},
   "outputs": [
    {
     "data": {
      "text/plain": [
       "'HI HOW ARE YOU'"
      ]
     },
     "execution_count": 24,
     "metadata": {},
     "output_type": "execute_result"
    }
   ],
   "source": [
    "str1.upper()"
   ]
  },
  {
   "cell_type": "code",
   "execution_count": null,
   "id": "c3b03785-20e9-4646-bc7b-dd49eff8924f",
   "metadata": {},
   "outputs": [],
   "source": []
  },
  {
   "cell_type": "markdown",
   "id": "7297af88-0ef1-4d21-a6c9-f8ed3752b18c",
   "metadata": {},
   "source": [
    "**Lower**"
   ]
  },
  {
   "cell_type": "code",
   "execution_count": null,
   "id": "4a29cb75-015a-494b-af00-1c61a9200ee9",
   "metadata": {},
   "outputs": [],
   "source": [
    "str1 = \"MY NAME IS ROHIT\""
   ]
  },
  {
   "cell_type": "code",
   "execution_count": 25,
   "id": "91816acf-172b-4558-9857-9b6deeaae88f",
   "metadata": {},
   "outputs": [
    {
     "name": "stdout",
     "output_type": "stream",
     "text": [
      "Help on built-in function lower:\n",
      "\n",
      "lower() method of builtins.str instance\n",
      "    Return a copy of the string converted to lowercase.\n",
      "\n"
     ]
    }
   ],
   "source": [
    "help(str1.lower)"
   ]
  },
  {
   "cell_type": "code",
   "execution_count": 26,
   "id": "d1c4581b-2202-43cd-8abe-ac6dd98f080a",
   "metadata": {},
   "outputs": [
    {
     "data": {
      "text/plain": [
       "'hi how are you'"
      ]
     },
     "execution_count": 26,
     "metadata": {},
     "output_type": "execute_result"
    }
   ],
   "source": [
    "str1.lower()"
   ]
  },
  {
   "cell_type": "code",
   "execution_count": null,
   "id": "8cf9df85-ea50-49c1-8375-6cd0d7aa88ff",
   "metadata": {},
   "outputs": [],
   "source": []
  },
  {
   "cell_type": "markdown",
   "id": "851da559-006f-42bc-b364-91c434e9e767",
   "metadata": {},
   "source": [
    "**Capitalize**"
   ]
  },
  {
   "cell_type": "code",
   "execution_count": 27,
   "id": "c20621f8-6903-4643-8ad9-44a0cb218f56",
   "metadata": {},
   "outputs": [
    {
     "data": {
      "text/plain": [
       "'My name is rohit'"
      ]
     },
     "execution_count": 27,
     "metadata": {},
     "output_type": "execute_result"
    }
   ],
   "source": [
    "str1 = \"my name is Rohit\"\n",
    "str1.capitalize()"
   ]
  },
  {
   "cell_type": "code",
   "execution_count": null,
   "id": "0d10febf-ca79-4731-a212-bc87a7ce7c96",
   "metadata": {},
   "outputs": [],
   "source": []
  },
  {
   "cell_type": "markdown",
   "id": "66ead274-fa39-418c-9994-ab6977f07c85",
   "metadata": {},
   "source": [
    "**Casefold**"
   ]
  },
  {
   "cell_type": "code",
   "execution_count": 28,
   "id": "7c2fcf8f-d127-4789-baf3-7dc4fb59d59d",
   "metadata": {},
   "outputs": [
    {
     "data": {
      "text/plain": [
       "'my name is rohit'"
      ]
     },
     "execution_count": 28,
     "metadata": {},
     "output_type": "execute_result"
    }
   ],
   "source": [
    "str1.casefold()"
   ]
  },
  {
   "cell_type": "code",
   "execution_count": null,
   "id": "a64cbc19-71f0-4d7e-9137-e777125a2dfa",
   "metadata": {},
   "outputs": [],
   "source": []
  },
  {
   "cell_type": "markdown",
   "id": "6ebdb946-5a5a-4098-90a0-710b92e90c5e",
   "metadata": {},
   "source": [
    "**Title**"
   ]
  },
  {
   "cell_type": "code",
   "execution_count": 29,
   "id": "128eb566-3154-46e1-b4fe-cb0934d516be",
   "metadata": {},
   "outputs": [
    {
     "data": {
      "text/plain": [
       "'My Name Is Rohit'"
      ]
     },
     "execution_count": 29,
     "metadata": {},
     "output_type": "execute_result"
    }
   ],
   "source": [
    "str1 = \"my name is Rohit\"\n",
    "str1.title()"
   ]
  },
  {
   "cell_type": "code",
   "execution_count": null,
   "id": "6e2ea23d-8555-4edb-b76b-8fad7fc200ac",
   "metadata": {},
   "outputs": [],
   "source": []
  },
  {
   "cell_type": "markdown",
   "id": "6635f810-9066-4d53-ad88-53f3a6077d4e",
   "metadata": {},
   "source": [
    "**Center**"
   ]
  },
  {
   "cell_type": "code",
   "execution_count": 30,
   "id": "377e85f8-2f39-48a8-938d-bf0072917391",
   "metadata": {},
   "outputs": [
    {
     "data": {
      "text/plain": [
       "'  my name is Rohit  '"
      ]
     },
     "execution_count": 30,
     "metadata": {},
     "output_type": "execute_result"
    }
   ],
   "source": [
    "str1.center(20)"
   ]
  },
  {
   "cell_type": "code",
   "execution_count": 31,
   "id": "da0b41d3-4c1f-466d-ba49-0fa54994618c",
   "metadata": {},
   "outputs": [
    {
     "data": {
      "text/plain": [
       "20"
      ]
     },
     "execution_count": 31,
     "metadata": {},
     "output_type": "execute_result"
    }
   ],
   "source": [
    "len(str1.center(20))"
   ]
  },
  {
   "cell_type": "markdown",
   "id": "631f6b9f-927d-41fa-ac09-4de74aa6f927",
   "metadata": {},
   "source": [
    "- Center has two arguments\n",
    "\n",
    "    - Width\n",
    "\n",
    "    - Fill Char\n",
    "\n",
    "- Original string already has 16 letters\n",
    "\n",
    "- We need to create a new string of 20 letters\n",
    "\n",
    "- The remaining 4 letter will be empty by default\n",
    "\n",
    "- We can also fill the spaces by some characters"
   ]
  },
  {
   "cell_type": "code",
   "execution_count": 33,
   "id": "879ec5a7-986c-4905-8b8b-4ffc731e7cf2",
   "metadata": {},
   "outputs": [
    {
     "data": {
      "text/plain": [
       "'*****my name is Rohit*****'"
      ]
     },
     "execution_count": 33,
     "metadata": {},
     "output_type": "execute_result"
    }
   ],
   "source": [
    "str1.center(26,\"*\")"
   ]
  },
  {
   "cell_type": "code",
   "execution_count": null,
   "id": "132706ce-b23d-4e69-8f41-16359a1ded13",
   "metadata": {},
   "outputs": [],
   "source": []
  },
  {
   "cell_type": "markdown",
   "id": "8eea150c-e187-4597-bbf4-91f0b87c10f5",
   "metadata": {},
   "source": [
    "**Count**"
   ]
  },
  {
   "cell_type": "code",
   "execution_count": 35,
   "id": "7a657fd1-85f8-4f2c-ac14-7260e4610ec8",
   "metadata": {},
   "outputs": [
    {
     "data": {
      "text/plain": [
       "1"
      ]
     },
     "execution_count": 35,
     "metadata": {},
     "output_type": "execute_result"
    }
   ],
   "source": [
    "str1 = \"Hi how are you\"\n",
    "str1.count(\"a\")"
   ]
  },
  {
   "cell_type": "code",
   "execution_count": 36,
   "id": "d3bb90c3-4485-4df5-8210-6347d2f9dbc6",
   "metadata": {},
   "outputs": [
    {
     "data": {
      "text/plain": [
       "3"
      ]
     },
     "execution_count": 36,
     "metadata": {},
     "output_type": "execute_result"
    }
   ],
   "source": [
    "str1 = \"hai hai hai\"\n",
    "str1.count('a')"
   ]
  },
  {
   "cell_type": "markdown",
   "id": "c92af04c-dc92-4a18-b224-01b03bc9240a",
   "metadata": {},
   "source": [
    "- If we want number of a's from a specific index"
   ]
  },
  {
   "cell_type": "code",
   "execution_count": 18,
   "id": "550d075a-1b35-441d-acd8-1b3f8ae908b9",
   "metadata": {},
   "outputs": [
    {
     "data": {
      "text/plain": [
       "1"
      ]
     },
     "execution_count": 18,
     "metadata": {},
     "output_type": "execute_result"
    }
   ],
   "source": [
    "str1 = \"hai hai hai\"\n",
    "str1.count('a',1,2)"
   ]
  },
  {
   "cell_type": "code",
   "execution_count": 10,
   "id": "3416b44f-aca1-45ab-be42-5e9cf160e194",
   "metadata": {},
   "outputs": [
    {
     "data": {
      "text/plain": [
       "1"
      ]
     },
     "execution_count": 10,
     "metadata": {},
     "output_type": "execute_result"
    }
   ],
   "source": [
    "str1 = \"hai hai hai\"\n",
    "str1.count(\"a\",-5,-1)"
   ]
  },
  {
   "cell_type": "code",
   "execution_count": null,
   "id": "97eb2c9e-772a-4610-b31e-7da506150246",
   "metadata": {},
   "outputs": [],
   "source": []
  },
  {
   "cell_type": "markdown",
   "id": "f4e23cce-00a5-40ce-ae71-97a6fec61593",
   "metadata": {},
   "source": [
    "**Window method**"
   ]
  },
  {
   "cell_type": "code",
   "execution_count": 39,
   "id": "e442b8be-1ff6-43de-be32-c05b4296cf8b",
   "metadata": {},
   "outputs": [
    {
     "name": "stdout",
     "output_type": "stream",
     "text": [
      "The number of ola in string are: 3\n"
     ]
    }
   ],
   "source": [
    "str1 = \"ola ola ola\"\n",
    "count = 0\n",
    "for i in range(len(str1)):\n",
    "    if str1[i:i+3]==\"ola\":\n",
    "        count += 1\n",
    "print(f\"The number of ola in string are: {count}\")"
   ]
  },
  {
   "cell_type": "code",
   "execution_count": null,
   "id": "f2e4e8cd-4fc4-4f02-850f-d5116022e6f8",
   "metadata": {},
   "outputs": [],
   "source": []
  },
  {
   "cell_type": "markdown",
   "id": "d84864f5-e09f-4aba-afc8-f737debcfb92",
   "metadata": {},
   "source": [
    "**Replace**"
   ]
  },
  {
   "cell_type": "code",
   "execution_count": 11,
   "id": "eb79c1a0-cc6f-4a52-9bbb-67def5b9c94a",
   "metadata": {},
   "outputs": [
    {
     "data": {
      "text/plain": [
       "'weLcome'"
      ]
     },
     "execution_count": 11,
     "metadata": {},
     "output_type": "execute_result"
    }
   ],
   "source": [
    "str1 = \"welcome\"\n",
    "s = \"we\"\n",
    "t = \"come\"\n",
    "str1 = s + \"L\" + t\n",
    "str1"
   ]
  },
  {
   "cell_type": "code",
   "execution_count": 12,
   "id": "3e93c4e8-0b98-4d2c-91dc-a4ebb3b4f7de",
   "metadata": {},
   "outputs": [
    {
     "data": {
      "text/plain": [
       "'weLcome'"
      ]
     },
     "execution_count": 12,
     "metadata": {},
     "output_type": "execute_result"
    }
   ],
   "source": [
    "str1 = \"welcome\"\n",
    "str1.replace(\"l\",\"L\")"
   ]
  },
  {
   "cell_type": "markdown",
   "id": "309f9ba2-5728-458d-9396-068deaa44d06",
   "metadata": {},
   "source": [
    "- By default replace will change all the occurences\n",
    "\n",
    "- Count = -1 is responsible for that\n",
    "\n",
    "- Which means we can provide some count also, for how many letters we want to change"
   ]
  },
  {
   "cell_type": "code",
   "execution_count": 15,
   "id": "8537cf90-b367-4421-87cb-856d1c23a4cd",
   "metadata": {},
   "outputs": [
    {
     "data": {
      "text/plain": [
       "'weLLlcome'"
      ]
     },
     "execution_count": 15,
     "metadata": {},
     "output_type": "execute_result"
    }
   ],
   "source": [
    "str1 = \"welllcome\"\n",
    "str1.replace('l','L',2)"
   ]
  },
  {
   "cell_type": "code",
   "execution_count": 26,
   "id": "b1996770-8125-4214-9591-1fd989d31923",
   "metadata": {},
   "outputs": [
    {
     "data": {
      "text/plain": [
       "'resta$t'"
      ]
     },
     "execution_count": 26,
     "metadata": {},
     "output_type": "execute_result"
    }
   ],
   "source": [
    "str1 = \"restart\"\n",
    "str1[::-1].replace(\"r\",\"$\",1)[::-1]"
   ]
  },
  {
   "cell_type": "code",
   "execution_count": null,
   "id": "b49b728a-cd72-44da-bf58-9da6846978b3",
   "metadata": {},
   "outputs": [],
   "source": []
  },
  {
   "cell_type": "markdown",
   "id": "d136485f-66c4-4ebd-b1c7-a4e8e4de1da4",
   "metadata": {},
   "source": [
    "**Index**"
   ]
  },
  {
   "cell_type": "markdown",
   "id": "b45f4a69-b419-430c-971b-8d20e76d5775",
   "metadata": {},
   "source": [
    "- Index says that it will give the index of any letter in the string\n",
    "\n",
    "- We have already seen count, which gives how amny letter are there in the string\n",
    "\n",
    "    - at what index do you want to count\n",
    "\n",
    "    - in between indexes also we can count the letter\n",
    "\n",
    "- Index means it will provide the index"
   ]
  },
  {
   "cell_type": "code",
   "execution_count": 22,
   "id": "f04e0cb1-7412-46ba-b5cb-0d6c75a8ff8f",
   "metadata": {},
   "outputs": [
    {
     "data": {
      "text/plain": [
       "1"
      ]
     },
     "execution_count": 22,
     "metadata": {},
     "output_type": "execute_result"
    }
   ],
   "source": [
    "#   h a i   h a i   h a i\n",
    "#   0 1 2 3 4 5 6 7 8 9 10\n",
    "str1= 'hai hai hai'\n",
    "str1.index('a')\n",
    "# Return the lowest index in S where substring sub is found"
   ]
  },
  {
   "cell_type": "code",
   "execution_count": 24,
   "id": "7dfe17f2-5ea9-4338-b425-55cb6f7113d9",
   "metadata": {},
   "outputs": [
    {
     "data": {
      "text/plain": [
       "5"
      ]
     },
     "execution_count": 24,
     "metadata": {},
     "output_type": "execute_result"
    }
   ],
   "source": [
    "# I want to know the next 'a' index after 3rd index\n",
    "str1 = \"hai hai hai\"\n",
    "str1.index(\"a\",3)"
   ]
  },
  {
   "cell_type": "code",
   "execution_count": 26,
   "id": "4ac0ff6f-0e9d-4e45-b8d0-c3e10ef0cef5",
   "metadata": {},
   "outputs": [
    {
     "data": {
      "text/plain": [
       "5"
      ]
     },
     "execution_count": 26,
     "metadata": {},
     "output_type": "execute_result"
    }
   ],
   "source": [
    "# I want to know the index of 'a' between 3rd and 7th\n",
    "str1 = \"hai hai hai\"\n",
    "str1.index(\"a\",3,7)"
   ]
  },
  {
   "cell_type": "code",
   "execution_count": 28,
   "id": "6c4b9008-1844-44cc-8c9f-5c40242f24dd",
   "metadata": {},
   "outputs": [
    {
     "data": {
      "text/plain": [
       "9"
      ]
     },
     "execution_count": 28,
     "metadata": {},
     "output_type": "execute_result"
    }
   ],
   "source": [
    "str1 = \"hai hai hai\"\n",
    "str1.index(\"a\",-3,-1)"
   ]
  },
  {
   "cell_type": "code",
   "execution_count": 30,
   "id": "67ed62cc-6835-4522-9ba8-c2cf98c681ce",
   "metadata": {},
   "outputs": [
    {
     "name": "stdout",
     "output_type": "stream",
     "text": [
      "3\n",
      "2\n",
      "1\n"
     ]
    }
   ],
   "source": [
    "#  -11 -10 -9 -8 -7 -6 -5 -4 -3 -2 -1\n",
    "#   h   a   i     h  a  i     h  a  i\n",
    "#   0   1   2  3  4  5  6  7  8  9  10\n",
    "str1= 'hai hai hai'\n",
    "print(str1.count('a'))\n",
    "print(str1.count('a',3))\n",
    "print(str1.count('a',3,7))"
   ]
  },
  {
   "cell_type": "code",
   "execution_count": 34,
   "id": "9651ad4e-3f64-4f6c-b0f9-c6f9970e0e3a",
   "metadata": {},
   "outputs": [
    {
     "name": "stdout",
     "output_type": "stream",
     "text": [
      "1\n",
      "5\n",
      "9\n"
     ]
    }
   ],
   "source": [
    "str1='hai hai hai'\n",
    "# I want to know all the indexes of 'a'\n",
    "for i in range(len(str1)):\n",
    "    if str1[i]=='a':\n",
    "        print(i)"
   ]
  },
  {
   "cell_type": "code",
   "execution_count": 36,
   "id": "a7c13a2b-426c-4a32-ab21-e422d5ec8d15",
   "metadata": {},
   "outputs": [
    {
     "name": "stdout",
     "output_type": "stream",
     "text": [
      "1\n",
      "5\n",
      "9\n",
      "13\n"
     ]
    }
   ],
   "source": [
    "str1 = \"hai hai hai hai\"\n",
    "i1 = str1.index(\"a\")\n",
    "print(i1)\n",
    "i2 = str1.index(\"a\",i1+1)\n",
    "print(i2)\n",
    "i3 = str1.index(\"a\",i2+1)\n",
    "print(i3)\n",
    "i4 = str1.index(\"a\",i3+1)\n",
    "print(i4)"
   ]
  },
  {
   "cell_type": "code",
   "execution_count": null,
   "id": "ed2ebd55-d8a1-4c2e-ad1b-3e0b3928a50a",
   "metadata": {},
   "outputs": [],
   "source": []
  },
  {
   "cell_type": "markdown",
   "id": "678d7ce2-8a96-447f-a35e-99fe36ef81c0",
   "metadata": {},
   "source": [
    "**Find**"
   ]
  },
  {
   "cell_type": "code",
   "execution_count": 1,
   "id": "c388b7d9-9e57-4718-8bc9-1c5de83a8aac",
   "metadata": {},
   "outputs": [
    {
     "data": {
      "text/plain": [
       "1"
      ]
     },
     "execution_count": 1,
     "metadata": {},
     "output_type": "execute_result"
    }
   ],
   "source": [
    "str1 = \"hai hai hai hai\"\n",
    "str1.find(\"a\")"
   ]
  },
  {
   "cell_type": "code",
   "execution_count": 2,
   "id": "8b6835f7-2d2d-4f9a-a15c-9b5618ee476c",
   "metadata": {},
   "outputs": [
    {
     "data": {
      "text/plain": [
       "5"
      ]
     },
     "execution_count": 2,
     "metadata": {},
     "output_type": "execute_result"
    }
   ],
   "source": [
    "str1.find(\"a\",2)"
   ]
  },
  {
   "cell_type": "code",
   "execution_count": 3,
   "id": "0a855e70-d445-4089-9e4f-fdd509d8aac6",
   "metadata": {},
   "outputs": [
    {
     "data": {
      "text/plain": [
       "9"
      ]
     },
     "execution_count": 3,
     "metadata": {},
     "output_type": "execute_result"
    }
   ],
   "source": [
    "str1.find(\"a\",6)"
   ]
  },
  {
   "cell_type": "code",
   "execution_count": 4,
   "id": "3b1b34d3-a6d3-454e-930b-ee2e8310e2ec",
   "metadata": {},
   "outputs": [
    {
     "data": {
      "text/plain": [
       "0"
      ]
     },
     "execution_count": 4,
     "metadata": {},
     "output_type": "execute_result"
    }
   ],
   "source": [
    "i1 = str1.find(\"h\")\n",
    "i1"
   ]
  },
  {
   "cell_type": "code",
   "execution_count": 11,
   "id": "a25d1da1-5eaa-4864-958d-ccee40a9f253",
   "metadata": {},
   "outputs": [
    {
     "data": {
      "text/plain": [
       "8"
      ]
     },
     "execution_count": 11,
     "metadata": {},
     "output_type": "execute_result"
    }
   ],
   "source": [
    "i2 = str1.find(\"h\",i1+1)\n",
    "i2"
   ]
  },
  {
   "cell_type": "code",
   "execution_count": 7,
   "id": "07a395fa-58ee-4baf-88b4-1b0e08f3bffe",
   "metadata": {},
   "outputs": [
    {
     "data": {
      "text/plain": [
       "12"
      ]
     },
     "execution_count": 7,
     "metadata": {},
     "output_type": "execute_result"
    }
   ],
   "source": [
    "i3 = str1.find(\"h\",i2+1)\n",
    "i3"
   ]
  },
  {
   "cell_type": "code",
   "execution_count": 9,
   "id": "a2482a61-0747-4a82-a73d-d335e98372cd",
   "metadata": {},
   "outputs": [
    {
     "data": {
      "text/plain": [
       "4"
      ]
     },
     "execution_count": 9,
     "metadata": {},
     "output_type": "execute_result"
    }
   ],
   "source": [
    "i4 = str1.find(\"h\",1)\n",
    "i4"
   ]
  },
  {
   "cell_type": "markdown",
   "id": "d98dc958-150e-49c2-a0c6-76bf9defe8c6",
   "metadata": {},
   "source": [
    "- If substring not found\n",
    "\n",
    "- Count method will give zero\n",
    "\n",
    "- Replace method will give original string\n",
    "\n",
    "- Index will give sub string not found error\n",
    "\n",
    "- Find will give -1"
   ]
  },
  {
   "cell_type": "code",
   "execution_count": null,
   "id": "8800299a-6907-4140-a34f-4d8f361cb04f",
   "metadata": {},
   "outputs": [],
   "source": []
  },
  {
   "cell_type": "code",
   "execution_count": 26,
   "id": "f9447209-8e08-474b-98c2-89ed2cadab99",
   "metadata": {},
   "outputs": [
    {
     "name": "stdout",
     "output_type": "stream",
     "text": [
      "First Name = virat\n",
      "Last Name = kohli\n",
      "Company Name = rcb\n"
     ]
    }
   ],
   "source": [
    "str1 = \"omkar.nallagoni@cognizant.com\"\n",
    "str2 = \"virat.kohli@rcb.com\"\n",
    "first_name = \" \"\n",
    "last_name = \" \"\n",
    "company_name = \" \"\n",
    "for i in range(len(str2)):\n",
    "    i1 = str2.find(\".\")\n",
    "    first_name = str2[:i1]\n",
    "    i2 = str2.find(\"@\")\n",
    "    last_name = str2[i1+1:i2]\n",
    "    i3 = str2.find(\".\",i1+1)\n",
    "    company_name = str2[i2+1:i3]\n",
    "print(f\"First Name = {first_name}\")\n",
    "print(f\"Last Name = {last_name}\")\n",
    "print(f\"Company Name = {company_name}\")"
   ]
  },
  {
   "cell_type": "code",
   "execution_count": null,
   "id": "a2cd3585-ffd1-463f-a1ce-7b87e4c5ecb8",
   "metadata": {},
   "outputs": [],
   "source": []
  },
  {
   "cell_type": "code",
   "execution_count": null,
   "id": "54fe0dc4-8554-4e18-8d38-b6025ef65234",
   "metadata": {},
   "outputs": [],
   "source": []
  },
  {
   "cell_type": "code",
   "execution_count": null,
   "id": "ee9012b8-49cc-40b3-bce0-e8d30713f1e4",
   "metadata": {},
   "outputs": [],
   "source": []
  }
 ],
 "metadata": {
  "kernelspec": {
   "display_name": "Python 3 (ipykernel)",
   "language": "python",
   "name": "python3"
  },
  "language_info": {
   "codemirror_mode": {
    "name": "ipython",
    "version": 3
   },
   "file_extension": ".py",
   "mimetype": "text/x-python",
   "name": "python",
   "nbconvert_exporter": "python",
   "pygments_lexer": "ipython3",
   "version": "3.11.7"
  }
 },
 "nbformat": 4,
 "nbformat_minor": 5
}
