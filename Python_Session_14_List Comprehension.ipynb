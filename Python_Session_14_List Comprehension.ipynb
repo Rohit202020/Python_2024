{
 "cells": [
  {
   "cell_type": "markdown",
   "id": "0d197ee5-e888-427b-aa8f-4bea278aadc6",
   "metadata": {},
   "source": [
    "- We can store the output values by using append operations\n",
    "\n",
    "- We are taking an empty list and we are iterating through elements from a given list\n",
    "\n",
    "- And the result we are appending in a new list"
   ]
  },
  {
   "cell_type": "code",
   "execution_count": 10,
   "id": "389e1569-66fe-47d8-90c9-1d488fed6826",
   "metadata": {},
   "outputs": [
    {
     "name": "stdout",
     "output_type": "stream",
     "text": [
      "[0, 1, 4, 9, 16, 25, 36, 49, 64, 81]\n"
     ]
    }
   ],
   "source": [
    "sl = []\n",
    "for i in range(10):\n",
    "    sl.append(i*i)\n",
    "print(sl)"
   ]
  },
  {
   "cell_type": "markdown",
   "id": "585be242-1dcd-4973-a173-7994c012a08e",
   "metadata": {},
   "source": [
    "- There are almost three lines in a process\n",
    "\n",
    "- We can make those three lines into a single line\n",
    "\n",
    "- This process is known as list comprehension"
   ]
  },
  {
   "cell_type": "markdown",
   "id": "38c33e19-91c8-4ff6-be77-a3f58c157d36",
   "metadata": {},
   "source": [
    "$Pattern-1$"
   ]
  },
  {
   "cell_type": "markdown",
   "id": "e347a94c-473b-4aaa-9ba1-07f4c3cc994f",
   "metadata": {},
   "source": [
    "**Only For Loop**"
   ]
  },
  {
   "cell_type": "code",
   "execution_count": null,
   "id": "3f9858ad-acbb-441f-882e-434d5e7117de",
   "metadata": {},
   "outputs": [],
   "source": [
    "# SYNTAX :\n",
    "[<output>   <for loop>]"
   ]
  },
  {
   "cell_type": "code",
   "execution_count": null,
   "id": "64a33463-1221-4bd0-8642-3f27cac0428a",
   "metadata": {},
   "outputs": [],
   "source": [
    "sl = []\n",
    "for i in range(10):\n",
    "    sl.append(i*i)\n",
    "print(sl)"
   ]
  },
  {
   "cell_type": "code",
   "execution_count": 19,
   "id": "c3580cad-f99d-4dc5-bc2a-675ddef71ee4",
   "metadata": {},
   "outputs": [
    {
     "data": {
      "text/plain": [
       "[0, 1, 4, 9, 16, 25, 36, 49, 64, 81]"
      ]
     },
     "execution_count": 19,
     "metadata": {},
     "output_type": "execute_result"
    }
   ],
   "source": [
    "square_list = [i*i for i in range(10)]\n",
    "square_list"
   ]
  },
  {
   "cell_type": "code",
   "execution_count": 29,
   "id": "a40ee40c-396c-4980-b7f2-497e86d9ce64",
   "metadata": {},
   "outputs": [
    {
     "data": {
      "text/plain": [
       "['HYD', 'MUMBAI', 'CHENNAI', 'BANGALORE']"
      ]
     },
     "execution_count": 29,
     "metadata": {},
     "output_type": "execute_result"
    }
   ],
   "source": [
    "l1 = [\"hyd\", \"mumbai\", \"chennai\", \"bangalore\"]\n",
    "l2 = [i.upper() for i in l1]\n",
    "l2"
   ]
  },
  {
   "cell_type": "code",
   "execution_count": 31,
   "id": "cd4e398c-7264-4032-9e1d-a9962cfa8edc",
   "metadata": {},
   "outputs": [
    {
     "data": {
      "text/plain": [
       "['hyd', 'mumbai', 'chennai', 'bangalore']"
      ]
     },
     "execution_count": 31,
     "metadata": {},
     "output_type": "execute_result"
    }
   ],
   "source": [
    "l1 = ['HYD', 'MUMBAI', 'CHENNAI', 'BANGALORE']\n",
    "l2 = [i.lower() for i in l1]\n",
    "l2"
   ]
  },
  {
   "cell_type": "code",
   "execution_count": 53,
   "id": "0a6124c2-4845-40f7-acbc-5a5f1fb3f249",
   "metadata": {},
   "outputs": [
    {
     "name": "stdout",
     "output_type": "stream",
     "text": [
      "0\n",
      "1\n",
      "2\n",
      "3\n"
     ]
    }
   ],
   "source": [
    "# Sum of indexes of all elements\n",
    "l1 = [\"hyd\", \"mumbai\", \"chennai\", \"bangalore\"]\n",
    "for i in l1:\n",
    "    print(l1.index(i))"
   ]
  },
  {
   "cell_type": "code",
   "execution_count": 49,
   "id": "f23be806-0b37-457d-973a-5a9927cda2c6",
   "metadata": {},
   "outputs": [
    {
     "data": {
      "text/plain": [
       "6"
      ]
     },
     "execution_count": 49,
     "metadata": {},
     "output_type": "execute_result"
    }
   ],
   "source": [
    "# By using LC\n",
    "l1 = [\"hyd\", \"mumbai\", \"chennai\", \"bangalore\"]\n",
    "summ = 0\n",
    "l2 = [l1.index(i) for i in l1]\n",
    "sum(l2)"
   ]
  },
  {
   "cell_type": "markdown",
   "id": "b135d8b6-9f57-474d-a3c5-7811022e911a",
   "metadata": {},
   "source": [
    "- Making empty list will not work in list comprehension\n",
    " \n",
    "- Initialisation will not work in list comprehension\n",
    " \n",
    "- Assignments will not work in list comprehension"
   ]
  },
  {
   "cell_type": "code",
   "execution_count": null,
   "id": "cc86591a-7028-4fb6-a5e6-0c49586efec2",
   "metadata": {},
   "outputs": [],
   "source": []
  },
  {
   "cell_type": "markdown",
   "id": "38d84fa1-e08a-4dbe-a003-48c51f0c3534",
   "metadata": {},
   "source": [
    "$Pattern-2$"
   ]
  },
  {
   "cell_type": "markdown",
   "id": "ab136001-d55b-4e4a-88a8-5fc61bbbb041",
   "metadata": {},
   "source": [
    "**For loop and if condition**"
   ]
  },
  {
   "cell_type": "code",
   "execution_count": null,
   "id": "6cf0101d-9e3d-444d-aa60-d47c5afee78f",
   "metadata": {},
   "outputs": [],
   "source": [
    "# Syntax:\n",
    "[<output>  <for loop>  <if condition>]"
   ]
  },
  {
   "cell_type": "code",
   "execution_count": 59,
   "id": "7794e97d-b5fd-432c-9d49-73597de6cce9",
   "metadata": {},
   "outputs": [
    {
     "data": {
      "text/plain": [
       "['mumbai', 'chennai']"
      ]
     },
     "execution_count": 59,
     "metadata": {},
     "output_type": "execute_result"
    }
   ],
   "source": [
    "l1 = [\"hyd\",\"mumbai\", \"chennai\", \"ban\"]\n",
    "l2 = []\n",
    "for i in l1:\n",
    "    if len(i) > 4:\n",
    "        l2.append(i)\n",
    "l2"
   ]
  },
  {
   "cell_type": "code",
   "execution_count": 61,
   "id": "d9350ec8-3845-4433-aa1f-9613e5ec73cf",
   "metadata": {},
   "outputs": [
    {
     "data": {
      "text/plain": [
       "['mumbai', 'chennai']"
      ]
     },
     "execution_count": 61,
     "metadata": {},
     "output_type": "execute_result"
    }
   ],
   "source": [
    "l1 = [\"hyd\",\"mumbai\", \"chennai\", \"ban\"]\n",
    "l2 = [i for i in l1 if len(i) > 4]\n",
    "l2"
   ]
  },
  {
   "cell_type": "code",
   "execution_count": 65,
   "id": "f98d3fcb-2b3f-4def-8001-b6dfdb848e60",
   "metadata": {},
   "outputs": [
    {
     "name": "stdout",
     "output_type": "stream",
     "text": [
      "['Mum#bai', 'Chen#nai']\n",
      "['Hyd', 'blr']\n"
     ]
    }
   ],
   "source": [
    "# l1=['Hyd','Mum#bai','Chen#nai','blr']\n",
    "#     ans_with_hash=['Mum#bai'',Chen#nai']  \n",
    "#     ans_without_hash=['Hyd'','blr']\n",
    "#     we want elements which are having '#'\n",
    "\n",
    "l1 = ['Hyd','Mum#bai','Chen#nai','blr']\n",
    "ans_with_hash = [i for i in l1 if \"#\" in i]\n",
    "ans_without_hash = [i for i in l1 if \"#\" not in i]\n",
    "print(ans_with_hash)\n",
    "print(ans_without_hash)"
   ]
  },
  {
   "cell_type": "code",
   "execution_count": 73,
   "id": "d86eb983-fa95-4981-83ca-0c844fae8fab",
   "metadata": {},
   "outputs": [
    {
     "data": {
      "text/plain": [
       "['Hyd', 'Mumbai']"
      ]
     },
     "execution_count": 73,
     "metadata": {},
     "output_type": "execute_result"
    }
   ],
   "source": [
    "# l1=['Hyd','Mumbai','chennai','blr']\n",
    "#     ans=['Hyd','Mumbai']\n",
    "#     we want elements which are having first letter capital\n",
    "\n",
    "l1 = ['Hyd','Mumbai','chennai','blr']\n",
    "l2 = [l1[i] for i in range(len(l1)) if l1[i][0].isupper()]\n",
    "l2"
   ]
  },
  {
   "cell_type": "code",
   "execution_count": 1,
   "id": "ffb037fd-ef4a-40b7-a895-1e7c60edf4d5",
   "metadata": {},
   "outputs": [
    {
     "name": "stdout",
     "output_type": "stream",
     "text": [
      "['virat', 'Rohit', 'KL']\n",
      "['kohli', 'sharma', 'Rahul']\n",
      "['rcb', 'mi', 'lucknow']\n"
     ]
    }
   ],
   "source": [
    "# str1='virat.kohli@rcb.com, Rohit.sharma@mi.com, KL.Rahul@lucknow.com'\n",
    "# Firstname=[]  second name=[]  cname =[]\n",
    "# append first name should be in first name list\n",
    "#        second name shoul be in second name list\n",
    "#        third name will be in third name list\n",
    "\n",
    "str1='virat.kohli@rcb.com, Rohit.sharma@mi.com, KL.Rahul@lucknow.com'\n",
    "l1 = str1.split()\n",
    "# l1[0][:l1[0].index(\".\")]  # Virat\n",
    "# l1[1][:l1[1].index(\".\")]  # Virat\n",
    "# l1[2][:l1[2].index(\".\")]  # Virat\n",
    "first_name = []\n",
    "last_name = []\n",
    "team_name = []\n",
    "for i in l1:\n",
    "    first_name.append(i[:i.index(\".\")])\n",
    "    last_name.append(i[i.index(\".\")+1:i.index(\"@\")])\n",
    "    team_name.append(i[i.index(\"@\")+1:i.index(\".\",i.index(\".\")+1)])\n",
    "print(first_name)\n",
    "print(last_name)\n",
    "print(team_name)"
   ]
  },
  {
   "cell_type": "code",
   "execution_count": 33,
   "id": "9b85a7c9-1f9f-45ac-af69-406a0b48ac4b",
   "metadata": {},
   "outputs": [
    {
     "name": "stdout",
     "output_type": "stream",
     "text": [
      "['virat', ' Rohit', ' KL'] ['kohli', 'sharma', 'Rahul'] ['rcb', 'mi', 'lucknow']\n"
     ]
    }
   ],
   "source": [
    "str1='virat.kohli@rcb.com, Rohit.sharma@mi.com, KL.Rahul@lucknow.com'\n",
    "l1 = str1.split(\",\")\n",
    "f_name = [i[:i.index('.')] for i in l1]\n",
    "l_name = [i[i.index(\".\")+1:i.index(\"@\")] for i in l1]\n",
    "t_name = [i[i.index(\"@\")+1:i.index(\".\",i.index(\".\")+1)] for i in l1]\n",
    "print(f_name,l_name,t_name)"
   ]
  },
  {
   "cell_type": "code",
   "execution_count": null,
   "id": "e2d4ea6b-7aef-4fa3-bd89-1dab646c56f9",
   "metadata": {},
   "outputs": [],
   "source": []
  },
  {
   "cell_type": "markdown",
   "id": "60fb66b6-4bb2-47e3-9df3-9f2a3831b102",
   "metadata": {},
   "source": [
    "$Pattern-3$"
   ]
  },
  {
   "cell_type": "markdown",
   "id": "765939fb-2072-4962-996b-5a6491974513",
   "metadata": {},
   "source": [
    "**For loop - if - else**"
   ]
  },
  {
   "cell_type": "code",
   "execution_count": 40,
   "id": "de152bed-2971-4940-85ff-39100327276f",
   "metadata": {},
   "outputs": [],
   "source": [
    "# SYNTAX : \n",
    "[<if output>  <if>  <else>  <else output>  <for>]"
   ]
  },
  {
   "cell_type": "code",
   "execution_count": 46,
   "id": "a064ded8-e319-46b6-899b-e45ada2f9db5",
   "metadata": {},
   "outputs": [
    {
     "data": {
      "text/plain": [
       "['Odd:1',\n",
       " 'Even:2',\n",
       " 'Odd:3',\n",
       " 'Even:4',\n",
       " 'Odd:5',\n",
       " 'Even:6',\n",
       " 'Odd:7',\n",
       " 'Even:8',\n",
       " 'Odd:9',\n",
       " 'Even:10',\n",
       " 'Odd:11',\n",
       " 'Even:12',\n",
       " 'Odd:13',\n",
       " 'Even:14',\n",
       " 'Odd:15',\n",
       " 'Even:16',\n",
       " 'Odd:17',\n",
       " 'Even:18',\n",
       " 'Odd:19']"
      ]
     },
     "execution_count": 46,
     "metadata": {},
     "output_type": "execute_result"
    }
   ],
   "source": [
    "even_odd = [f\"Even:{i}\" if i % 2 == 0 else f\"Odd:{i}\" for i in range(1,20)]\n",
    "even_odd"
   ]
  },
  {
   "cell_type": "code",
   "execution_count": 48,
   "id": "490e0c1d-fd84-48c8-91a4-761165eb5699",
   "metadata": {},
   "outputs": [
    {
     "data": {
      "text/plain": [
       "['EVEN:2',\n",
       " 'EVEN:4',\n",
       " 'EVEN:6',\n",
       " 'EVEN:8',\n",
       " 'EVEN:10',\n",
       " 'EVEN:12',\n",
       " 'EVEN:14',\n",
       " 'EVEN:16',\n",
       " 'EVEN:18']"
      ]
     },
     "execution_count": 48,
     "metadata": {},
     "output_type": "execute_result"
    }
   ],
   "source": [
    "even = [f\"EVEN:{i}\" for i in range(1,20) if i % 2 == 0]\n",
    "even"
   ]
  },
  {
   "cell_type": "code",
   "execution_count": 50,
   "id": "669d6589-f74a-4d10-878e-0d36b9848487",
   "metadata": {},
   "outputs": [
    {
     "data": {
      "text/plain": [
       "['ODD:1',\n",
       " 'ODD:3',\n",
       " 'ODD:5',\n",
       " 'ODD:7',\n",
       " 'ODD:9',\n",
       " 'ODD:11',\n",
       " 'ODD:13',\n",
       " 'ODD:15',\n",
       " 'ODD:17',\n",
       " 'ODD:19']"
      ]
     },
     "execution_count": 50,
     "metadata": {},
     "output_type": "execute_result"
    }
   ],
   "source": [
    "odd = [f\"ODD:{i}\" for i in range(1,20) if i % 2 != 0]\n",
    "odd"
   ]
  },
  {
   "cell_type": "code",
   "execution_count": null,
   "id": "694a811a-f28c-4daa-9be7-9e05bf855dc3",
   "metadata": {},
   "outputs": [],
   "source": []
  },
  {
   "cell_type": "code",
   "execution_count": 19,
   "id": "344debd0-25af-44b0-bd16-9c671ec0f088",
   "metadata": {},
   "outputs": [
    {
     "name": "stdout",
     "output_type": "stream",
     "text": [
      "['virat', ' Rohit', ' KL'] ['kohli', 'sharma', 'Rahul'] ['rcb', 'mi', 'lucknow']\n"
     ]
    }
   ],
   "source": [
    "str1='virat.kohli@rcb.com, Rohit.sharma@mi.com, KL.Rahul@lucknow.com'\n",
    "l1 = str1.split(\",\")\n",
    "first_name = []\n",
    "last_name = []\n",
    "team_name = []\n",
    "for i in l1:\n",
    "    first_name.append(i[:i.index(\".\")])\n",
    "    last_name.append(i[i.index(\".\")+1:i.index(\"@\")])\n",
    "    team_name.append(i[i.index(\"@\")+1:i.index(\".\",i.index(\".\")+1)])\n",
    "print(first_name,last_name,team_name)"
   ]
  },
  {
   "cell_type": "code",
   "execution_count": null,
   "id": "27ab0df9-3861-4d45-9aa8-041f0e7b84b6",
   "metadata": {},
   "outputs": [],
   "source": []
  }
 ],
 "metadata": {
  "kernelspec": {
   "display_name": "Python 3 (ipykernel)",
   "language": "python",
   "name": "python3"
  },
  "language_info": {
   "codemirror_mode": {
    "name": "ipython",
    "version": 3
   },
   "file_extension": ".py",
   "mimetype": "text/x-python",
   "name": "python",
   "nbconvert_exporter": "python",
   "pygments_lexer": "ipython3",
   "version": "3.11.7"
  }
 },
 "nbformat": 4,
 "nbformat_minor": 5
}
