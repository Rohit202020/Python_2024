{
 "cells": [
  {
   "cell_type": "markdown",
   "id": "3aebe448-c8f1-42fc-ad3a-515e73c49514",
   "metadata": {},
   "source": [
    "**Lambda Functions**\n",
    "\n",
    "- Lambda functions represent functions concept, but we can write it in a single line\n",
    "\n",
    "- Like list comprehension, lambda functions are also similar\n",
    "\n",
    "- It will decrease the time complexity\n",
    "\n",
    "- Always remeber if we use many for loops or many conditions using multiple line the time complexity will increase"
   ]
  },
  {
   "cell_type": "code",
   "execution_count": null,
   "id": "b8ac80ec-da43-4d87-93e1-9aeadcdc35d6",
   "metadata": {},
   "outputs": [],
   "source": [
    "# SYNTAX : \n",
    "\n",
    "It will use a keyword lambda\n",
    "lambda <arguments> : <expressions>"
   ]
  },
  {
   "cell_type": "code",
   "execution_count": 4,
   "id": "c4f8fcc1-9f6c-409b-b78c-31efd7a90b22",
   "metadata": {},
   "outputs": [
    {
     "data": {
      "text/plain": [
       "20"
      ]
     },
     "execution_count": 4,
     "metadata": {},
     "output_type": "execute_result"
    }
   ],
   "source": [
    "def summ(n):\n",
    "    return(n+10)\n",
    "summ(10)"
   ]
  },
  {
   "cell_type": "markdown",
   "id": "097b19b7-3e0e-40ce-8e94-764d1f911c6a",
   "metadata": {},
   "source": [
    "$Pattern-1$\n",
    "\n",
    "**Function with only one argument**\n",
    "\n",
    "- Function Name\n",
    "\n",
    "- Argument Name\n",
    "\n",
    "- Return Output"
   ]
  },
  {
   "cell_type": "code",
   "execution_count": 1,
   "id": "6de8dd2b-7a8e-456f-b300-3012c6369f5d",
   "metadata": {},
   "outputs": [
    {
     "data": {
      "text/plain": [
       "30"
      ]
     },
     "execution_count": 1,
     "metadata": {},
     "output_type": "execute_result"
    }
   ],
   "source": [
    "# SYNTAX :  <function Name> = lambda <argument name> : <return output>\n",
    "summ = lambda n : n + 10\n",
    "summ(20)"
   ]
  },
  {
   "cell_type": "code",
   "execution_count": 12,
   "id": "281fce70-16cb-480b-b656-df623c0193c7",
   "metadata": {},
   "outputs": [
    {
     "data": {
      "text/plain": [
       "125"
      ]
     },
     "execution_count": 12,
     "metadata": {},
     "output_type": "execute_result"
    }
   ],
   "source": [
    "cube = lambda n : n**3\n",
    "cube(5)"
   ]
  },
  {
   "cell_type": "code",
   "execution_count": 16,
   "id": "0a32e520-284c-468c-8a16-c5b41295f7e4",
   "metadata": {},
   "outputs": [
    {
     "data": {
      "text/plain": [
       "100"
      ]
     },
     "execution_count": 16,
     "metadata": {},
     "output_type": "execute_result"
    }
   ],
   "source": [
    "square = lambda n : n*n\n",
    "square(10)"
   ]
  },
  {
   "cell_type": "markdown",
   "id": "67fa0388-d09a-490e-a0ff-42f214414ea5",
   "metadata": {},
   "source": [
    "$Pattern-2$\n",
    "\n",
    "**Function with two Arguments**"
   ]
  },
  {
   "cell_type": "code",
   "execution_count": 21,
   "id": "b273d17d-cf17-4a06-bb3b-2822a7863920",
   "metadata": {},
   "outputs": [],
   "source": [
    "# SYNTAX : <function name> = lambda <argument one>,<argument two> : <return output>"
   ]
  },
  {
   "cell_type": "code",
   "execution_count": 23,
   "id": "d26325d9-7020-4b04-a699-dd6cf0464c9a",
   "metadata": {},
   "outputs": [
    {
     "data": {
      "text/plain": [
       "30"
      ]
     },
     "execution_count": 23,
     "metadata": {},
     "output_type": "execute_result"
    }
   ],
   "source": [
    "add = lambda n1,n2 : n1 + n2\n",
    "add(10,20)"
   ]
  },
  {
   "cell_type": "code",
   "execution_count": 27,
   "id": "af46f9f3-9844-4e2d-b523-ce2ddbe74d07",
   "metadata": {},
   "outputs": [
    {
     "data": {
      "text/plain": [
       "20.0"
      ]
     },
     "execution_count": 27,
     "metadata": {},
     "output_type": "execute_result"
    }
   ],
   "source": [
    "avg = lambda n1,n2,n3 : (n1+n2+n3)/3\n",
    "avg(10,20,30)"
   ]
  },
  {
   "cell_type": "markdown",
   "id": "bbb36f91-760e-457d-9849-c17bb4e3cda6",
   "metadata": {},
   "source": [
    "$Pattern-3$\n",
    "\n",
    "**Functions with default arguments**"
   ]
  },
  {
   "cell_type": "code",
   "execution_count": 30,
   "id": "fa8c8c89-81f9-4268-a845-3c63fdeb65f4",
   "metadata": {},
   "outputs": [
    {
     "data": {
      "text/plain": [
       "20"
      ]
     },
     "execution_count": 30,
     "metadata": {},
     "output_type": "execute_result"
    }
   ],
   "source": [
    "avg = lambda a,b=20,c=30 : round((a+b+c)/3)\n",
    "avg(10)"
   ]
  },
  {
   "cell_type": "markdown",
   "id": "099d158e-6838-43bb-b509-37bce665491f",
   "metadata": {},
   "source": [
    "$Pattern-4$\n",
    "\n",
    "**Function with if-else**"
   ]
  },
  {
   "cell_type": "code",
   "execution_count": 34,
   "id": "9fe83fd4-c601-48d8-bd3b-8a3e8711c361",
   "metadata": {},
   "outputs": [
    {
     "data": {
      "text/plain": [
       "20"
      ]
     },
     "execution_count": 34,
     "metadata": {},
     "output_type": "execute_result"
    }
   ],
   "source": [
    "def max(a,b):\n",
    "    if a>b:\n",
    "        return(a)\n",
    "    else:\n",
    "        return(b)\n",
    "max(10,20)"
   ]
  },
  {
   "cell_type": "code",
   "execution_count": 36,
   "id": "721ad265-77a7-4612-8672-b7eae50c52ef",
   "metadata": {},
   "outputs": [],
   "source": [
    "# SYNTAX : <function name> = lambda <arg1>,<arg2> : <if output> <if condition> <else condition> <else ouutput>"
   ]
  },
  {
   "cell_type": "code",
   "execution_count": 38,
   "id": "443f77fe-3c01-47d9-be1e-2b96ea5bb301",
   "metadata": {},
   "outputs": [
    {
     "data": {
      "text/plain": [
       "20"
      ]
     },
     "execution_count": 38,
     "metadata": {},
     "output_type": "execute_result"
    }
   ],
   "source": [
    "max = lambda a,b : a if a>b else b\n",
    "max(10,20)"
   ]
  },
  {
   "cell_type": "markdown",
   "id": "90f47920-8a40-495f-af84-b9a600c232c7",
   "metadata": {},
   "source": [
    "$Pattern-5$\n",
    "\n",
    "**Functions using list operations**"
   ]
  },
  {
   "cell_type": "code",
   "execution_count": 43,
   "id": "2a9bee1f-0b6c-4826-a52e-c6c242c612ac",
   "metadata": {},
   "outputs": [],
   "source": [
    "# SYNTAX : lambda <variable> : <output>,iterator"
   ]
  },
  {
   "cell_type": "code",
   "execution_count": 55,
   "id": "47e71429-526c-4377-af83-8f1a84e1ce74",
   "metadata": {},
   "outputs": [
    {
     "data": {
      "text/plain": [
       "(<function __main__.<lambda>(i)>, ['hyd', 'chennai', 'mumbai'])"
      ]
     },
     "execution_count": 55,
     "metadata": {},
     "output_type": "execute_result"
    }
   ],
   "source": [
    "l = ['hyd','chennai','mumbai']\n",
    "lambda i : i.capitalize(),l\n"
   ]
  },
  {
   "cell_type": "markdown",
   "id": "25d9291f-6156-49cc-ba9a-d3ef1bcda088",
   "metadata": {},
   "source": [
    "**Map**\n",
    "\n",
    "- The function and iterator are available now\n",
    "\n",
    "- So we need to map both"
   ]
  },
  {
   "cell_type": "code",
   "execution_count": 57,
   "id": "1eebf272-906d-49ef-a635-4e06bc8bca30",
   "metadata": {},
   "outputs": [
    {
     "data": {
      "text/plain": [
       "['Hyd', 'Chennai', 'Mumbai']"
      ]
     },
     "execution_count": 57,
     "metadata": {},
     "output_type": "execute_result"
    }
   ],
   "source": [
    "l = ['hyd','chennai','mumbai']\n",
    "list(map(lambda i : i.capitalize(),l))"
   ]
  },
  {
   "cell_type": "code",
   "execution_count": 3,
   "id": "5e461581-60c5-4b99-bac5-d28e631eaffa",
   "metadata": {},
   "outputs": [
    {
     "data": {
      "text/plain": [
       "('Hyd', 'Chennai', 'Mumbai')"
      ]
     },
     "execution_count": 3,
     "metadata": {},
     "output_type": "execute_result"
    }
   ],
   "source": [
    "l = ['hyd','chennai','mumbai']\n",
    "tuple(map(lambda i : i.capitalize(),l))"
   ]
  },
  {
   "cell_type": "markdown",
   "id": "3356ae7a-2992-4912-9978-9d8a3020a41f",
   "metadata": {},
   "source": [
    "- Case 1 : Function call with one argument\n",
    "\n",
    "    - lambda arguments : expression\n",
    "\n",
    "    - lambda variables : return output\n",
    "\n",
    "- Case 2 : Functio call with two arguments\n",
    "\n",
    "    - lambda arg1 , arg2 : expression\n",
    "\n",
    "    - lambda var1 , var2 : return output\n",
    "\n",
    "- Case 2 : Function call with default arguments\n",
    "\n",
    "    - lambda arg1 , arg2 = 50 : expression\n",
    "\n",
    "    - lambda var1 , var2 = 50 : return output\n",
    "\n",
    "- Case 4 : Function call with if else statement\n",
    "\n",
    "    - lambda arg1 , arg2 : expression\n",
    "\n",
    "    - lambda var1 , var2 : if_output  if_statement  else_condition  else_output  for loop\n",
    "\n",
    "- Case 5 : Function call with lists\n",
    "\n",
    "    - lambda arg : expression, iterator\n",
    "                                                                               \n",
    "    - map(lambda,variable : operation,iterator)  \n",
    "                                                                                \n",
    "    - list(map(lambda,variable : operation,iterator))                                                                               "
   ]
  },
  {
   "cell_type": "code",
   "execution_count": 4,
   "id": "9d59e341-ccac-49c2-97bb-322e83d26425",
   "metadata": {},
   "outputs": [
    {
     "data": {
      "text/plain": [
       "['HYD', 'CHENNAI', 'MUMBAI']"
      ]
     },
     "execution_count": 4,
     "metadata": {},
     "output_type": "execute_result"
    }
   ],
   "source": [
    "l1 = [\"hyd\",\"chennai\",\"mumbai\"]\n",
    "list(map(lambda i : i.upper(),l1))"
   ]
  },
  {
   "cell_type": "markdown",
   "id": "f21ea8c8-b427-46dd-aac3-f9bad4dd2b54",
   "metadata": {},
   "source": [
    "**Filter**\n",
    "\n",
    "- Whenever if conditions are there then use filter"
   ]
  },
  {
   "cell_type": "code",
   "execution_count": 22,
   "id": "b89cb2f0-7cd8-4b61-be58-e4a0207f8e03",
   "metadata": {},
   "outputs": [
    {
     "data": {
      "text/plain": [
       "['chen#nai', 'mum#bai']"
      ]
     },
     "execution_count": 22,
     "metadata": {},
     "output_type": "execute_result"
    }
   ],
   "source": [
    "l1 = [\"hyd\",\"chen#nai\",\"mum#bai\",\"ban\"]\n",
    "list(filter(lambda i : \"#\" in i,l1))"
   ]
  },
  {
   "cell_type": "code",
   "execution_count": 24,
   "id": "f20c8603-adcc-4869-b9a6-e755969d37b3",
   "metadata": {},
   "outputs": [
    {
     "data": {
      "text/plain": [
       "[4, 2, 6]"
      ]
     },
     "execution_count": 24,
     "metadata": {},
     "output_type": "execute_result"
    }
   ],
   "source": [
    "n = [1,3,4,2,5,6]\n",
    "list(filter(lambda i : i%2==0,n))"
   ]
  },
  {
   "cell_type": "markdown",
   "id": "4dd09b13-1729-47a7-9e78-2061db1673b8",
   "metadata": {},
   "source": [
    "**Reduce**\n",
    "\n",
    "- All in buikt functions can be achieved by reduce\n",
    "\n",
    "- Reduce is available from functools package\n",
    "\n",
    "- level-1 : reduce(lambda summ,i : summ + i,l1)\n",
    "\n",
    "- level-2 : reduce(lambda summ,i : summ + i,l1,initial value)\n",
    "\n",
    "- If we initialize summ = 0, then we will use level-1\n",
    "\n",
    "- If we want to initialize some other value to summ, then we will use level-2"
   ]
  },
  {
   "cell_type": "code",
   "execution_count": 38,
   "id": "3610f93e-a91a-4cff-b051-92ca58cdc2c7",
   "metadata": {},
   "outputs": [
    {
     "name": "stdout",
     "output_type": "stream",
     "text": [
      "15\n"
     ]
    }
   ],
   "source": [
    "l1 = [1,2,3,4,5]\n",
    "# I want sum of all elements\n",
    "\n",
    "# Method-1\n",
    "sum(l1)\n",
    "\n",
    "# Method-2\n",
    "summ = 0\n",
    "for i in l1:\n",
    "    summ += i\n",
    "print(summ)"
   ]
  },
  {
   "cell_type": "code",
   "execution_count": 40,
   "id": "ab7beb36-0170-44a1-8fe2-1857fd6ccde6",
   "metadata": {},
   "outputs": [
    {
     "data": {
      "text/plain": [
       "15"
      ]
     },
     "execution_count": 40,
     "metadata": {},
     "output_type": "execute_result"
    }
   ],
   "source": [
    "# Method-3 : Using lambda function\n",
    "import functools\n",
    "functools.reduce(lambda summ,i : summ + i,l1)"
   ]
  },
  {
   "cell_type": "code",
   "execution_count": 53,
   "id": "c3e8e906-21ff-4801-8d8f-95a83f5b8a3e",
   "metadata": {},
   "outputs": [
    {
     "data": {
      "text/plain": [
       "15"
      ]
     },
     "execution_count": 53,
     "metadata": {},
     "output_type": "execute_result"
    }
   ],
   "source": [
    "# import functools\n",
    "# functools.reduce\n",
    "\n",
    "from functools import reduce\n",
    "l1 = [1,2,3,4,5]\n",
    "reduce(lambda summ, i : summ + i,l1)"
   ]
  },
  {
   "cell_type": "code",
   "execution_count": 55,
   "id": "cd59ff93-bfb9-4d1f-98d5-d32a0d9675c0",
   "metadata": {},
   "outputs": [
    {
     "data": {
      "text/plain": [
       "15"
      ]
     },
     "execution_count": 55,
     "metadata": {},
     "output_type": "execute_result"
    }
   ],
   "source": [
    "import functools as ft\n",
    "l1 = [1,2,3,4,5]\n",
    "ft.reduce(lambda summ,i : summ + i,l1)"
   ]
  },
  {
   "cell_type": "code",
   "execution_count": 57,
   "id": "498a9a31-53da-4481-8b43-365ebbf560c8",
   "metadata": {},
   "outputs": [
    {
     "data": {
      "text/plain": [
       "25"
      ]
     },
     "execution_count": 57,
     "metadata": {},
     "output_type": "execute_result"
    }
   ],
   "source": [
    "# LEVEL-2\n",
    "import functools\n",
    "l = [1,2,3,4,5]\n",
    "functools.reduce(lambda summ,i:summ+i,l,10)"
   ]
  },
  {
   "cell_type": "code",
   "execution_count": 67,
   "id": "a046ccde-8014-4226-b362-b9b33b549cf0",
   "metadata": {},
   "outputs": [
    {
     "data": {
      "text/plain": [
       "False"
      ]
     },
     "execution_count": 67,
     "metadata": {},
     "output_type": "execute_result"
    }
   ],
   "source": [
    "import functools\n",
    "l1 = [1,2,3,4,5]\n",
    "functools.reduce(lambda x,y:x>y,l1)"
   ]
  },
  {
   "cell_type": "code",
   "execution_count": null,
   "id": "22fc49c9-6ea1-461a-ae95-6120dbc334d4",
   "metadata": {},
   "outputs": [],
   "source": []
  }
 ],
 "metadata": {
  "kernelspec": {
   "display_name": "Python 3 (ipykernel)",
   "language": "python",
   "name": "python3"
  },
  "language_info": {
   "codemirror_mode": {
    "name": "ipython",
    "version": 3
   },
   "file_extension": ".py",
   "mimetype": "text/x-python",
   "name": "python",
   "nbconvert_exporter": "python",
   "pygments_lexer": "ipython3",
   "version": "3.11.7"
  }
 },
 "nbformat": 4,
 "nbformat_minor": 5
}
