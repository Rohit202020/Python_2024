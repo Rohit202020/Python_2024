{
 "cells": [
  {
   "cell_type": "markdown",
   "id": "5672cb62-fc0c-4624-8850-4c4cc2396a0f",
   "metadata": {},
   "source": [
    "**Dictionary**\n",
    "\n",
    "- We already saw many in built data types\n",
    "\n",
    "    - string\n",
    "\n",
    "    - list\n",
    "\n",
    "    - tuple\n",
    "\n",
    "    - set\n",
    "\n",
    "    - dictionary"
   ]
  },
  {
   "cell_type": "markdown",
   "id": "5db786f1-80e9-4c03-8b70-11bc46c9654c",
   "metadata": {},
   "source": [
    "**Zip**"
   ]
  },
  {
   "cell_type": "code",
   "execution_count": 5,
   "id": "783945b5-9a5d-4480-8af2-24a1ab823fe5",
   "metadata": {},
   "outputs": [
    {
     "name": "stdout",
     "output_type": "stream",
     "text": [
      "Ramesh age is 20\n",
      "Suresh age is 25\n",
      "Rahul age is 30\n"
     ]
    }
   ],
   "source": [
    "names = [\"Ramesh\",\"Suresh\",\"Rahul\"]\n",
    "age = [20,25,30]\n",
    "for i,j in zip(names,age):\n",
    "    print(f\"{i} age is {j}\")"
   ]
  },
  {
   "cell_type": "code",
   "execution_count": 7,
   "id": "d0f77c5d-4010-42ae-8f1d-82b51d86267e",
   "metadata": {},
   "outputs": [
    {
     "data": {
      "text/plain": [
       "dict"
      ]
     },
     "execution_count": 7,
     "metadata": {},
     "output_type": "execute_result"
    }
   ],
   "source": [
    "dict1 = {\"Ramesh\":20,\"Suresh\":25,\"Rahul\":30}\n",
    "type(dict1)"
   ]
  },
  {
   "cell_type": "markdown",
   "id": "9f22acd4-c17d-475a-9135-66368f1a9d29",
   "metadata": {},
   "source": [
    "**Initialisation**"
   ]
  },
  {
   "cell_type": "code",
   "execution_count": 18,
   "id": "aa95dc99-5f5f-40c5-9727-92b0852867f7",
   "metadata": {},
   "outputs": [
    {
     "data": {
      "text/plain": [
       "{'[Rohit]': 21, 'Rahul': 20, 'Rohit': 'Manjiri'}"
      ]
     },
     "execution_count": 18,
     "metadata": {},
     "output_type": "execute_result"
    }
   ],
   "source": [
    "d = {\"[Rohit]\":21,\"Rahul\":20,\"Rohit\":\"Manjiri\"}\n",
    "d"
   ]
  },
  {
   "cell_type": "code",
   "execution_count": 20,
   "id": "30e22ede-d2eb-46af-b6ec-6a066dace830",
   "metadata": {},
   "outputs": [
    {
     "data": {
      "text/plain": [
       "{20: 21, 0.4: 0.1}"
      ]
     },
     "execution_count": 20,
     "metadata": {},
     "output_type": "execute_result"
    }
   ],
   "source": [
    "d1 = {20:21,0.4:0.1}\n",
    "d1"
   ]
  },
  {
   "cell_type": "code",
   "execution_count": 26,
   "id": "311e7bcb-11bc-4daf-827a-3084989ecb55",
   "metadata": {},
   "outputs": [
    {
     "data": {
      "text/plain": [
       "{'(Virat)': '(Kohli)', '[Rohit]': '[Sharma]'}"
      ]
     },
     "execution_count": 26,
     "metadata": {},
     "output_type": "execute_result"
    }
   ],
   "source": [
    "d2 = {\"(Virat)\":\"(Kohli)\",\"[Rohit]\":\"[Sharma]\"}\n",
    "d2"
   ]
  },
  {
   "cell_type": "code",
   "execution_count": 28,
   "id": "82d90cce-9ea5-47b2-8cba-24cc7e36c040",
   "metadata": {},
   "outputs": [
    {
     "data": {
      "text/plain": [
       "{'Manish': 20, 'Shubham': 21, 'Govindh': 25}"
      ]
     },
     "execution_count": 28,
     "metadata": {},
     "output_type": "execute_result"
    }
   ],
   "source": [
    "d1 = {\"Manish\":20,\"Shubham\":21,\"Govindh\":25}\n",
    "d1"
   ]
  },
  {
   "cell_type": "code",
   "execution_count": 36,
   "id": "6f38c1f6-0ac2-4bd5-9762-69a2a41c4f0d",
   "metadata": {},
   "outputs": [
    {
     "data": {
      "text/plain": [
       "{'Manish': '25', 'Shubham': '30', 'Govind': '35'}"
      ]
     },
     "execution_count": 36,
     "metadata": {},
     "output_type": "execute_result"
    }
   ],
   "source": [
    "d2 = {\"Manish\":\"25\",\"Shubham\":\"30\",\"Govind\":\"35\"}\n",
    "d2"
   ]
  },
  {
   "cell_type": "code",
   "execution_count": 38,
   "id": "5e5fac2a-3a2b-472a-b527-0708d6a13c8a",
   "metadata": {},
   "outputs": [
    {
     "data": {
      "text/plain": [
       "{25: 'Manish', 20: 'Shubham', 15: 'Govind'}"
      ]
     },
     "execution_count": 38,
     "metadata": {},
     "output_type": "execute_result"
    }
   ],
   "source": [
    "d3 = {25:\"Manish\",20:\"Shubham\",15:\"Govind\"}\n",
    "d3"
   ]
  },
  {
   "cell_type": "code",
   "execution_count": 40,
   "id": "fe028929-cd99-4d3b-9f4e-de747be14935",
   "metadata": {},
   "outputs": [
    {
     "data": {
      "text/plain": [
       "{25: 50}"
      ]
     },
     "execution_count": 40,
     "metadata": {},
     "output_type": "execute_result"
    }
   ],
   "source": [
    "d4 = {25:50}\n",
    "d4"
   ]
  },
  {
   "cell_type": "code",
   "execution_count": 42,
   "id": "2d2e1d09-7d9c-4c14-be77-ca9d1e56096c",
   "metadata": {},
   "outputs": [
    {
     "data": {
      "text/plain": [
       "{'Fruits': ['Mango', 'Banana']}"
      ]
     },
     "execution_count": 42,
     "metadata": {},
     "output_type": "execute_result"
    }
   ],
   "source": [
    "d5 = {\"Fruits\":[\"Mango\",\"Banana\"]}\n",
    "d5"
   ]
  },
  {
   "cell_type": "code",
   "execution_count": 44,
   "id": "702180f5-ee0b-4422-abc5-175c372dbaf8",
   "metadata": {},
   "outputs": [
    {
     "ename": "TypeError",
     "evalue": "unhashable type: 'list'",
     "output_type": "error",
     "traceback": [
      "\u001b[1;31m---------------------------------------------------------------------------\u001b[0m",
      "\u001b[1;31mTypeError\u001b[0m                                 Traceback (most recent call last)",
      "Cell \u001b[1;32mIn[44], line 1\u001b[0m\n\u001b[1;32m----> 1\u001b[0m d6 \u001b[38;5;241m=\u001b[39m {[\u001b[38;5;124m\"\u001b[39m\u001b[38;5;124mApple\u001b[39m\u001b[38;5;124m\"\u001b[39m,\u001b[38;5;124m\"\u001b[39m\u001b[38;5;124mCherry\u001b[39m\u001b[38;5;124m\"\u001b[39m]:[\u001b[38;5;124m\"\u001b[39m\u001b[38;5;124mFruits\u001b[39m\u001b[38;5;124m\"\u001b[39m]}\n\u001b[0;32m      2\u001b[0m d6\n",
      "\u001b[1;31mTypeError\u001b[0m: unhashable type: 'list'"
     ]
    }
   ],
   "source": [
    "d6 = {[\"Apple\",\"Cherry\"]:\"Fruits\"}\n",
    "d6"
   ]
  },
  {
   "cell_type": "code",
   "execution_count": 46,
   "id": "701550b9-d3be-4295-bea1-db083d88cf6e",
   "metadata": {},
   "outputs": [
    {
     "data": {
      "text/plain": [
       "{('Apple', 'Cherry'): 'Fruits'}"
      ]
     },
     "execution_count": 46,
     "metadata": {},
     "output_type": "execute_result"
    }
   ],
   "source": [
    "d7 = {(\"Apple\",\"Cherry\"):\"Fruits\"}\n",
    "d7"
   ]
  },
  {
   "cell_type": "code",
   "execution_count": 49,
   "id": "424304ab-dcc8-4bf2-81d8-583f8138f092",
   "metadata": {},
   "outputs": [
    {
     "data": {
      "text/plain": [
       "{'Ajay': 30}"
      ]
     },
     "execution_count": 49,
     "metadata": {},
     "output_type": "execute_result"
    }
   ],
   "source": [
    "d8 = {\"Ajay\":25,\"Ajay\":30}\n",
    "d8"
   ]
  },
  {
   "cell_type": "code",
   "execution_count": null,
   "id": "cda9b0ab-0940-4197-a1c9-8d8cedeb19c6",
   "metadata": {},
   "outputs": [],
   "source": []
  },
  {
   "cell_type": "code",
   "execution_count": null,
   "id": "83bd2522-fea3-4c9d-9d97-1031bd47e620",
   "metadata": {},
   "outputs": [],
   "source": []
  },
  {
   "cell_type": "markdown",
   "id": "e89871b0-f654-48ca-ac8b-96c994cb66fa",
   "metadata": {},
   "source": [
    "**Keys are important**\n",
    "\n",
    "- Keys have only latest values\n",
    "\n",
    "- Their are no duplicate keys\n",
    "\n",
    "- Their should be only one key\n",
    "\n",
    "- Values can be duplicate\n",
    "\n",
    "- That means different keys can have same values\n",
    "\n",
    "- Lists cannot be a key, because list are mutable\n",
    "\n",
    "- Tuples can be a key as they are immutable"
   ]
  },
  {
   "cell_type": "code",
   "execution_count": 51,
   "id": "d25c2506-d4b9-4efd-a350-b4b2eb3f60d6",
   "metadata": {},
   "outputs": [
    {
     "data": {
      "text/plain": [
       "'Shubham'"
      ]
     },
     "execution_count": 51,
     "metadata": {},
     "output_type": "execute_result"
    }
   ],
   "source": [
    "d1 = {\"Manish\":20,\"Shubham\":21,\"Govindh\":25}\n",
    "d2 = {\"Manish\":\"25\",\"Shubham\":\"30\",\"Govind\":\"35\"}\n",
    "d3 = {25:\"Manish\",20:\"Shubham\",15:\"Govind\"}\n",
    "d4 = {\"Manish\":25,\"Shubham\":\"20\",\"Govind\":\"20\"}\n",
    "d5 = {25:\"Manish\",\"20\":\"Shubham\",15:\"Govind\"}\n",
    "d6 = {25:\"Manish\",20:\"Shubham\",15:\"Govind\"}\n",
    "d7 = {20:\"Manish\",20:\"Shubham\",20:\"Govind\"}\n",
    "max(d1)"
   ]
  },
  {
   "cell_type": "code",
   "execution_count": 53,
   "id": "7b6dce1e-92d8-40ad-af94-1ffad0da49ac",
   "metadata": {},
   "outputs": [
    {
     "data": {
      "text/plain": [
       "'Shubham'"
      ]
     },
     "execution_count": 53,
     "metadata": {},
     "output_type": "execute_result"
    }
   ],
   "source": [
    "d2 = {\"Manish\":\"25\",\"Shubham\":\"30\",\"Govind\":\"35\"}\n",
    "max(d2)"
   ]
  },
  {
   "cell_type": "code",
   "execution_count": 55,
   "id": "fab1ff84-15ba-481c-9b21-a2b64cab74b6",
   "metadata": {},
   "outputs": [
    {
     "data": {
      "text/plain": [
       "25"
      ]
     },
     "execution_count": 55,
     "metadata": {},
     "output_type": "execute_result"
    }
   ],
   "source": [
    "d3 = {25:\"Manish\",20:\"Shubham\",15:\"Govind\"}\n",
    "max(d3)"
   ]
  },
  {
   "cell_type": "code",
   "execution_count": 57,
   "id": "ef1d0c7f-0e7e-47e1-b93d-527749c086ee",
   "metadata": {},
   "outputs": [
    {
     "ename": "TypeError",
     "evalue": "'>' not supported between instances of 'str' and 'int'",
     "output_type": "error",
     "traceback": [
      "\u001b[1;31m---------------------------------------------------------------------------\u001b[0m",
      "\u001b[1;31mTypeError\u001b[0m                                 Traceback (most recent call last)",
      "Cell \u001b[1;32mIn[57], line 2\u001b[0m\n\u001b[0;32m      1\u001b[0m d5 \u001b[38;5;241m=\u001b[39m {\u001b[38;5;241m25\u001b[39m:\u001b[38;5;124m\"\u001b[39m\u001b[38;5;124mManish\u001b[39m\u001b[38;5;124m\"\u001b[39m,\u001b[38;5;124m\"\u001b[39m\u001b[38;5;124m20\u001b[39m\u001b[38;5;124m\"\u001b[39m:\u001b[38;5;124m\"\u001b[39m\u001b[38;5;124mShubham\u001b[39m\u001b[38;5;124m\"\u001b[39m,\u001b[38;5;241m15\u001b[39m:\u001b[38;5;124m\"\u001b[39m\u001b[38;5;124mGovind\u001b[39m\u001b[38;5;124m\"\u001b[39m}\n\u001b[1;32m----> 2\u001b[0m \u001b[38;5;28mmax\u001b[39m(d5)\n",
      "\u001b[1;31mTypeError\u001b[0m: '>' not supported between instances of 'str' and 'int'"
     ]
    }
   ],
   "source": [
    "d5 = {25:\"Manish\",\"20\":\"Shubham\",15:\"Govind\"}\n",
    "max(d5)"
   ]
  },
  {
   "cell_type": "code",
   "execution_count": 59,
   "id": "edaeeff3-5f34-4031-a8f7-c0ebe701b01e",
   "metadata": {},
   "outputs": [
    {
     "data": {
      "text/plain": [
       "20"
      ]
     },
     "execution_count": 59,
     "metadata": {},
     "output_type": "execute_result"
    }
   ],
   "source": [
    "d7 = {20:\"Manish\",20:\"Shubham\",20:\"Govind\"}\n",
    "max(d7)"
   ]
  },
  {
   "cell_type": "code",
   "execution_count": 61,
   "id": "9187ba55-3e63-4100-985f-bebd30a7de8e",
   "metadata": {},
   "outputs": [
    {
     "data": {
      "text/plain": [
       "'Govindh'"
      ]
     },
     "execution_count": 61,
     "metadata": {},
     "output_type": "execute_result"
    }
   ],
   "source": [
    "d1 = {\"Manish\":20,\"Shubham\":21,\"Govindh\":25}\n",
    "min(d1)"
   ]
  },
  {
   "cell_type": "code",
   "execution_count": 63,
   "id": "dcfaedf7-44da-4d9a-9560-090e3ee78d72",
   "metadata": {},
   "outputs": [
    {
     "data": {
      "text/plain": [
       "3"
      ]
     },
     "execution_count": 63,
     "metadata": {},
     "output_type": "execute_result"
    }
   ],
   "source": [
    "d1 = {\"Manish\":20,\"Shubham\":21,\"Govindh\":25}\n",
    "len(d1)"
   ]
  },
  {
   "cell_type": "code",
   "execution_count": 67,
   "id": "8bc3328e-c8a7-44a2-b69e-9202ed362b41",
   "metadata": {},
   "outputs": [
    {
     "name": "stdout",
     "output_type": "stream",
     "text": [
      "Govindh\n",
      "Shubham\n",
      "Manish\n"
     ]
    }
   ],
   "source": [
    "d1 = {\"Manish\":20,\"Shubham\":21,\"Govindh\":25}\n",
    "output = reversed(d1)\n",
    "for i in output:\n",
    "    print(i)"
   ]
  },
  {
   "cell_type": "code",
   "execution_count": 69,
   "id": "1bcd83ea-0d09-46d7-abe1-4ef2de4896bf",
   "metadata": {},
   "outputs": [
    {
     "data": {
      "text/plain": [
       "['Govindh', 'Manish', 'Shubham']"
      ]
     },
     "execution_count": 69,
     "metadata": {},
     "output_type": "execute_result"
    }
   ],
   "source": [
    "d1 = {\"Manish\":20,\"Shubham\":21,\"Govindh\":25}\n",
    "sorted(d1)"
   ]
  },
  {
   "cell_type": "code",
   "execution_count": 82,
   "id": "19166201-3f6c-4992-8d41-8af3bb11a6fc",
   "metadata": {},
   "outputs": [
    {
     "data": {
      "text/plain": [
       "['Shubham', 'Manish', 'Govindh']"
      ]
     },
     "execution_count": 82,
     "metadata": {},
     "output_type": "execute_result"
    }
   ],
   "source": [
    "d1 = {\"Manish\":20,\"Shubham\":21,\"Govindh\":25}\n",
    "sorted(d1,reverse=True)"
   ]
  },
  {
   "cell_type": "code",
   "execution_count": 77,
   "id": "11c872cb-4643-4c33-824d-bd945b9f2aec",
   "metadata": {},
   "outputs": [
    {
     "name": "stdout",
     "output_type": "stream",
     "text": [
      "False\n",
      "True\n"
     ]
    }
   ],
   "source": [
    "d1 = {\"Manish\":20,\"Shubham\":21,\"Govindh\":25}\n",
    "print(\"Rohit\" in d1)\n",
    "print(\"Manish\" in d1)"
   ]
  },
  {
   "cell_type": "code",
   "execution_count": 79,
   "id": "2d064da0-2ee1-4210-9af2-fa9c26d95be6",
   "metadata": {},
   "outputs": [
    {
     "data": {
      "text/plain": [
       "['Govindh', 'Shubham', 'Manish']"
      ]
     },
     "execution_count": 79,
     "metadata": {},
     "output_type": "execute_result"
    }
   ],
   "source": [
    "d1 = {\"Manish\":20,\"Shubham\":21,\"Govindh\":25}\n",
    "list(reversed(d1))"
   ]
  },
  {
   "cell_type": "markdown",
   "id": "1040cdc0-bc77-4149-928f-ec31207d6bd3",
   "metadata": {},
   "source": [
    "**Reversed**\n",
    "\n",
    "- You might think that the dictionary will be reversed\n",
    "\n",
    "- But after reversing we will know that only all the keys will get reversed"
   ]
  },
  {
   "cell_type": "code",
   "execution_count": 84,
   "id": "7738d91b-f599-48ac-ad67-bad1ee0a6dc7",
   "metadata": {},
   "outputs": [
    {
     "name": "stdout",
     "output_type": "stream",
     "text": [
      "Manish\n",
      "Shubham\n",
      "Govindh\n"
     ]
    }
   ],
   "source": [
    "d1 = {\"Manish\":20,\"Shubham\":21,\"Govindh\":25}\n",
    "for i in d1:\n",
    "    print(i)"
   ]
  },
  {
   "cell_type": "markdown",
   "id": "f3306170-4308-41fb-b74f-70ffcc7d19e7",
   "metadata": {},
   "source": [
    "**Index**"
   ]
  },
  {
   "cell_type": "code",
   "execution_count": 93,
   "id": "7da01c14-9087-4755-8c76-2047376749e6",
   "metadata": {},
   "outputs": [
    {
     "data": {
      "text/plain": [
       "(20, 21, 25)"
      ]
     },
     "execution_count": 93,
     "metadata": {},
     "output_type": "execute_result"
    }
   ],
   "source": [
    "d1 = {\"Manish\":20,\"Shubham\":21,\"Govindh\":25}\n",
    "# If u want to retrieve the values u need to call the keys first\n",
    "d1[\"Manish\"],d1[\"Shubham\"],d1[\"Govindh\"]"
   ]
  },
  {
   "cell_type": "code",
   "execution_count": 3,
   "id": "7c2062b4-ad84-44fb-b37a-801d9356aded",
   "metadata": {},
   "outputs": [
    {
     "name": "stdout",
     "output_type": "stream",
     "text": [
      "Manish has age 20\n",
      "Shubham has age 21\n",
      "Govindh has age 25\n"
     ]
    }
   ],
   "source": [
    "d1 = {\"Manish\":20,\"Shubham\":21,\"Govindh\":25}\n",
    "for i in d1:\n",
    "    print(f\"{i} has age {d1[i]}\")"
   ]
  },
  {
   "cell_type": "code",
   "execution_count": 5,
   "id": "8f0f21a0-4c39-4126-9df0-fe82abdc6dcb",
   "metadata": {},
   "outputs": [
    {
     "name": "stdout",
     "output_type": "stream",
     "text": [
      "Rohit is 37 years old\n",
      "Virat is 35 years old\n",
      "Hardik is 28 years old\n"
     ]
    }
   ],
   "source": [
    "Names = [\"Rohit\",\"Virat\",\"Hardik\"]\n",
    "Age = [37,35,28]\n",
    "for i,j in zip(Names,Age):\n",
    "    print(f\"{i} is {j} years old\")"
   ]
  },
  {
   "cell_type": "markdown",
   "id": "9651c67c-d9a8-41ac-a341-a9670dbc7176",
   "metadata": {},
   "source": [
    "**Dictionary to list**"
   ]
  },
  {
   "cell_type": "code",
   "execution_count": 7,
   "id": "0f86e7a2-dea9-4914-a7a7-65cd731e5c43",
   "metadata": {},
   "outputs": [
    {
     "name": "stdout",
     "output_type": "stream",
     "text": [
      "['Manish', 'Shubham', 'Govindh']\n",
      "[20, 21, 25]\n"
     ]
    }
   ],
   "source": [
    "d1 = {\"Manish\":20,\"Shubham\":21,\"Govindh\":25}\n",
    "keys,values = [],[]\n",
    "for i in d1:\n",
    "    keys.append(i)\n",
    "    values.append(d1[i])\n",
    "print(keys)\n",
    "print(values)"
   ]
  },
  {
   "cell_type": "code",
   "execution_count": 10,
   "id": "e43265f2-c833-4974-90bf-f9c6b839c810",
   "metadata": {},
   "outputs": [],
   "source": [
    "keys = [i for i in d1]\n",
    "values = [d1[i] for i in d1]"
   ]
  },
  {
   "cell_type": "markdown",
   "id": "64ff6e74-3a9a-4958-8879-19108dea5272",
   "metadata": {},
   "source": [
    "**Empty list**"
   ]
  },
  {
   "cell_type": "code",
   "execution_count": 13,
   "id": "d86cdb97-f8a8-4155-bc7d-7ed8c0c2b809",
   "metadata": {},
   "outputs": [
    {
     "data": {
      "text/plain": [
       "[20]"
      ]
     },
     "execution_count": 13,
     "metadata": {},
     "output_type": "execute_result"
    }
   ],
   "source": [
    "l = []\n",
    "l.append(20)\n",
    "l"
   ]
  },
  {
   "cell_type": "markdown",
   "id": "821beb2d-db2a-4c79-9616-5febd350040d",
   "metadata": {},
   "source": [
    "**Empty string**"
   ]
  },
  {
   "cell_type": "code",
   "execution_count": 18,
   "id": "072835d0-fd69-4340-b71c-e027ecb79b58",
   "metadata": {},
   "outputs": [
    {
     "data": {
      "text/plain": [
       "'a'"
      ]
     },
     "execution_count": 18,
     "metadata": {},
     "output_type": "execute_result"
    }
   ],
   "source": [
    "s = ''\n",
    "s1 = s+\"a\"\n",
    "s1"
   ]
  },
  {
   "cell_type": "markdown",
   "id": "f4303f5d-fa36-43e3-9189-0c146d6c2511",
   "metadata": {},
   "source": [
    "**Empty Dictionary**"
   ]
  },
  {
   "cell_type": "code",
   "execution_count": 21,
   "id": "d0ca0b75-1d73-462e-af81-648c3f29e1cc",
   "metadata": {},
   "outputs": [
    {
     "data": {
      "text/plain": [
       "{'Rohit': 21}"
      ]
     },
     "execution_count": 21,
     "metadata": {},
     "output_type": "execute_result"
    }
   ],
   "source": [
    "d = {}\n",
    "d[\"Rohit\"] = 21\n",
    "d"
   ]
  },
  {
   "cell_type": "code",
   "execution_count": 23,
   "id": "c64d0c69-e4cb-414f-88ca-5abfd5201309",
   "metadata": {},
   "outputs": [
    {
     "data": {
      "text/plain": [
       "{'Rohit': 21, 'Manjiri': 21}"
      ]
     },
     "execution_count": 23,
     "metadata": {},
     "output_type": "execute_result"
    }
   ],
   "source": [
    "d[\"Manjiri\"] = 21\n",
    "d"
   ]
  },
  {
   "cell_type": "code",
   "execution_count": 27,
   "id": "09b5b5d4-a97b-4764-983c-02a43cbe61c3",
   "metadata": {},
   "outputs": [
    {
     "data": {
      "text/plain": [
       "{'Rohit': 21, 'Manjiri': 22, 'Virat': 36}"
      ]
     },
     "execution_count": 27,
     "metadata": {},
     "output_type": "execute_result"
    }
   ],
   "source": [
    "names = [\"Rohit\",\"Manjiri\",\"Virat\"]\n",
    "age = [21,22,36]\n",
    "d = {}\n",
    "for i,j in zip(names,age):\n",
    "    d[i] = j\n",
    "d"
   ]
  },
  {
   "cell_type": "markdown",
   "id": "d9e39f72-39e9-4b05-a4a2-0b2f115706dc",
   "metadata": {},
   "source": [
    "**String to list**"
   ]
  },
  {
   "cell_type": "code",
   "execution_count": 40,
   "id": "1d70df81-626b-4dec-a362-287b8e9335d8",
   "metadata": {},
   "outputs": [
    {
     "data": {
      "text/plain": [
       "['Hello', 'hi', 'hi', 'how', 'how', 'are', 'you']"
      ]
     },
     "execution_count": 40,
     "metadata": {},
     "output_type": "execute_result"
    }
   ],
   "source": [
    "s = \"Hello hi hi how how are you\"\n",
    "l = s.split()\n",
    "l"
   ]
  },
  {
   "cell_type": "markdown",
   "id": "a8fe3054-c28e-4c10-a2c4-fadfec23d517",
   "metadata": {},
   "source": [
    "**Word Frequency**"
   ]
  },
  {
   "cell_type": "code",
   "execution_count": 51,
   "id": "10e56ce4-6305-42e3-a3c5-1db1e1616544",
   "metadata": {},
   "outputs": [
    {
     "data": {
      "text/plain": [
       "{'Hello': 1, 'hi': 2, 'how': 2, 'are': 1, 'you': 1}"
      ]
     },
     "execution_count": 51,
     "metadata": {},
     "output_type": "execute_result"
    }
   ],
   "source": [
    "s = \"Hello hi hi how how are you\"\n",
    "l = s.split()\n",
    "d = {}\n",
    "for i in l:\n",
    "    d[i] = s.count(i)\n",
    "d"
   ]
  },
  {
   "cell_type": "code",
   "execution_count": null,
   "id": "8272d076-dde8-4d12-a021-9e2b8c03c40d",
   "metadata": {},
   "outputs": [],
   "source": []
  },
  {
   "cell_type": "code",
   "execution_count": 44,
   "id": "8c9eec09-7772-43cc-b825-160fb13be031",
   "metadata": {},
   "outputs": [
    {
     "data": {
      "text/plain": [
       "{'Data': 68,\n",
       " 'science': 115,\n",
       " 'interdisciplinary': 105,\n",
       " 'academic': 97,\n",
       " 'field': 102,\n",
       " 'that': 116,\n",
       " 'uses': 117,\n",
       " 'statistics,': 115,\n",
       " 'scientific': 115,\n",
       " 'computing,': 99,\n",
       " 'methods,': 109,\n",
       " 'processes,': 112,\n",
       " 'visualization,': 118,\n",
       " 'algorithms': 97,\n",
       " 'systems': 115,\n",
       " 'to': 116,\n",
       " 'extract': 101,\n",
       " 'or': 111,\n",
       " 'extrapolate': 101,\n",
       " 'knowledge': 107,\n",
       " 'insights': 105,\n",
       " 'from': 102,\n",
       " 'potentially': 112,\n",
       " 'noisy,': 110,\n",
       " 'structured,': 115,\n",
       " 'unstructured': 117,\n",
       " 'data.': 100,\n",
       " 'also': 97,\n",
       " 'integrates': 105,\n",
       " 'domain': 100,\n",
       " 'underlying': 117,\n",
       " 'applicatin.Data': 97,\n",
       " 'multifaceted': 109,\n",
       " 'can': 99,\n",
       " 'be': 98,\n",
       " 'described': 100,\n",
       " 'as': 97,\n",
       " 'a': 97,\n",
       " 'science,': 115,\n",
       " 'research': 114,\n",
       " 'paradigm,': 112,\n",
       " 'method,': 109,\n",
       " 'discipline,': 100,\n",
       " 'workflow,': 119,\n",
       " 'profession.': 112}"
      ]
     },
     "execution_count": 44,
     "metadata": {},
     "output_type": "execute_result"
    }
   ],
   "source": [
    "str1=\"\"\"Data science is an interdisciplinary academic field that uses statistics,\n",
    "          scientific computing, scientific methods, processes, scientific visualization,\n",
    "          algorithms and systems to extract or extrapolate knowledge and insights from potentially noisy, structured, or unstructured data.\n",
    "         Data science also integrates domain knowledge from the underlying applicatin.Data science is multifaceted and can be described as a science,\n",
    "         a research paradigm, a research method, a discipline, a workflow, and a profession.\"\"\"\n",
    "\n",
    "# task -1: in the above sentence you need to remove a,an,is,the\n",
    "# task-2: Data first letter Ascii value: 68\n",
    "#         science first letter Ascii value : 115\n",
    "# {'Data science':68,'science':115}\n",
    "l = str1.split()\n",
    "d = {}\n",
    "for i in l:\n",
    "    if i not in(\"is\",\"and\",\"the\",\"an\"):\n",
    "        d[i] = ord(i[0])\n",
    "d"
   ]
  },
  {
   "cell_type": "code",
   "execution_count": null,
   "id": "21732736-935a-4a92-b864-d4bc9ed446f3",
   "metadata": {},
   "outputs": [],
   "source": []
  },
  {
   "cell_type": "markdown",
   "id": "e4231635-9bf9-4faf-9e81-b7b1490f4466",
   "metadata": {},
   "source": [
    "**Mutable-Imutable**\n",
    "\n",
    "- Mutable means changing the value based on their index\n",
    "\n",
    "- But in dictionary their are no index\n",
    "\n",
    "- In dictionary we will change the value based on keys\n",
    "\n",
    "- Instead of using index, change the values using keys"
   ]
  },
  {
   "cell_type": "code",
   "execution_count": 57,
   "id": "feb6cd74-180c-4e93-8a1c-f2b828435764",
   "metadata": {},
   "outputs": [
    {
     "data": {
      "text/plain": [
       "{'Manish': 22, 'Shubham': 21, 'Govindh': 25}"
      ]
     },
     "execution_count": 57,
     "metadata": {},
     "output_type": "execute_result"
    }
   ],
   "source": [
    "d1 = {\"Manish\":20,\"Shubham\":21,\"Govindh\":25}\n",
    "d1[\"Manish\"] = 22\n",
    "d1"
   ]
  },
  {
   "cell_type": "code",
   "execution_count": 59,
   "id": "03083f9d-909d-40a8-9723-9da42a8802ad",
   "metadata": {},
   "outputs": [
    {
     "data": {
      "text/plain": [
       "'Mango'"
      ]
     },
     "execution_count": 59,
     "metadata": {},
     "output_type": "execute_result"
    }
   ],
   "source": [
    "d = {\"Fruits\":[\"Mango\"]}\n",
    "d[\"Fruits\"][0]"
   ]
  },
  {
   "cell_type": "code",
   "execution_count": 71,
   "id": "29768463-0310-4148-a7ae-5186ab36f5b5",
   "metadata": {},
   "outputs": [
    {
     "data": {
      "text/plain": [
       "'Kashmir'"
      ]
     },
     "execution_count": 71,
     "metadata": {},
     "output_type": "execute_result"
    }
   ],
   "source": [
    "d = {\"Fruits\":[{\"Apple\":[\"Kashmir\"]}]}\n",
    "d[\"Fruits\"][0][\"Apple\"][0]"
   ]
  },
  {
   "cell_type": "code",
   "execution_count": 85,
   "id": "e57def54-28d7-46f8-850d-782bdbb62012",
   "metadata": {},
   "outputs": [
    {
     "data": {
      "text/plain": [
       "'India'"
      ]
     },
     "execution_count": 85,
     "metadata": {},
     "output_type": "execute_result"
    }
   ],
   "source": [
    "d={'Fruits':[{'Apple':{'Kashmir':['India']}}]}\n",
    "d[\"Fruits\"][0][\"Apple\"][\"Kashmir\"][0]"
   ]
  },
  {
   "cell_type": "code",
   "execution_count": 107,
   "id": "3e15b855-5628-497c-a355-492fe8e5670d",
   "metadata": {},
   "outputs": [
    {
     "data": {
      "text/plain": [
       "{'Shambaji'}"
      ]
     },
     "execution_count": 107,
     "metadata": {},
     "output_type": "execute_result"
    }
   ],
   "source": [
    "d={'Fruits':{'Benganapalli':{'Mango':{'Nagpur':{'MH':{'Shivaji':{'Shambaji'}}}}}}}\n",
    "d[\"Fruits\"][\"Benganapalli\"][\"Mango\"][\"Nagpur\"][\"MH\"][\"Shivaji\"]"
   ]
  },
  {
   "cell_type": "code",
   "execution_count": null,
   "id": "1c9ced87-035d-416a-8e1b-2b6cd2dabfd8",
   "metadata": {},
   "outputs": [],
   "source": []
  },
  {
   "cell_type": "code",
   "execution_count": 5,
   "id": "15781e1f-b6d3-4e8f-9451-5a48fc4960f5",
   "metadata": {},
   "outputs": [
    {
     "data": {
      "text/plain": [
       "{'Hello': 1, 'hi': 2, 'how': 2, 'are': 1, 'you': 1}"
      ]
     },
     "execution_count": 5,
     "metadata": {},
     "output_type": "execute_result"
    }
   ],
   "source": [
    "s = \"Hello hi hi how how are you\"\n",
    "l = s.split()\n",
    "d = {}\n",
    "for i in l:\n",
    "    d[i] = l.count(i)\n",
    "d"
   ]
  },
  {
   "cell_type": "code",
   "execution_count": 13,
   "id": "e611e73d-7980-4a7f-a81f-8960612a99cd",
   "metadata": {},
   "outputs": [
    {
     "data": {
      "text/plain": [
       "{'Hello': 1, 'hi': 2, 'how': 2, 'are': 1, 'you': 1}"
      ]
     },
     "execution_count": 13,
     "metadata": {},
     "output_type": "execute_result"
    }
   ],
   "source": [
    "s = \"Hello hi hi how how are you\"\n",
    "l = s.split()\n",
    "d = {}\n",
    "for i in l:\n",
    "    d[i] = l.count(i)\n",
    "d"
   ]
  },
  {
   "cell_type": "code",
   "execution_count": null,
   "id": "1eb1549f-0922-4a49-bdd4-f4e0f63214c7",
   "metadata": {},
   "outputs": [],
   "source": []
  },
  {
   "cell_type": "code",
   "execution_count": 54,
   "id": "a553d2ca-5d69-4850-aff7-86cc83f0399f",
   "metadata": {},
   "outputs": [
    {
     "data": {
      "text/plain": [
       "'Mango'"
      ]
     },
     "execution_count": 54,
     "metadata": {},
     "output_type": "execute_result"
    }
   ],
   "source": [
    "d1 = {\"Fruits\":[\"Mango\"]}\n",
    "d1[\"Fruits\"][0]"
   ]
  },
  {
   "cell_type": "code",
   "execution_count": 62,
   "id": "1ce17f67-b7a0-4537-8c5d-41ee1a7b0512",
   "metadata": {},
   "outputs": [
    {
     "data": {
      "text/plain": [
       "'Kashmir'"
      ]
     },
     "execution_count": 62,
     "metadata": {},
     "output_type": "execute_result"
    }
   ],
   "source": [
    "d = {\"Fruits\":[{\"Apple\":[\"Kashmir\"]}]}\n",
    "d[\"Fruits\"][0][\"Apple\"][0]"
   ]
  },
  {
   "cell_type": "code",
   "execution_count": 64,
   "id": "f2259c98-e6f2-413e-8a3b-4a9723a55c28",
   "metadata": {},
   "outputs": [
    {
     "data": {
      "text/plain": [
       "{'Shambaji'}"
      ]
     },
     "execution_count": 64,
     "metadata": {},
     "output_type": "execute_result"
    }
   ],
   "source": [
    "d={'Fruits':{'Benganapalli':{'Mango':{'Nagpur':{'MH':{'Shivaji':{'Shambaji'}}}}}}}\n",
    "d[\"Fruits\"][\"Benganapalli\"][\"Mango\"][\"Nagpur\"][\"MH\"][\"Shivaji\"]"
   ]
  },
  {
   "cell_type": "code",
   "execution_count": null,
   "id": "84cbb9bf-0d05-4a59-9fb1-3239bba0e1dc",
   "metadata": {},
   "outputs": [],
   "source": []
  },
  {
   "cell_type": "markdown",
   "id": "6e91c5ab-4b36-442d-a143-2db8ad7de04c",
   "metadata": {},
   "source": [
    "**Dictionary Methods**"
   ]
  },
  {
   "cell_type": "code",
   "execution_count": 2,
   "id": "3e41a333-b8b5-4fda-8f5c-97a4f340ba95",
   "metadata": {},
   "outputs": [
    {
     "data": {
      "text/plain": [
       "['__class__',\n",
       " '__class_getitem__',\n",
       " '__contains__',\n",
       " '__delattr__',\n",
       " '__delitem__',\n",
       " '__dir__',\n",
       " '__doc__',\n",
       " '__eq__',\n",
       " '__format__',\n",
       " '__ge__',\n",
       " '__getattribute__',\n",
       " '__getitem__',\n",
       " '__getstate__',\n",
       " '__gt__',\n",
       " '__hash__',\n",
       " '__init__',\n",
       " '__init_subclass__',\n",
       " '__ior__',\n",
       " '__iter__',\n",
       " '__le__',\n",
       " '__len__',\n",
       " '__lt__',\n",
       " '__ne__',\n",
       " '__new__',\n",
       " '__or__',\n",
       " '__reduce__',\n",
       " '__reduce_ex__',\n",
       " '__repr__',\n",
       " '__reversed__',\n",
       " '__ror__',\n",
       " '__setattr__',\n",
       " '__setitem__',\n",
       " '__sizeof__',\n",
       " '__str__',\n",
       " '__subclasshook__',\n",
       " 'clear',\n",
       " 'copy',\n",
       " 'fromkeys',\n",
       " 'get',\n",
       " 'items',\n",
       " 'keys',\n",
       " 'pop',\n",
       " 'popitem',\n",
       " 'setdefault',\n",
       " 'update',\n",
       " 'values']"
      ]
     },
     "execution_count": 2,
     "metadata": {},
     "output_type": "execute_result"
    }
   ],
   "source": [
    "dir({})"
   ]
  },
  {
   "cell_type": "code",
   "execution_count": null,
   "id": "aec70a73-191c-4c17-97b1-478b6eea02cf",
   "metadata": {},
   "outputs": [],
   "source": [
    "'clear',\n",
    " 'copy',\n",
    " 'fromkeys',\n",
    " 'get',\n",
    " 'items',\n",
    " 'keys',\n",
    " 'pop',\n",
    " 'popitem',\n",
    " 'setdefault',\n",
    " 'update',\n",
    " 'values']"
   ]
  },
  {
   "cell_type": "markdown",
   "id": "d3683229-61d7-4aaf-adb1-ed68eff62f2a",
   "metadata": {},
   "source": [
    "**items-keys-values**"
   ]
  },
  {
   "cell_type": "code",
   "execution_count": 5,
   "id": "4d8ec915-c830-4df4-b3ae-2e77d2fd7f97",
   "metadata": {},
   "outputs": [
    {
     "data": {
      "text/plain": [
       "dict_items([('Manish', 20), ('Shubham', 21), ('Govindh', 25)])"
      ]
     },
     "execution_count": 5,
     "metadata": {},
     "output_type": "execute_result"
    }
   ],
   "source": [
    "d1 = {\"Manish\":20,\"Shubham\":21,\"Govindh\":25}\n",
    "d1.items()"
   ]
  },
  {
   "cell_type": "code",
   "execution_count": 7,
   "id": "c8065e3a-d3f8-4670-a690-e5a7b142774f",
   "metadata": {},
   "outputs": [
    {
     "data": {
      "text/plain": [
       "dict_keys(['Manish', 'Shubham', 'Govindh'])"
      ]
     },
     "execution_count": 7,
     "metadata": {},
     "output_type": "execute_result"
    }
   ],
   "source": [
    "d1.keys()"
   ]
  },
  {
   "cell_type": "code",
   "execution_count": 9,
   "id": "9afc3d3f-1520-4629-871e-f0b9ec0991ed",
   "metadata": {},
   "outputs": [
    {
     "data": {
      "text/plain": [
       "dict_values([20, 21, 25])"
      ]
     },
     "execution_count": 9,
     "metadata": {},
     "output_type": "execute_result"
    }
   ],
   "source": [
    "d1.values()"
   ]
  },
  {
   "cell_type": "code",
   "execution_count": 16,
   "id": "01bd20b4-c866-44e1-b264-85fcc9107c3c",
   "metadata": {},
   "outputs": [
    {
     "data": {
      "text/plain": [
       "dict_keys"
      ]
     },
     "execution_count": 16,
     "metadata": {},
     "output_type": "execute_result"
    }
   ],
   "source": [
    "type(d1.keys())"
   ]
  },
  {
   "cell_type": "code",
   "execution_count": 18,
   "id": "4a179870-4bf5-4ddd-a5b9-c988d3972614",
   "metadata": {},
   "outputs": [
    {
     "data": {
      "text/plain": [
       "list"
      ]
     },
     "execution_count": 18,
     "metadata": {},
     "output_type": "execute_result"
    }
   ],
   "source": [
    "type(list(d1.keys()))"
   ]
  },
  {
   "cell_type": "code",
   "execution_count": 13,
   "id": "79072527-26d4-43a5-a118-fc15bba6c138",
   "metadata": {},
   "outputs": [
    {
     "data": {
      "text/plain": [
       "(['Manish', 'Shubham', 'Govindh'], [20, 21, 25])"
      ]
     },
     "execution_count": 13,
     "metadata": {},
     "output_type": "execute_result"
    }
   ],
   "source": [
    "list(d1.keys()), list(d1.values())"
   ]
  },
  {
   "cell_type": "markdown",
   "id": "5212e691-d6de-41d6-81db-680c42fb08fe",
   "metadata": {},
   "source": [
    "- Dictionary keys will give dictionary keys item\n",
    "\n",
    "- It looks like a list but it is not actually a list\n",
    "\n",
    "- We cannot directly apply list method on it\n",
    "\n",
    "- So we need to convert it into list first by using list typecasting"
   ]
  },
  {
   "cell_type": "code",
   "execution_count": 26,
   "id": "b8c7198a-51ad-4dc0-89cb-fe34a6e53122",
   "metadata": {},
   "outputs": [
    {
     "data": {
      "text/plain": [
       "(['Rohit', 'Virat', 'Hardik', 'Surya'], [37, 35, 28, 34])"
      ]
     },
     "execution_count": 26,
     "metadata": {},
     "output_type": "execute_result"
    }
   ],
   "source": [
    "d = {\"Rohit\":37, \"Virat\":35, \"Hardik\":28, \"Surya\":34}\n",
    "list(d.keys()),list(d.values())"
   ]
  },
  {
   "cell_type": "markdown",
   "id": "9c3a8b50-1547-46a5-8ca3-3470361eb4ae",
   "metadata": {},
   "source": [
    "**Method-1**"
   ]
  },
  {
   "cell_type": "code",
   "execution_count": 33,
   "id": "3a1fd48f-e52b-43f8-9e0c-eaee9aa8e5dd",
   "metadata": {},
   "outputs": [
    {
     "name": "stdout",
     "output_type": "stream",
     "text": [
      "['Manish', 'Shubham', 'Govindh']\n",
      "[20, 21, 25]\n"
     ]
    }
   ],
   "source": [
    "d1 = {\"Manish\":20,\"Shubham\":21,\"Govindh\":25}\n",
    "keys,values = [],[]\n",
    "for i in d1:\n",
    "    keys.append(i)\n",
    "    values.append(d1[i])\n",
    "print(keys)\n",
    "print(values)"
   ]
  },
  {
   "cell_type": "markdown",
   "id": "2bdd9d08-6315-43c6-aa9c-5288e7ca7116",
   "metadata": {},
   "source": [
    "**Method-2**"
   ]
  },
  {
   "cell_type": "code",
   "execution_count": 39,
   "id": "6bdaf124-915e-4efa-ae3c-9748fbcb404d",
   "metadata": {},
   "outputs": [
    {
     "data": {
      "text/plain": [
       "(['Rohit', 'Virat', 'Hardik', 'Surya'], [37, 35, 28, 34])"
      ]
     },
     "execution_count": 39,
     "metadata": {},
     "output_type": "execute_result"
    }
   ],
   "source": [
    "d = {\"Rohit\":37, \"Virat\":35, \"Hardik\":28, \"Surya\":34}\n",
    "keys = list(d.keys())\n",
    "values = list(d.values())\n",
    "keys,values"
   ]
  },
  {
   "cell_type": "markdown",
   "id": "d160a5cd-c765-4d15-93c7-f5db16fb36fc",
   "metadata": {},
   "source": [
    "**Method-3**"
   ]
  },
  {
   "cell_type": "code",
   "execution_count": 28,
   "id": "8b285dad-e217-48c1-9209-24175250ed70",
   "metadata": {},
   "outputs": [
    {
     "name": "stdout",
     "output_type": "stream",
     "text": [
      "('Rohit', 37)\n",
      "('Virat', 35)\n",
      "('Hardik', 28)\n",
      "('Surya', 34)\n"
     ]
    }
   ],
   "source": [
    "for i in d.items():\n",
    "    print(i)"
   ]
  },
  {
   "cell_type": "code",
   "execution_count": 30,
   "id": "81e7e198-ca0a-467b-a92a-30ef00900f5e",
   "metadata": {},
   "outputs": [
    {
     "data": {
      "text/plain": [
       "(['Rohit', 'Virat', 'Hardik', 'Surya'], [37, 35, 28, 34])"
      ]
     },
     "execution_count": 30,
     "metadata": {},
     "output_type": "execute_result"
    }
   ],
   "source": [
    "keys,values = [],[]\n",
    "for i,j in d.items():\n",
    "    keys.append(i)\n",
    "    values.append(j)\n",
    "keys,values"
   ]
  },
  {
   "cell_type": "markdown",
   "id": "fb0b5b52-afbd-4a42-9306-595abe683718",
   "metadata": {},
   "source": [
    "**Clear**"
   ]
  },
  {
   "cell_type": "code",
   "execution_count": 4,
   "id": "94f2118a-3bda-404e-88d7-d8a5d9cc5388",
   "metadata": {},
   "outputs": [
    {
     "data": {
      "text/plain": [
       "{}"
      ]
     },
     "execution_count": 4,
     "metadata": {},
     "output_type": "execute_result"
    }
   ],
   "source": [
    "d = {\"Rohit\":37, \"Virat\":35, \"Hardik\":28, \"Surya\":34}\n",
    "d.clear()\n",
    "d"
   ]
  },
  {
   "cell_type": "markdown",
   "id": "c1ed00c4-b8c7-46a7-98ee-ed60ad89a299",
   "metadata": {},
   "source": [
    "**Copy**"
   ]
  },
  {
   "cell_type": "code",
   "execution_count": 7,
   "id": "d3bd086b-b338-45c7-a0b3-5a2c52c83414",
   "metadata": {},
   "outputs": [
    {
     "name": "stdout",
     "output_type": "stream",
     "text": [
      "{'Rohit': 37, 'Virat': 35, 'Hardik': 28, 'Surya': 34}\n",
      "{'Rohit': 37, 'Virat': 35, 'Hardik': 28, 'Surya': 34}\n"
     ]
    }
   ],
   "source": [
    "d = {\"Rohit\":37, \"Virat\":35, \"Hardik\":28, \"Surya\":34}\n",
    "d1 = d.copy()\n",
    "print(d)\n",
    "print(d1)"
   ]
  },
  {
   "cell_type": "markdown",
   "id": "d33f748d-6f27-4eac-bfe2-f6ed3b20325e",
   "metadata": {},
   "source": [
    "**Fromkeys**"
   ]
  },
  {
   "cell_type": "code",
   "execution_count": 22,
   "id": "ca0d7917-4bcf-471a-84a7-625b112f9192",
   "metadata": {},
   "outputs": [
    {
     "data": {
      "text/plain": [
       "{'Rohit': 10, 'Virat': 10, 'Bumrah': 10}"
      ]
     },
     "execution_count": 22,
     "metadata": {},
     "output_type": "execute_result"
    }
   ],
   "source": [
    "x = (\"Rohit\",\"Virat\",\"Bumrah\")\n",
    "y = 10\n",
    "d = dict.fromkeys(x,y)\n",
    "d"
   ]
  },
  {
   "cell_type": "code",
   "execution_count": 35,
   "id": "4944557d-10d2-4be4-bdc1-adef5b1f4f1f",
   "metadata": {},
   "outputs": [
    {
     "data": {
      "text/plain": [
       "{'Rahul': 20, 'Ram': 20, 'Ajay': 20, 'Kamal': 20}"
      ]
     },
     "execution_count": 35,
     "metadata": {},
     "output_type": "execute_result"
    }
   ],
   "source": [
    "a = (\"Rahul\",\"Ram\",\"Ajay\",\"Kamal\")\n",
    "b = 20\n",
    "d = dict.fromkeys(a,b)\n",
    "d"
   ]
  },
  {
   "cell_type": "markdown",
   "id": "147adcc2-2c36-40e6-a75e-441a75c6d303",
   "metadata": {},
   "source": [
    "**Get**"
   ]
  },
  {
   "cell_type": "code",
   "execution_count": 29,
   "id": "619341af-52b9-4c6f-8c5d-1324901c3b08",
   "metadata": {},
   "outputs": [
    {
     "data": {
      "text/plain": [
       "35"
      ]
     },
     "execution_count": 29,
     "metadata": {},
     "output_type": "execute_result"
    }
   ],
   "source": [
    "d = {\"Rohit\":37, \"Virat\":35, \"Hardik\":28, \"Surya\":34}\n",
    "d.get(\"Virat\")"
   ]
  },
  {
   "cell_type": "code",
   "execution_count": 33,
   "id": "d0cb6f6e-34d5-41d6-a6cc-b7975ae0a9c2",
   "metadata": {},
   "outputs": [
    {
     "data": {
      "text/plain": [
       "34"
      ]
     },
     "execution_count": 33,
     "metadata": {},
     "output_type": "execute_result"
    }
   ],
   "source": [
    "d.get(\"Surya\")"
   ]
  },
  {
   "cell_type": "markdown",
   "id": "3af31989-13e5-465f-a614-71f22575a584",
   "metadata": {},
   "source": [
    "**Pop**\n",
    "\n",
    "- Pop removes the specific element and returns its value"
   ]
  },
  {
   "cell_type": "code",
   "execution_count": 40,
   "id": "11d8d6bf-d31c-4014-aa57-01b4766a0eaf",
   "metadata": {},
   "outputs": [
    {
     "name": "stdout",
     "output_type": "stream",
     "text": [
      "{'Rohit': 37, 'Virat': 35, 'Surya': 34}\n",
      "28\n"
     ]
    }
   ],
   "source": [
    "d = {\"Rohit\":37, \"Virat\":35, \"Hardik\":28, \"Surya\":34}\n",
    "d1 = d.pop(\"Hardik\")\n",
    "print(d)\n",
    "print(d1)"
   ]
  },
  {
   "cell_type": "code",
   "execution_count": 43,
   "id": "e75d56ac-00b9-41be-9ed2-05664e521852",
   "metadata": {},
   "outputs": [
    {
     "data": {
      "text/plain": [
       "{'Raman': 97, 'Rajesh': 80, 'Ram': 90}"
      ]
     },
     "execution_count": 43,
     "metadata": {},
     "output_type": "execute_result"
    }
   ],
   "source": [
    "x = {\"Raman\":97,\"Rajesh\":80,\"Ram\":90,\"Suraj\":94}\n",
    "x1 = x.pop(\"Suraj\")\n",
    "x"
   ]
  },
  {
   "cell_type": "markdown",
   "id": "10cbba8c-99ab-424c-85b1-2298edb136ac",
   "metadata": {},
   "source": [
    "**Popitem**"
   ]
  },
  {
   "cell_type": "code",
   "execution_count": 62,
   "id": "968873c1-4abc-4fd3-a5f4-167c56c3c767",
   "metadata": {},
   "outputs": [
    {
     "data": {
      "text/plain": [
       "(('Surya', 34), ('Hardik', 28))"
      ]
     },
     "execution_count": 62,
     "metadata": {},
     "output_type": "execute_result"
    }
   ],
   "source": [
    "d = {\"Rohit\":37, \"Virat\":35, \"Hardik\":28, \"Surya\":34}\n",
    "one = d.popitem()\n",
    "two = d.popitem()\n",
    "one,two"
   ]
  },
  {
   "cell_type": "markdown",
   "id": "a48219a3-c5c3-4fb4-9eaa-f10384ad200d",
   "metadata": {},
   "source": [
    "**Setdefault**"
   ]
  },
  {
   "cell_type": "code",
   "execution_count": 75,
   "id": "960782fc-83a1-4cc6-a31e-2c8a27c4624d",
   "metadata": {},
   "outputs": [
    {
     "name": "stdout",
     "output_type": "stream",
     "text": [
      "18\n",
      "35\n"
     ]
    }
   ],
   "source": [
    "d = {\"Rohit\":37, \"Virat\":35, \"Hardik\":28, \"Surya\":34}\n",
    "print(d.setdefault(\"Bumrah\",18))\n",
    "print(d.setdefault(\"Virat\"))"
   ]
  },
  {
   "cell_type": "markdown",
   "id": "ea3f79bb-a4ef-416b-9096-97d9e0ff35b4",
   "metadata": {},
   "source": [
    "**Update**"
   ]
  },
  {
   "cell_type": "code",
   "execution_count": 90,
   "id": "5e202341-24b8-48e3-9959-d37ecbdc62a5",
   "metadata": {},
   "outputs": [
    {
     "data": {
      "text/plain": [
       "{'Rohit': 37, 'Virat': 35, 'Hardik': 28, 'Surya': 34, 'Bumrah': 29}"
      ]
     },
     "execution_count": 90,
     "metadata": {},
     "output_type": "execute_result"
    }
   ],
   "source": [
    "d = {\"Rohit\":37, \"Virat\":35, \"Hardik\":28, \"Surya\":34}\n",
    "d.update({\"Bumrah\":29})\n",
    "d"
   ]
  },
  {
   "cell_type": "code",
   "execution_count": 96,
   "id": "b7945c53-e815-4e35-af1f-9314c631d76b",
   "metadata": {},
   "outputs": [
    {
     "name": "stdout",
     "output_type": "stream",
     "text": [
      "{'Rohit': 37, 'Virat': 35, 'Hardik': 28, 'Surya': 34, 'KL': 31, 'Jadeja': 34, 'Pant': 25}\n"
     ]
    }
   ],
   "source": [
    "d = {\"Rohit\":37, \"Virat\":35, \"Hardik\":28, \"Surya\":34}\n",
    "d1 = {\"KL\":31,\"Jadeja\":34,\"Pant\":25}\n",
    "d.update(d1)\n",
    "print(d)"
   ]
  },
  {
   "cell_type": "code",
   "execution_count": null,
   "id": "8d1fc348-a709-4c5e-9620-e8c0992e424c",
   "metadata": {},
   "outputs": [],
   "source": []
  }
 ],
 "metadata": {
  "kernelspec": {
   "display_name": "Python 3 (ipykernel)",
   "language": "python",
   "name": "python3"
  },
  "language_info": {
   "codemirror_mode": {
    "name": "ipython",
    "version": 3
   },
   "file_extension": ".py",
   "mimetype": "text/x-python",
   "name": "python",
   "nbconvert_exporter": "python",
   "pygments_lexer": "ipython3",
   "version": "3.11.7"
  }
 },
 "nbformat": 4,
 "nbformat_minor": 5
}
