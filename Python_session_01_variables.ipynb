{
 "cells": [
  {
   "cell_type": "markdown",
   "id": "1b38f770-e347-49ac-806d-a5d3db379185",
   "metadata": {},
   "source": [
    "## Variables\n",
    "- Python variables are case sensitive\n",
    "- And the values can be changed"
   ]
  },
  {
   "cell_type": "code",
   "execution_count": 1,
   "id": "c77257d0-1eb5-420a-8d9d-d45ad4508de0",
   "metadata": {},
   "outputs": [
    {
     "data": {
      "text/plain": [
       "100"
      ]
     },
     "execution_count": 1,
     "metadata": {},
     "output_type": "execute_result"
    }
   ],
   "source": [
    "number = 100        # Value 100 stored in a varoiable name called 'number'\n",
    "number              # shift + enter"
   ]
  },
  {
   "cell_type": "code",
   "execution_count": 2,
   "id": "202b7f7b-687c-4f06-8d72-4ebd500cfb15",
   "metadata": {},
   "outputs": [
    {
     "data": {
      "text/plain": [
       "200"
      ]
     },
     "execution_count": 2,
     "metadata": {},
     "output_type": "execute_result"
    }
   ],
   "source": [
    "number = 200        # Value 100 stored in a varoiable name called 'number'\n",
    "number              # shift + enter"
   ]
  },
  {
   "cell_type": "markdown",
   "id": "49e252f8-b28e-498e-b0bd-35e429ace832",
   "metadata": {},
   "source": [
    "**Note**\n",
    "- Python is step by step process\n",
    "- Python will take the last output as the latest value\n",
    "- In above code we are using same variable 'number' but num value changed two times\n",
    "- First time --- 100\n",
    "- Second time --- 200\n",
    "- Latest Value --- 200"
   ]
  },
  {
   "cell_type": "code",
   "execution_count": 3,
   "id": "508d822e-3ab9-4189-9962-20854d51bb01",
   "metadata": {},
   "outputs": [
    {
     "data": {
      "text/plain": [
       "300"
      ]
     },
     "execution_count": 3,
     "metadata": {},
     "output_type": "execute_result"
    }
   ],
   "source": [
    "NUMBER = 300\n",
    "NUMBER"
   ]
  },
  {
   "cell_type": "code",
   "execution_count": 7,
   "id": "737c029c-fbce-414c-8b46-8a5a7e3e5967",
   "metadata": {},
   "outputs": [
    {
     "data": {
      "text/plain": [
       "400"
      ]
     },
     "execution_count": 7,
     "metadata": {},
     "output_type": "execute_result"
    }
   ],
   "source": [
    "NUMber = 400\n",
    "NUMber"
   ]
  },
  {
   "cell_type": "code",
   "execution_count": 8,
   "id": "6d2fe649-1a42-46ee-aeb7-a0802a72ab1e",
   "metadata": {},
   "outputs": [
    {
     "data": {
      "text/plain": [
       "500"
      ]
     },
     "execution_count": 8,
     "metadata": {},
     "output_type": "execute_result"
    }
   ],
   "source": [
    "NUMBER123 = 500\n",
    "NUMBER123"
   ]
  },
  {
   "cell_type": "markdown",
   "id": "8a4e6e3d-5706-4cfb-8681-09a898db63b5",
   "metadata": {},
   "source": [
    "123number = 600\n",
    "numb%er = 600\n",
    "number one = 600\n",
    "This type of variables are not acceptable"
   ]
  },
  {
   "cell_type": "code",
   "execution_count": 9,
   "id": "35b1e583-d379-465a-8cc7-7b334bce49cb",
   "metadata": {},
   "outputs": [
    {
     "data": {
      "text/plain": [
       "700"
      ]
     },
     "execution_count": 9,
     "metadata": {},
     "output_type": "execute_result"
    }
   ],
   "source": [
    "number_one = 700\n",
    "number_one"
   ]
  },
  {
   "cell_type": "code",
   "execution_count": 10,
   "id": "47e1b507-06fa-426f-9d4b-986698d1dfe0",
   "metadata": {},
   "outputs": [
    {
     "data": {
      "text/plain": [
       "800"
      ]
     },
     "execution_count": 10,
     "metadata": {},
     "output_type": "execute_result"
    }
   ],
   "source": [
    "_ = 800\n",
    "_"
   ]
  },
  {
   "cell_type": "code",
   "execution_count": 11,
   "id": "fd25fa97-684e-4747-912e-4710e62d960d",
   "metadata": {},
   "outputs": [
    {
     "data": {
      "text/plain": [
       "(100, 200)"
      ]
     },
     "execution_count": 11,
     "metadata": {},
     "output_type": "execute_result"
    }
   ],
   "source": [
    "n1 = 100,200\n",
    "n1"
   ]
  },
  {
   "cell_type": "markdown",
   "id": "6a5ab6a8-4ed1-4857-b70c-8b05c12e1476",
   "metadata": {},
   "source": [
    "n2,n3 = 200\n",
    "This will give us an error"
   ]
  },
  {
   "cell_type": "code",
   "execution_count": 12,
   "id": "65eb0cb8-6291-4a78-a13b-a6a590d2a379",
   "metadata": {},
   "outputs": [
    {
     "data": {
      "text/plain": [
       "200"
      ]
     },
     "execution_count": 12,
     "metadata": {},
     "output_type": "execute_result"
    }
   ],
   "source": [
    "n4,n5 = 100,200\n",
    "n4\n",
    "n5"
   ]
  },
  {
   "cell_type": "code",
   "execution_count": 13,
   "id": "916f4dc7-c0e6-4825-a10c-252fcf16f7a0",
   "metadata": {},
   "outputs": [
    {
     "name": "stdout",
     "output_type": "stream",
     "text": [
      "100\n",
      "200\n"
     ]
    }
   ],
   "source": [
    "n4,n5 = 100,200\n",
    "print(n4)\n",
    "print(n5)"
   ]
  },
  {
   "cell_type": "markdown",
   "id": "201f057f-eb9a-44b7-8e42-5ea5e7e8b8d7",
   "metadata": {},
   "source": [
    "- Python variables are case sensitive\n",
    "- Variables can be declared as Capital letters and Small letters\n",
    "- Variables cannot start with numbers as a prefix\n",
    "- Variables can have numbers as their suffix\n",
    "- Variables cannot have special characters except underscore **_**\n",
    "- Variables does not has space between names\n",
    "- Only underscore is possible\n",
    "- Keywords cannot use as variables\n",
    "- Keywords are reserved words such as:\n",
    "  If,\n",
    "  Else,\n",
    "  For,\n",
    "  While , etc\n",
    "- Two values can be assigned to a single variable\n",
    "- One value cannot be assigned to two variables\n"
   ]
  },
  {
   "cell_type": "code",
   "execution_count": null,
   "id": "94f23317-c731-42dd-b814-57ba9bf16351",
   "metadata": {},
   "outputs": [],
   "source": []
  }
 ],
 "metadata": {
  "kernelspec": {
   "display_name": "Python 3 (ipykernel)",
   "language": "python",
   "name": "python3"
  },
  "language_info": {
   "codemirror_mode": {
    "name": "ipython",
    "version": 3
   },
   "file_extension": ".py",
   "mimetype": "text/x-python",
   "name": "python",
   "nbconvert_exporter": "python",
   "pygments_lexer": "ipython3",
   "version": "3.11.7"
  }
 },
 "nbformat": 4,
 "nbformat_minor": 5
}
