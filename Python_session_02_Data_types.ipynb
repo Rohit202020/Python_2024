{
 "cells": [
  {
   "cell_type": "markdown",
   "id": "772e0935-52b7-4bf4-aa1b-c82618c2278c",
   "metadata": {},
   "source": [
    "**DATA TYPES**\n",
    "- In python type declare not required\n",
    "- Python will automatically take the type based on provided value\n",
    "- We have many data types available in python\n",
    "- The main data types are :\n",
    "  - Integer\n",
    "  - Float\n",
    "  - Boolean\n",
    "  - String"
   ]
  },
  {
   "cell_type": "markdown",
   "id": "c941f179-3096-4ab1-944e-e69ae01d90a6",
   "metadata": {},
   "source": [
    "**INTEGER**"
   ]
  },
  {
   "cell_type": "code",
   "execution_count": 1,
   "id": "5c32eec2-d5ad-48c6-9903-466718ec94fc",
   "metadata": {},
   "outputs": [
    {
     "data": {
      "text/plain": [
       "int"
      ]
     },
     "execution_count": 1,
     "metadata": {},
     "output_type": "execute_result"
    }
   ],
   "source": [
    "n = 100\n",
    "type(n)"
   ]
  },
  {
   "cell_type": "markdown",
   "id": "cc199795-a26a-490c-806f-9032a778d2dd",
   "metadata": {},
   "source": [
    "In Integer we have: \n",
    "- Binary Representation\n",
    "- Octa Representation\n",
    "- Hexa Representation"
   ]
  },
  {
   "cell_type": "markdown",
   "id": "fcb14c8d-e87a-4ab4-8f3e-fdf390d8a071",
   "metadata": {},
   "source": [
    "- 1000,\n",
    "100,\n",
    "10,\n",
    "This all are decimal representation"
   ]
  },
  {
   "cell_type": "markdown",
   "id": "3ba686e4-b4e7-4423-ae2e-308d8c35260f",
   "metadata": {},
   "source": [
    "- 0b111 , 0b101011 This type of representation are known as binary representation"
   ]
  },
  {
   "cell_type": "markdown",
   "id": "fe6f582b-450e-44d9-8ce1-4ec9aae73f9d",
   "metadata": {},
   "source": [
    "**BINARY**\n",
    "- Bi means 2\n",
    "- It requires 2 digits\n",
    "- Generally we have 0 1 2 3 4 5 6 7 8 9 \n",
    "- But in binary we require only two digits i.e 0 and 1 \n",
    "- Representation of binary starts with 0b\n",
    "- eg. 0b11, 0b1011, 0b1111\n",
    "- Wrong representation --- ob1012, 0b20212, 0b1017"
   ]
  },
  {
   "cell_type": "code",
   "execution_count": 1,
   "id": "e6545237-baa0-4993-905d-d2bc06e5e18a",
   "metadata": {},
   "outputs": [
    {
     "data": {
      "text/plain": [
       "5"
      ]
     },
     "execution_count": 1,
     "metadata": {},
     "output_type": "execute_result"
    }
   ],
   "source": [
    "0b101"
   ]
  },
  {
   "cell_type": "code",
   "execution_count": 2,
   "id": "778893ae-8c18-4883-9dbd-8a2b7afb922c",
   "metadata": {},
   "outputs": [
    {
     "data": {
      "text/plain": [
       "7"
      ]
     },
     "execution_count": 2,
     "metadata": {},
     "output_type": "execute_result"
    }
   ],
   "source": [
    "0b111"
   ]
  },
  {
   "cell_type": "code",
   "execution_count": 3,
   "id": "42c526ad-7d8d-41a8-a6f5-785a34cf472d",
   "metadata": {},
   "outputs": [
    {
     "data": {
      "text/plain": [
       "5"
      ]
     },
     "execution_count": 3,
     "metadata": {},
     "output_type": "execute_result"
    }
   ],
   "source": [
    "0b101"
   ]
  },
  {
   "cell_type": "code",
   "execution_count": 4,
   "id": "e01cd699-644b-41b7-a750-fca499e350a4",
   "metadata": {},
   "outputs": [],
   "source": [
    "import os"
   ]
  },
  {
   "cell_type": "code",
   "execution_count": 5,
   "id": "733a5794-4647-48e8-9b20-d1f799009f80",
   "metadata": {},
   "outputs": [
    {
     "data": {
      "text/plain": [
       "'C:\\\\Users\\\\User\\\\Documents\\\\NIT\\\\Python'"
      ]
     },
     "execution_count": 5,
     "metadata": {},
     "output_type": "execute_result"
    }
   ],
   "source": [
    "os.getcwd()\n",
    "\n",
    "# Get Current working directory\n",
    "# It will give the path of where our python file is located"
   ]
  },
  {
   "cell_type": "code",
   "execution_count": 6,
   "id": "ba06a7cc-e181-4bc9-a450-4ab551f69d39",
   "metadata": {},
   "outputs": [
    {
     "data": {
      "text/plain": [
       "15"
      ]
     },
     "execution_count": 6,
     "metadata": {},
     "output_type": "execute_result"
    }
   ],
   "source": [
    "0b1111"
   ]
  },
  {
   "cell_type": "markdown",
   "id": "8849865d-36c8-42d1-a3f5-48867e72ec58",
   "metadata": {},
   "source": [
    "8 4 2 1   num\n",
    "0 0 0 0   0\n",
    "0 0 0 1   1\n",
    "0 0 1 0   2\n",
    "0 0 1 1   3\n",
    "0 1 0 0   4\n",
    "0 1 0 1   5\n",
    "0 1 1 0   6\n",
    "0 1 1 1   7\n",
    "1 0 0 0   8\n",
    "1 0 0 1   9\n",
    "1 0 1 0   10\n",
    "1 0 1 1   11\n",
    "1 1 0 0   12\n",
    "1 1 0 1   13\n",
    "1 1 1 0   14\n",
    "1 1 1 1   15\n",
    "\n",
    "8 4 2 1"
   ]
  },
  {
   "cell_type": "code",
   "execution_count": 8,
   "id": "470417de-52a6-4264-abd9-76d169265719",
   "metadata": {},
   "outputs": [
    {
     "data": {
      "text/plain": [
       "29"
      ]
     },
     "execution_count": 8,
     "metadata": {},
     "output_type": "execute_result"
    }
   ],
   "source": [
    "0b11101"
   ]
  },
  {
   "cell_type": "code",
   "execution_count": 9,
   "id": "ac7c395f-b4d6-42ba-a4f8-31de5dd5f300",
   "metadata": {},
   "outputs": [
    {
     "data": {
      "text/plain": [
       "59"
      ]
     },
     "execution_count": 9,
     "metadata": {},
     "output_type": "execute_result"
    }
   ],
   "source": [
    "0b111011"
   ]
  },
  {
   "cell_type": "markdown",
   "id": "5415dde1-45fb-4545-ac10-185b335ead2f",
   "metadata": {},
   "source": [
    "## Octal\n",
    "- Octa means 8\n",
    "- So it requires 8 digits\n",
    "- Generally we have 0 1 2 3 4 5 6 7 8 9\n",
    "- So it will represent with only 0 1 2 3 4 5 6 7\n",
    "- Representation is 0o123,0O012345, 0o7654321\n",
    "- Wrong representation is 0o108, 0o987\n",
    "\n"
   ]
  },
  {
   "cell_type": "code",
   "execution_count": 18,
   "id": "53536340-de97-4477-9e90-3ec71cbc67a9",
   "metadata": {},
   "outputs": [
    {
     "data": {
      "text/plain": [
       "668"
      ]
     },
     "execution_count": 18,
     "metadata": {},
     "output_type": "execute_result"
    }
   ],
   "source": [
    "0o1234"
   ]
  },
  {
   "cell_type": "code",
   "execution_count": 19,
   "id": "ee91d6e0-3d8c-4d2d-9a70-b4228d9f869c",
   "metadata": {},
   "outputs": [
    {
     "data": {
      "text/plain": [
       "83"
      ]
     },
     "execution_count": 19,
     "metadata": {},
     "output_type": "execute_result"
    }
   ],
   "source": [
    "0o123"
   ]
  },
  {
   "cell_type": "markdown",
   "id": "633f5940-137f-4115-8dbd-a02ba69381a1",
   "metadata": {},
   "source": [
    "## Hexa\n",
    "- Hexa mean 16\n",
    "- So it requires 16 digits\n",
    "- Generally we have 0 1 2 3 4 5 6 7 8 9 A(10) B(11) C(12) D(13) E(14) F(15)\n",
    "- So it will represent with only 0-9 A-F\n",
    "- Representation is 0xF9,0X0123abc, 0xabc\n",
    "- Wrong representation is 0xGH, 0xABCDEFG\n"
   ]
  },
  {
   "cell_type": "code",
   "execution_count": 20,
   "id": "305dc85a-63dd-4c3c-9e5a-baa605ed0e6d",
   "metadata": {},
   "outputs": [
    {
     "data": {
      "text/plain": [
       "2748"
      ]
     },
     "execution_count": 20,
     "metadata": {},
     "output_type": "execute_result"
    }
   ],
   "source": [
    "0xabc"
   ]
  },
  {
   "cell_type": "code",
   "execution_count": 21,
   "id": "58730783-d67e-4ff4-a0d8-d7e02ee93caf",
   "metadata": {},
   "outputs": [
    {
     "data": {
      "text/plain": [
       "4671"
      ]
     },
     "execution_count": 21,
     "metadata": {},
     "output_type": "execute_result"
    }
   ],
   "source": [
    "0x123f"
   ]
  },
  {
   "cell_type": "markdown",
   "id": "ed2b44fb-7b27-483d-b412-11009c873f71",
   "metadata": {},
   "source": [
    "## Float"
   ]
  },
  {
   "cell_type": "code",
   "execution_count": 22,
   "id": "6ec9c595-f29d-4b17-b081-6beb1469e59d",
   "metadata": {},
   "outputs": [
    {
     "data": {
      "text/plain": [
       "float"
      ]
     },
     "execution_count": 22,
     "metadata": {},
     "output_type": "execute_result"
    }
   ],
   "source": [
    "n = 110.5\n",
    "type(n)"
   ]
  },
  {
   "cell_type": "code",
   "execution_count": 24,
   "id": "85dbd7ab-3ed3-499d-9e9b-6c8a0c87885f",
   "metadata": {},
   "outputs": [
    {
     "data": {
      "text/plain": [
       "24000.0"
      ]
     },
     "execution_count": 24,
     "metadata": {},
     "output_type": "execute_result"
    }
   ],
   "source": [
    "24e3"
   ]
  },
  {
   "cell_type": "code",
   "execution_count": 25,
   "id": "b93d7368-d53a-47c4-b718-1a79814c23f6",
   "metadata": {},
   "outputs": [
    {
     "data": {
      "text/plain": [
       "(10.0, 100.0, 1000.0, 10000.0)"
      ]
     },
     "execution_count": 25,
     "metadata": {},
     "output_type": "execute_result"
    }
   ],
   "source": [
    "1e1, 1e2, 1e3, 1e4"
   ]
  },
  {
   "cell_type": "code",
   "execution_count": 26,
   "id": "046cac18-90ef-4cc3-bd6e-da71d436b350",
   "metadata": {},
   "outputs": [
    {
     "data": {
      "text/plain": [
       "0.024"
      ]
     },
     "execution_count": 26,
     "metadata": {},
     "output_type": "execute_result"
    }
   ],
   "source": [
    "24e-3"
   ]
  },
  {
   "cell_type": "code",
   "execution_count": 27,
   "id": "9ab62cee-3c53-42f5-8bdc-5348294a9e9e",
   "metadata": {},
   "outputs": [
    {
     "data": {
      "text/plain": [
       "(10.0, 100.0, 1000.0, 10000.0)"
      ]
     },
     "execution_count": 27,
     "metadata": {},
     "output_type": "execute_result"
    }
   ],
   "source": [
    "1e+1, 1e+2, 1e+3, 1e+4"
   ]
  },
  {
   "cell_type": "markdown",
   "id": "aff9636b-7456-42f3-822b-c7478d5468eb",
   "metadata": {},
   "source": [
    "- Positive sign means multiply.\n",
    "- Negative sign means divide."
   ]
  },
  {
   "cell_type": "markdown",
   "id": "14fd968d-8309-41fe-936e-3e7bd0aadd2b",
   "metadata": {},
   "source": [
    "## Strings"
   ]
  },
  {
   "cell_type": "markdown",
   "id": "b4c06d53-7548-4b59-8da6-659be62a8ef1",
   "metadata": {},
   "source": [
    "- Strings are used to represent the english characters generally\n",
    "- Strings will represent in:\n",
    "  - Single Quotes\n",
    "  - Double Quotes\n",
    "  - Triple Quotes"
   ]
  },
  {
   "cell_type": "code",
   "execution_count": 28,
   "id": "b2677844-486e-4fb8-ab20-e8488a85a434",
   "metadata": {},
   "outputs": [
    {
     "data": {
      "text/plain": [
       "str"
      ]
     },
     "execution_count": 28,
     "metadata": {},
     "output_type": "execute_result"
    }
   ],
   "source": [
    "name = 'Python'\n",
    "type(name)"
   ]
  },
  {
   "cell_type": "code",
   "execution_count": 30,
   "id": "45ad08e6-346b-4619-bcdf-27b014d9d58e",
   "metadata": {},
   "outputs": [
    {
     "data": {
      "text/plain": [
       "str"
      ]
     },
     "execution_count": 30,
     "metadata": {},
     "output_type": "execute_result"
    }
   ],
   "source": [
    "name = \"Rohit\"\n",
    "type(name)"
   ]
  },
  {
   "cell_type": "code",
   "execution_count": 31,
   "id": "ceafaedc-e5d1-4d61-ad29-b75c64e04e42",
   "metadata": {},
   "outputs": [
    {
     "data": {
      "text/plain": [
       "str"
      ]
     },
     "execution_count": 31,
     "metadata": {},
     "output_type": "execute_result"
    }
   ],
   "source": [
    "name2 = \"10\"\n",
    "type(name2)"
   ]
  },
  {
   "cell_type": "code",
   "execution_count": 32,
   "id": "1a7d2058-31bb-476e-9d5f-2e02e20ab08d",
   "metadata": {},
   "outputs": [
    {
     "data": {
      "text/plain": [
       "str"
      ]
     },
     "execution_count": 32,
     "metadata": {},
     "output_type": "execute_result"
    }
   ],
   "source": [
    "email = \"rtshahu20@gmail.com\"\n",
    "type(email)"
   ]
  },
  {
   "cell_type": "markdown",
   "id": "571dbbe3-a8bb-4da3-b40c-0936d42d3f2d",
   "metadata": {},
   "source": [
    "- Red Colour means strings\n",
    "- Green colour means keywords\n",
    "- Black colour means variables"
   ]
  },
  {
   "cell_type": "code",
   "execution_count": 35,
   "id": "a7594df4-c6aa-4b13-94a1-6ec0bc525527",
   "metadata": {},
   "outputs": [
    {
     "data": {
      "text/plain": [
       "'python'"
      ]
     },
     "execution_count": 35,
     "metadata": {},
     "output_type": "execute_result"
    }
   ],
   "source": [
    "name = 'python'\n",
    "name1 = \"python\"\n",
    "name"
   ]
  },
  {
   "cell_type": "code",
   "execution_count": 34,
   "id": "da35ed6d-f542-4bc2-a038-b74b4034384d",
   "metadata": {},
   "outputs": [
    {
     "data": {
      "text/plain": [
       "'python'"
      ]
     },
     "execution_count": 34,
     "metadata": {},
     "output_type": "execute_result"
    }
   ],
   "source": [
    "name1"
   ]
  },
  {
   "cell_type": "markdown",
   "id": "e55d3434-fda1-4b36-be29-9d3569ddafc3",
   "metadata": {},
   "source": [
    "- OUTPUT WILL ALWAYS BE IN SINGLE QOUTES"
   ]
  },
  {
   "cell_type": "code",
   "execution_count": 36,
   "id": "498501ec-4479-4056-9503-97f7d3b9b411",
   "metadata": {},
   "outputs": [
    {
     "data": {
      "text/plain": [
       "'I like python'"
      ]
     },
     "execution_count": 36,
     "metadata": {},
     "output_type": "execute_result"
    }
   ],
   "source": [
    "Name = \"I like python\"\n",
    "Name"
   ]
  },
  {
   "cell_type": "code",
   "execution_count": 37,
   "id": "f137505e-a65f-4072-b728-3564e8b8943b",
   "metadata": {},
   "outputs": [
    {
     "data": {
      "text/plain": [
       "'I like \"Python\"'"
      ]
     },
     "execution_count": 37,
     "metadata": {},
     "output_type": "execute_result"
    }
   ],
   "source": [
    "str = 'I like \"Python\"'\n",
    "str"
   ]
  },
  {
   "cell_type": "markdown",
   "id": "b6ee3921-22eb-4fc4-9db8-b31dd564d87f",
   "metadata": {},
   "source": [
    "- If the entire string will be in double quotes then the highlighted word will be in single quotes"
   ]
  },
  {
   "cell_type": "markdown",
   "id": "2c117a7b-0795-4c28-b08a-fb374cff7cc9",
   "metadata": {},
   "source": [
    "## Triple Quotes\n",
    "- Triple quotes is not used for coding\n",
    "- Triple quotes is used to provide the information to the user\n",
    "- In order to provide the information in jupyter notebook we will use markdown\n",
    "- In vscode or pycharm there is no markdown option, \n",
    "  that's why the world started to write the information in triple quotes\n",
    "- This entire process is called doc string"
   ]
  },
  {
   "cell_type": "code",
   "execution_count": 38,
   "id": "c6a0712c-72ba-451a-a566-35c1dbc4c701",
   "metadata": {},
   "outputs": [
    {
     "data": {
      "text/plain": [
       "'\\nHello, \\nI am writing python code\\n'"
      ]
     },
     "execution_count": 38,
     "metadata": {},
     "output_type": "execute_result"
    }
   ],
   "source": [
    "\"\"\"\n",
    "Hello, \n",
    "I am writing python code\n",
    "\"\"\""
   ]
  },
  {
   "cell_type": "markdown",
   "id": "595a398d-443c-4876-9203-d9a121ae9c16",
   "metadata": {},
   "source": [
    "## Boolean"
   ]
  },
  {
   "cell_type": "code",
   "execution_count": 39,
   "id": "54fea43f-d41c-41d3-b591-04178f959ae0",
   "metadata": {},
   "outputs": [
    {
     "data": {
      "text/plain": [
       "bool"
      ]
     },
     "execution_count": 39,
     "metadata": {},
     "output_type": "execute_result"
    }
   ],
   "source": [
    "value = True\n",
    "type(value)"
   ]
  },
  {
   "cell_type": "code",
   "execution_count": 40,
   "id": "e0ea7d16-960d-4e52-8a29-ab7766139205",
   "metadata": {},
   "outputs": [
    {
     "data": {
      "text/plain": [
       "bool"
      ]
     },
     "execution_count": 40,
     "metadata": {},
     "output_type": "execute_result"
    }
   ],
   "source": [
    "value1 = False\n",
    "type(value1)"
   ]
  },
  {
   "cell_type": "code",
   "execution_count": null,
   "id": "801a1ec5-c27b-442e-a508-d26f43b23357",
   "metadata": {},
   "outputs": [],
   "source": [
    "true = True\n",
    "false = False\n",
    "\n",
    "# true and false both are variables\n",
    "# type true is  string\n",
    "# type false is boolean"
   ]
  }
 ],
 "metadata": {
  "kernelspec": {
   "display_name": "Python 3 (ipykernel)",
   "language": "python",
   "name": "python3"
  },
  "language_info": {
   "codemirror_mode": {
    "name": "ipython",
    "version": 3
   },
   "file_extension": ".py",
   "mimetype": "text/x-python",
   "name": "python",
   "nbconvert_exporter": "python",
   "pygments_lexer": "ipython3",
   "version": "3.11.7"
  }
 },
 "nbformat": 4,
 "nbformat_minor": 5
}
