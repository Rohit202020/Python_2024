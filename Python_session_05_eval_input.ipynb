{
 "cells": [
  {
   "cell_type": "markdown",
   "id": "41f4eefd-f4a4-4ba0-8035-fcea6fe70b3c",
   "metadata": {},
   "source": [
    "## Input Keyword"
   ]
  },
  {
   "cell_type": "markdown",
   "id": "9e4b3090-e504-4a29-8d9a-1b6d93eb3b9f",
   "metadata": {},
   "source": [
    "- Input keyword is used to take the values from user"
   ]
  },
  {
   "cell_type": "code",
   "execution_count": 3,
   "id": "db94608c-7304-4899-aaba-8f5373450e04",
   "metadata": {},
   "outputs": [
    {
     "name": "stdin",
     "output_type": "stream",
     "text": [
      " 12\n"
     ]
    },
    {
     "data": {
      "text/plain": [
       "'12'"
      ]
     },
     "execution_count": 3,
     "metadata": {},
     "output_type": "execute_result"
    }
   ],
   "source": [
    "input()"
   ]
  },
  {
   "cell_type": "code",
   "execution_count": 4,
   "id": "add8962f-d401-4f91-8f6d-5ba1de675b34",
   "metadata": {},
   "outputs": [
    {
     "name": "stdin",
     "output_type": "stream",
     "text": [
      "Enter a number 100\n"
     ]
    },
    {
     "data": {
      "text/plain": [
       "'100'"
      ]
     },
     "execution_count": 4,
     "metadata": {},
     "output_type": "execute_result"
    }
   ],
   "source": [
    "input(\"Enter a number\")"
   ]
  },
  {
   "cell_type": "code",
   "execution_count": 5,
   "id": "a2f19956-cbb8-4a0f-8976-a3e3b1281e10",
   "metadata": {},
   "outputs": [
    {
     "name": "stdin",
     "output_type": "stream",
     "text": [
      "Enter number one:  100\n",
      "Enter number two:  200\n",
      "Enter number three:  300\n"
     ]
    },
    {
     "data": {
      "text/plain": [
       "'300'"
      ]
     },
     "execution_count": 5,
     "metadata": {},
     "output_type": "execute_result"
    }
   ],
   "source": [
    "input(\"Enter number one: \")\n",
    "input(\"Enter number two: \")\n",
    "input(\"Enter number three: \")"
   ]
  },
  {
   "cell_type": "markdown",
   "id": "81a8a53e-c7d8-4568-a903-909cc8e0662a",
   "metadata": {},
   "source": [
    "## NOTE\n",
    "- Input always gives string data type only.\n",
    "- Inorder to perform maths calculations we need to convert into numerical format i.e int or float"
   ]
  },
  {
   "cell_type": "code",
   "execution_count": 8,
   "id": "f3010035-77b1-4a12-b814-4e1cb8d4e7f9",
   "metadata": {},
   "outputs": [
    {
     "name": "stdin",
     "output_type": "stream",
     "text": [
      "Enter number one:  200\n",
      "Enter number two:  300\n"
     ]
    },
    {
     "name": "stdout",
     "output_type": "stream",
     "text": [
      "The sum of 200 and 300 is 500\n"
     ]
    }
   ],
   "source": [
    "num1 = int(input(\"Enter number one: \"))\n",
    "num2 = int(input(\"Enter number two: \"))\n",
    "print(f\"The sum of {num1} and {num2} is {num1 + num2}\")"
   ]
  },
  {
   "cell_type": "markdown",
   "id": "f08017fc-c601-4fca-a25e-fc7f93347475",
   "metadata": {},
   "source": [
    "## Eval Keyword\n",
    "- Eval means Evaluate\n",
    "- Whatever the number we enter eval will convert it into the corresponding data type"
   ]
  },
  {
   "cell_type": "code",
   "execution_count": 10,
   "id": "244e72e7-e648-44d3-b55e-de9f6c8cdb63",
   "metadata": {},
   "outputs": [
    {
     "name": "stdin",
     "output_type": "stream",
     "text": [
      "Enter first number:  100.8\n",
      "Enter second number:  200\n"
     ]
    },
    {
     "name": "stdout",
     "output_type": "stream",
     "text": [
      "The sum of 100.8 and 200 is 300.8\n"
     ]
    }
   ],
   "source": [
    "num1 = eval(input(\"Enter first number: \"))\n",
    "num2 = eval(input(\"Enter second number: \"))\n",
    "total = num1 + num2\n",
    "print(f\"The sum of {num1} and {num2} is {total}\")"
   ]
  },
  {
   "cell_type": "code",
   "execution_count": 2,
   "id": "8c89dc2f-7e8f-44a7-80fa-4622ce82ecb4",
   "metadata": {},
   "outputs": [
    {
     "name": "stdin",
     "output_type": "stream",
     "text": [
      "Enter number one:  100\n",
      "Enter number two:  200\n",
      "Enter number three:  300\n"
     ]
    },
    {
     "name": "stdout",
     "output_type": "stream",
     "text": [
      "The average of three numbers is : 200.0\n"
     ]
    }
   ],
   "source": [
    "# Write a program which asks the user to enter 3 numbers and calculate average\n",
    "\n",
    "num1 = eval(input(\"Enter number one: \"))\n",
    "num2 = eval(input(\"Enter number two: \"))\n",
    "num3 = eval(input(\"Enter number three: \"))\n",
    "Average = (num1+num2+num3)/3\n",
    "print(f\"The average of three numbers is : {Average}\")"
   ]
  },
  {
   "cell_type": "code",
   "execution_count": null,
   "id": "c5b3e9d6-2ac5-4dcf-aa57-53cef121b55d",
   "metadata": {},
   "outputs": [],
   "source": [
    "\n",
    "# wap ask the user enter the 2 numbers find the subtraction, addition, multuplic\n",
    "# wap ask the uer enter radius values find the area of the circle\n",
    "# wap ask the user bill amount,\n",
    "# ask the user how much tip you want pay in percentage\n",
    "# calculate totalbill\n",
    "# wap ask the user bill amount in dollars\n",
    "# ask the user onedollar\n",
    "# print the bill amount in rupees\n",
    "#wap ask the user enter base height calculate area of the traingle\n",
    "#wap ask the user enter length and breadth calculate area of the rectangle"
   ]
  },
  {
   "cell_type": "code",
   "execution_count": 2,
   "id": "fc232a36-953d-4cdf-9dd3-68a654d34a82",
   "metadata": {},
   "outputs": [
    {
     "name": "stdin",
     "output_type": "stream",
     "text": [
      "Enter first number :  400\n",
      "Enter second number :  200\n"
     ]
    },
    {
     "name": "stdout",
     "output_type": "stream",
     "text": [
      "The addition of two numbers is : 600\n",
      "The subtraction of two numbers is : 200\n",
      "The multiplication of two numbers is : 80000\n",
      "The division of two numbers is : 2.0\n"
     ]
    }
   ],
   "source": [
    "num1 = eval(input(\"Enter first number : \"))\n",
    "num2 = eval(input(\"Enter second number : \"))\n",
    "add = num1 + num2\n",
    "sub = num1 - num2\n",
    "multiply = num1 * num2\n",
    "divide = num1 / num2\n",
    "print(f\"The addition of two numbers is : {add}\")\n",
    "print(f\"The subtraction of two numbers is : {sub}\")\n",
    "print(f\"The multiplication of two numbers is : {multiply}\")\n",
    "print(f\"The division of two numbers is : {divide}\")"
   ]
  },
  {
   "cell_type": "code",
   "execution_count": 5,
   "id": "4f5aa43d-aa97-4aac-8632-7e023bb1385a",
   "metadata": {},
   "outputs": [
    {
     "name": "stdin",
     "output_type": "stream",
     "text": [
      "Enter the radius of circle:  10\n"
     ]
    },
    {
     "name": "stdout",
     "output_type": "stream",
     "text": [
      "The area of circle is : 314.0\n"
     ]
    }
   ],
   "source": [
    "radius = eval(input(\"Enter the radius of circle: \"))\n",
    "pi = 3.14\n",
    "Area = pi*radius*radius\n",
    "print(f\"The area of circle is : {Area}\")"
   ]
  },
  {
   "cell_type": "code",
   "execution_count": null,
   "id": "cf7c621c-e953-4bdc-9f70-b53fc212c36f",
   "metadata": {},
   "outputs": [],
   "source": []
  }
 ],
 "metadata": {
  "kernelspec": {
   "display_name": "Python 3 (ipykernel)",
   "language": "python",
   "name": "python3"
  },
  "language_info": {
   "codemirror_mode": {
    "name": "ipython",
    "version": 3
   },
   "file_extension": ".py",
   "mimetype": "text/x-python",
   "name": "python",
   "nbconvert_exporter": "python",
   "pygments_lexer": "ipython3",
   "version": "3.11.7"
  }
 },
 "nbformat": 4,
 "nbformat_minor": 5
}
